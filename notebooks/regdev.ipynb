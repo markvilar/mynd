{
 "cells": [
  {
   "cell_type": "markdown",
   "id": "0a00e4b0-7b81-40f4-93dd-b804fc4c085a",
   "metadata": {},
   "source": [
    "### Load project"
   ]
  },
  {
   "cell_type": "code",
   "execution_count": 1,
   "id": "5ea3b3a7-2aa5-4b99-a41f-6ac246df9de0",
   "metadata": {},
   "outputs": [
    {
     "name": "stdout",
     "output_type": "stream",
     "text": [
      "Jupyter environment detected. Enabling Open3D WebVisualizer.\n",
      "[Open3D INFO] WebRTC GUI backend enabled.\n",
      "[Open3D INFO] WebRTCWindowSystem: HTTP handshake server disabled.\n",
      "LoadProject: path = /data/kingston_snv_01/acfr_metashape_projects_dev/r234xgje_dense_with_metadata.psz\n"
     ]
    },
    {
     "name": "stderr",
     "output_type": "stream",
     "text": [
      "\u001b[32m2024-11-11 12:06:47.837\u001b[0m | \u001b[1mINFO    \u001b[0m | \u001b[36m__main__\u001b[0m:\u001b[36m<module>\u001b[0m:\u001b[36m28\u001b[0m - \u001b[1mloaded document /data/kingston_snv_01/acfr_metashape_projects_dev/r234xgje_dense_with_metadata.psz successfully\u001b[0m\n"
     ]
    },
    {
     "name": "stdout",
     "output_type": "stream",
     "text": [
      "loaded project in 20.163 sec\n"
     ]
    }
   ],
   "source": [
    "from pathlib import Path\n",
    "\n",
    "from mynd.backend import metashape as metashape\n",
    "from mynd.utils.log import logger\n",
    "from mynd.utils.result import Ok, Err, Result\n",
    "\n",
    "\n",
    "CACHE: Path = Path(\"/data/kingston_snv_01/acfr_point_clouds\")\n",
    "INPUT_DIR: Path = Path(\"/data/kingston_snv_01/acfr_metashape_projects_dev\")\n",
    "OUTPUT_DIR: Path = Path(\n",
    "    \"/data/kingston_snv_01/acfr_metashape_projects_registered\"\n",
    ")\n",
    "\n",
    "\n",
    "# NOTE: Change to dense project\n",
    "INPUT_PROJECT: Path = INPUT_DIR / \"r234xgje_dense_with_metadata.psz\"\n",
    "DESTINATION_PROJECT: Path = OUTPUT_DIR / \"r234xgje_registered_with_metadata.psz\"\n",
    "\n",
    "assert (\n",
    "    INPUT_PROJECT != DESTINATION_PROJECT\n",
    "), \"source and destination project cannot be the same!\"\n",
    "\n",
    "assert CACHE.exists(), f\"directory does not exist: {CACHE}\"\n",
    "assert OUTPUT_DIR.exists(), f\"directory does not exist: {OUTPUT_DIR}\"\n",
    "assert INPUT_PROJECT.exists(), f\"project does not exist: {INPUT_PROJECT}\"\n",
    "\n",
    "\n",
    "match metashape.load_project(INPUT_PROJECT):\n",
    "    case Ok(path):\n",
    "        logger.info(path)\n",
    "    case Err(error_message):\n",
    "        logger.info(error_message)\n",
    "    case _:\n",
    "        raise NotImplementedError"
   ]
  },
  {
   "cell_type": "code",
   "execution_count": 2,
   "id": "4dbe1d5b-6d33-4548-8aa6-4a59040073b1",
   "metadata": {},
   "outputs": [
    {
     "name": "stderr",
     "output_type": "stream",
     "text": [
      "\u001b[32m2024-11-11 12:06:47.854\u001b[0m | \u001b[1mINFO    \u001b[0m | \u001b[36m__main__\u001b[0m:\u001b[36m<module>\u001b[0m:\u001b[36m19\u001b[0m - \u001b[1m{'name': '01_aligner', 'type': 'feature_ransac', 'preprocessor': {'downsample': {'spacing': 0.2}, 'estimate_normals': {'radius': 0.4, 'neighbours': 30}}, 'matcher': {'feature': {'radius': 2.0, 'neighbours': 200}, 'point_to_point': {'with_scaling': True}, 'validators': {'distance_threshold': 0.15, 'edge_threshold': 0.95, 'normal_threshold': 5.0}, 'convergence': {'max_iteration': 50000000, 'confidence': 1.0}, 'algorithm': {'distance_threshold': 0.15, 'sample_count': 3, 'mutual_filter': True}}}\u001b[0m\n",
      "\u001b[32m2024-11-11 12:06:47.855\u001b[0m | \u001b[1mINFO    \u001b[0m | \u001b[36m__main__\u001b[0m:\u001b[36m<module>\u001b[0m:\u001b[36m22\u001b[0m - \u001b[1m{'name': '02_coarse_colored_icp', 'type': 'colored_icp', 'preprocessor': {'downsample': {'spacing': 0.2}, 'estimate_normals': {'radius': 0.4, 'neighbours': 30}}, 'matcher': {'colored_icp_estimation': {'lambda_geometric': 0.968}, 'huber_kernel': {'k': 0.4}, 'convergence_criteria': {'relative_fitness': 1e-06, 'relative_rmse': 1e-06, 'max_iteration': 50}, 'distance_threshold': 0.2}}\u001b[0m\n",
      "\u001b[32m2024-11-11 12:06:47.856\u001b[0m | \u001b[1mINFO    \u001b[0m | \u001b[36m__main__\u001b[0m:\u001b[36m<module>\u001b[0m:\u001b[36m22\u001b[0m - \u001b[1m{'name': '03_medium_colored_icp', 'type': 'colored_icp', 'preprocessor': {'downsample': {'spacing': 0.05}, 'estimate_normals': {'radius': 0.1, 'neighbours': 30}}, 'matcher': {'colored_icp_estimation': {'lambda_geometric': 0.968}, 'huber_kernel': {'k': 0.4}, 'convergence_criteria': {'relative_fitness': 1e-06, 'relative_rmse': 1e-06, 'max_iteration': 50}, 'distance_threshold': 0.05}}\u001b[0m\n",
      "\u001b[32m2024-11-11 12:06:47.856\u001b[0m | \u001b[1mINFO    \u001b[0m | \u001b[36m__main__\u001b[0m:\u001b[36m<module>\u001b[0m:\u001b[36m22\u001b[0m - \u001b[1m{'name': '04_fine_colored_icp', 'type': 'colored_icp', 'preprocessor': {'downsample': {'spacing': 0.02}, 'estimate_normals': {'radius': 0.04, 'neighbours': 30}}, 'matcher': {'colored_icp_estimation': {'lambda_geometric': 0.968}, 'huber_kernel': {'k': 0.4}, 'convergence_criteria': {'relative_fitness': 1e-06, 'relative_rmse': 1e-06, 'max_iteration': 50}, 'distance_threshold': 0.02}}\u001b[0m\n"
     ]
    }
   ],
   "source": [
    "from mynd.collections import GroupID\n",
    "from mynd.geometry import PointCloudLoader, PointCloudProcessor\n",
    "from mynd.registration import (\n",
    "    RegistrationPipeline,\n",
    "    build_registration_pipeline,\n",
    ")\n",
    "\n",
    "from mynd.io import read_config\n",
    "from mynd.utils.log import logger\n",
    "\n",
    "\n",
    "CONFIG_FILE: Path = Path(\n",
    "    \"/home/martin/dev/mynd/config/registration_advanced.toml\"\n",
    ")\n",
    "\n",
    "config: dict = read_config(CONFIG_FILE).unwrap()\n",
    "registration_config: dict = config.get(\"registration\")\n",
    "\n",
    "logger.info(registration_config.get(\"aligner\"))\n",
    "\n",
    "for module in registration_config.get(\"refiner\"):\n",
    "    logger.info(module)\n",
    "\n",
    "pipeline: RegistrationPipeline = build_registration_pipeline(\n",
    "    config.get(\"registration\")\n",
    ")\n",
    "\n",
    "# Retrieve dense point clouds\n",
    "retrieval_result: Result = metashape.dense_services.retrieve_dense_point_clouds(\n",
    "    cache=CACHE, overwrite=False\n",
    ")\n",
    "\n",
    "if retrieval_result.is_err():\n",
    "    logger.error(retrieval_result.err())\n",
    "\n",
    "point_cloud_loaders: dict[GroupID, PointCloudLoader] = retrieval_result.ok()"
   ]
  },
  {
   "cell_type": "code",
   "execution_count": 3,
   "id": "4816de44-6734-4ece-b9ba-d5f6bffa1957",
   "metadata": {},
   "outputs": [
    {
     "name": "stderr",
     "output_type": "stream",
     "text": [
      "\u001b[32m2024-11-11 12:06:47.882\u001b[0m | \u001b[1mINFO    \u001b[0m | \u001b[36m__main__\u001b[0m:\u001b[36m<module>\u001b[0m:\u001b[36m24\u001b[0m - \u001b[1mPerforming batch registration...\u001b[0m\n",
      "\u001b[32m2024-11-11 12:07:14.799\u001b[0m | \u001b[1mINFO    \u001b[0m | \u001b[36m__main__\u001b[0m:\u001b[36mcallback_registration\u001b[0m:\u001b[36m15\u001b[0m - \u001b[1m\u001b[0m\n",
      "\u001b[32m2024-11-11 12:07:14.800\u001b[0m | \u001b[1mINFO    \u001b[0m | \u001b[36mmynd.registration.utilities\u001b[0m:\u001b[36mlog_registration_result\u001b[0m:\u001b[36m52\u001b[0m - \u001b[1mCorresp.:     23715\u001b[0m\n",
      "\u001b[32m2024-11-11 12:07:14.800\u001b[0m | \u001b[1mINFO    \u001b[0m | \u001b[36mmynd.registration.utilities\u001b[0m:\u001b[36mlog_registration_result\u001b[0m:\u001b[36m53\u001b[0m - \u001b[1mFitness:      0.63429\u001b[0m\n",
      "\u001b[32m2024-11-11 12:07:14.803\u001b[0m | \u001b[1mINFO    \u001b[0m | \u001b[36mmynd.registration.utilities\u001b[0m:\u001b[36mlog_registration_result\u001b[0m:\u001b[36m54\u001b[0m - \u001b[1mInlier RMSE:  0.08817\u001b[0m\n",
      "\u001b[32m2024-11-11 12:07:14.804\u001b[0m | \u001b[1mINFO    \u001b[0m | \u001b[36mmynd.registration.utilities\u001b[0m:\u001b[36mlog_registration_result\u001b[0m:\u001b[36m55\u001b[0m - \u001b[1mScale:        0.973\u001b[0m\n",
      "\u001b[32m2024-11-11 12:07:14.804\u001b[0m | \u001b[1mINFO    \u001b[0m | \u001b[36mmynd.registration.utilities\u001b[0m:\u001b[36mlog_registration_result\u001b[0m:\u001b[36m56\u001b[0m - \u001b[1mTranslation:  [-9.23  -1.392 -0.376]\u001b[0m\n",
      "\u001b[32m2024-11-11 12:07:14.804\u001b[0m | \u001b[1mINFO    \u001b[0m | \u001b[36mmynd.registration.utilities\u001b[0m:\u001b[36mlog_registration_result\u001b[0m:\u001b[36m57\u001b[0m - \u001b[1mRot. ZYX:     -0.74, -0.06, -0.33\u001b[0m\n",
      "\u001b[32m2024-11-11 12:07:14.805\u001b[0m | \u001b[1mINFO    \u001b[0m | \u001b[36m__main__\u001b[0m:\u001b[36mcallback_registration\u001b[0m:\u001b[36m17\u001b[0m - \u001b[1m\u001b[0m\n",
      "\u001b[32m2024-11-11 12:07:16.135\u001b[0m | \u001b[1mINFO    \u001b[0m | \u001b[36m__main__\u001b[0m:\u001b[36mcallback_registration\u001b[0m:\u001b[36m15\u001b[0m - \u001b[1m\u001b[0m\n",
      "\u001b[32m2024-11-11 12:07:16.138\u001b[0m | \u001b[1mINFO    \u001b[0m | \u001b[36mmynd.registration.utilities\u001b[0m:\u001b[36mlog_registration_result\u001b[0m:\u001b[36m52\u001b[0m - \u001b[1mCorresp.:     26115\u001b[0m\n",
      "\u001b[32m2024-11-11 12:07:16.138\u001b[0m | \u001b[1mINFO    \u001b[0m | \u001b[36mmynd.registration.utilities\u001b[0m:\u001b[36mlog_registration_result\u001b[0m:\u001b[36m53\u001b[0m - \u001b[1mFitness:      0.69849\u001b[0m\n",
      "\u001b[32m2024-11-11 12:07:16.138\u001b[0m | \u001b[1mINFO    \u001b[0m | \u001b[36mmynd.registration.utilities\u001b[0m:\u001b[36mlog_registration_result\u001b[0m:\u001b[36m54\u001b[0m - \u001b[1mInlier RMSE:  0.09824\u001b[0m\n",
      "\u001b[32m2024-11-11 12:07:16.139\u001b[0m | \u001b[1mINFO    \u001b[0m | \u001b[36mmynd.registration.utilities\u001b[0m:\u001b[36mlog_registration_result\u001b[0m:\u001b[36m55\u001b[0m - \u001b[1mScale:        0.973\u001b[0m\n",
      "\u001b[32m2024-11-11 12:07:16.139\u001b[0m | \u001b[1mINFO    \u001b[0m | \u001b[36mmynd.registration.utilities\u001b[0m:\u001b[36mlog_registration_result\u001b[0m:\u001b[36m56\u001b[0m - \u001b[1mTranslation:  [-9.223 -1.429 -0.387]\u001b[0m\n",
      "\u001b[32m2024-11-11 12:07:16.139\u001b[0m | \u001b[1mINFO    \u001b[0m | \u001b[36mmynd.registration.utilities\u001b[0m:\u001b[36mlog_registration_result\u001b[0m:\u001b[36m57\u001b[0m - \u001b[1mRot. ZYX:     -0.25, -0.02, -0.32\u001b[0m\n",
      "\u001b[32m2024-11-11 12:07:16.139\u001b[0m | \u001b[1mINFO    \u001b[0m | \u001b[36m__main__\u001b[0m:\u001b[36mcallback_registration\u001b[0m:\u001b[36m17\u001b[0m - \u001b[1m\u001b[0m\n",
      "\u001b[32m2024-11-11 12:07:21.354\u001b[0m | \u001b[1mINFO    \u001b[0m | \u001b[36m__main__\u001b[0m:\u001b[36mcallback_registration\u001b[0m:\u001b[36m15\u001b[0m - \u001b[1m\u001b[0m\n",
      "\u001b[32m2024-11-11 12:07:21.354\u001b[0m | \u001b[1mINFO    \u001b[0m | \u001b[36mmynd.registration.utilities\u001b[0m:\u001b[36mlog_registration_result\u001b[0m:\u001b[36m52\u001b[0m - \u001b[1mCorresp.:     243226\u001b[0m\n",
      "\u001b[32m2024-11-11 12:07:21.355\u001b[0m | \u001b[1mINFO    \u001b[0m | \u001b[36mmynd.registration.utilities\u001b[0m:\u001b[36mlog_registration_result\u001b[0m:\u001b[36m53\u001b[0m - \u001b[1mFitness:      0.50935\u001b[0m\n",
      "\u001b[32m2024-11-11 12:07:21.355\u001b[0m | \u001b[1mINFO    \u001b[0m | \u001b[36mmynd.registration.utilities\u001b[0m:\u001b[36mlog_registration_result\u001b[0m:\u001b[36m54\u001b[0m - \u001b[1mInlier RMSE:  0.02983\u001b[0m\n",
      "\u001b[32m2024-11-11 12:07:21.355\u001b[0m | \u001b[1mINFO    \u001b[0m | \u001b[36mmynd.registration.utilities\u001b[0m:\u001b[36mlog_registration_result\u001b[0m:\u001b[36m55\u001b[0m - \u001b[1mScale:        0.973\u001b[0m\n",
      "\u001b[32m2024-11-11 12:07:21.355\u001b[0m | \u001b[1mINFO    \u001b[0m | \u001b[36mmynd.registration.utilities\u001b[0m:\u001b[36mlog_registration_result\u001b[0m:\u001b[36m56\u001b[0m - \u001b[1mTranslation:  [-9.24  -1.391 -0.388]\u001b[0m\n",
      "\u001b[32m2024-11-11 12:07:21.356\u001b[0m | \u001b[1mINFO    \u001b[0m | \u001b[36mmynd.registration.utilities\u001b[0m:\u001b[36mlog_registration_result\u001b[0m:\u001b[36m57\u001b[0m - \u001b[1mRot. ZYX:     -0.53, -0.05, -0.28\u001b[0m\n",
      "\u001b[32m2024-11-11 12:07:21.356\u001b[0m | \u001b[1mINFO    \u001b[0m | \u001b[36m__main__\u001b[0m:\u001b[36mcallback_registration\u001b[0m:\u001b[36m17\u001b[0m - \u001b[1m\u001b[0m\n",
      "\u001b[32m2024-11-11 12:07:51.613\u001b[0m | \u001b[1mINFO    \u001b[0m | \u001b[36m__main__\u001b[0m:\u001b[36mcallback_registration\u001b[0m:\u001b[36m15\u001b[0m - \u001b[1m\u001b[0m\n",
      "\u001b[32m2024-11-11 12:07:51.613\u001b[0m | \u001b[1mINFO    \u001b[0m | \u001b[36mmynd.registration.utilities\u001b[0m:\u001b[36mlog_registration_result\u001b[0m:\u001b[36m52\u001b[0m - \u001b[1mCorresp.:     665030\u001b[0m\n",
      "\u001b[32m2024-11-11 12:07:51.614\u001b[0m | \u001b[1mINFO    \u001b[0m | \u001b[36mmynd.registration.utilities\u001b[0m:\u001b[36mlog_registration_result\u001b[0m:\u001b[36m53\u001b[0m - \u001b[1mFitness:      0.28379\u001b[0m\n",
      "\u001b[32m2024-11-11 12:07:51.614\u001b[0m | \u001b[1mINFO    \u001b[0m | \u001b[36mmynd.registration.utilities\u001b[0m:\u001b[36mlog_registration_result\u001b[0m:\u001b[36m54\u001b[0m - \u001b[1mInlier RMSE:  0.01297\u001b[0m\n",
      "\u001b[32m2024-11-11 12:07:51.614\u001b[0m | \u001b[1mINFO    \u001b[0m | \u001b[36mmynd.registration.utilities\u001b[0m:\u001b[36mlog_registration_result\u001b[0m:\u001b[36m55\u001b[0m - \u001b[1mScale:        0.973\u001b[0m\n",
      "\u001b[32m2024-11-11 12:07:51.615\u001b[0m | \u001b[1mINFO    \u001b[0m | \u001b[36mmynd.registration.utilities\u001b[0m:\u001b[36mlog_registration_result\u001b[0m:\u001b[36m56\u001b[0m - \u001b[1mTranslation:  [-9.245 -1.404 -0.392]\u001b[0m\n",
      "\u001b[32m2024-11-11 12:07:51.615\u001b[0m | \u001b[1mINFO    \u001b[0m | \u001b[36mmynd.registration.utilities\u001b[0m:\u001b[36mlog_registration_result\u001b[0m:\u001b[36m57\u001b[0m - \u001b[1mRot. ZYX:     -0.51, -0.07, -0.25\u001b[0m\n",
      "\u001b[32m2024-11-11 12:07:51.615\u001b[0m | \u001b[1mINFO    \u001b[0m | \u001b[36m__main__\u001b[0m:\u001b[36mcallback_registration\u001b[0m:\u001b[36m17\u001b[0m - \u001b[1m\u001b[0m\n",
      "\u001b[32m2024-11-11 12:08:19.143\u001b[0m | \u001b[1mINFO    \u001b[0m | \u001b[36m__main__\u001b[0m:\u001b[36mcallback_registration\u001b[0m:\u001b[36m15\u001b[0m - \u001b[1m\u001b[0m\n",
      "\u001b[32m2024-11-11 12:08:19.144\u001b[0m | \u001b[1mINFO    \u001b[0m | \u001b[36mmynd.registration.utilities\u001b[0m:\u001b[36mlog_registration_result\u001b[0m:\u001b[36m52\u001b[0m - \u001b[1mCorresp.:     30033\u001b[0m\n",
      "\u001b[32m2024-11-11 12:08:19.144\u001b[0m | \u001b[1mINFO    \u001b[0m | \u001b[36mmynd.registration.utilities\u001b[0m:\u001b[36mlog_registration_result\u001b[0m:\u001b[36m53\u001b[0m - \u001b[1mFitness:      0.58697\u001b[0m\n",
      "\u001b[32m2024-11-11 12:08:19.145\u001b[0m | \u001b[1mINFO    \u001b[0m | \u001b[36mmynd.registration.utilities\u001b[0m:\u001b[36mlog_registration_result\u001b[0m:\u001b[36m54\u001b[0m - \u001b[1mInlier RMSE:  0.09123\u001b[0m\n",
      "\u001b[32m2024-11-11 12:08:19.145\u001b[0m | \u001b[1mINFO    \u001b[0m | \u001b[36mmynd.registration.utilities\u001b[0m:\u001b[36mlog_registration_result\u001b[0m:\u001b[36m55\u001b[0m - \u001b[1mScale:        0.977\u001b[0m\n",
      "\u001b[32m2024-11-11 12:08:19.145\u001b[0m | \u001b[1mINFO    \u001b[0m | \u001b[36mmynd.registration.utilities\u001b[0m:\u001b[36mlog_registration_result\u001b[0m:\u001b[36m56\u001b[0m - \u001b[1mTranslation:  [-0.483  8.64  -0.692]\u001b[0m\n",
      "\u001b[32m2024-11-11 12:08:19.145\u001b[0m | \u001b[1mINFO    \u001b[0m | \u001b[36mmynd.registration.utilities\u001b[0m:\u001b[36mlog_registration_result\u001b[0m:\u001b[36m57\u001b[0m - \u001b[1mRot. ZYX:     -2.50, -0.06, -0.13\u001b[0m\n",
      "\u001b[32m2024-11-11 12:08:19.146\u001b[0m | \u001b[1mINFO    \u001b[0m | \u001b[36m__main__\u001b[0m:\u001b[36mcallback_registration\u001b[0m:\u001b[36m17\u001b[0m - \u001b[1m\u001b[0m\n",
      "\u001b[32m2024-11-11 12:08:20.842\u001b[0m | \u001b[1mINFO    \u001b[0m | \u001b[36m__main__\u001b[0m:\u001b[36mcallback_registration\u001b[0m:\u001b[36m15\u001b[0m - \u001b[1m\u001b[0m\n",
      "\u001b[32m2024-11-11 12:08:20.843\u001b[0m | \u001b[1mINFO    \u001b[0m | \u001b[36mmynd.registration.utilities\u001b[0m:\u001b[36mlog_registration_result\u001b[0m:\u001b[36m52\u001b[0m - \u001b[1mCorresp.:     34157\u001b[0m\n",
      "\u001b[32m2024-11-11 12:08:20.843\u001b[0m | \u001b[1mINFO    \u001b[0m | \u001b[36mmynd.registration.utilities\u001b[0m:\u001b[36mlog_registration_result\u001b[0m:\u001b[36m53\u001b[0m - \u001b[1mFitness:      0.66757\u001b[0m\n",
      "\u001b[32m2024-11-11 12:08:20.843\u001b[0m | \u001b[1mINFO    \u001b[0m | \u001b[36mmynd.registration.utilities\u001b[0m:\u001b[36mlog_registration_result\u001b[0m:\u001b[36m54\u001b[0m - \u001b[1mInlier RMSE:  0.10248\u001b[0m\n",
      "\u001b[32m2024-11-11 12:08:20.844\u001b[0m | \u001b[1mINFO    \u001b[0m | \u001b[36mmynd.registration.utilities\u001b[0m:\u001b[36mlog_registration_result\u001b[0m:\u001b[36m55\u001b[0m - \u001b[1mScale:        0.977\u001b[0m\n",
      "\u001b[32m2024-11-11 12:08:20.844\u001b[0m | \u001b[1mINFO    \u001b[0m | \u001b[36mmynd.registration.utilities\u001b[0m:\u001b[36mlog_registration_result\u001b[0m:\u001b[36m56\u001b[0m - \u001b[1mTranslation:  [-0.554  8.689 -0.718]\u001b[0m\n",
      "\u001b[32m2024-11-11 12:08:20.844\u001b[0m | \u001b[1mINFO    \u001b[0m | \u001b[36mmynd.registration.utilities\u001b[0m:\u001b[36mlog_registration_result\u001b[0m:\u001b[36m57\u001b[0m - \u001b[1mRot. ZYX:     -2.30, -0.14, -0.13\u001b[0m\n",
      "\u001b[32m2024-11-11 12:08:20.845\u001b[0m | \u001b[1mINFO    \u001b[0m | \u001b[36m__main__\u001b[0m:\u001b[36mcallback_registration\u001b[0m:\u001b[36m17\u001b[0m - \u001b[1m\u001b[0m\n",
      "\u001b[32m2024-11-11 12:08:27.489\u001b[0m | \u001b[1mINFO    \u001b[0m | \u001b[36m__main__\u001b[0m:\u001b[36mcallback_registration\u001b[0m:\u001b[36m15\u001b[0m - \u001b[1m\u001b[0m\n",
      "\u001b[32m2024-11-11 12:08:27.490\u001b[0m | \u001b[1mINFO    \u001b[0m | \u001b[36mmynd.registration.utilities\u001b[0m:\u001b[36mlog_registration_result\u001b[0m:\u001b[36m52\u001b[0m - \u001b[1mCorresp.:     316516\u001b[0m\n",
      "\u001b[32m2024-11-11 12:08:27.490\u001b[0m | \u001b[1mINFO    \u001b[0m | \u001b[36mmynd.registration.utilities\u001b[0m:\u001b[36mlog_registration_result\u001b[0m:\u001b[36m53\u001b[0m - \u001b[1mFitness:      0.45756\u001b[0m\n",
      "\u001b[32m2024-11-11 12:08:27.490\u001b[0m | \u001b[1mINFO    \u001b[0m | \u001b[36mmynd.registration.utilities\u001b[0m:\u001b[36mlog_registration_result\u001b[0m:\u001b[36m54\u001b[0m - \u001b[1mInlier RMSE:  0.02982\u001b[0m\n",
      "\u001b[32m2024-11-11 12:08:27.490\u001b[0m | \u001b[1mINFO    \u001b[0m | \u001b[36mmynd.registration.utilities\u001b[0m:\u001b[36mlog_registration_result\u001b[0m:\u001b[36m55\u001b[0m - \u001b[1mScale:        0.977\u001b[0m\n",
      "\u001b[32m2024-11-11 12:08:27.491\u001b[0m | \u001b[1mINFO    \u001b[0m | \u001b[36mmynd.registration.utilities\u001b[0m:\u001b[36mlog_registration_result\u001b[0m:\u001b[36m56\u001b[0m - \u001b[1mTranslation:  [-0.5    8.7   -0.695]\u001b[0m\n",
      "\u001b[32m2024-11-11 12:08:27.491\u001b[0m | \u001b[1mINFO    \u001b[0m | \u001b[36mmynd.registration.utilities\u001b[0m:\u001b[36mlog_registration_result\u001b[0m:\u001b[36m57\u001b[0m - \u001b[1mRot. ZYX:     -2.43, -0.17, -0.08\u001b[0m\n",
      "\u001b[32m2024-11-11 12:08:27.491\u001b[0m | \u001b[1mINFO    \u001b[0m | \u001b[36m__main__\u001b[0m:\u001b[36mcallback_registration\u001b[0m:\u001b[36m17\u001b[0m - \u001b[1m\u001b[0m\n",
      "\u001b[32m2024-11-11 12:09:07.375\u001b[0m | \u001b[1mINFO    \u001b[0m | \u001b[36m__main__\u001b[0m:\u001b[36mcallback_registration\u001b[0m:\u001b[36m15\u001b[0m - \u001b[1m\u001b[0m\n",
      "\u001b[32m2024-11-11 12:09:07.376\u001b[0m | \u001b[1mINFO    \u001b[0m | \u001b[36mmynd.registration.utilities\u001b[0m:\u001b[36mlog_registration_result\u001b[0m:\u001b[36m52\u001b[0m - \u001b[1mCorresp.:     896622\u001b[0m\n",
      "\u001b[32m2024-11-11 12:09:07.376\u001b[0m | \u001b[1mINFO    \u001b[0m | \u001b[36mmynd.registration.utilities\u001b[0m:\u001b[36mlog_registration_result\u001b[0m:\u001b[36m53\u001b[0m - \u001b[1mFitness:      0.26092\u001b[0m\n",
      "\u001b[32m2024-11-11 12:09:07.376\u001b[0m | \u001b[1mINFO    \u001b[0m | \u001b[36mmynd.registration.utilities\u001b[0m:\u001b[36mlog_registration_result\u001b[0m:\u001b[36m54\u001b[0m - \u001b[1mInlier RMSE:  0.01302\u001b[0m\n",
      "\u001b[32m2024-11-11 12:09:07.377\u001b[0m | \u001b[1mINFO    \u001b[0m | \u001b[36mmynd.registration.utilities\u001b[0m:\u001b[36mlog_registration_result\u001b[0m:\u001b[36m55\u001b[0m - \u001b[1mScale:        0.977\u001b[0m\n",
      "\u001b[32m2024-11-11 12:09:07.377\u001b[0m | \u001b[1mINFO    \u001b[0m | \u001b[36mmynd.registration.utilities\u001b[0m:\u001b[36mlog_registration_result\u001b[0m:\u001b[36m56\u001b[0m - \u001b[1mTranslation:  [-0.504  8.691 -0.691]\u001b[0m\n",
      "\u001b[32m2024-11-11 12:09:07.377\u001b[0m | \u001b[1mINFO    \u001b[0m | \u001b[36mmynd.registration.utilities\u001b[0m:\u001b[36mlog_registration_result\u001b[0m:\u001b[36m57\u001b[0m - \u001b[1mRot. ZYX:     -2.44, -0.19, -0.06\u001b[0m\n",
      "\u001b[32m2024-11-11 12:09:07.378\u001b[0m | \u001b[1mINFO    \u001b[0m | \u001b[36m__main__\u001b[0m:\u001b[36mcallback_registration\u001b[0m:\u001b[36m17\u001b[0m - \u001b[1m\u001b[0m\n",
      "\u001b[32m2024-11-11 12:09:35.440\u001b[0m | \u001b[1mINFO    \u001b[0m | \u001b[36m__main__\u001b[0m:\u001b[36mcallback_registration\u001b[0m:\u001b[36m15\u001b[0m - \u001b[1m\u001b[0m\n",
      "\u001b[32m2024-11-11 12:09:35.441\u001b[0m | \u001b[1mINFO    \u001b[0m | \u001b[36mmynd.registration.utilities\u001b[0m:\u001b[36mlog_registration_result\u001b[0m:\u001b[36m52\u001b[0m - \u001b[1mCorresp.:     30733\u001b[0m\n",
      "\u001b[32m2024-11-11 12:09:35.442\u001b[0m | \u001b[1mINFO    \u001b[0m | \u001b[36mmynd.registration.utilities\u001b[0m:\u001b[36mlog_registration_result\u001b[0m:\u001b[36m53\u001b[0m - \u001b[1mFitness:      0.60065\u001b[0m\n",
      "\u001b[32m2024-11-11 12:09:35.442\u001b[0m | \u001b[1mINFO    \u001b[0m | \u001b[36mmynd.registration.utilities\u001b[0m:\u001b[36mlog_registration_result\u001b[0m:\u001b[36m54\u001b[0m - \u001b[1mInlier RMSE:  0.09108\u001b[0m\n",
      "\u001b[32m2024-11-11 12:09:35.442\u001b[0m | \u001b[1mINFO    \u001b[0m | \u001b[36mmynd.registration.utilities\u001b[0m:\u001b[36mlog_registration_result\u001b[0m:\u001b[36m55\u001b[0m - \u001b[1mScale:        0.999\u001b[0m\n",
      "\u001b[32m2024-11-11 12:09:35.442\u001b[0m | \u001b[1mINFO    \u001b[0m | \u001b[36mmynd.registration.utilities\u001b[0m:\u001b[36mlog_registration_result\u001b[0m:\u001b[36m56\u001b[0m - \u001b[1mTranslation:  [ 8.97  10.527 -0.445]\u001b[0m\n",
      "\u001b[32m2024-11-11 12:09:35.443\u001b[0m | \u001b[1mINFO    \u001b[0m | \u001b[36mmynd.registration.utilities\u001b[0m:\u001b[36mlog_registration_result\u001b[0m:\u001b[36m57\u001b[0m - \u001b[1mRot. ZYX:     -2.12, 0.03, 0.11\u001b[0m\n",
      "\u001b[32m2024-11-11 12:09:35.443\u001b[0m | \u001b[1mINFO    \u001b[0m | \u001b[36m__main__\u001b[0m:\u001b[36mcallback_registration\u001b[0m:\u001b[36m17\u001b[0m - \u001b[1m\u001b[0m\n",
      "\u001b[32m2024-11-11 12:09:37.309\u001b[0m | \u001b[1mINFO    \u001b[0m | \u001b[36m__main__\u001b[0m:\u001b[36mcallback_registration\u001b[0m:\u001b[36m15\u001b[0m - \u001b[1m\u001b[0m\n",
      "\u001b[32m2024-11-11 12:09:37.310\u001b[0m | \u001b[1mINFO    \u001b[0m | \u001b[36mmynd.registration.utilities\u001b[0m:\u001b[36mlog_registration_result\u001b[0m:\u001b[36m52\u001b[0m - \u001b[1mCorresp.:     34617\u001b[0m\n",
      "\u001b[32m2024-11-11 12:09:37.310\u001b[0m | \u001b[1mINFO    \u001b[0m | \u001b[36mmynd.registration.utilities\u001b[0m:\u001b[36mlog_registration_result\u001b[0m:\u001b[36m53\u001b[0m - \u001b[1mFitness:      0.67656\u001b[0m\n",
      "\u001b[32m2024-11-11 12:09:37.310\u001b[0m | \u001b[1mINFO    \u001b[0m | \u001b[36mmynd.registration.utilities\u001b[0m:\u001b[36mlog_registration_result\u001b[0m:\u001b[36m54\u001b[0m - \u001b[1mInlier RMSE:  0.10052\u001b[0m\n",
      "\u001b[32m2024-11-11 12:09:37.311\u001b[0m | \u001b[1mINFO    \u001b[0m | \u001b[36mmynd.registration.utilities\u001b[0m:\u001b[36mlog_registration_result\u001b[0m:\u001b[36m55\u001b[0m - \u001b[1mScale:        0.999\u001b[0m\n",
      "\u001b[32m2024-11-11 12:09:37.311\u001b[0m | \u001b[1mINFO    \u001b[0m | \u001b[36mmynd.registration.utilities\u001b[0m:\u001b[36mlog_registration_result\u001b[0m:\u001b[36m56\u001b[0m - \u001b[1mTranslation:  [ 8.871 10.428 -0.44 ]\u001b[0m\n",
      "\u001b[32m2024-11-11 12:09:37.311\u001b[0m | \u001b[1mINFO    \u001b[0m | \u001b[36mmynd.registration.utilities\u001b[0m:\u001b[36mlog_registration_result\u001b[0m:\u001b[36m57\u001b[0m - \u001b[1mRot. ZYX:     -1.94, -0.07, 0.22\u001b[0m\n",
      "\u001b[32m2024-11-11 12:09:37.311\u001b[0m | \u001b[1mINFO    \u001b[0m | \u001b[36m__main__\u001b[0m:\u001b[36mcallback_registration\u001b[0m:\u001b[36m17\u001b[0m - \u001b[1m\u001b[0m\n",
      "\u001b[32m2024-11-11 12:09:43.167\u001b[0m | \u001b[1mINFO    \u001b[0m | \u001b[36m__main__\u001b[0m:\u001b[36mcallback_registration\u001b[0m:\u001b[36m15\u001b[0m - \u001b[1m\u001b[0m\n",
      "\u001b[32m2024-11-11 12:09:43.168\u001b[0m | \u001b[1mINFO    \u001b[0m | \u001b[36mmynd.registration.utilities\u001b[0m:\u001b[36mlog_registration_result\u001b[0m:\u001b[36m52\u001b[0m - \u001b[1mCorresp.:     344588\u001b[0m\n",
      "\u001b[32m2024-11-11 12:09:43.168\u001b[0m | \u001b[1mINFO    \u001b[0m | \u001b[36mmynd.registration.utilities\u001b[0m:\u001b[36mlog_registration_result\u001b[0m:\u001b[36m53\u001b[0m - \u001b[1mFitness:      0.49814\u001b[0m\n",
      "\u001b[32m2024-11-11 12:09:43.169\u001b[0m | \u001b[1mINFO    \u001b[0m | \u001b[36mmynd.registration.utilities\u001b[0m:\u001b[36mlog_registration_result\u001b[0m:\u001b[36m54\u001b[0m - \u001b[1mInlier RMSE:  0.02945\u001b[0m\n",
      "\u001b[32m2024-11-11 12:09:43.169\u001b[0m | \u001b[1mINFO    \u001b[0m | \u001b[36mmynd.registration.utilities\u001b[0m:\u001b[36mlog_registration_result\u001b[0m:\u001b[36m55\u001b[0m - \u001b[1mScale:        0.999\u001b[0m\n",
      "\u001b[32m2024-11-11 12:09:43.169\u001b[0m | \u001b[1mINFO    \u001b[0m | \u001b[36mmynd.registration.utilities\u001b[0m:\u001b[36mlog_registration_result\u001b[0m:\u001b[36m56\u001b[0m - \u001b[1mTranslation:  [ 8.891 10.39  -0.42 ]\u001b[0m\n",
      "\u001b[32m2024-11-11 12:09:43.170\u001b[0m | \u001b[1mINFO    \u001b[0m | \u001b[36mmynd.registration.utilities\u001b[0m:\u001b[36mlog_registration_result\u001b[0m:\u001b[36m57\u001b[0m - \u001b[1mRot. ZYX:     -1.90, -0.10, 0.24\u001b[0m\n",
      "\u001b[32m2024-11-11 12:09:43.170\u001b[0m | \u001b[1mINFO    \u001b[0m | \u001b[36m__main__\u001b[0m:\u001b[36mcallback_registration\u001b[0m:\u001b[36m17\u001b[0m - \u001b[1m\u001b[0m\n",
      "\u001b[32m2024-11-11 12:10:08.363\u001b[0m | \u001b[1mINFO    \u001b[0m | \u001b[36m__main__\u001b[0m:\u001b[36mcallback_registration\u001b[0m:\u001b[36m15\u001b[0m - \u001b[1m\u001b[0m\n",
      "\u001b[32m2024-11-11 12:10:08.364\u001b[0m | \u001b[1mINFO    \u001b[0m | \u001b[36mmynd.registration.utilities\u001b[0m:\u001b[36mlog_registration_result\u001b[0m:\u001b[36m52\u001b[0m - \u001b[1mCorresp.:     1016064\u001b[0m\n",
      "\u001b[32m2024-11-11 12:10:08.364\u001b[0m | \u001b[1mINFO    \u001b[0m | \u001b[36mmynd.registration.utilities\u001b[0m:\u001b[36mlog_registration_result\u001b[0m:\u001b[36m53\u001b[0m - \u001b[1mFitness:      0.29568\u001b[0m\n",
      "\u001b[32m2024-11-11 12:10:08.364\u001b[0m | \u001b[1mINFO    \u001b[0m | \u001b[36mmynd.registration.utilities\u001b[0m:\u001b[36mlog_registration_result\u001b[0m:\u001b[36m54\u001b[0m - \u001b[1mInlier RMSE:  0.01299\u001b[0m\n",
      "\u001b[32m2024-11-11 12:10:08.365\u001b[0m | \u001b[1mINFO    \u001b[0m | \u001b[36mmynd.registration.utilities\u001b[0m:\u001b[36mlog_registration_result\u001b[0m:\u001b[36m55\u001b[0m - \u001b[1mScale:        0.999\u001b[0m\n",
      "\u001b[32m2024-11-11 12:10:08.365\u001b[0m | \u001b[1mINFO    \u001b[0m | \u001b[36mmynd.registration.utilities\u001b[0m:\u001b[36mlog_registration_result\u001b[0m:\u001b[36m56\u001b[0m - \u001b[1mTranslation:  [ 8.89  10.389 -0.419]\u001b[0m\n",
      "\u001b[32m2024-11-11 12:10:08.365\u001b[0m | \u001b[1mINFO    \u001b[0m | \u001b[36mmynd.registration.utilities\u001b[0m:\u001b[36mlog_registration_result\u001b[0m:\u001b[36m57\u001b[0m - \u001b[1mRot. ZYX:     -1.91, -0.11, 0.25\u001b[0m\n",
      "\u001b[32m2024-11-11 12:10:08.366\u001b[0m | \u001b[1mINFO    \u001b[0m | \u001b[36m__main__\u001b[0m:\u001b[36mcallback_registration\u001b[0m:\u001b[36m17\u001b[0m - \u001b[1m\u001b[0m\n",
      "\u001b[32m2024-11-11 12:10:08.427\u001b[0m | \u001b[1mINFO    \u001b[0m | \u001b[36m__main__\u001b[0m:\u001b[36m<module>\u001b[0m:\u001b[36m28\u001b[0m - \u001b[1mBatch registration done!\u001b[0m\n"
     ]
    }
   ],
   "source": [
    "from mynd.geometry import PointCloud\n",
    "\n",
    "from mynd.registration import RegistrationResult\n",
    "from mynd.registration import RegistrationIndex, generate_cascade_indices\n",
    "from mynd.registration import RegistrationBatch, register_batch\n",
    "\n",
    "from mynd.registration import log_registration_result\n",
    "from mynd.visualization import visualize_registration\n",
    "\n",
    "\n",
    "def callback_registration(\n",
    "    target: PointCloud, source: PointCloud, result: RegistrationResult\n",
    ") -> None:\n",
    "    \"\"\"Callback for registration.\"\"\"\n",
    "    logger.info(\"\")\n",
    "    log_registration_result(result=result)\n",
    "    logger.info(\"\")\n",
    "\n",
    "\n",
    "batch: RegistrationBatch = RegistrationBatch[GroupID](point_cloud_loaders)\n",
    "\n",
    "indices: list[RegistrationIndex] = generate_cascade_indices(batch.keys())\n",
    "\n",
    "logger.info(\"Performing batch registration...\")\n",
    "registration_results: list[RegistrationBatch.PairResult] = register_batch(\n",
    "    batch, pipeline, indices, callback=callback_registration\n",
    ")\n",
    "logger.info(\"Batch registration done!\")"
   ]
  },
  {
   "cell_type": "markdown",
   "id": "a162db0c-b8de-40c6-bbd5-d414db0284bb",
   "metadata": {},
   "source": [
    "### Get consensus estimate with pose graph optimization"
   ]
  },
  {
   "cell_type": "code",
   "execution_count": 4,
   "id": "9ea681de-b751-4a8a-897e-b00cb6fdb8a1",
   "metadata": {},
   "outputs": [],
   "source": [
    "# TODO: Build pose graph\n",
    "# TODO: Optimize pose graph"
   ]
  },
  {
   "cell_type": "code",
   "execution_count": null,
   "id": "64494a71-9115-4d73-aa92-5efb33afb292",
   "metadata": {},
   "outputs": [],
   "source": []
  },
  {
   "cell_type": "markdown",
   "id": "1f98f159-5b8c-4273-973c-b69b14d88571",
   "metadata": {},
   "source": [
    "### Visualize registration results"
   ]
  },
  {
   "cell_type": "code",
   "execution_count": 5,
   "id": "85a92575-4607-4af7-8edf-daf2b8ed3849",
   "metadata": {},
   "outputs": [],
   "source": [
    "visualize: bool = False\n",
    "if visualize:\n",
    "    for registration in registration_results:\n",
    "        target_loader: PointCloudLoader = batch.get(registration.target)\n",
    "        source_loader: PointCloudLoader = batch.get(registration.source)\n",
    "\n",
    "        target_cloud: PointCloud = target_loader().unwrap()\n",
    "        source_cloud: PointCloud = source_loader().unwrap()\n",
    "\n",
    "        visualize_registration(\n",
    "            target=target_cloud,\n",
    "            source=source_cloud,\n",
    "            transformation=registration.result.transformation,\n",
    "        )"
   ]
  },
  {
   "cell_type": "markdown",
   "id": "87ea7d7d-2905-44ea-b43c-e652eb699361",
   "metadata": {},
   "source": [
    "### Update chunk transforms"
   ]
  },
  {
   "cell_type": "code",
   "execution_count": 6,
   "id": "004aded9-fea7-4c7e-90ab-51dfeeb69639",
   "metadata": {},
   "outputs": [
    {
     "name": "stderr",
     "output_type": "stream",
     "text": [
      "\u001b[32m2024-11-11 12:10:08.461\u001b[0m | \u001b[1mINFO    \u001b[0m | \u001b[36m__main__\u001b[0m:\u001b[36m<module>\u001b[0m:\u001b[36m28\u001b[0m - \u001b[1mAligning chunks - target: {target_chunk.label}, source: {source_chunk.label}\u001b[0m\n",
      "\u001b[32m2024-11-11 12:10:08.461\u001b[0m | \u001b[1mINFO    \u001b[0m | \u001b[36m__main__\u001b[0m:\u001b[36m<module>\u001b[0m:\u001b[36m28\u001b[0m - \u001b[1mAligning chunks - target: {target_chunk.label}, source: {source_chunk.label}\u001b[0m\n"
     ]
    }
   ],
   "source": [
    "import copy\n",
    "\n",
    "import Metashape as ms\n",
    "import numpy as np\n",
    "\n",
    "\n",
    "chunks: dict[GroupID, ms.Chunk] = {\n",
    "    GroupID(chunk.key, chunk.label): chunk\n",
    "    for chunk in metashape.context._backend_data.get(\"document\").chunks\n",
    "}\n",
    "\n",
    "results: dict[GroupID, dict[GroupID, RegistrationResult]] = dict()\n",
    "\n",
    "for registration in registration_results:\n",
    "    if registration.target not in results:\n",
    "        results[registration.target] = dict()\n",
    "\n",
    "    results[registration.target][registration.source] = registration.result\n",
    "\n",
    "target: GroupID = GroupID(key=0, label=\"r234xgje_20100604_230524\")\n",
    "results: dict[GroupID, RegistrationResult] = results.get(target)\n",
    "\n",
    "\n",
    "target_chunk: ms.Chunk = chunks.get(target)\n",
    "for source, registration in results.items():\n",
    "    source_chunk: ms.Chunk = chunks.get(source)\n",
    "\n",
    "    logger.info(\n",
    "        \"Aligning chunks - target: {target_chunk.label}, source: {source_chunk.label}\"\n",
    "    )\n",
    "    metashape.align_chunks(target_chunk, source_chunk, registration)"
   ]
  },
  {
   "cell_type": "markdown",
   "id": "a01738f5-e115-463f-9948-f5b14e4a74a8",
   "metadata": {},
   "source": [
    "### TODO: Save project to file"
   ]
  },
  {
   "cell_type": "code",
   "execution_count": 7,
   "id": "4827cc58-478b-4d2a-8745-0b70945d6caa",
   "metadata": {},
   "outputs": [
    {
     "name": "stdout",
     "output_type": "stream",
     "text": [
      "SaveProject: path = /data/kingston_snv_01/acfr_metashape_projects_registered/r234xgje_registered_with_metadata.psz\n"
     ]
    },
    {
     "name": "stderr",
     "output_type": "stream",
     "text": [
      "\u001b[32m2024-11-11 12:10:46.109\u001b[0m | \u001b[1mINFO    \u001b[0m | \u001b[36m__main__\u001b[0m:\u001b[36m<module>\u001b[0m:\u001b[36m5\u001b[0m - \u001b[1msaved project to: /data/kingston_snv_01/acfr_metashape_projects_registered/r234xgje_registered_with_metadata.psz\u001b[0m\n"
     ]
    },
    {
     "name": "stdout",
     "output_type": "stream",
     "text": [
      "saved project in 37.5203 sec\n"
     ]
    }
   ],
   "source": [
    "assert (\n",
    "    INPUT_PROJECT != DESTINATION_PROJECT\n",
    "), \"source and destination project cannot be the same!\"\n",
    "\n",
    "match metashape.save_project(DESTINATION_PROJECT):\n",
    "    case Ok(path):\n",
    "        logger.info(f\"saved project to: {path}\")\n",
    "    case Err(message):\n",
    "        logger.error(message)\n",
    "    case _:\n",
    "        raise NotImplementedError"
   ]
  }
 ],
 "metadata": {
  "kernelspec": {
   "display_name": "Python 3 (ipykernel)",
   "language": "python",
   "name": "python3"
  },
  "language_info": {
   "codemirror_mode": {
    "name": "ipython",
    "version": 3
   },
   "file_extension": ".py",
   "mimetype": "text/x-python",
   "name": "python",
   "nbconvert_exporter": "python",
   "pygments_lexer": "ipython3",
   "version": "3.11.10"
  }
 },
 "nbformat": 4,
 "nbformat_minor": 5
}
