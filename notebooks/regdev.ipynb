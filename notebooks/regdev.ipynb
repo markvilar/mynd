{
 "cells": [
  {
   "cell_type": "markdown",
   "id": "0a00e4b0-7b81-40f4-93dd-b804fc4c085a",
   "metadata": {},
   "source": [
    "### Load project"
   ]
  },
  {
   "cell_type": "code",
   "execution_count": 1,
   "id": "5ea3b3a7-2aa5-4b99-a41f-6ac246df9de0",
   "metadata": {},
   "outputs": [
    {
     "name": "stdout",
     "output_type": "stream",
     "text": [
      "Jupyter environment detected. Enabling Open3D WebVisualizer.\n",
      "[Open3D INFO] WebRTC GUI backend enabled.\n",
      "[Open3D INFO] WebRTCWindowSystem: HTTP handshake server disabled.\n",
      "LoadProject: path = /data/kingston_snv_01/acfr_metashape_projects_dev/qdch0ftq_dense_with_metadata.psz\n"
     ]
    },
    {
     "name": "stderr",
     "output_type": "stream",
     "text": [
      "\u001b[32m2024-11-12 05:04:52.727\u001b[0m | \u001b[1mINFO\u001b[0m | \u001b[36mLine   45 (3516103728.py):\u001b[0m \u001b[1mloaded document /data/kingston_snv_01/acfr_metashape_projects_dev/qdch0ftq_dense_with_metadata.psz successfully\u001b[0m\n"
     ]
    },
    {
     "name": "stdout",
     "output_type": "stream",
     "text": [
      "loaded project in 58.7571 sec\n"
     ]
    }
   ],
   "source": [
    "from pathlib import Path\n",
    "\n",
    "from mynd.backend import metashape as metashape\n",
    "from mynd.collections import GroupID\n",
    "from mynd.utils.log import logger\n",
    "from mynd.utils.result import Ok, Err, Result\n",
    "\n",
    "\n",
    "CACHE: Path = Path(\"/data/kingston_snv_01/acfr_point_clouds\")\n",
    "INPUT_DIR: Path = Path(\"/data/kingston_snv_01/acfr_metashape_projects_dev\")\n",
    "OUTPUT_DIR: Path = Path(\n",
    "    \"/data/kingston_snv_01/acfr_metashape_projects_registered\"\n",
    ")\n",
    "\n",
    "\n",
    "# qdc5ghs3 - qdc5ghs3_20100430_024508\n",
    "# qdch0ftq - qdch0ftq_20100428_020202\n",
    "# qdchdmy1 - qdchdmy1_20110416_005411\n",
    "# r7jjskxq - r7jjskxq_20101023_210332\n",
    "# r23m7ms0 - r23m7ms0_20100606_001908\n",
    "# r29mrd5h - r29mrd5h_20090612_225306\n",
    "# r234xgje - r234xgje_20100604_230524\n",
    "# r23685bc - r23685bc_20100605_021022\n",
    "\n",
    "\n",
    "SITE_ID: str = \"qdch0ftq\"\n",
    "target: GroupID = GroupID(key=0, label=\"qdch0ftq_20100428_020202\")\n",
    "\n",
    "\n",
    "INPUT_PROJECT: Path = INPUT_DIR / f\"{SITE_ID}_dense_with_metadata.psz\"\n",
    "DESTINATION_PROJECT: Path = (\n",
    "    OUTPUT_DIR / f\"{SITE_ID}_registered_with_metadata.psz\"\n",
    ")\n",
    "\n",
    "\n",
    "assert (\n",
    "    INPUT_PROJECT != DESTINATION_PROJECT\n",
    "), \"source and destination project cannot be the same!\"\n",
    "\n",
    "assert CACHE.exists(), f\"directory does not exist: {CACHE}\"\n",
    "assert OUTPUT_DIR.exists(), f\"directory does not exist: {OUTPUT_DIR}\"\n",
    "assert INPUT_PROJECT.exists(), f\"project does not exist: {INPUT_PROJECT}\"\n",
    "\n",
    "\n",
    "match metashape.load_project(INPUT_PROJECT):\n",
    "    case Ok(path):\n",
    "        logger.info(path)\n",
    "    case Err(error_message):\n",
    "        logger.info(error_message)\n",
    "    case _:\n",
    "        raise NotImplementedError"
   ]
  },
  {
   "cell_type": "code",
   "execution_count": 2,
   "id": "4dbe1d5b-6d33-4548-8aa6-4a59040073b1",
   "metadata": {},
   "outputs": [
    {
     "name": "stdout",
     "output_type": "stream",
     "text": [
      "ExportPointCloud: path = /data/kingston_snv_01/acfr_point_clouds/qdch0ftq_20100428_020202.ply, save_point_classification = off, save_point_confidence = off, save_comment = off\n",
      "point cloud size: 9878114 points\n",
      "ExportPointCloud: path = /data/kingston_snv_01/acfr_point_clouds/qdch0ftq_20110415_020103.ply, save_point_classification = off, save_point_confidence = off, save_comment = off\n",
      "point cloud size: 12338433 points\n",
      "ExportPointCloud: path = /data/kingston_snv_01/acfr_point_clouds/qdch0ftq_20120430_002423.ply, save_point_classification = off, save_point_confidence = off, save_comment = off\n",
      "point cloud size: 11389618 points\n",
      "ExportPointCloud: path = /data/kingston_snv_01/acfr_point_clouds/qdch0ftq_20130406_023610.ply, save_point_classification = off, save_point_confidence = off, save_comment = off\n",
      "point cloud size: 12036098 points\n"
     ]
    }
   ],
   "source": [
    "from mynd.collections import GroupID\n",
    "from mynd.geometry import PointCloudLoader\n",
    "from mynd.registration import (\n",
    "    RegistrationPipeline,\n",
    "    build_registration_pipeline,\n",
    ")\n",
    "\n",
    "from mynd.io import read_config\n",
    "from mynd.utils.log import logger\n",
    "\n",
    "\n",
    "# Retrieve dense point clouds\n",
    "retrieval_result: Result = metashape.dense_services.retrieve_dense_point_clouds(\n",
    "    cache=CACHE,\n",
    "    overwrite=True,\n",
    ")\n",
    "\n",
    "if retrieval_result.is_err():\n",
    "    logger.error(retrieval_result.err())\n",
    "\n",
    "point_cloud_loaders: dict[GroupID, PointCloudLoader] = retrieval_result.ok()"
   ]
  },
  {
   "cell_type": "code",
   "execution_count": 8,
   "id": "4816de44-6734-4ece-b9ba-d5f6bffa1957",
   "metadata": {},
   "outputs": [
    {
     "name": "stderr",
     "output_type": "stream",
     "text": [
      "\u001b[32m2024-11-12 06:07:00.061\u001b[0m | \u001b[1mINFO\u001b[0m | \u001b[36mLine   37 (2378660065.py):\u001b[0m \u001b[1mKey: qdch0ftq_20100428_020202\u001b[0m\n",
      "\u001b[32m2024-11-12 06:07:00.062\u001b[0m | \u001b[1mINFO\u001b[0m | \u001b[36mLine   37 (2378660065.py):\u001b[0m \u001b[1mKey: qdch0ftq_20110415_020103\u001b[0m\n",
      "\u001b[32m2024-11-12 06:07:00.062\u001b[0m | \u001b[1mINFO\u001b[0m | \u001b[36mLine   37 (2378660065.py):\u001b[0m \u001b[1mKey: qdch0ftq_20120430_002423\u001b[0m\n",
      "\u001b[32m2024-11-12 06:07:00.063\u001b[0m | \u001b[1mINFO\u001b[0m | \u001b[36mLine   37 (2378660065.py):\u001b[0m \u001b[1mKey: qdch0ftq_20130406_023610\u001b[0m\n",
      "\u001b[32m2024-11-12 06:07:00.063\u001b[0m | \u001b[1mINFO\u001b[0m | \u001b[36mLine   49 (2378660065.py):\u001b[0m \u001b[1m\u001b[0m\n",
      "\u001b[32m2024-11-12 06:07:00.063\u001b[0m | \u001b[1mINFO\u001b[0m | \u001b[36mLine   50 (2378660065.py):\u001b[0m \u001b[1mPerforming batch registration...\u001b[0m\n",
      "registering batch...:   0%|                                                                                                                                                           | 0/3 [00:00<?, ?it/s]\u001b[32m2024-11-12 06:14:11.335\u001b[0m | \u001b[1mINFO\u001b[0m | \u001b[36mLine   18 (2378660065.py):\u001b[0m \u001b[1m\u001b[0m\n",
      "\u001b[32m2024-11-12 06:14:11.336\u001b[0m | \u001b[1mINFO\u001b[0m | \u001b[36mLine   19 (2378660065.py):\u001b[0m \u001b[1mTarget: qdch0ftq_20100428_020202\u001b[0m\n",
      "\u001b[32m2024-11-12 06:14:11.336\u001b[0m | \u001b[1mINFO\u001b[0m | \u001b[36mLine   20 (2378660065.py):\u001b[0m \u001b[1mSource: qdch0ftq_20110415_020103\u001b[0m\n",
      "\u001b[32m2024-11-12 06:14:11.337\u001b[0m | \u001b[1mINFO\u001b[0m | \u001b[36mLine   59 (utilities.py):\u001b[0m \u001b[1mCorresp.:     1424490\u001b[0m\n",
      "\u001b[32m2024-11-12 06:14:11.337\u001b[0m | \u001b[1mINFO\u001b[0m | \u001b[36mLine   60 (utilities.py):\u001b[0m \u001b[1mFitness:      0.43928\u001b[0m\n",
      "\u001b[32m2024-11-12 06:14:11.337\u001b[0m | \u001b[1mINFO\u001b[0m | \u001b[36mLine   61 (utilities.py):\u001b[0m \u001b[1mInlier RMSE:  0.01195\u001b[0m\n",
      "\u001b[32m2024-11-12 06:14:11.337\u001b[0m | \u001b[1mINFO\u001b[0m | \u001b[36mLine   62 (utilities.py):\u001b[0m \u001b[1mScale:        0.971\u001b[0m\n",
      "\u001b[32m2024-11-12 06:14:11.338\u001b[0m | \u001b[1mINFO\u001b[0m | \u001b[36mLine   63 (utilities.py):\u001b[0m \u001b[1mTranslation:  [-9.826 -5.262 -0.416]\u001b[0m\n",
      "\u001b[32m2024-11-12 06:14:11.338\u001b[0m | \u001b[1mINFO\u001b[0m | \u001b[36mLine   64 (utilities.py):\u001b[0m \u001b[1mRot. ZYX:     -1.23, -0.10, -0.03\u001b[0m\n",
      "\u001b[32m2024-11-12 06:14:11.338\u001b[0m | \u001b[1mINFO\u001b[0m | \u001b[36mLine   22 (2378660065.py):\u001b[0m \u001b[1m\u001b[0m\n",
      "registering batch...:  33%|████████████████████████████████████████████████▋                                                                                                 | 1/3 [07:11<14:22, 431.27s/it]\u001b[32m2024-11-12 06:20:39.286\u001b[0m | \u001b[1mINFO\u001b[0m | \u001b[36mLine   18 (2378660065.py):\u001b[0m \u001b[1m\u001b[0m\n",
      "\u001b[32m2024-11-12 06:20:39.287\u001b[0m | \u001b[1mINFO\u001b[0m | \u001b[36mLine   19 (2378660065.py):\u001b[0m \u001b[1mTarget: qdch0ftq_20100428_020202\u001b[0m\n",
      "\u001b[32m2024-11-12 06:20:39.287\u001b[0m | \u001b[1mINFO\u001b[0m | \u001b[36mLine   20 (2378660065.py):\u001b[0m \u001b[1mSource: qdch0ftq_20120430_002423\u001b[0m\n",
      "\u001b[32m2024-11-12 06:20:39.287\u001b[0m | \u001b[1mINFO\u001b[0m | \u001b[36mLine   59 (utilities.py):\u001b[0m \u001b[1mCorresp.:     308505\u001b[0m\n",
      "\u001b[32m2024-11-12 06:20:39.287\u001b[0m | \u001b[1mINFO\u001b[0m | \u001b[36mLine   60 (utilities.py):\u001b[0m \u001b[1mFitness:      0.10417\u001b[0m\n",
      "\u001b[32m2024-11-12 06:20:39.288\u001b[0m | \u001b[1mINFO\u001b[0m | \u001b[36mLine   61 (utilities.py):\u001b[0m \u001b[1mInlier RMSE:  0.01324\u001b[0m\n",
      "\u001b[32m2024-11-12 06:20:39.288\u001b[0m | \u001b[1mINFO\u001b[0m | \u001b[36mLine   62 (utilities.py):\u001b[0m \u001b[1mScale:        0.966\u001b[0m\n",
      "\u001b[32m2024-11-12 06:20:39.288\u001b[0m | \u001b[1mINFO\u001b[0m | \u001b[36mLine   63 (utilities.py):\u001b[0m \u001b[1mTranslation:  [ -1.635 -12.062  -0.396]\u001b[0m\n",
      "\u001b[32m2024-11-12 06:20:39.288\u001b[0m | \u001b[1mINFO\u001b[0m | \u001b[36mLine   64 (utilities.py):\u001b[0m \u001b[1mRot. ZYX:     -0.31, -0.27, -0.19\u001b[0m\n",
      "\u001b[32m2024-11-12 06:20:39.288\u001b[0m | \u001b[1mINFO\u001b[0m | \u001b[36mLine   22 (2378660065.py):\u001b[0m \u001b[1m\u001b[0m\n",
      "registering batch...:  67%|█████████████████████████████████████████████████████████████████████████████████████████████████▎                                                | 2/3 [13:39<06:45, 405.79s/it]\u001b[32m2024-11-12 06:27:38.644\u001b[0m | \u001b[1mINFO\u001b[0m | \u001b[36mLine   18 (2378660065.py):\u001b[0m \u001b[1m\u001b[0m\n",
      "\u001b[32m2024-11-12 06:27:38.645\u001b[0m | \u001b[1mINFO\u001b[0m | \u001b[36mLine   19 (2378660065.py):\u001b[0m \u001b[1mTarget: qdch0ftq_20100428_020202\u001b[0m\n",
      "\u001b[32m2024-11-12 06:27:38.646\u001b[0m | \u001b[1mINFO\u001b[0m | \u001b[36mLine   20 (2378660065.py):\u001b[0m \u001b[1mSource: qdch0ftq_20130406_023610\u001b[0m\n",
      "\u001b[32m2024-11-12 06:27:38.646\u001b[0m | \u001b[1mINFO\u001b[0m | \u001b[36mLine   59 (utilities.py):\u001b[0m \u001b[1mCorresp.:     283093\u001b[0m\n",
      "\u001b[32m2024-11-12 06:27:38.646\u001b[0m | \u001b[1mINFO\u001b[0m | \u001b[36mLine   60 (utilities.py):\u001b[0m \u001b[1mFitness:      0.09150\u001b[0m\n",
      "\u001b[32m2024-11-12 06:27:38.647\u001b[0m | \u001b[1mINFO\u001b[0m | \u001b[36mLine   61 (utilities.py):\u001b[0m \u001b[1mInlier RMSE:  0.01331\u001b[0m\n",
      "\u001b[32m2024-11-12 06:27:38.647\u001b[0m | \u001b[1mINFO\u001b[0m | \u001b[36mLine   62 (utilities.py):\u001b[0m \u001b[1mScale:        0.961\u001b[0m\n",
      "\u001b[32m2024-11-12 06:27:38.648\u001b[0m | \u001b[1mINFO\u001b[0m | \u001b[36mLine   63 (utilities.py):\u001b[0m \u001b[1mTranslation:  [-0.458  4.829 -0.649]\u001b[0m\n",
      "\u001b[32m2024-11-12 06:27:38.648\u001b[0m | \u001b[1mINFO\u001b[0m | \u001b[36mLine   64 (utilities.py):\u001b[0m \u001b[1mRot. ZYX:     -1.19, -0.43, -0.19\u001b[0m\n",
      "\u001b[32m2024-11-12 06:27:38.648\u001b[0m | \u001b[1mINFO\u001b[0m | \u001b[36mLine   22 (2378660065.py):\u001b[0m \u001b[1m\u001b[0m\n",
      "registering batch...: 100%|██████████████████████████████████████████████████████████████████████████████████████████████████████████████████████████████████████████████████| 3/3 [20:38<00:00, 412.86s/it]\n",
      "\u001b[32m2024-11-12 06:27:38.699\u001b[0m | \u001b[1mINFO\u001b[0m | \u001b[36mLine   54 (2378660065.py):\u001b[0m \u001b[1mBatch registration done!\u001b[0m\n",
      "\u001b[32m2024-11-12 06:27:38.700\u001b[0m | \u001b[1mINFO\u001b[0m | \u001b[36mLine   55 (2378660065.py):\u001b[0m \u001b[1m\u001b[0m\n"
     ]
    }
   ],
   "source": [
    "from mynd.geometry import PointCloud\n",
    "from mynd.registration import RegistrationResult\n",
    "from mynd.registration import RegistrationBatch, register_batch\n",
    "from mynd.registration import (\n",
    "    RegistrationIndex,\n",
    "    generate_indices_cascade,\n",
    "    generate_indices_one_way,\n",
    ")\n",
    "\n",
    "from mynd.registration import log_registration_result\n",
    "from mynd.visualization import visualize_registration\n",
    "\n",
    "\n",
    "def batch_callback(\n",
    "    target: GroupID, source: GroupID, result: RegistrationResult\n",
    ") -> None:\n",
    "    \"\"\"Callback for registration.\"\"\"\n",
    "    logger.info(\"\")\n",
    "    logger.info(f\"Target: {target.label}\")\n",
    "    logger.info(f\"Source: {source.label}\")\n",
    "    log_registration_result(result=result)\n",
    "    logger.info(\"\")\n",
    "\n",
    "\n",
    "CONFIG_FILE: Path = Path(\n",
    "    \"/home/martin/dev/mynd/config/register_advanced_highres.toml\"\n",
    ")\n",
    "\n",
    "config: dict = read_config(CONFIG_FILE).unwrap()\n",
    "\n",
    "pipeline: RegistrationPipeline = build_registration_pipeline(\n",
    "    config.get(\"registration\")\n",
    ")\n",
    "\n",
    "\n",
    "batch: RegistrationBatch = RegistrationBatch[GroupID](point_cloud_loaders)\n",
    "\n",
    "for key in batch.keys():\n",
    "    logger.info(f\"Key: {key.label}\")\n",
    "\n",
    "index_strategy: str = \"one-way\"\n",
    "\n",
    "match index_strategy:\n",
    "    case \"one-way\":\n",
    "        indices: list[RegistrationIndex] = generate_indices_one_way(\n",
    "            target, batch.keys()\n",
    "        )\n",
    "    case \"cascade\":\n",
    "        indices: list[RegistrationIndex] = generate_indices_cascade(\n",
    "            batch.keys()\n",
    "        )\n",
    "    case _:\n",
    "        raise NotImplementedError\n",
    "\n",
    "logger.info(\"\")\n",
    "logger.info(\"Performing batch registration...\")\n",
    "registration_results: list[RegistrationBatch.PairResult] = register_batch(\n",
    "    batch, pipeline, indices, callback=batch_callback\n",
    ")\n",
    "logger.info(\"Batch registration done!\")\n",
    "logger.info(\"\")"
   ]
  },
  {
   "cell_type": "markdown",
   "id": "a162db0c-b8de-40c6-bbd5-d414db0284bb",
   "metadata": {},
   "source": [
    "### Get consensus estimate with pose graph optimization"
   ]
  },
  {
   "cell_type": "code",
   "execution_count": 4,
   "id": "9ea681de-b751-4a8a-897e-b00cb6fdb8a1",
   "metadata": {},
   "outputs": [],
   "source": [
    "# TODO: Build pose graph\n",
    "# TODO: Optimize pose graph"
   ]
  },
  {
   "cell_type": "markdown",
   "id": "1f98f159-5b8c-4273-973c-b69b14d88571",
   "metadata": {},
   "source": [
    "### Visualize registration results"
   ]
  },
  {
   "cell_type": "code",
   "execution_count": 9,
   "id": "85a92575-4607-4af7-8edf-daf2b8ed3849",
   "metadata": {},
   "outputs": [],
   "source": [
    "visualize: bool = True\n",
    "if visualize:\n",
    "    for registration in registration_results:\n",
    "        target_loader: PointCloudLoader = batch.get(registration.target)\n",
    "        source_loader: PointCloudLoader = batch.get(registration.source)\n",
    "\n",
    "        target_cloud: PointCloud = target_loader().unwrap()\n",
    "        source_cloud: PointCloud = source_loader().unwrap()\n",
    "\n",
    "        visualize_registration(\n",
    "            target=target_cloud,\n",
    "            source=source_cloud,\n",
    "            transformation=registration.result.transformation,\n",
    "            title=f\"{registration.source.label}\",\n",
    "        )"
   ]
  },
  {
   "cell_type": "markdown",
   "id": "87ea7d7d-2905-44ea-b43c-e652eb699361",
   "metadata": {},
   "source": [
    "### Update chunk transforms"
   ]
  },
  {
   "cell_type": "code",
   "execution_count": 10,
   "id": "004aded9-fea7-4c7e-90ab-51dfeeb69639",
   "metadata": {},
   "outputs": [
    {
     "name": "stderr",
     "output_type": "stream",
     "text": [
      "\u001b[32m2024-11-12 06:29:35.318\u001b[0m | \u001b[1mINFO\u001b[0m | \u001b[36mLine   25 (3327945508.py):\u001b[0m \u001b[1mAligning chunks - target: qdch0ftq_20100428_020202, source: qdch0ftq_20110415_020103\u001b[0m\n",
      "\u001b[32m2024-11-12 06:29:35.319\u001b[0m | \u001b[1mINFO\u001b[0m | \u001b[36mLine   25 (3327945508.py):\u001b[0m \u001b[1mAligning chunks - target: qdch0ftq_20100428_020202, source: qdch0ftq_20120430_002423\u001b[0m\n",
      "\u001b[32m2024-11-12 06:29:35.320\u001b[0m | \u001b[1mINFO\u001b[0m | \u001b[36mLine   25 (3327945508.py):\u001b[0m \u001b[1mAligning chunks - target: qdch0ftq_20100428_020202, source: qdch0ftq_20130406_023610\u001b[0m\n"
     ]
    }
   ],
   "source": [
    "import Metashape as ms\n",
    "import numpy as np\n",
    "\n",
    "chunks: dict[GroupID, ms.Chunk] = {\n",
    "    GroupID(chunk.key, chunk.label): chunk\n",
    "    for chunk in metashape.context._backend_data.get(\"document\").chunks\n",
    "}\n",
    "\n",
    "\n",
    "results: dict[GroupID, RegistrationResult] = results.get(target)\n",
    "\n",
    "\n",
    "# TODO: Move to metashape backend\n",
    "target_chunk: ms.Chunk = chunks.get(target)\n",
    "for source, registration in results.items():\n",
    "    source_chunk: ms.Chunk = chunks.get(source)\n",
    "\n",
    "    logger.info(\n",
    "        f\"Aligning chunks - target: {target_chunk.label}, source: {source_chunk.label}\"\n",
    "    )\n",
    "    metashape.align_chunks(target_chunk, source_chunk, registration)"
   ]
  },
  {
   "cell_type": "markdown",
   "id": "a01738f5-e115-463f-9948-f5b14e4a74a8",
   "metadata": {},
   "source": [
    "### TODO: Save project to file"
   ]
  },
  {
   "cell_type": "code",
   "execution_count": 11,
   "id": "4827cc58-478b-4d2a-8745-0b70945d6caa",
   "metadata": {},
   "outputs": [
    {
     "name": "stdout",
     "output_type": "stream",
     "text": [
      "SaveProject: path = /data/kingston_snv_01/acfr_metashape_projects_registered/qdch0ftq_registered_with_metadata.psz\n"
     ]
    },
    {
     "name": "stderr",
     "output_type": "stream",
     "text": [
      "\u001b[32m2024-11-12 06:31:11.122\u001b[0m | \u001b[1mINFO\u001b[0m | \u001b[36mLine    7 (3199932015.py):\u001b[0m \u001b[1msaved project to: /data/kingston_snv_01/acfr_metashape_projects_registered/qdch0ftq_registered_with_metadata.psz\u001b[0m\n"
     ]
    },
    {
     "name": "stdout",
     "output_type": "stream",
     "text": [
      "saved project in 93.1391 sec\n"
     ]
    }
   ],
   "source": [
    "assert (\n",
    "    INPUT_PROJECT != DESTINATION_PROJECT\n",
    "), \"source and destination project cannot be the same!\"\n",
    "\n",
    "match metashape.save_project(DESTINATION_PROJECT):\n",
    "    case Ok(path):\n",
    "        logger.info(f\"saved project to: {path}\")\n",
    "    case Err(message):\n",
    "        logger.error(message)\n",
    "    case _:\n",
    "        raise NotImplementedError"
   ]
  }
 ],
 "metadata": {
  "kernelspec": {
   "display_name": "Python 3 (ipykernel)",
   "language": "python",
   "name": "python3"
  },
  "language_info": {
   "codemirror_mode": {
    "name": "ipython",
    "version": 3
   },
   "file_extension": ".py",
   "mimetype": "text/x-python",
   "name": "python",
   "nbconvert_exporter": "python",
   "pygments_lexer": "ipython3",
   "version": "3.11.10"
  }
 },
 "nbformat": 4,
 "nbformat_minor": 5
}
