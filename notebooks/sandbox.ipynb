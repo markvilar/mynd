{
 "cells": [
  {
   "cell_type": "markdown",
   "id": "0c45bf13-40c2-45fb-a5ca-620fde3d3505",
   "metadata": {},
   "source": [
    "#### Test mynds packages in the sandbox"
   ]
  },
  {
   "cell_type": "code",
   "execution_count": null,
   "id": "26f6bf3a-a9bd-4ec4-8ff2-11550e1fddaa",
   "metadata": {},
   "outputs": [],
   "source": [
    "from functools import partial\n",
    "from pathlib import Path\n",
    "\n",
    "import cv2\n",
    "import onnxruntime as ort\n",
    "import tqdm\n",
    "\n",
    "from mynd.camera import CameraID\n",
    "from mynd.image import Image, filter_image_clahe\n",
    "from mynd.io import read_image\n",
    "from mynd.visualization import KeyCode, destroy_all_windows\n",
    "\n",
    "\n",
    "from mynd.visualization.stereo_visualizer import (\n",
    "    StereoVisualizer,\n",
    "    ImageWindow,\n",
    "    ImageWindowsManager,\n",
    ")\n",
    "\n",
    "\n",
    "from mynd.utils.filesystem import list_directory\n",
    "from mynd.utils.log import logger\n",
    "from mynd.utils.result import Ok, Err, Result\n",
    "\n",
    "\n",
    "logger.info(f\"Device: {ort.get_device()}\")\n",
    "\n",
    "\n",
    "def main() -> None:\n",
    "    \"\"\"Main entrypoint.\"\"\"\n",
    "\n",
    "    DIRECTORY: Path = Path(\n",
    "        \"/data/kingston_snv_01/acfr_images_grayworld/r23m7ms0_20140616_044549_grayworld\"\n",
    "    )\n",
    "    PATTERN: str = \"*.png\"\n",
    "\n",
    "    visualizer: StereoVisualizer = StereoVisualizer(\n",
    "        stereo_methods=dict(), source=list()\n",
    "    )\n",
    "    window: ImageWindow = ImageWindow(\"my_test_window\", size=(1000, 500))\n",
    "\n",
    "    logger.info(visualizer)\n",
    "\n",
    "    raise NotImplementedError\n",
    "\n",
    "\n",
    "# INVOKE MAIN\n",
    "main()"
   ]
  }
 ],
 "metadata": {
  "kernelspec": {
   "display_name": "Python 3 (ipykernel)",
   "language": "python",
   "name": "python3"
  },
  "language_info": {
   "codemirror_mode": {
    "name": "ipython",
    "version": 3
   },
   "file_extension": ".py",
   "mimetype": "text/x-python",
   "name": "python",
   "nbconvert_exporter": "python",
   "pygments_lexer": "ipython3",
   "version": "3.11.10"
  }
 },
 "nbformat": 4,
 "nbformat_minor": 5
}
