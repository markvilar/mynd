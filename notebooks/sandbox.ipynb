{
 "cells": [
  {
   "cell_type": "markdown",
   "id": "0c45bf13-40c2-45fb-a5ca-620fde3d3505",
   "metadata": {},
   "source": [
    "#### Test mynds packages in the sandbox"
   ]
  },
  {
   "cell_type": "code",
   "execution_count": 1,
   "id": "26f6bf3a-a9bd-4ec4-8ff2-11550e1fddaa",
   "metadata": {},
   "outputs": [
    {
     "name": "stdout",
     "output_type": "stream",
     "text": [
      "Jupyter environment detected. Enabling Open3D WebVisualizer.\n",
      "[Open3D INFO] WebRTC GUI backend enabled.\n",
      "[Open3D INFO] WebRTCWindowSystem: HTTP handshake server disabled.\n"
     ]
    },
    {
     "name": "stderr",
     "output_type": "stream",
     "text": [
      "/home/martin/.cache/pypoetry/virtualenvs/mynd-qzh2EXyG-py3.11/lib/python3.11/site-packages/kornia/feature/lightglue.py:44: FutureWarning: `torch.cuda.amp.custom_fwd(args...)` is deprecated. Please use `torch.amp.custom_fwd(args..., device_type='cuda')` instead.\n",
      "  @torch.cuda.amp.custom_fwd(cast_inputs=torch.float32)\n",
      "\u001b[32m2024-10-21 09:40:23.526\u001b[0m | \u001b[1mINFO    \u001b[0m | \u001b[36m__main__\u001b[0m:\u001b[36m<module>\u001b[0m:\u001b[36m22\u001b[0m - \u001b[1mDevice: GPU\u001b[0m\n"
     ]
    },
    {
     "ename": "TypeError",
     "evalue": "object() takes no arguments",
     "output_type": "error",
     "traceback": [
      "\u001b[0;31m---------------------------------------------------------------------------\u001b[0m",
      "\u001b[0;31mTypeError\u001b[0m                                 Traceback (most recent call last)",
      "Cell \u001b[0;32mIn[1], line 39\u001b[0m\n\u001b[1;32m     36\u001b[0m     \u001b[38;5;28;01mraise\u001b[39;00m \u001b[38;5;167;01mNotImplementedError\u001b[39;00m\n\u001b[1;32m     38\u001b[0m \u001b[38;5;66;03m# INVOKE MAIN\u001b[39;00m\n\u001b[0;32m---> 39\u001b[0m \u001b[43mmain\u001b[49m\u001b[43m(\u001b[49m\u001b[43m)\u001b[49m\n",
      "Cell \u001b[0;32mIn[1], line 31\u001b[0m, in \u001b[0;36mmain\u001b[0;34m()\u001b[0m\n\u001b[1;32m     28\u001b[0m DIRECTORY: Path \u001b[38;5;241m=\u001b[39m Path(\u001b[38;5;124m\"\u001b[39m\u001b[38;5;124m/data/kingston_snv_01/acfr_images_grayworld/r23m7ms0_20140616_044549_grayworld\u001b[39m\u001b[38;5;124m\"\u001b[39m)\n\u001b[1;32m     29\u001b[0m PATTERN: \u001b[38;5;28mstr\u001b[39m \u001b[38;5;241m=\u001b[39m \u001b[38;5;124m\"\u001b[39m\u001b[38;5;124m*.png\u001b[39m\u001b[38;5;124m\"\u001b[39m\n\u001b[0;32m---> 31\u001b[0m visualizer: StereoVisualizer \u001b[38;5;241m=\u001b[39m \u001b[43mStereoVisualizer\u001b[49m\u001b[43m(\u001b[49m\u001b[43mstereo_methods\u001b[49m\u001b[38;5;241;43m=\u001b[39;49m\u001b[38;5;28;43mdict\u001b[39;49m\u001b[43m(\u001b[49m\u001b[43m)\u001b[49m\u001b[43m,\u001b[49m\u001b[43m \u001b[49m\u001b[43msource\u001b[49m\u001b[38;5;241;43m=\u001b[39;49m\u001b[38;5;28;43mlist\u001b[39;49m\u001b[43m(\u001b[49m\u001b[43m)\u001b[49m\u001b[43m)\u001b[49m\n\u001b[1;32m     32\u001b[0m window: ImageWindow \u001b[38;5;241m=\u001b[39m ImageWindow(\u001b[38;5;124m\"\u001b[39m\u001b[38;5;124mmy_test_window\u001b[39m\u001b[38;5;124m\"\u001b[39m, size\u001b[38;5;241m=\u001b[39m(\u001b[38;5;241m1000\u001b[39m, \u001b[38;5;241m500\u001b[39m))\n\u001b[1;32m     34\u001b[0m logger\u001b[38;5;241m.\u001b[39minfo(visualizer)\n",
      "File \u001b[0;32m~/dev/mynd/src/mynd/visualization/stereo_visualizer.py:142\u001b[0m, in \u001b[0;36mStereoVisualizer.__init__\u001b[0;34m(self, stereo_methods, source)\u001b[0m\n\u001b[1;32m    140\u001b[0m \u001b[38;5;28mself\u001b[39m\u001b[38;5;241m.\u001b[39mstereo_methods \u001b[38;5;241m=\u001b[39m stereo_methods\n\u001b[1;32m    141\u001b[0m \u001b[38;5;28mself\u001b[39m\u001b[38;5;241m.\u001b[39mstereo_methods_output \u001b[38;5;241m=\u001b[39m {}\n\u001b[0;32m--> 142\u001b[0m \u001b[38;5;28mself\u001b[39m\u001b[38;5;241m.\u001b[39minput \u001b[38;5;241m=\u001b[39m \u001b[43mInputPair\u001b[49m\u001b[43m(\u001b[49m\u001b[38;5;28;43;01mNone\u001b[39;49;00m\u001b[43m,\u001b[49m\u001b[43m \u001b[49m\u001b[38;5;28;43;01mNone\u001b[39;49;00m\u001b[43m,\u001b[49m\u001b[43m \u001b[49m\u001b[38;5;28;43;01mNone\u001b[39;49;00m\u001b[43m,\u001b[49m\u001b[43m \u001b[49m\u001b[38;5;28;43;01mNone\u001b[39;49;00m\u001b[43m)\u001b[49m\n\u001b[1;32m    143\u001b[0m \u001b[38;5;28mself\u001b[39m\u001b[38;5;241m.\u001b[39m_downsample_factor \u001b[38;5;241m=\u001b[39m \u001b[38;5;241m0\u001b[39m\n\u001b[1;32m    145\u001b[0m \u001b[38;5;28mself\u001b[39m\u001b[38;5;241m.\u001b[39mwindow \u001b[38;5;241m=\u001b[39m gui\u001b[38;5;241m.\u001b[39mApplication\u001b[38;5;241m.\u001b[39minstance\u001b[38;5;241m.\u001b[39mcreate_window(\n\u001b[1;32m    146\u001b[0m     \u001b[38;5;124m\"\u001b[39m\u001b[38;5;124mStereoVis\u001b[39m\u001b[38;5;124m\"\u001b[39m, \u001b[38;5;241m1280\u001b[39m, \u001b[38;5;241m1024\u001b[39m\n\u001b[1;32m    147\u001b[0m )\n",
      "\u001b[0;31mTypeError\u001b[0m: object() takes no arguments"
     ]
    }
   ],
   "source": [
    "from functools import partial\n",
    "from pathlib import Path\n",
    "\n",
    "import cv2\n",
    "import onnxruntime as ort\n",
    "import tqdm\n",
    "\n",
    "from mynd.camera import CameraID\n",
    "from mynd.image import Image, filter_image_clahe\n",
    "from mynd.io import read_image\n",
    "from mynd.visualization import KeyCode, destroy_all_windows\n",
    "\n",
    "\n",
    "from mynd.visualization.stereo_visualizer import (\n",
    "    StereoVisualizer,\n",
    "    ImageWindow,\n",
    "    ImageWindowsManager,\n",
    ")\n",
    "\n",
    "\n",
    "from mynd.utils.filesystem import list_directory\n",
    "from mynd.utils.log import logger\n",
    "from mynd.utils.result import Ok, Err, Result\n",
    "\n",
    "\n",
    "logger.info(f\"Device: {ort.get_device()}\")\n",
    "\n",
    "\n",
    "def main() -> None:\n",
    "    \"\"\"Main entrypoint.\"\"\"\n",
    "\n",
    "    DIRECTORY: Path = Path(\n",
    "        \"/data/kingston_snv_01/acfr_images_grayworld/r23m7ms0_20140616_044549_grayworld\"\n",
    "    )\n",
    "    PATTERN: str = \"*.png\"\n",
    "\n",
    "    visualizer: StereoVisualizer = StereoVisualizer(\n",
    "        stereo_methods=dict(), source=list()\n",
    "    )\n",
    "    window: ImageWindow = ImageWindow(\"my_test_window\", size=(1000, 500))\n",
    "\n",
    "    logger.info(visualizer)\n",
    "\n",
    "    raise NotImplementedError\n",
    "\n",
    "\n",
    "# INVOKE MAIN\n",
    "main()"
   ]
  }
 ],
 "metadata": {
  "kernelspec": {
   "display_name": "Python 3 (ipykernel)",
   "language": "python",
   "name": "python3"
  },
  "language_info": {
   "codemirror_mode": {
    "name": "ipython",
    "version": 3
   },
   "file_extension": ".py",
   "mimetype": "text/x-python",
   "name": "python",
   "nbconvert_exporter": "python",
   "pygments_lexer": "ipython3",
   "version": "3.11.10"
  }
 },
 "nbformat": 4,
 "nbformat_minor": 5
}
