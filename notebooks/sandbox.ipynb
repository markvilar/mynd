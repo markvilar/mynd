{
 "cells": [
  {
   "cell_type": "markdown",
   "id": "0c45bf13-40c2-45fb-a5ca-620fde3d3505",
   "metadata": {},
   "source": [
    "#### Test mynds packages in the sandbox"
   ]
  },
  {
   "cell_type": "code",
   "execution_count": 2,
   "id": "26f6bf3a-a9bd-4ec4-8ff2-11550e1fddaa",
   "metadata": {},
   "outputs": [
    {
     "name": "stderr",
     "output_type": "stream",
     "text": [
      "\u001b[32m2024-10-20 18:57:16.272\u001b[0m | \u001b[1mINFO    \u001b[0m | \u001b[36m__main__\u001b[0m:\u001b[36mmain\u001b[0m:\u001b[36m27\u001b[0m - \u001b[1mImages: 6562\u001b[0m\n",
      "\u001b[32m2024-10-20 18:57:16.273\u001b[0m | \u001b[1mINFO    \u001b[0m | \u001b[36m__main__\u001b[0m:\u001b[36mmain\u001b[0m:\u001b[36m29\u001b[0m - \u001b[1mDevice: CPU\u001b[0m\n"
     ]
    }
   ],
   "source": [
    "from functools import partial\n",
    "from pathlib import Path\n",
    "\n",
    "import cv2\n",
    "import onnxruntime as ort\n",
    "import tqdm\n",
    "\n",
    "from mynd.camera import CameraID\n",
    "from mynd.image import Image, filter_image_clahe\n",
    "from mynd.io import read_image\n",
    "from mynd.visualization import KeyCode, destroy_all_windows\n",
    "\n",
    "from mynd.utils.filesystem import list_directory\n",
    "from mynd.utils.log import logger\n",
    "from mynd.utils.result import Ok, Err, Result\n",
    "\n",
    "\n",
    "def main() -> None:\n",
    "    \"\"\"Main entrypoint.\"\"\"\n",
    "\n",
    "    DIRECTORY: Path = Path(\n",
    "        \"/data/kingston_snv_01/acfr_images_grayworld/r23m7ms0_20140616_044549_grayworld\"\n",
    "    )\n",
    "    PATTERN: str = \"*.png\"\n",
    "\n",
    "    image_files: list[Path] = sorted(list_directory(DIRECTORY, PATTERN))\n",
    "\n",
    "    logger.info(f\"Device: {ort.get_device()}\")\n",
    "    logger.info(f\"Images: {len(image_files)}\")\n",
    "\n",
    "    # Test this function\n",
    "    # filter_image_clahe\n",
    "    for image_file in image_files:\n",
    "        image: Image = read_image(image_file).unwrap()\n",
    "\n",
    "        processed_image: Image = filter_image_clahe(image, size=10, clip=6.0)\n",
    "\n",
    "        cv2.imshow(\"Filtered\", processed_image.to_array())\n",
    "\n",
    "        key: KeyCode = KeyCode(cv2.waitKey(0))\n",
    "\n",
    "        match key:\n",
    "            case KeyCode.ESC:\n",
    "                destroy_all_windows()\n",
    "                return\n",
    "            case KeyCode.SPACE:\n",
    "                continue\n",
    "            case _:\n",
    "                pass\n",
    "\n",
    "\n",
    "# INVOKE MAIN\n",
    "main()"
   ]
  }
 ],
 "metadata": {
  "kernelspec": {
   "display_name": "Python 3 (ipykernel)",
   "language": "python",
   "name": "python3"
  },
  "language_info": {
   "codemirror_mode": {
    "name": "ipython",
    "version": 3
   },
   "file_extension": ".py",
   "mimetype": "text/x-python",
   "name": "python",
   "nbconvert_exporter": "python",
   "pygments_lexer": "ipython3",
   "version": "3.11.10"
  }
 },
 "nbformat": 4,
 "nbformat_minor": 5
}
