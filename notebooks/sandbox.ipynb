{
 "cells": [
  {
   "cell_type": "markdown",
   "id": "0c45bf13-40c2-45fb-a5ca-620fde3d3505",
   "metadata": {},
   "source": [
    "#### Test mynds packages in the sandbox"
   ]
  },
  {
   "cell_type": "code",
   "execution_count": 6,
   "id": "26f6bf3a-a9bd-4ec4-8ff2-11550e1fddaa",
   "metadata": {},
   "outputs": [
    {
     "name": "stderr",
     "output_type": "stream",
     "text": [
      "\u001b[32m2024-10-30 09:05:52.638\u001b[0m | \u001b[31m\u001b[1mERROR   \u001b[0m | \u001b[36m__main__\u001b[0m:\u001b[36mmain\u001b[0m:\u001b[36m246\u001b[0m - \u001b[31m\u001b[1mbackend already has a loaded project\u001b[0m\n",
      "\u001b[32m2024-10-30 09:05:56.268\u001b[0m | \u001b[1mINFO    \u001b[0m | \u001b[36m__main__\u001b[0m:\u001b[36mmain\u001b[0m:\u001b[36m255\u001b[0m - \u001b[1mGroupIdentifier(key=0, label='qdch0ftq_20100428_020202')\u001b[0m\n"
     ]
    }
   ],
   "source": [
    "from pathlib import Path\n",
    "\n",
    "import asdf\n",
    "import numpy as np\n",
    "import polars as pl\n",
    "import tqdm\n",
    "\n",
    "from mynd.backend import metashape\n",
    "from mynd.collections import GroupID\n",
    "from mynd.utils.log import logger\n",
    "from mynd.utils.result import Ok, Err, Result\n",
    "\n",
    "\n",
    "def main() -> None:\n",
    "    \"\"\"Main entrypoint.\"\"\"\n",
    "\n",
    "    PROJECT: Path = Path(\n",
    "        \"/data/kingston_snv_01/acfr_metashape_projects/qdch0ftq_aligned_with_metadata.psz\"\n",
    "    )\n",
    "    OUTPUT: Path = Path(\"/data/kingston_snv_01/camera_export\")\n",
    "\n",
    "    assert PROJECT.exists(), f\"project does not exist: {PROJECT}\"\n",
    "\n",
    "    match metashape.load_project(PROJECT):\n",
    "        case Ok(None):\n",
    "            pass\n",
    "        case Err(message):\n",
    "            logger.error(message)\n",
    "\n",
    "    identifier: GroupID = GroupID(key=0, label=\"qdch0ftq_20100428_020202\")\n",
    "    cameras: CameraGroup = metashape.camera_services.retrieve_camera_group(\n",
    "        identifier\n",
    "    ).unwrap()\n",
    "\n",
    "    # TODO: Write your code here\n",
    "\n",
    "\n",
    "# INVOKE MAIN\n",
    "main()"
   ]
  }
 ],
 "metadata": {
  "kernelspec": {
   "display_name": "Python 3 (ipykernel)",
   "language": "python",
   "name": "python3"
  },
  "language_info": {
   "codemirror_mode": {
    "name": "ipython",
    "version": 3
   },
   "file_extension": ".py",
   "mimetype": "text/x-python",
   "name": "python",
   "nbconvert_exporter": "python",
   "pygments_lexer": "ipython3",
   "version": "3.11.10"
  }
 },
 "nbformat": 4,
 "nbformat_minor": 5
}
