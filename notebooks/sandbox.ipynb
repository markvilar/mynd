{
 "cells": [
  {
   "cell_type": "markdown",
   "id": "0c45bf13-40c2-45fb-a5ca-620fde3d3505",
   "metadata": {},
   "source": [
    "#### Test mynds packages in the sandbox"
   ]
  },
  {
   "cell_type": "code",
   "execution_count": 5,
   "id": "26f6bf3a-a9bd-4ec4-8ff2-11550e1fddaa",
   "metadata": {},
   "outputs": [
    {
     "name": "stderr",
     "output_type": "stream",
     "text": [
      "\u001b[32m2024-10-28 09:12:12.587\u001b[0m | \u001b[31m\u001b[1mERROR   \u001b[0m | \u001b[36m__main__\u001b[0m:\u001b[36mmain\u001b[0m:\u001b[36m24\u001b[0m - \u001b[31m\u001b[1mbackend already has a loaded project\u001b[0m\n",
      "\u001b[32m2024-10-28 09:12:12.905\u001b[0m | \u001b[1mINFO    \u001b[0m | \u001b[36m__main__\u001b[0m:\u001b[36mmain\u001b[0m:\u001b[36m29\u001b[0m - \u001b[1m[Sensor(identifier=Sensor.Identifier(key=0, label='stereo_left'), width=1360, height=1024, calibration=CameraCalibration(camera_matrix=array([[1.72712517e+03, 0.00000000e+00, 6.93763940e+02],\n",
      "       [0.00000000e+00, 1.72712517e+03, 4.94426539e+02],\n",
      "       [0.00000000e+00, 0.00000000e+00, 1.00000000e+00]]), distortion=array([0.17634141, 0.52371965, 0.00356136, 0.00289986, 0.68367716]), width=1360, height=1024, location=array([0., 0., 0.]), rotation=array([[1., 0., 0.],\n",
      "       [0., 1., 0.],\n",
      "       [0., 0., 1.]])), master=None, reference=None, bands=None), Sensor(identifier=Sensor.Identifier(key=1, label='stereo_right'), width=1360, height=1024, calibration=CameraCalibration(camera_matrix=array([[1.72926204e+03, 0.00000000e+00, 6.91620216e+02],\n",
      "       [0.00000000e+00, 1.72926204e+03, 5.03063903e+02],\n",
      "       [0.00000000e+00, 0.00000000e+00, 1.00000000e+00]]), distortion=array([0.18353163, 0.52207929, 0.00208828, 0.00321277, 0.60417472]), width=1360, height=1024, location=array([ 7.14629149e-02,  2.20902116e-04, -8.24819310e-05]), rotation=array([[ 9.99996731e-01,  2.36291182e-04,  2.54611428e-03],\n",
      "       [-2.38359647e-04,  9.99999642e-01,  8.12128018e-04],\n",
      "       [-2.54592147e-03, -8.12732254e-04,  9.99996429e-01]])), master=Sensor.Identifier(key=0, label='stereo_left'), reference=None, bands=None)]\u001b[0m\n"
     ]
    },
    {
     "ename": "NotImplementedError",
     "evalue": "",
     "output_type": "error",
     "traceback": [
      "\u001b[0;31m---------------------------------------------------------------------------\u001b[0m",
      "\u001b[0;31mNotImplementedError\u001b[0m                       Traceback (most recent call last)",
      "Cell \u001b[0;32mIn[5], line 35\u001b[0m\n\u001b[1;32m     31\u001b[0m     \u001b[38;5;28;01mraise\u001b[39;00m \u001b[38;5;167;01mNotImplementedError\u001b[39;00m\n\u001b[1;32m     34\u001b[0m \u001b[38;5;66;03m# INVOKE MAIN\u001b[39;00m\n\u001b[0;32m---> 35\u001b[0m \u001b[43mmain\u001b[49m\u001b[43m(\u001b[49m\u001b[43m)\u001b[49m\n",
      "Cell \u001b[0;32mIn[5], line 31\u001b[0m, in \u001b[0;36mmain\u001b[0;34m()\u001b[0m\n\u001b[1;32m     27\u001b[0m camera_group: CameraGroup \u001b[38;5;241m=\u001b[39m metashape\u001b[38;5;241m.\u001b[39mcamera_services\u001b[38;5;241m.\u001b[39mretrieve_camera_group(group_id)\u001b[38;5;241m.\u001b[39munwrap()\n\u001b[1;32m     29\u001b[0m logger\u001b[38;5;241m.\u001b[39minfo(camera_group\u001b[38;5;241m.\u001b[39mattributes\u001b[38;5;241m.\u001b[39msensors)\n\u001b[0;32m---> 31\u001b[0m \u001b[38;5;28;01mraise\u001b[39;00m \u001b[38;5;167;01mNotImplementedError\u001b[39;00m\n",
      "\u001b[0;31mNotImplementedError\u001b[0m: "
     ]
    }
   ],
   "source": [
    "from pathlib import Path\n",
    "\n",
    "import Metashape as ms\n",
    "import tqdm\n",
    "\n",
    "from mynd.backend import metashape as metashape\n",
    "\n",
    "from mynd.camera import CameraID, Sensor\n",
    "from mynd.collections import GroupID, CameraGroup\n",
    "\n",
    "from mynd.utils.filesystem import list_directory\n",
    "from mynd.utils.log import logger\n",
    "from mynd.utils.result import Ok, Err, Result\n",
    "\n",
    "\n",
    "def main() -> None:\n",
    "    \"\"\"Main entrypoint.\"\"\"\n",
    "\n",
    "    PROJECT: Path = Path(\"/data/kingston_snv_01/acfr_metashape_projects_dev/r23m7ms0_lite_with_metadata.psz\")\n",
    "    match metashape.load_project(PROJECT):\n",
    "        case Ok(path):\n",
    "            logger.info(path)\n",
    "        case Err(message):\n",
    "            logger.error(message)\n",
    "\n",
    "    group_id: GroupID = GroupID(key=0, label=\"r23m7ms0_20100606_001908\")\n",
    "    camera_group: CameraGroup = metashape.camera_services.retrieve_camera_group(group_id).unwrap()\n",
    "\n",
    "    logger.info(camera_group.attributes.sensors)\n",
    "\n",
    "    raise NotImplementedError\n",
    "\n",
    "\n",
    "# INVOKE MAIN\n",
    "main()"
   ]
  }
 ],
 "metadata": {
  "kernelspec": {
   "display_name": "Python 3 (ipykernel)",
   "language": "python",
   "name": "python3"
  },
  "language_info": {
   "codemirror_mode": {
    "name": "ipython",
    "version": 3
   },
   "file_extension": ".py",
   "mimetype": "text/x-python",
   "name": "python",
   "nbconvert_exporter": "python",
   "pygments_lexer": "ipython3",
   "version": "3.11.10"
  }
 },
 "nbformat": 4,
 "nbformat_minor": 5
}
