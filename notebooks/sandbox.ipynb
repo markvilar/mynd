{
 "cells": [
  {
   "cell_type": "markdown",
   "id": "0c45bf13-40c2-45fb-a5ca-620fde3d3505",
   "metadata": {},
   "source": [
    "#### Test mynds packages in the sandbox"
   ]
  },
  {
   "cell_type": "code",
   "execution_count": 1,
   "id": "26f6bf3a-a9bd-4ec4-8ff2-11550e1fddaa",
   "metadata": {},
   "outputs": [
    {
     "name": "stdout",
     "output_type": "stream",
     "text": [
      "Jupyter environment detected. Enabling Open3D WebVisualizer.\n",
      "[Open3D INFO] WebRTC GUI backend enabled.\n",
      "[Open3D INFO] WebRTCWindowSystem: HTTP handshake server disabled.\n"
     ]
    },
    {
     "name": "stderr",
     "output_type": "stream",
     "text": [
      "/home/martin/.cache/pypoetry/virtualenvs/mynd-qzh2EXyG-py3.11/lib/python3.11/site-packages/kornia/feature/lightglue.py:44: FutureWarning: `torch.cuda.amp.custom_fwd(args...)` is deprecated. Please use `torch.amp.custom_fwd(args..., device_type='cuda')` instead.\n",
      "  @torch.cuda.amp.custom_fwd(cast_inputs=torch.float32)\n"
     ]
    },
    {
     "name": "stdout",
     "output_type": "stream",
     "text": [
      "LoadProject: path = /data/kingston_snv_01/acfr_revisits_metashape_dev/r23685bc_lite_with_metadata.psz\n"
     ]
    },
    {
     "name": "stderr",
     "output_type": "stream",
     "text": [
      "\u001b[32m2024-10-01 23:10:57.233\u001b[0m | \u001b[1mINFO    \u001b[0m | \u001b[36m__main__\u001b[0m:\u001b[36m<module>\u001b[0m:\u001b[36m17\u001b[0m - \u001b[1mloaded project: loaded document /data/kingston_snv_01/acfr_revisits_metashape_dev/r23685bc_lite_with_metadata.psz successfully\u001b[0m\n",
      "\u001b[32m2024-10-01 23:10:57.238\u001b[0m | \u001b[1mINFO    \u001b[0m | \u001b[36m__main__\u001b[0m:\u001b[36mmain\u001b[0m:\u001b[36m33\u001b[0m - \u001b[1m{'greeting': 'hello'}\u001b[0m\n",
      "\u001b[32m2024-10-01 23:10:57.241\u001b[0m | \u001b[1mINFO    \u001b[0m | \u001b[36m__main__\u001b[0m:\u001b[36mmain\u001b[0m:\u001b[36m41\u001b[0m - \u001b[1mitems: <class 'tuple'>\u001b[0m\n",
      "\u001b[32m2024-10-01 23:10:57.243\u001b[0m | \u001b[1mINFO    \u001b[0m | \u001b[36m__main__\u001b[0m:\u001b[36mmain\u001b[0m:\u001b[36m42\u001b[0m - \u001b[1mkeys: <class 'str'>\u001b[0m\n",
      "\u001b[32m2024-10-01 23:10:57.244\u001b[0m | \u001b[1mINFO    \u001b[0m | \u001b[36m__main__\u001b[0m:\u001b[36mmain\u001b[0m:\u001b[36m43\u001b[0m - \u001b[1mvalues: <class 'str'>\u001b[0m\n",
      "\u001b[32m2024-10-01 23:10:57.245\u001b[0m | \u001b[1mINFO    \u001b[0m | \u001b[36m__main__\u001b[0m:\u001b[36mmain\u001b[0m:\u001b[36m33\u001b[0m - \u001b[1m{'greeting': 'hello'}\u001b[0m\n",
      "\u001b[32m2024-10-01 23:10:57.246\u001b[0m | \u001b[1mINFO    \u001b[0m | \u001b[36m__main__\u001b[0m:\u001b[36mmain\u001b[0m:\u001b[36m41\u001b[0m - \u001b[1mitems: <class 'tuple'>\u001b[0m\n",
      "\u001b[32m2024-10-01 23:10:57.247\u001b[0m | \u001b[1mINFO    \u001b[0m | \u001b[36m__main__\u001b[0m:\u001b[36mmain\u001b[0m:\u001b[36m42\u001b[0m - \u001b[1mkeys: <class 'str'>\u001b[0m\n",
      "\u001b[32m2024-10-01 23:10:57.248\u001b[0m | \u001b[1mINFO    \u001b[0m | \u001b[36m__main__\u001b[0m:\u001b[36mmain\u001b[0m:\u001b[36m43\u001b[0m - \u001b[1mvalues: <class 'str'>\u001b[0m\n",
      "\u001b[32m2024-10-01 23:10:57.249\u001b[0m | \u001b[1mINFO    \u001b[0m | \u001b[36m__main__\u001b[0m:\u001b[36mmain\u001b[0m:\u001b[36m33\u001b[0m - \u001b[1m{'greeting': 'hello'}\u001b[0m\n",
      "\u001b[32m2024-10-01 23:10:57.250\u001b[0m | \u001b[1mINFO    \u001b[0m | \u001b[36m__main__\u001b[0m:\u001b[36mmain\u001b[0m:\u001b[36m41\u001b[0m - \u001b[1mitems: <class 'tuple'>\u001b[0m\n",
      "\u001b[32m2024-10-01 23:10:57.251\u001b[0m | \u001b[1mINFO    \u001b[0m | \u001b[36m__main__\u001b[0m:\u001b[36mmain\u001b[0m:\u001b[36m42\u001b[0m - \u001b[1mkeys: <class 'str'>\u001b[0m\n",
      "\u001b[32m2024-10-01 23:10:57.252\u001b[0m | \u001b[1mINFO    \u001b[0m | \u001b[36m__main__\u001b[0m:\u001b[36mmain\u001b[0m:\u001b[36m43\u001b[0m - \u001b[1mvalues: <class 'str'>\u001b[0m\n",
      "\u001b[32m2024-10-01 23:10:57.253\u001b[0m | \u001b[1mINFO    \u001b[0m | \u001b[36m__main__\u001b[0m:\u001b[36mmain\u001b[0m:\u001b[36m33\u001b[0m - \u001b[1m{'greeting': 'hello'}\u001b[0m\n",
      "\u001b[32m2024-10-01 23:10:57.253\u001b[0m | \u001b[1mINFO    \u001b[0m | \u001b[36m__main__\u001b[0m:\u001b[36mmain\u001b[0m:\u001b[36m41\u001b[0m - \u001b[1mitems: <class 'tuple'>\u001b[0m\n",
      "\u001b[32m2024-10-01 23:10:57.254\u001b[0m | \u001b[1mINFO    \u001b[0m | \u001b[36m__main__\u001b[0m:\u001b[36mmain\u001b[0m:\u001b[36m42\u001b[0m - \u001b[1mkeys: <class 'str'>\u001b[0m\n",
      "\u001b[32m2024-10-01 23:10:57.255\u001b[0m | \u001b[1mINFO    \u001b[0m | \u001b[36m__main__\u001b[0m:\u001b[36mmain\u001b[0m:\u001b[36m43\u001b[0m - \u001b[1mvalues: <class 'str'>\u001b[0m\n",
      "\u001b[32m2024-10-01 23:10:57.255\u001b[0m | \u001b[1mINFO    \u001b[0m | \u001b[36m__main__\u001b[0m:\u001b[36mmain\u001b[0m:\u001b[36m33\u001b[0m - \u001b[1m{'greeting': 'hello'}\u001b[0m\n",
      "\u001b[32m2024-10-01 23:10:57.256\u001b[0m | \u001b[1mINFO    \u001b[0m | \u001b[36m__main__\u001b[0m:\u001b[36mmain\u001b[0m:\u001b[36m41\u001b[0m - \u001b[1mitems: <class 'tuple'>\u001b[0m\n",
      "\u001b[32m2024-10-01 23:10:57.256\u001b[0m | \u001b[1mINFO    \u001b[0m | \u001b[36m__main__\u001b[0m:\u001b[36mmain\u001b[0m:\u001b[36m42\u001b[0m - \u001b[1mkeys: <class 'str'>\u001b[0m\n",
      "\u001b[32m2024-10-01 23:10:57.257\u001b[0m | \u001b[1mINFO    \u001b[0m | \u001b[36m__main__\u001b[0m:\u001b[36mmain\u001b[0m:\u001b[36m43\u001b[0m - \u001b[1mvalues: <class 'str'>\u001b[0m\n",
      "\u001b[32m2024-10-01 23:10:57.257\u001b[0m | \u001b[1mINFO    \u001b[0m | \u001b[36m__main__\u001b[0m:\u001b[36mmain\u001b[0m:\u001b[36m33\u001b[0m - \u001b[1m{'greeting': 'hello'}\u001b[0m\n",
      "\u001b[32m2024-10-01 23:10:57.257\u001b[0m | \u001b[1mINFO    \u001b[0m | \u001b[36m__main__\u001b[0m:\u001b[36mmain\u001b[0m:\u001b[36m41\u001b[0m - \u001b[1mitems: <class 'tuple'>\u001b[0m\n",
      "\u001b[32m2024-10-01 23:10:57.258\u001b[0m | \u001b[1mINFO    \u001b[0m | \u001b[36m__main__\u001b[0m:\u001b[36mmain\u001b[0m:\u001b[36m42\u001b[0m - \u001b[1mkeys: <class 'str'>\u001b[0m\n",
      "\u001b[32m2024-10-01 23:10:57.258\u001b[0m | \u001b[1mINFO    \u001b[0m | \u001b[36m__main__\u001b[0m:\u001b[36mmain\u001b[0m:\u001b[36m43\u001b[0m - \u001b[1mvalues: <class 'str'>\u001b[0m\n",
      "\u001b[32m2024-10-01 23:10:57.258\u001b[0m | \u001b[1mINFO    \u001b[0m | \u001b[36m__main__\u001b[0m:\u001b[36mmain\u001b[0m:\u001b[36m33\u001b[0m - \u001b[1m{'greeting': 'hello'}\u001b[0m\n",
      "\u001b[32m2024-10-01 23:10:57.259\u001b[0m | \u001b[1mINFO    \u001b[0m | \u001b[36m__main__\u001b[0m:\u001b[36mmain\u001b[0m:\u001b[36m41\u001b[0m - \u001b[1mitems: <class 'tuple'>\u001b[0m\n",
      "\u001b[32m2024-10-01 23:10:57.259\u001b[0m | \u001b[1mINFO    \u001b[0m | \u001b[36m__main__\u001b[0m:\u001b[36mmain\u001b[0m:\u001b[36m42\u001b[0m - \u001b[1mkeys: <class 'str'>\u001b[0m\n",
      "\u001b[32m2024-10-01 23:10:57.259\u001b[0m | \u001b[1mINFO    \u001b[0m | \u001b[36m__main__\u001b[0m:\u001b[36mmain\u001b[0m:\u001b[36m43\u001b[0m - \u001b[1mvalues: <class 'str'>\u001b[0m\n",
      "\u001b[32m2024-10-01 23:10:57.260\u001b[0m | \u001b[1mINFO    \u001b[0m | \u001b[36m__main__\u001b[0m:\u001b[36mmain\u001b[0m:\u001b[36m33\u001b[0m - \u001b[1m{'greeting': 'hello'}\u001b[0m\n",
      "\u001b[32m2024-10-01 23:10:57.260\u001b[0m | \u001b[1mINFO    \u001b[0m | \u001b[36m__main__\u001b[0m:\u001b[36mmain\u001b[0m:\u001b[36m41\u001b[0m - \u001b[1mitems: <class 'tuple'>\u001b[0m\n",
      "\u001b[32m2024-10-01 23:10:57.260\u001b[0m | \u001b[1mINFO    \u001b[0m | \u001b[36m__main__\u001b[0m:\u001b[36mmain\u001b[0m:\u001b[36m42\u001b[0m - \u001b[1mkeys: <class 'str'>\u001b[0m\n",
      "\u001b[32m2024-10-01 23:10:57.260\u001b[0m | \u001b[1mINFO    \u001b[0m | \u001b[36m__main__\u001b[0m:\u001b[36mmain\u001b[0m:\u001b[36m43\u001b[0m - \u001b[1mvalues: <class 'str'>\u001b[0m\n",
      "\u001b[32m2024-10-01 23:10:57.261\u001b[0m | \u001b[1mINFO    \u001b[0m | \u001b[36m__main__\u001b[0m:\u001b[36mmain\u001b[0m:\u001b[36m33\u001b[0m - \u001b[1m{'greeting': 'hello'}\u001b[0m\n",
      "\u001b[32m2024-10-01 23:10:57.261\u001b[0m | \u001b[1mINFO    \u001b[0m | \u001b[36m__main__\u001b[0m:\u001b[36mmain\u001b[0m:\u001b[36m41\u001b[0m - \u001b[1mitems: <class 'tuple'>\u001b[0m\n",
      "\u001b[32m2024-10-01 23:10:57.261\u001b[0m | \u001b[1mINFO    \u001b[0m | \u001b[36m__main__\u001b[0m:\u001b[36mmain\u001b[0m:\u001b[36m42\u001b[0m - \u001b[1mkeys: <class 'str'>\u001b[0m\n",
      "\u001b[32m2024-10-01 23:10:57.262\u001b[0m | \u001b[1mINFO    \u001b[0m | \u001b[36m__main__\u001b[0m:\u001b[36mmain\u001b[0m:\u001b[36m43\u001b[0m - \u001b[1mvalues: <class 'str'>\u001b[0m\n",
      "\u001b[32m2024-10-01 23:10:57.262\u001b[0m | \u001b[1mINFO    \u001b[0m | \u001b[36m__main__\u001b[0m:\u001b[36mmain\u001b[0m:\u001b[36m33\u001b[0m - \u001b[1m{'greeting': 'hello'}\u001b[0m\n",
      "\u001b[32m2024-10-01 23:10:57.263\u001b[0m | \u001b[1mINFO    \u001b[0m | \u001b[36m__main__\u001b[0m:\u001b[36mmain\u001b[0m:\u001b[36m41\u001b[0m - \u001b[1mitems: <class 'tuple'>\u001b[0m\n",
      "\u001b[32m2024-10-01 23:10:57.263\u001b[0m | \u001b[1mINFO    \u001b[0m | \u001b[36m__main__\u001b[0m:\u001b[36mmain\u001b[0m:\u001b[36m42\u001b[0m - \u001b[1mkeys: <class 'str'>\u001b[0m\n",
      "\u001b[32m2024-10-01 23:10:57.263\u001b[0m | \u001b[1mINFO    \u001b[0m | \u001b[36m__main__\u001b[0m:\u001b[36mmain\u001b[0m:\u001b[36m43\u001b[0m - \u001b[1mvalues: <class 'str'>\u001b[0m\n"
     ]
    },
    {
     "name": "stdout",
     "output_type": "stream",
     "text": [
      "loaded project in 16.5286 sec\n"
     ]
    }
   ],
   "source": [
    "from pathlib import Path\n",
    "from typing import Any\n",
    "\n",
    "import Metashape as ms\n",
    "\n",
    "import mynd.backend.metashape as backend\n",
    "\n",
    "from mynd.utils.log import logger\n",
    "from mynd.utils.result import Ok, Err, Result\n",
    "\n",
    "DIRECTORY: Path = Path(\"/data/kingston_snv_01/acfr_revisits_metashape_dev\")\n",
    "SOURCE_PROJECT: Path = DIRECTORY / Path(\"r23685bc_lite_version.psz\")\n",
    "DESTINATION_PROJECT: Path = DIRECTORY / Path(\"r23685bc_lite_with_metadata.psz\")\n",
    "\n",
    "match backend.load_project(DESTINATION_PROJECT):\n",
    "    case Ok(path):\n",
    "        logger.info(f\"loaded project: {path}\")\n",
    "    case Err(message):\n",
    "        logger.info(f\"failed to load project: {message}\")\n",
    "\n",
    "def main() -> None:\n",
    "    \"\"\"Main entrypoint.\"\"\"\n",
    "\n",
    "    # NOTE: Write your code here\n",
    "    document: ms.Document = backend.context._backend_data.get(\"document\")\n",
    "    chunk: ms.Chunk = document.chunks[0]\n",
    "\n",
    "    for camera in chunk.cameras[:10]:\n",
    "\n",
    "        # NOTE: This is how you write metadata to cameras\n",
    "        camera.meta[\"greeting\"] = \"hello\"\n",
    "        \n",
    "        if not camera.meta:\n",
    "            continue\n",
    "        else:\n",
    "            logger.info(camera.meta)\n",
    "\n",
    "            # NOTE: This is how you retrieve metadata from cameras\n",
    "            items: list[tuple[Any, Any]] = camera.meta.items()\n",
    "            keys: list[Any] = camera.meta.keys()\n",
    "            values: list[Any] = camera.meta.values()\n",
    "            \n",
    "    \n",
    "    save: bool = False\n",
    "    if save:\n",
    "        match backend.save_project(DESTINATION_PROJECT):\n",
    "            case Ok(path):\n",
    "                logger.info(f\"successfully saved project to: {path}\")\n",
    "            case Err(message):\n",
    "                logger.error(f\"failed to save project: {message}\")\n",
    "    \n",
    "\n",
    "# INVOKE MAIN\n",
    "main()"
   ]
  }
 ],
 "metadata": {
  "kernelspec": {
   "display_name": "Python 3 (ipykernel)",
   "language": "python",
   "name": "python3"
  },
  "language_info": {
   "codemirror_mode": {
    "name": "ipython",
    "version": 3
   },
   "file_extension": ".py",
   "mimetype": "text/x-python",
   "name": "python",
   "nbconvert_exporter": "python",
   "pygments_lexer": "ipython3",
   "version": "3.11.10"
  }
 },
 "nbformat": 4,
 "nbformat_minor": 5
}
