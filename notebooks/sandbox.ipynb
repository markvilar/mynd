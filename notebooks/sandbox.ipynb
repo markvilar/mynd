{
 "cells": [
  {
   "cell_type": "markdown",
   "id": "0c45bf13-40c2-45fb-a5ca-620fde3d3505",
   "metadata": {},
   "source": [
    "#### Test mynds packages in the sandbox"
   ]
  },
  {
   "cell_type": "code",
   "execution_count": 2,
   "id": "26f6bf3a-a9bd-4ec4-8ff2-11550e1fddaa",
   "metadata": {},
   "outputs": [
    {
     "name": "stderr",
     "output_type": "stream",
     "text": [
      "\u001b[32m2024-10-05 14:26:30.669\u001b[0m | \u001b[31m\u001b[1mERROR   \u001b[0m | \u001b[36m__main__\u001b[0m:\u001b[36mmain\u001b[0m:\u001b[36m74\u001b[0m - \u001b[31m\u001b[1mbackend already has a loaded project\u001b[0m\n"
     ]
    }
   ],
   "source": [
    "from pathlib import Path\n",
    "from typing import Any\n",
    "\n",
    "import Metashape as ms\n",
    "import polars as pl\n",
    "\n",
    "import mynd.backend.metashape as backend\n",
    "\n",
    "from mynd.io import read_data_frame\n",
    "from mynd.utils.log import logger\n",
    "from mynd.utils.result import Ok, Err, Result\n",
    "\n",
    "\n",
    "def work_with_project(metadata: pl.DataFrame) -> None:\n",
    "    \"\"\"TODO\"\"\"\n",
    "\n",
    "    # NOTE: Write your code here\n",
    "    document: ms.Document = backend.context._backend_data.get(\"document\")\n",
    "    chunk: ms.Chunk = document.chunks[0]\n",
    "\n",
    "    for camera in chunk.cameras[:10]:\n",
    "\n",
    "        # NOTE: This is how you write metadata to cameras\n",
    "        # NOTE: Metashape only allows metadata to be store as strings\n",
    "        camera.meta[\"greeting\"] = str(10)\n",
    "\n",
    "        if not camera.meta:\n",
    "            continue\n",
    "        else:\n",
    "            logger.info(camera.meta)\n",
    "\n",
    "            # NOTE: This is how you retrieve metadata from cameras\n",
    "            items: list[tuple[Any, Any]] = camera.meta.items()\n",
    "            keys: list[Any] = camera.meta.keys()\n",
    "            values: list[Any] = camera.meta.values()\n",
    "\n",
    "    save: bool = False\n",
    "    if save:\n",
    "        match backend.save_project(DESTINATION_PROJECT):\n",
    "            case Ok(path):\n",
    "                logger.info(f\"successfully saved project to: {path}\")\n",
    "            case Err(message):\n",
    "                logger.error(f\"failed to save project: {message}\")\n",
    "\n",
    "\n",
    "def main() -> None:\n",
    "    \"\"\"Main entrypoint.\"\"\"\n",
    "\n",
    "    PATHS: dict[str, Path] = {\n",
    "        \"source\": Path(\n",
    "            \"/data/kingston_snv_01/acfr_metashape_projects_dev/r23685bc_lite.psz\"\n",
    "        ),\n",
    "        \"destination\": Path(\n",
    "            \"/data/kingston_snv_01/acfr_metashape_projects_dev/r23685bc_lite_metadata.psz\"\n",
    "        ),\n",
    "        \"metadata\": Path(\n",
    "            \"/data/kingston_snv_01/acfr_cameras_metadata/r23685bc_20100605_021022_camera_metadata.csv\"\n",
    "        ),\n",
    "    }\n",
    "\n",
    "    # Options\n",
    "    save: bool = False\n",
    "\n",
    "    match read_data_frame(PATHS.get(\"metadata\")):\n",
    "        case Ok(metadata):\n",
    "            pass\n",
    "        case Err(message):\n",
    "            logger.error(message)\n",
    "            return\n",
    "\n",
    "    match backend.load_project(PATHS.get(\"source\")):\n",
    "        case Ok(path):\n",
    "            work_with_project(metadata)\n",
    "        case Err(message):\n",
    "            logger.error(message)\n",
    "            return\n",
    "\n",
    "    if save:\n",
    "        match backend.save_project(PATHS.get(\"destination\")):\n",
    "            case Ok(path):\n",
    "                logger.info(f\"successfully saved project to: {path}\")\n",
    "            case Err(message):\n",
    "                logger.error(f\"failed to save project: {message}\")\n",
    "\n",
    "\n",
    "# INVOKE MAIN\n",
    "main()"
   ]
  }
 ],
 "metadata": {
  "kernelspec": {
   "display_name": "Python 3 (ipykernel)",
   "language": "python",
   "name": "python3"
  },
  "language_info": {
   "codemirror_mode": {
    "name": "ipython",
    "version": 3
   },
   "file_extension": ".py",
   "mimetype": "text/x-python",
   "name": "python",
   "nbconvert_exporter": "python",
   "pygments_lexer": "ipython3",
   "version": "3.11.10"
  }
 },
 "nbformat": 4,
 "nbformat_minor": 5
}
