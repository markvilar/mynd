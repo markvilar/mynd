{
 "cells": [
  {
   "cell_type": "markdown",
   "id": "e38e66bd-9cea-412e-8724-63ca29c7cae9",
   "metadata": {},
   "source": [
    "### Define helper functionality to visualize forward and inverse image mapping"
   ]
  },
  {
   "cell_type": "code",
   "execution_count": 1,
   "id": "9511dc8d-2676-4557-8073-88dbc0268668",
   "metadata": {},
   "outputs": [
    {
     "name": "stdout",
     "output_type": "stream",
     "text": [
      "Jupyter environment detected. Enabling Open3D WebVisualizer.\n",
      "[Open3D INFO] WebRTC GUI backend enabled.\n",
      "[Open3D INFO] WebRTCWindowSystem: HTTP handshake server disabled.\n"
     ]
    },
    {
     "name": "stderr",
     "output_type": "stream",
     "text": [
      "/home/martin/.cache/pypoetry/virtualenvs/mynd-qzh2EXyG-py3.11/lib/python3.11/site-packages/kornia/feature/lightglue.py:44: FutureWarning: `torch.cuda.amp.custom_fwd(args...)` is deprecated. Please use `torch.amp.custom_fwd(args..., device_type='cuda')` instead.\n",
      "  @torch.cuda.amp.custom_fwd(cast_inputs=torch.float32)\n"
     ]
    },
    {
     "name": "stdout",
     "output_type": "stream",
     "text": [
      "LoadProject: path = /data/kingston_snv_01/acfr_metashape_projects_dev/r23m7ms0_lite_with_metadata.psz\n",
      "loaded project in 18.6325 sec\n"
     ]
    },
    {
     "name": "stderr",
     "output_type": "stream",
     "text": [
      "\u001b[0;93m2024-10-20 11:46:27.997425653 [W:onnxruntime:, transformer_memcpy.cc:74 ApplyImpl] 20 Memcpy nodes are added to the graph tf2onnx for CUDAExecutionProvider. It might have negative impact on performance (including unable to run CUDA graph). Set session_options.log_severity_level=1 to see the detail logs before this message.\u001b[m\n",
      "\u001b[32m2024-10-20 11:46:28.066\u001b[0m | \u001b[1mINFO    \u001b[0m | \u001b[36m__main__\u001b[0m:\u001b[36mprepare_task_config\u001b[0m:\u001b[36m41\u001b[0m - \u001b[1mCamera pairs: 2569\u001b[0m\n",
      "\u001b[32m2024-10-20 11:46:28.066\u001b[0m | \u001b[1mINFO    \u001b[0m | \u001b[36m__main__\u001b[0m:\u001b[36mprepare_task_config\u001b[0m:\u001b[36m42\u001b[0m - \u001b[1mImage loaders: 5138\u001b[0m\n",
      "Estimating stereo geometry...: 100%|████████████████████████████████████████████████████████████████████████████████████████████████████████████████████████████████████| 2569/2569 [26:50<00:00,  1.60it/s]\n"
     ]
    }
   ],
   "source": [
    "from pathlib import Path\n",
    "\n",
    "import Metashape\n",
    "\n",
    "from mynd.backend import metashape as backend\n",
    "from mynd.utils.log import logger\n",
    "from mynd.utils.result import Ok, Err, Result\n",
    "\n",
    "import os\n",
    "\n",
    "from mynd.collections import CameraGroup, StereoCameraGroup\n",
    "from mynd.backend import metashape as backend\n",
    "from mynd.geometry import load_hitnet\n",
    "from mynd.utils.environment import Environment, load_environment\n",
    "\n",
    "from mynd.tasks.export_stereo import (\n",
    "    ExportStereoTask,\n",
    "    invoke_stereo_export_task,\n",
    ")\n",
    "\n",
    "GroupID = CameraGroup.Identifier\n",
    "\n",
    "\n",
    "def prepare_task_config(\n",
    "    identifier: GroupID, stereo_camera: StereoCameraGroup\n",
    ") -> ExportStereoTask.Config:\n",
    "    \"\"\"Prepares a stereo export task config by creating setting up paths, creating directories,\n",
    "    and loading a disparity model.\"\"\"\n",
    "\n",
    "    environment: Environment = load_environment().unwrap()\n",
    "\n",
    "    model: HitnetConfig = load_hitnet(\n",
    "        environment.resource_directory\n",
    "        / Path(\"hitnet_models/hitnet_eth3d_720x1280.onnx\")\n",
    "    ).unwrap()\n",
    "\n",
    "    # Root directories\n",
    "    RANGE_DIRECTORY: Path = Path(\"/data/kingston_snv_01/acfr_stereo_ranges\")\n",
    "    NORMAL_DIRECTORY: Path = Path(\"/data/kingston_snv_01/acfr_stereo_normals\")\n",
    "\n",
    "    # NOTE: Debug only!\n",
    "    logger.info(f\"Camera pairs: {len(stereo_camera.camera_pairs)}\")\n",
    "    logger.info(f\"Image loaders: {len(stereo_camera.image_loaders)}\")\n",
    "\n",
    "    config = ExportStereoTask.Config(\n",
    "        range_directory=RANGE_DIRECTORY / Path(f\"{identifier.label}_ranges\"),\n",
    "        normal_directory=NORMAL_DIRECTORY / Path(f\"{identifier.label}_normals\"),\n",
    "        model=model,\n",
    "        calibrations=stereo_camera.calibrations,\n",
    "        camera_pairs=stereo_camera.camera_pairs,\n",
    "        image_loaders=stereo_camera.image_loaders,\n",
    "    )\n",
    "\n",
    "    # Create export directories if they do not exist\n",
    "    if not config.range_directory.exists():\n",
    "        os.mkdir(config.range_directory)\n",
    "    if not config.normal_directory.exists():\n",
    "        os.mkdir(config.normal_directory)\n",
    "\n",
    "    return config\n",
    "\n",
    "\n",
    "def main():\n",
    "    \"\"\"Main function.\"\"\"\n",
    "\n",
    "    DOCUMENT_PATH: Path = Path(\n",
    "        \"/data/kingston_snv_01/acfr_metashape_projects_dev/r23m7ms0_lite_with_metadata.psz\"\n",
    "    )\n",
    "\n",
    "    match backend.load_project(DOCUMENT_PATH):\n",
    "        case Ok(None):\n",
    "            pass\n",
    "        case Err(message):\n",
    "            logger.error(message)\n",
    "\n",
    "    identifiers: list[GroupID] = backend.get_group_identifiers().unwrap()\n",
    "\n",
    "    target: GroupID = identifiers[0]\n",
    "\n",
    "    match backend.camera_services.retrieve_stereo_cameras(target):\n",
    "        case Ok(stereo_camera_groups):\n",
    "            for stereo_cameras in stereo_camera_groups:\n",
    "                config: ExportStereoTask.Config = prepare_task_config(\n",
    "                    target, stereo_cameras\n",
    "                )\n",
    "                result: Result[ExportStereoTask.Result, str] = (\n",
    "                    invoke_stereo_export_task(config)\n",
    "                )\n",
    "        case Err(message):\n",
    "            logger.error(message)\n",
    "\n",
    "\n",
    "# ---------- Invoke main function ----------\n",
    "main()"
   ]
  }
 ],
 "metadata": {
  "kernelspec": {
   "display_name": "Python 3 (ipykernel)",
   "language": "python",
   "name": "python3"
  },
  "language_info": {
   "codemirror_mode": {
    "name": "ipython",
    "version": 3
   },
   "file_extension": ".py",
   "mimetype": "text/x-python",
   "name": "python",
   "nbconvert_exporter": "python",
   "pygments_lexer": "ipython3",
   "version": "3.11.10"
  }
 },
 "nbformat": 4,
 "nbformat_minor": 5
}
