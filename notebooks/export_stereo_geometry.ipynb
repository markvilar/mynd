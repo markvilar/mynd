{
 "cells": [
  {
   "cell_type": "code",
   "execution_count": 1,
   "id": "f0755b9b-6c17-4266-961c-e7745e3a536c",
   "metadata": {},
   "outputs": [
    {
     "name": "stdout",
     "output_type": "stream",
     "text": [
      "Jupyter environment detected. Enabling Open3D WebVisualizer.\n",
      "[Open3D INFO] WebRTC GUI backend enabled.\n",
      "[Open3D INFO] WebRTCWindowSystem: HTTP handshake server disabled.\n"
     ]
    },
    {
     "name": "stderr",
     "output_type": "stream",
     "text": [
      "/home/martin/.cache/pypoetry/virtualenvs/mynd-qzh2EXyG-py3.11/lib/python3.11/site-packages/kornia/feature/lightglue.py:44: FutureWarning: `torch.cuda.amp.custom_fwd(args...)` is deprecated. Please use `torch.amp.custom_fwd(args..., device_type='cuda')` instead.\n",
      "  @torch.cuda.amp.custom_fwd(cast_inputs=torch.float32)\n"
     ]
    }
   ],
   "source": [
    "from pathlib import Path\n",
    "\n",
    "import Metashape\n",
    "\n",
    "from mynd.backends import metashape as backend\n",
    "from mynd.utils.log import logger\n",
    "from mynd.utils.result import Ok, Err, Result"
   ]
  },
  {
   "cell_type": "markdown",
   "id": "b522851c-fe4d-4c3f-a071-9049cce56b65",
   "metadata": {},
   "source": [
    "### Load document into backend"
   ]
  },
  {
   "cell_type": "code",
   "execution_count": 2,
   "id": "8bb91025-8106-458e-aa74-815b65916bcc",
   "metadata": {},
   "outputs": [
    {
     "name": "stdout",
     "output_type": "stream",
     "text": [
      "LoadProject: path = /data/kingston_snv_01/acfr_revisits_metashape_projects/r23685bc_working_version.psz\n"
     ]
    },
    {
     "name": "stderr",
     "output_type": "stream",
     "text": [
      "\u001b[32m2024-09-04 11:19:10.349\u001b[0m | \u001b[1mINFO    \u001b[0m | \u001b[36m__main__\u001b[0m:\u001b[36m<module>\u001b[0m:\u001b[36m8\u001b[0m - \u001b[1mloaded document /data/kingston_snv_01/acfr_revisits_metashape_projects/r23685bc_working_version.psz successfully\u001b[0m\n"
     ]
    },
    {
     "name": "stdout",
     "output_type": "stream",
     "text": [
      "loaded project in 39.4339 sec\n"
     ]
    }
   ],
   "source": [
    "DOCUMENT_PATH: Path = Path(\n",
    "    \"/data/kingston_snv_01/acfr_revisits_metashape_projects/r23685bc_working_version.psz\"\n",
    ")\n",
    "\n",
    "result: Result[str, str] = backend.load_project(DOCUMENT_PATH)\n",
    "match result:\n",
    "    case Ok(message):\n",
    "        logger.info(message)\n",
    "    case Err(message):\n",
    "        logger.error(message)"
   ]
  },
  {
   "cell_type": "markdown",
   "id": "e38e66bd-9cea-412e-8724-63ca29c7cae9",
   "metadata": {},
   "source": [
    "### Define helper functionality to visualize forward and inverse image mapping"
   ]
  },
  {
   "cell_type": "code",
   "execution_count": 3,
   "id": "9511dc8d-2676-4557-8073-88dbc0268668",
   "metadata": {},
   "outputs": [
    {
     "name": "stderr",
     "output_type": "stream",
     "text": [
      "\u001b[0;93m2024-09-04 11:19:10.728089696 [W:onnxruntime:, transformer_memcpy.cc:74 ApplyImpl] 20 Memcpy nodes are added to the graph tf2onnx for CUDAExecutionProvider. It might have negative impact on performance (including unable to run CUDA graph). Set session_options.log_severity_level=1 to see the detail logs before this message.\u001b[m\n",
      "Loading images...: 100%|██████████████████████████████████████████████████████████████████████████████████████████████████████████████████████████████████████████████████████████████████████████████████████████████████████████| 2728/2728 [01:17<00:00, 35.02it/s]\n",
      "\u001b[0;93m2024-09-04 11:20:29.085337931 [W:onnxruntime:, transformer_memcpy.cc:74 ApplyImpl] 20 Memcpy nodes are added to the graph tf2onnx for CUDAExecutionProvider. It might have negative impact on performance (including unable to run CUDA graph). Set session_options.log_severity_level=1 to see the detail logs before this message.\u001b[m\n",
      "Loading images...:  82%|█████████████████████████████████████████████████████████████████████████████████████████████████████████████████████████████████████████████████████████████████████▌                                    | 2128/2597 [01:06<00:14, 31.96it/s]\n"
     ]
    },
    {
     "ename": "KeyboardInterrupt",
     "evalue": "",
     "output_type": "error",
     "traceback": [
      "\u001b[0;31m---------------------------------------------------------------------------\u001b[0m",
      "\u001b[0;31mKeyboardInterrupt\u001b[0m                         Traceback (most recent call last)",
      "Cell \u001b[0;32mIn[3], line 66\u001b[0m\n\u001b[1;32m     62\u001b[0m                 logger\u001b[38;5;241m.\u001b[39merror(result\u001b[38;5;241m.\u001b[39merr())\n\u001b[1;32m     65\u001b[0m \u001b[38;5;66;03m# ---------- Invoke main function ----------\u001b[39;00m\n\u001b[0;32m---> 66\u001b[0m \u001b[43mmain\u001b[49m\u001b[43m(\u001b[49m\u001b[43m)\u001b[49m\n",
      "Cell \u001b[0;32mIn[3], line 59\u001b[0m, in \u001b[0;36mmain\u001b[0;34m()\u001b[0m\n\u001b[1;32m     56\u001b[0m \u001b[38;5;28;01mfor\u001b[39;00m collection \u001b[38;5;129;01min\u001b[39;00m collections:\n\u001b[1;32m     58\u001b[0m     config: ExportStereoTask\u001b[38;5;241m.\u001b[39mConfig \u001b[38;5;241m=\u001b[39m prepare_task_config(identifier, collection)\n\u001b[0;32m---> 59\u001b[0m     result: Result[ExportStereoTask\u001b[38;5;241m.\u001b[39mResult, \u001b[38;5;28mstr\u001b[39m] \u001b[38;5;241m=\u001b[39m \u001b[43minvoke_stereo_export_task\u001b[49m\u001b[43m(\u001b[49m\u001b[43mconfig\u001b[49m\u001b[43m)\u001b[49m\n\u001b[1;32m     61\u001b[0m     \u001b[38;5;28;01mif\u001b[39;00m result\u001b[38;5;241m.\u001b[39mis_err():\n\u001b[1;32m     62\u001b[0m         logger\u001b[38;5;241m.\u001b[39merror(result\u001b[38;5;241m.\u001b[39merr())\n",
      "File \u001b[0;32m~/dev/mynd/src/mynd/tasks/export_stereo_geometry.py:183\u001b[0m, in \u001b[0;36minvoke_stereo_export_task\u001b[0;34m(config)\u001b[0m\n\u001b[1;32m    178\u001b[0m \u001b[38;5;250m\u001b[39m\u001b[38;5;124;03m\"\"\"Invoke a stereo export task.\"\"\"\u001b[39;00m\n\u001b[1;32m    180\u001b[0m \u001b[38;5;66;03m# TODO: Add config validation\u001b[39;00m\n\u001b[1;32m    181\u001b[0m \n\u001b[1;32m    182\u001b[0m \u001b[38;5;66;03m# Compute stereo range and normal maps and export\u001b[39;00m\n\u001b[0;32m--> 183\u001b[0m \u001b[38;5;28;01mreturn\u001b[39;00m \u001b[43mexport_stereo_geometry\u001b[49m\u001b[43m(\u001b[49m\u001b[43mconfig\u001b[49m\u001b[43m)\u001b[49m\n",
      "File \u001b[0;32m~/dev/mynd/src/mynd/tasks/export_stereo_geometry.py:121\u001b[0m, in \u001b[0;36mexport_stereo_geometry\u001b[0;34m(config)\u001b[0m\n\u001b[1;32m    118\u001b[0m rectification: RectificationResult \u001b[38;5;241m=\u001b[39m compute_stereo_rectification(config\u001b[38;5;241m.\u001b[39mcalibrations)\n\u001b[1;32m    120\u001b[0m \u001b[38;5;28;01mfor\u001b[39;00m loaders \u001b[38;5;129;01min\u001b[39;00m tqdm\u001b[38;5;241m.\u001b[39mtqdm(config\u001b[38;5;241m.\u001b[39mimage_loaders, desc\u001b[38;5;241m=\u001b[39m\u001b[38;5;124m\"\u001b[39m\u001b[38;5;124mLoading images...\u001b[39m\u001b[38;5;124m\"\u001b[39m):\n\u001b[0;32m--> 121\u001b[0m     images: Pair[Image] \u001b[38;5;241m=\u001b[39m Pair(first\u001b[38;5;241m=\u001b[39m\u001b[43mloaders\u001b[49m\u001b[38;5;241;43m.\u001b[39;49m\u001b[43mfirst\u001b[49m\u001b[43m(\u001b[49m\u001b[43m)\u001b[49m, second\u001b[38;5;241m=\u001b[39mloaders\u001b[38;5;241m.\u001b[39msecond())\n\u001b[1;32m    123\u001b[0m     \u001b[38;5;66;03m# Create paths\u001b[39;00m\n\u001b[1;32m    124\u001b[0m     filepaths: \u001b[38;5;28mlist\u001b[39m[Path] \u001b[38;5;241m=\u001b[39m {\n\u001b[1;32m    125\u001b[0m         \u001b[38;5;124m\"\u001b[39m\u001b[38;5;124mfirst_ranges\u001b[39m\u001b[38;5;124m\"\u001b[39m: config\u001b[38;5;241m.\u001b[39mrange_directory \u001b[38;5;241m/\u001b[39m \u001b[38;5;124mf\u001b[39m\u001b[38;5;124m\"\u001b[39m\u001b[38;5;132;01m{\u001b[39;00mimages\u001b[38;5;241m.\u001b[39mfirst\u001b[38;5;241m.\u001b[39mlabel\u001b[38;5;132;01m}\u001b[39;00m\u001b[38;5;124m.tiff\u001b[39m\u001b[38;5;124m\"\u001b[39m,\n\u001b[1;32m    126\u001b[0m         \u001b[38;5;124m\"\u001b[39m\u001b[38;5;124msecond_ranges\u001b[39m\u001b[38;5;124m\"\u001b[39m: config\u001b[38;5;241m.\u001b[39mrange_directory \u001b[38;5;241m/\u001b[39m \u001b[38;5;124mf\u001b[39m\u001b[38;5;124m\"\u001b[39m\u001b[38;5;132;01m{\u001b[39;00mimages\u001b[38;5;241m.\u001b[39msecond\u001b[38;5;241m.\u001b[39mlabel\u001b[38;5;132;01m}\u001b[39;00m\u001b[38;5;124m.tiff\u001b[39m\u001b[38;5;124m\"\u001b[39m,\n\u001b[1;32m    127\u001b[0m         \u001b[38;5;124m\"\u001b[39m\u001b[38;5;124mfirst_normals\u001b[39m\u001b[38;5;124m\"\u001b[39m: config\u001b[38;5;241m.\u001b[39mnormal_directory \u001b[38;5;241m/\u001b[39m \u001b[38;5;124mf\u001b[39m\u001b[38;5;124m\"\u001b[39m\u001b[38;5;132;01m{\u001b[39;00mimages\u001b[38;5;241m.\u001b[39mfirst\u001b[38;5;241m.\u001b[39mlabel\u001b[38;5;132;01m}\u001b[39;00m\u001b[38;5;124m.tiff\u001b[39m\u001b[38;5;124m\"\u001b[39m,\n\u001b[1;32m    128\u001b[0m         \u001b[38;5;124m\"\u001b[39m\u001b[38;5;124msecond_normals\u001b[39m\u001b[38;5;124m\"\u001b[39m: config\u001b[38;5;241m.\u001b[39mnormal_directory \u001b[38;5;241m/\u001b[39m \u001b[38;5;124mf\u001b[39m\u001b[38;5;124m\"\u001b[39m\u001b[38;5;132;01m{\u001b[39;00mimages\u001b[38;5;241m.\u001b[39msecond\u001b[38;5;241m.\u001b[39mlabel\u001b[38;5;132;01m}\u001b[39;00m\u001b[38;5;124m.tiff\u001b[39m\u001b[38;5;124m\"\u001b[39m,\n\u001b[1;32m    129\u001b[0m     }\n",
      "File \u001b[0;32m~/dev/mynd/src/mynd/backends/metashape/image_helpers.py:24\u001b[0m, in \u001b[0;36mload_camera_image\u001b[0;34m(camera)\u001b[0m\n\u001b[1;32m     22\u001b[0m \u001b[38;5;28;01mdef\u001b[39;00m \u001b[38;5;21mload_camera_image\u001b[39m(camera: Metashape\u001b[38;5;241m.\u001b[39mCamera) \u001b[38;5;241m-\u001b[39m\u001b[38;5;241m>\u001b[39m Image:\n\u001b[1;32m     23\u001b[0m \u001b[38;5;250m    \u001b[39m\u001b[38;5;124;03m\"\"\"Load an image from a Metashape camera.\"\"\"\u001b[39;00m\n\u001b[0;32m---> 24\u001b[0m     image: Image \u001b[38;5;241m=\u001b[39m convert_image(camera\u001b[38;5;241m.\u001b[39mimage())\n\u001b[1;32m     25\u001b[0m     image\u001b[38;5;241m.\u001b[39mlabel: \u001b[38;5;28mstr\u001b[39m \u001b[38;5;241m=\u001b[39m camera\u001b[38;5;241m.\u001b[39mlabel\n\u001b[1;32m     26\u001b[0m     \u001b[38;5;28;01mreturn\u001b[39;00m image\n",
      "\u001b[0;31mKeyboardInterrupt\u001b[0m: "
     ]
    }
   ],
   "source": [
    "import os\n",
    "\n",
    "from mynd.api.identifier import Identifier\n",
    "from mynd.api.camera import StereoCollection\n",
    "\n",
    "from mynd.backends import metashape as backend\n",
    "\n",
    "from mynd.geometry import load_hitnet\n",
    "from mynd.runtime import Environment, load_environment\n",
    "\n",
    "from mynd.tasks.export_stereo_geometry import (\n",
    "    ExportStereoTask,\n",
    "    invoke_stereo_export_task,\n",
    ")\n",
    "\n",
    "\n",
    "def prepare_task_config(\n",
    "    identifier: Identifier, collection: StereoCollection\n",
    ") -> ExportStereoTask.Config:\n",
    "    \"\"\"Prepares a stereo export task config by creating setting up paths, creating directories,\n",
    "    and loading a disparity model.\"\"\"\n",
    "\n",
    "    environment: Environment = load_environment().unwrap()\n",
    "\n",
    "    model: HitnetConfig = load_hitnet(\n",
    "        environment.resource_directory\n",
    "        / Path(\"hitnet_models/hitnet_eth3d_720x1280.onnx\")\n",
    "    ).unwrap()\n",
    "\n",
    "    # Root directories\n",
    "    RANGE_DIRECTORY: Path = Path(\"/data/kingston_snv_01/acfr_stereo_ranges\")\n",
    "    NORMAL_DIRECTORY: Path = Path(\"/data/kingston_snv_01/acfr_stereo_normals\")\n",
    "\n",
    "    config = ExportStereoTask.Config(\n",
    "        range_directory=RANGE_DIRECTORY / Path(f\"{identifier.label}_ranges\"),\n",
    "        normal_directory=NORMAL_DIRECTORY / Path(f\"{identifier.label}_normals\"),\n",
    "        model=model,\n",
    "        calibrations=collection.calibrations,\n",
    "        image_loaders=collection.image_loaders,\n",
    "    )\n",
    "\n",
    "    # Create export directories if they do not exist\n",
    "    if not config.range_directory.exists():\n",
    "        os.mkdir(config.range_directory)\n",
    "    if not config.normal_directory.exists():\n",
    "        os.mkdir(config.normal_directory)\n",
    "\n",
    "    return config\n",
    "\n",
    "\n",
    "def main():\n",
    "    \"\"\"Main function.\"\"\"\n",
    "    result: Result = backend.camera_services.request_stereo_data()\n",
    "\n",
    "    if result.is_err():\n",
    "        logger.error(result.err())\n",
    "\n",
    "    response_data: dict[Identifier, list[StereoCollection]] = result.ok()\n",
    "\n",
    "    for identifier, collections in response_data.items():\n",
    "\n",
    "        for collection in collections:\n",
    "\n",
    "            config: ExportStereoTask.Config = prepare_task_config(\n",
    "                identifier, collection\n",
    "            )\n",
    "            result: Result[ExportStereoTask.Result, str] = invoke_stereo_export_task(\n",
    "                config\n",
    "            )\n",
    "\n",
    "            if result.is_err():\n",
    "                logger.error(result.err())\n",
    "\n",
    "\n",
    "# ---------- Invoke main function ----------\n",
    "main()"
   ]
  }
 ],
 "metadata": {
  "kernelspec": {
   "display_name": "Python 3 (ipykernel)",
   "language": "python",
   "name": "python3"
  },
  "language_info": {
   "codemirror_mode": {
    "name": "ipython",
    "version": 3
   },
   "file_extension": ".py",
   "mimetype": "text/x-python",
   "name": "python",
   "nbconvert_exporter": "python",
   "pygments_lexer": "ipython3",
   "version": "3.11.9"
  }
 },
 "nbformat": 4,
 "nbformat_minor": 5
}
