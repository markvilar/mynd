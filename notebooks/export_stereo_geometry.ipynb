{
 "cells": [
  {
   "cell_type": "code",
   "execution_count": null,
   "id": "f0755b9b-6c17-4266-961c-e7745e3a536c",
   "metadata": {},
   "outputs": [],
   "source": [
    "from pathlib import Path\n",
    "\n",
    "import Metashape\n",
    "\n",
    "from mynd.backends import metashape as backend\n",
    "from mynd.utils.log import logger\n",
    "from mynd.utils.result import Ok, Err, Result"
   ]
  },
  {
   "cell_type": "markdown",
   "id": "b522851c-fe4d-4c3f-a071-9049cce56b65",
   "metadata": {},
   "source": [
    "### Load document into backend"
   ]
  },
  {
   "cell_type": "code",
   "execution_count": null,
   "id": "8bb91025-8106-458e-aa74-815b65916bcc",
   "metadata": {},
   "outputs": [],
   "source": [
    "DOCUMENT_PATH: Path = Path(\n",
    "    \"/data/kingston_snv_01/acfr_revisits_metashape_projects/r23685bc_working_version.psz\"\n",
    ")\n",
    "\n",
    "result: Result[str, str] = backend.load_project(DOCUMENT_PATH)\n",
    "match result:\n",
    "    case Ok(message):\n",
    "        logger.info(message)\n",
    "    case Err(message):\n",
    "        logger.error(message)"
   ]
  },
  {
   "cell_type": "markdown",
   "id": "e38e66bd-9cea-412e-8724-63ca29c7cae9",
   "metadata": {},
   "source": [
    "### Define helper functionality to visualize forward and inverse image mapping"
   ]
  },
  {
   "cell_type": "code",
   "execution_count": null,
   "id": "9511dc8d-2676-4557-8073-88dbc0268668",
   "metadata": {},
   "outputs": [],
   "source": [
    "import os\n",
    "\n",
    "from mynd.api.identifier import Identifier\n",
    "from mynd.api.camera import StereoCollection\n",
    "\n",
    "from mynd.backends import metashape as backend\n",
    "\n",
    "from mynd.geometry import load_hitnet\n",
    "from mynd.runtime import Environment, load_environment\n",
    "\n",
    "from mynd.tasks.export_stereo_geometry import (\n",
    "    ExportStereoTask,\n",
    "    invoke_stereo_export_task,\n",
    ")\n",
    "\n",
    "\n",
    "def prepare_task_config(\n",
    "    identifier: Identifier, collection: StereoCollection\n",
    ") -> ExportStereoTask.Config:\n",
    "    \"\"\"Prepares a stereo export task config by creating setting up paths, creating directories,\n",
    "    and loading a disparity model.\"\"\"\n",
    "\n",
    "    environment: Environment = load_environment().unwrap()\n",
    "\n",
    "    model: HitnetConfig = load_hitnet(\n",
    "        environment.resource_directory\n",
    "        / Path(\"hitnet_models/hitnet_eth3d_720x1280.onnx\")\n",
    "    ).unwrap()\n",
    "\n",
    "    # Root directories\n",
    "    RANGE_DIRECTORY: Path = Path(\"/data/kingston_snv_01/acfr_stereo_ranges\")\n",
    "    NORMAL_DIRECTORY: Path = Path(\"/data/kingston_snv_01/acfr_stereo_normals\")\n",
    "\n",
    "    config = ExportStereoTask.Config(\n",
    "        range_directory=RANGE_DIRECTORY / Path(f\"{identifier.label}_ranges\"),\n",
    "        normal_directory=NORMAL_DIRECTORY / Path(f\"{identifier.label}_normals\"),\n",
    "        model=model,\n",
    "        calibrations=collection.calibrations,\n",
    "        image_loaders=collection.image_loaders,\n",
    "    )\n",
    "\n",
    "    # Create export directories if they do not exist\n",
    "    if not config.range_directory.exists():\n",
    "        os.mkdir(config.range_directory)\n",
    "    if not config.normal_directory.exists():\n",
    "        os.mkdir(config.normal_directory)\n",
    "\n",
    "    return config\n",
    "\n",
    "\n",
    "def main():\n",
    "    \"\"\"Main function.\"\"\"\n",
    "    result: Result = backend.camera_services.request_stereo_data()\n",
    "\n",
    "    if result.is_err():\n",
    "        logger.error(result.err())\n",
    "\n",
    "    response_data: dict[Identifier, list[StereoCollection]] = result.ok()\n",
    "\n",
    "    for identifier, collections in response_data.items():\n",
    "\n",
    "        for collection in collections:\n",
    "\n",
    "            config: ExportStereoTask.Config = prepare_task_config(\n",
    "                identifier, collection\n",
    "            )\n",
    "            result: Result[ExportStereoTask.Result, str] = invoke_stereo_export_task(\n",
    "                config\n",
    "            )\n",
    "\n",
    "            if result.is_err():\n",
    "                logger.error(result.err())\n",
    "\n",
    "\n",
    "# ---------- Invoke main function ----------\n",
    "main()"
   ]
  }
 ],
 "metadata": {
  "kernelspec": {
   "display_name": "Python 3 (ipykernel)",
   "language": "python",
   "name": "python3"
  },
  "language_info": {
   "codemirror_mode": {
    "name": "ipython",
    "version": 3
   },
   "file_extension": ".py",
   "mimetype": "text/x-python",
   "name": "python",
   "nbconvert_exporter": "python",
   "pygments_lexer": "ipython3",
   "version": "3.11.10"
  }
 },
 "nbformat": 4,
 "nbformat_minor": 5
}
