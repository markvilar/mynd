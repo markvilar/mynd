{
 "cells": [
  {
   "cell_type": "code",
   "execution_count": null,
   "id": "3413621b-2dfc-4485-9d30-20f34fbcb460",
   "metadata": {
    "scrolled": true
   },
   "outputs": [],
   "source": [
    "from pathlib import Path\n",
    "\n",
    "from result import Ok, Err, Result\n",
    "\n",
    "from benthoscan.backends import metashape as backend\n",
    "from benthoscan.utils.log import logger"
   ]
  },
  {
   "cell_type": "code",
   "execution_count": null,
   "id": "6754d033-a29b-4908-93b1-5f13333433c8",
   "metadata": {},
   "outputs": [],
   "source": [
    "PATHS: dict[str, Path] = {\n",
    "    \"DOCUMENT_IN\": Path(\n",
    "        \"/data/kingston_snv_01/acfr_revisits_metashape_projects/r23685bc_working_version.psz\"\n",
    "    ),\n",
    "    \"DOCUMENT_OUT\": Path(\n",
    "        \"/data/kingston_snv_01/acfr_revisits_metashape_projects_test/r23685bc_working_version_saved.psz\"\n",
    "    ),\n",
    "    \"CACHE\": Path(\"/home/martin/dev/benthoscan/.cache/\"),\n",
    "}\n",
    "\n",
    "result: Result[str, str] = backend.load_project(PATHS.get(\"DOCUMENT_IN\"))\n",
    "match result:\n",
    "    case Ok(message):\n",
    "        logger.info(message)\n",
    "    case Err(message):\n",
    "        logger.error(message)\n",
    "\n",
    "backend.log_internal_data()"
   ]
  },
  {
   "cell_type": "code",
   "execution_count": null,
   "id": "2da89cbe-8c29-46d0-83ae-6b8113ca79a7",
   "metadata": {},
   "outputs": [],
   "source": [
    "from pathlib import Path\n",
    "\n",
    "import Metashape\n",
    "import numpy as np\n",
    "import plotly.express as px\n",
    "\n",
    "from tqdm import tqdm\n",
    "\n",
    "import benthoscan.io as io\n",
    "\n",
    "from benthoscan.backends.metashape import (\n",
    "    render_range_and_normal_maps,\n",
    "    compute_camera_calibration,\n",
    ")\n",
    "\n",
    "def export_rendered_range(chunk: Metashape.Chunk, range_directory: Path, normal_directory: Path) -> None:\n",
    "    \"\"\"Export range maps rendered from a Metashape mesh.\"\"\"\n",
    "    \n",
    "    valid_cameras: list[Metashape.Camera] = [camera for camera in chunk.cameras if camera.transform]\n",
    "\n",
    "    logger.info(f\"Range directory: {range_directory}\")\n",
    "    logger.info(f\"Normal directory: {normal_directory}\")\n",
    "    \n",
    "    for camera in tqdm(valid_cameras, desc=\"Exporting rendered range maps...\"):\n",
    "        \n",
    "        geometry: tuple[Image, Image] = render_range_and_normal_maps(camera)\n",
    "        range_map, normal_map = geometry\n",
    "        \n",
    "        range_map.data: np.ndarray = range_map.data.astype(np.float16)\n",
    "        normal_map.data: np.ndarray = normal_map.data.astype(np.float16)\n",
    "        \n",
    "        io.write_image(range_directory / f\"{camera.label}.tiff\", range_map.to_array())\n",
    "        io.write_image(normal_directory / f\"{camera.label}.tiff\", normal_map.to_array())"
   ]
  },
  {
   "cell_type": "markdown",
   "id": "04bf9e58-3ca6-4007-86f5-521392550f0c",
   "metadata": {},
   "source": [
    "### Export range maps from Metashape"
   ]
  },
  {
   "cell_type": "code",
   "execution_count": null,
   "id": "f0755b9b-6c17-4266-961c-e7745e3a536c",
   "metadata": {},
   "outputs": [],
   "source": [
    "from typing import NamedTuple\n",
    "\n",
    "document: Metashape.Document = backend.context._backend_data.get(\"document\")\n",
    "\n",
    "target_labels: list[str] = [ \"r23685bc_20100605_021022\" ]\n",
    "target_chunks: list[Metashape.Chunk] = [chunk for chunk in document.chunks if chunk.label in target_labels]\n",
    "\n",
    "output_root: Path = Path(\"/data/kingston_snv_01\")\n",
    "\n",
    "# Export rendered depth\n",
    "for chunk in target_chunks:\n",
    "    \n",
    "    directories: dict[str, Path] = {\n",
    "        \"range_maps\": output_root / Path(\"rendered_range_maps\") / f\"{chunk.label}\",\n",
    "        \"normal_maps\": output_root / Path(\"rendered_normal_maps\") / f\"{chunk.label}\",\n",
    "    }\n",
    "    \n",
    "    export_rendered_range(\n",
    "        chunk, \n",
    "        range_directory=directories.get(\"range_maps\"),\n",
    "        normal_directory=directories.get(\"normal_maps\"),\n",
    "    )"
   ]
  }
 ],
 "metadata": {
  "kernelspec": {
   "display_name": "Python 3 (ipykernel)",
   "language": "python",
   "name": "python3"
  },
  "language_info": {
   "codemirror_mode": {
    "name": "ipython",
    "version": 3
   },
   "file_extension": ".py",
   "mimetype": "text/x-python",
   "name": "python",
   "nbconvert_exporter": "python",
   "pygments_lexer": "ipython3",
   "version": "3.11.9"
  }
 },
 "nbformat": 4,
 "nbformat_minor": 5
}
