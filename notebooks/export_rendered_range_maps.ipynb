{
 "cells": [
  {
   "cell_type": "code",
   "execution_count": null,
   "id": "3413621b-2dfc-4485-9d30-20f34fbcb460",
   "metadata": {
    "scrolled": true
   },
   "outputs": [],
   "source": [
    "from pathlib import Path\n",
    "\n",
    "import Metashape\n",
    "\n",
    "from result import Ok, Err, Result\n",
    "\n",
    "from benthoscan.backends import metashape as backend\n",
    "from benthoscan.utils.log import logger"
   ]
  },
  {
   "cell_type": "code",
   "execution_count": null,
   "id": "6754d033-a29b-4908-93b1-5f13333433c8",
   "metadata": {},
   "outputs": [],
   "source": [
    "PATHS: dict[str, Path] = {\n",
    "    \"DOCUMENT_IN\": Path(\n",
    "        \"/data/kingston_snv_01/acfr_revisits_metashape_projects/r23685bc_working_version.psz\"\n",
    "    ),\n",
    "    \"DOCUMENT_OUT\": Path(\n",
    "        \"/data/kingston_snv_01/acfr_revisits_metashape_projects_test/r23685bc_working_version_saved.psz\"\n",
    "    ),\n",
    "    \"CACHE\": Path(\"/home/martin/dev/benthoscan/.cache/\"),\n",
    "}\n",
    "\n",
    "result: Result[str, str] = backend.load_project(PATHS.get(\"DOCUMENT_IN\"))\n",
    "match result:\n",
    "    case Ok(message):\n",
    "        logger.info(message)\n",
    "    case Err(message):\n",
    "        logger.error(message)\n",
    "\n",
    "backend.log_internal_data()"
   ]
  },
  {
   "cell_type": "code",
   "execution_count": null,
   "id": "2da89cbe-8c29-46d0-83ae-6b8113ca79a7",
   "metadata": {},
   "outputs": [],
   "source": [
    "from pathlib import Path\n",
    "\n",
    "import Metashape\n",
    "\n",
    "from tqdm import tqdm\n",
    "\n",
    "def export_rendered_range(chunk: Metashape.Chunk, directory: Path) -> None:\n",
    "    \"\"\"Export range maps rendered from a Metashape mesh.\"\"\"\n",
    "    \n",
    "    if chunk.transform.scale is None:\n",
    "        scale: float = 1.0\n",
    "    else:\n",
    "    \tscale: float = chunk.transform.scale\n",
    "\t\n",
    "    \n",
    "    for camera in tqdm(chunk.cameras, desc=\"Exporting rendered range maps...\"):\n",
    "        if not camera.transform:\n",
    "            continue\n",
    "\n",
    "        output_path: Path = directory / f\"{camera.label}.tiff\"\n",
    "            \n",
    "        range_map: Metashape.Image = chunk.model.renderDepth(camera.transform, camera.sensor.calibration, add_alpha=False)\n",
    "        range_map: Metashape.Image = range_map * scale\n",
    "        range_map: Metashape.Image = range_map.convert(\" \",\"F32\")\n",
    "        \n",
    "        compression = Metashape.ImageCompression()\n",
    "        compression.tiff_compression = Metashape.ImageCompression().TiffCompressionDeflate\n",
    "        \n",
    "        range_map.save(str(output_path), compression=compression)"
   ]
  },
  {
   "cell_type": "markdown",
   "id": "04bf9e58-3ca6-4007-86f5-521392550f0c",
   "metadata": {},
   "source": [
    "### Export range maps from Metashape"
   ]
  },
  {
   "cell_type": "code",
   "execution_count": null,
   "id": "f0755b9b-6c17-4266-961c-e7745e3a536c",
   "metadata": {},
   "outputs": [],
   "source": [
    "document: Metashape.Document = backend.context._backend_data.get(\"document\")\n",
    "\n",
    "target_labels: list[str] = [ \"r23685bc_20100605_021022\" ]\n",
    "target_chunks: list[Metashape.Chunk] = [chunk for chunk in document.chunks if chunk.label in target_labels]\n",
    "\n",
    "\n",
    "output_root: Path = Path(\"/data/kingston_snv_01/rendered_range_maps\")\n",
    "\n",
    "# Export rendered depth\n",
    "for chunk in target_chunks:\n",
    "    directory: Path = output_root / f\"{chunk.label}\"\n",
    "    export_rendered_range(chunk, directory=directory)"
   ]
  }
 ],
 "metadata": {
  "kernelspec": {
   "display_name": "Python 3 (ipykernel)",
   "language": "python",
   "name": "python3"
  },
  "language_info": {
   "codemirror_mode": {
    "name": "ipython",
    "version": 3
   },
   "file_extension": ".py",
   "mimetype": "text/x-python",
   "name": "python",
   "nbconvert_exporter": "python",
   "pygments_lexer": "ipython3",
   "version": "3.11.9"
  }
 },
 "nbformat": 4,
 "nbformat_minor": 5
}
