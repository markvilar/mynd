{
 "cells": [
  {
   "cell_type": "markdown",
   "id": "e9846aa9-966a-4e11-9d10-fa3ffb1e0968",
   "metadata": {},
   "source": [
    "### Include registration modules"
   ]
  },
  {
   "cell_type": "code",
   "execution_count": 1,
   "id": "7b371dd6-fbf6-4edc-97e7-14179ad28726",
   "metadata": {},
   "outputs": [
    {
     "name": "stdout",
     "output_type": "stream",
     "text": [
      "Jupyter environment detected. Enabling Open3D WebVisualizer.\n",
      "[Open3D INFO] WebRTC GUI backend enabled.\n",
      "[Open3D INFO] WebRTCWindowSystem: HTTP handshake server disabled.\n"
     ]
    },
    {
     "name": "stderr",
     "output_type": "stream",
     "text": [
      "/home/martin/.cache/pypoetry/virtualenvs/mynd-qzh2EXyG-py3.11/lib/python3.11/site-packages/kornia/feature/lightglue.py:44: FutureWarning: `torch.cuda.amp.custom_fwd(args...)` is deprecated. Please use `torch.amp.custom_fwd(args..., device_type='cuda')` instead.\n",
      "  @torch.cuda.amp.custom_fwd(cast_inputs=torch.float32)\n"
     ]
    }
   ],
   "source": [
    "import copy\n",
    "\n",
    "from functools import partial\n",
    "from time import time\n",
    "\n",
    "from collections.abc import Callable\n",
    "\n",
    "import numpy as np\n",
    "\n",
    "import open3d\n",
    "import open3d.geometry as geom\n",
    "import open3d.pipelines.registration as reg\n",
    "import open3d.visualization as vis\n",
    "import open3d.utility as util\n",
    "\n",
    "from mynd.registration import (\n",
    "    MultiTargetIndex,\n",
    "    generate_cascade_indices,\n",
    ")\n",
    "\n",
    "from mynd.registration import (\n",
    "    downsample_point_cloud,\n",
    "    estimate_point_cloud_normals,\n",
    ")\n",
    "\n",
    "from mynd.registration import (\n",
    "    register_icp,\n",
    "    register_colored_icp,\n",
    "    build_pose_graph,\n",
    "    optimize_pose_graph,\n",
    ")\n",
    "\n",
    "from mynd.spatial import decompose_transformation\n",
    "\n",
    "from mynd.visualization import (\n",
    "    visualize_registration,\n",
    "    create_subplots,\n",
    "    trace_registration_result,\n",
    ")\n",
    "\n",
    "from mynd.utils.log import logger\n",
    "from mynd.utils.result import Ok, Err, Result"
   ]
  },
  {
   "cell_type": "markdown",
   "id": "1cf9c7ff-d813-4e92-91c6-21a7567d18e2",
   "metadata": {},
   "source": [
    "### Load environment and configure data loaders"
   ]
  },
  {
   "cell_type": "code",
   "execution_count": 2,
   "id": "d9e03428-3e96-4f3c-8a58-5e7df86e3aaa",
   "metadata": {},
   "outputs": [],
   "source": [
    "from pathlib import Path\n",
    "\n",
    "from mynd.geometry import PointCloud, PointCloudLoader\n",
    "from mynd.io import read_point_cloud, create_point_cloud_loader\n",
    "\n",
    "DATA_DIR: Path = Path(\"/home/martin/dev/mynd/.cache\")\n",
    "\n",
    "point_cloud_files: dict = {\n",
    "    0: DATA_DIR / Path(\"qdc5ghs3_20100430_024508.ply\"),\n",
    "    1: DATA_DIR / Path(\"qdc5ghs3_20120501_033336.ply\"),\n",
    "    2: DATA_DIR / Path(\"qdc5ghs3_20130405_103429.ply\"),\n",
    "    3: DATA_DIR / Path(\"qdc5ghs3_20210315_230947.ply\"),\n",
    "}\n",
    "\n",
    "loaders: dict[int, PointCloudLoader] = {\n",
    "    key: create_point_cloud_loader(path)\n",
    "    for key, path in point_cloud_files.items()\n",
    "    if path.exists()\n",
    "}\n",
    "\n",
    "count = len(loaders)\n",
    "if count < 2:\n",
    "    logger.error(f\"invalid number of point clouds for registration: {count}\")"
   ]
  },
  {
   "cell_type": "markdown",
   "id": "8adf86fc-7bd9-4670-bcb3-fb04f9b28b76",
   "metadata": {},
   "source": [
    "### Build registration modules from config"
   ]
  },
  {
   "cell_type": "code",
   "execution_count": 3,
   "id": "59fa67a2-b3d6-4e51-9967-7df97d9fa2d1",
   "metadata": {},
   "outputs": [
    {
     "name": "stderr",
     "output_type": "stream",
     "text": [
      "\u001b[32m2024-11-03 22:31:01.375\u001b[0m | \u001b[1mINFO    \u001b[0m | \u001b[36m__main__\u001b[0m:\u001b[36m<module>\u001b[0m:\u001b[36m43\u001b[0m - \u001b[1m<function build_point_cloud_processor.<locals>.preprocess_point_cloud at 0x7d49c70e6b60>\u001b[0m\n",
      "\u001b[32m2024-11-03 22:31:01.375\u001b[0m | \u001b[1mINFO    \u001b[0m | \u001b[36m__main__\u001b[0m:\u001b[36m<module>\u001b[0m:\u001b[36m44\u001b[0m - \u001b[1m<function create_ransac_registrator.<locals>.ransac_registrator_wrapper at 0x7d49c70e6c00>\u001b[0m\n"
     ]
    }
   ],
   "source": [
    "from dataclasses import dataclass\n",
    "from pathlib import Path\n",
    "from typing import TypeAlias\n",
    "\n",
    "from mynd.io import read_config\n",
    "from mynd.utils.log import logger\n",
    "\n",
    "# Processors and registrators\n",
    "from mynd.registration import (\n",
    "    RegistrationResult,\n",
    "    PointCloudProcessor,\n",
    "    GlobalRegistrator,\n",
    "    IncrementalRegistrator,\n",
    ")\n",
    "\n",
    "# Builders\n",
    "from mynd.registration import (\n",
    "    build_point_cloud_processor,\n",
    "    build_icp_registrator,\n",
    "    build_ransac_registrator,\n",
    ")\n",
    "\n",
    "from mynd.registration import log_registration_result\n",
    "\n",
    "from mynd.registration import RegistrationPipeline, apply_registration_pipeline\n",
    "\n",
    "\n",
    "# TODO: Create ransac registrator\n",
    "preprocessor: PointCloudProcessor = build_point_cloud_processor(\n",
    "    {\n",
    "        \"downsample\": {\"spacing\": 0.20},\n",
    "        \"estimate_normals\": {\"radius\": 0.40, \"neighbours\": 30},\n",
    "    }\n",
    ")\n",
    "\n",
    "ransac_registrator: GlobalRegistrator = build_ransac_registrator(\n",
    "    {\n",
    "        \"feature\": {\"radius\": 2.00, \"neighbours\": 200},\n",
    "        \"estimator\": {\"with_scaling\": True},\n",
    "        \"validators\": {\n",
    "            \"distance_threshold\": 0.15,\n",
    "            \"edge_threshold\": 0.95,\n",
    "            \"normal_threshold\": 5.0,\n",
    "        },\n",
    "        \"convergence\": {\"max_iteration\": 1000, \"confidence\": 1.0},\n",
    "        \"algorithm\": {\n",
    "            \"distance_threshold\": 0.15,\n",
    "            \"sample_count\": 3,\n",
    "            \"mutual_filter\": True,\n",
    "        },\n",
    "    }\n",
    ")\n",
    "\n",
    "\n",
    "logger.info(preprocessor)\n",
    "logger.info(ransac_registrator)\n",
    "\n",
    "# pipeline: RegistrationPipeline = RegistrationPipeline(initializer)\n",
    "# result: RegistrationResult = apply_registration_pipeline(pipeline, source=source, target=target)\n",
    "\n",
    "target_pre: PointCloud = preprocessor(loaders.get(0)().unwrap())\n",
    "source_pre: PointCloud = preprocessor(loaders.get(1)().unwrap())"
   ]
  },
  {
   "cell_type": "code",
   "execution_count": 4,
   "id": "d5ce1053-6160-44ec-9bc1-fab23cb18897",
   "metadata": {
    "editable": true,
    "slideshow": {
     "slide_type": ""
    },
    "tags": []
   },
   "outputs": [
    {
     "name": "stderr",
     "output_type": "stream",
     "text": [
      "\u001b[32m2024-11-03 22:31:16.799\u001b[0m | \u001b[1mINFO    \u001b[0m | \u001b[36mmynd.registration.feature_registrators\u001b[0m:\u001b[36mregister_features_ransac\u001b[0m:\u001b[36m214\u001b[0m - \u001b[1mPointCloud with 34412 points.\u001b[0m\n",
      "\u001b[32m2024-11-03 22:31:16.800\u001b[0m | \u001b[1mINFO    \u001b[0m | \u001b[36mmynd.registration.feature_registrators\u001b[0m:\u001b[36mregister_features_ransac\u001b[0m:\u001b[36m215\u001b[0m - \u001b[1mPointCloud with 29698 points.\u001b[0m\n",
      "\u001b[32m2024-11-03 22:31:17.211\u001b[0m | \u001b[1mINFO    \u001b[0m | \u001b[36mmynd.registration.feature_registrators\u001b[0m:\u001b[36mregister_features_ransac\u001b[0m:\u001b[36m223\u001b[0m - \u001b[1mFeature class with dimension = 33 and num = 34412\n",
      "Access its data via data member.\u001b[0m\n",
      "\u001b[32m2024-11-03 22:31:17.211\u001b[0m | \u001b[1mINFO    \u001b[0m | \u001b[36mmynd.registration.feature_registrators\u001b[0m:\u001b[36mregister_features_ransac\u001b[0m:\u001b[36m224\u001b[0m - \u001b[1mFeature class with dimension = 33 and num = 29698\n",
      "Access its data via data member.\u001b[0m\n",
      "\u001b[32m2024-11-03 22:31:17.212\u001b[0m | \u001b[1mINFO    \u001b[0m | \u001b[36mmynd.registration.feature_registrators\u001b[0m:\u001b[36mmatch_features_ransac\u001b[0m:\u001b[36m163\u001b[0m - \u001b[1mPointCloud with 34412 points.\u001b[0m\n",
      "\u001b[32m2024-11-03 22:31:17.212\u001b[0m | \u001b[1mINFO    \u001b[0m | \u001b[36mmynd.registration.feature_registrators\u001b[0m:\u001b[36mmatch_features_ransac\u001b[0m:\u001b[36m164\u001b[0m - \u001b[1mPointCloud with 29698 points.\u001b[0m\n",
      "\u001b[32m2024-11-03 22:31:17.832\u001b[0m | \u001b[1mINFO    \u001b[0m | \u001b[36mmynd.registration.feature_registrators\u001b[0m:\u001b[36mmatch_features_ransac\u001b[0m:\u001b[36m181\u001b[0m - \u001b[1mRegistrationResult with fitness=0.000000e+00, inlier_rmse=0.000000e+00, and correspondence_set size of 0\n",
      "Access transformation to get result.\u001b[0m\n",
      "\u001b[32m2024-11-03 22:31:17.848\u001b[0m | \u001b[1mINFO    \u001b[0m | \u001b[36m__main__\u001b[0m:\u001b[36m<module>\u001b[0m:\u001b[36m7\u001b[0m - \u001b[1mRegistrationResult(fitness=0.0, inlier_rmse=0.0, correspondence_set=array([], shape=(0, 2), dtype=int32), transformation=array([[1., 0., 0., 0.],\n",
      "       [0., 1., 0., 0.],\n",
      "       [0., 0., 1., 0.],\n",
      "       [0., 0., 0., 1.]]), information=array([[ 3.43980335e+06,  1.50562670e+04, -3.05036645e+05,\n",
      "         0.00000000e+00,  7.12193360e+04,  6.26062550e+03],\n",
      "       [ 1.50562670e+04,  3.47364843e+06,  2.98624388e+05,\n",
      "        -7.12193360e+04,  0.00000000e+00,  6.51260997e+03],\n",
      "       [-3.05036645e+05,  2.98624388e+05,  2.20924917e+05,\n",
      "        -6.26062550e+03, -6.51260997e+03,  0.00000000e+00],\n",
      "       [ 0.00000000e+00, -7.12193360e+04, -6.26062550e+03,\n",
      "         1.51600000e+03,  0.00000000e+00,  0.00000000e+00],\n",
      "       [ 7.12193360e+04,  0.00000000e+00, -6.51260997e+03,\n",
      "         0.00000000e+00,  1.51600000e+03,  0.00000000e+00],\n",
      "       [ 6.26062550e+03,  6.51260997e+03,  0.00000000e+00,\n",
      "         0.00000000e+00,  0.00000000e+00,  1.51600000e+03]]))\u001b[0m\n"
     ]
    },
    {
     "name": "stdout",
     "output_type": "stream",
     "text": [
      "[Open3D DEBUG] 7783 correspondences remain after mutual filter\n",
      "[Open3D DEBUG] RANSAC exits after 0 validations. Best inlier ratio 0.000000e+00, RMSE 0.000000e+00\n"
     ]
    }
   ],
   "source": [
    "with open3d.utility.VerbosityContextManager(\n",
    "    open3d.utility.VerbosityLevel.Debug\n",
    ") as cm:\n",
    "\n",
    "    result: RegistrationResult = ransac_registrator(\n",
    "        target=target_pre, source=source_pre\n",
    "    )\n",
    "\n",
    "    logger.info(result)"
   ]
  }
 ],
 "metadata": {
  "kernelspec": {
   "display_name": "Python 3 (ipykernel)",
   "language": "python",
   "name": "python3"
  },
  "language_info": {
   "codemirror_mode": {
    "name": "ipython",
    "version": 3
   },
   "file_extension": ".py",
   "mimetype": "text/x-python",
   "name": "python",
   "nbconvert_exporter": "python",
   "pygments_lexer": "ipython3",
   "version": "3.11.10"
  }
 },
 "nbformat": 4,
 "nbformat_minor": 5
}
