{
 "cells": [
  {
   "cell_type": "markdown",
   "id": "c4d05cf9-ddf0-4985-8e5f-ca5dc30c4e49",
   "metadata": {},
   "source": [
    "## Header\n",
    "This is a notebook for developing filtering capabilities based on tie point statistics in Metashape.\n",
    " - [ ] Check distribution of tie point variance\n",
    " - [ ] Check number of neighbour cameras with matches"
   ]
  },
  {
   "cell_type": "markdown",
   "id": "120de01f-470f-4800-b65a-653abc728d03",
   "metadata": {},
   "source": [
    "### Import relevant libraries"
   ]
  },
  {
   "cell_type": "code",
   "execution_count": 1,
   "id": "27e0bf7e-ec5a-46b9-b51b-3328f00c2301",
   "metadata": {},
   "outputs": [],
   "source": [
    "from pathlib import Path\n",
    "\n",
    "import Metashape\n",
    "import plotly.express as px\n",
    "import polars as pl\n",
    "\n",
    "from result import Ok, Err, Result\n",
    "\n",
    "from benthoscan.project import Document, load_document\n",
    "from benthoscan.utils.log import logger"
   ]
  },
  {
   "cell_type": "markdown",
   "id": "cc08d73b-99ab-47bc-ac28-65ae7082112f",
   "metadata": {},
   "source": [
    "### Load project"
   ]
  },
  {
   "cell_type": "code",
   "execution_count": 2,
   "id": "6554b38a-0799-4d2d-a641-e97fed19e63d",
   "metadata": {},
   "outputs": [
    {
     "name": "stdout",
     "output_type": "stream",
     "text": [
      "LoadProject: path = /home/martin/data/acfr_revisits_metashape_projects_working/qd61g27j_filtered.psz\n"
     ]
    },
    {
     "name": "stderr",
     "output_type": "stream",
     "text": [
      "\u001b[32m2024-06-16 07:56:44.592\u001b[0m | \u001b[1mINFO    \u001b[0m | \u001b[36m__main__\u001b[0m:\u001b[36m<module>\u001b[0m:\u001b[36m2\u001b[0m - \u001b[1m/home/martin/data/acfr_revisits_metashape_projects_working/qd61g27j_filtered.psz\u001b[0m\n"
     ]
    },
    {
     "name": "stdout",
     "output_type": "stream",
     "text": [
      "loaded project in 61.2945 sec\n"
     ]
    }
   ],
   "source": [
    "document_path: Path = Path(\"/home/martin/data/acfr_revisits_metashape_projects_working/qd61g27j_filtered.psz\")\n",
    "document: Document = load_document(document_path).unwrap()\n",
    "logger.info(document.path)"
   ]
  },
  {
   "cell_type": "markdown",
   "id": "e789bff9-2729-410b-bee7-f571438f760b",
   "metadata": {},
   "source": [
    "### Log some attributes"
   ]
  },
  {
   "cell_type": "code",
   "execution_count": 12,
   "id": "e3da1ddb-4d19-4382-8dba-342dc96c01be",
   "metadata": {},
   "outputs": [
    {
     "name": "stderr",
     "output_type": "stream",
     "text": [
      "\u001b[32m2024-06-16 08:12:26.530\u001b[0m | \u001b[1mINFO    \u001b[0m | \u001b[36m__main__\u001b[0m:\u001b[36m<module>\u001b[0m:\u001b[36m6\u001b[0m - \u001b[1m---------- Document ------------\u001b[0m\n",
      "\u001b[32m2024-06-16 08:12:26.533\u001b[0m | \u001b[1mINFO    \u001b[0m | \u001b[36m__main__\u001b[0m:\u001b[36m<module>\u001b[0m:\u001b[36m7\u001b[0m - \u001b[1mqd61g27j_filtered.psz\u001b[0m\n",
      "\u001b[32m2024-06-16 08:12:26.533\u001b[0m | \u001b[1mINFO    \u001b[0m | \u001b[36m__main__\u001b[0m:\u001b[36mlog_chunk_data\u001b[0m:\u001b[36m3\u001b[0m - \u001b[1m - Chunk:          qd61g27j_20100421_022145\u001b[0m\n",
      "\u001b[32m2024-06-16 08:12:26.534\u001b[0m | \u001b[1mINFO    \u001b[0m | \u001b[36m__main__\u001b[0m:\u001b[36mlog_chunk_data\u001b[0m:\u001b[36m4\u001b[0m - \u001b[1m - Point cloud:    <PointCloud '25317691 points'>\u001b[0m\n",
      "\u001b[32m2024-06-16 08:12:26.535\u001b[0m | \u001b[1mINFO    \u001b[0m | \u001b[36m__main__\u001b[0m:\u001b[36mlog_chunk_data\u001b[0m:\u001b[36m3\u001b[0m - \u001b[1m - Chunk:          qd61g27j_20110410_011202\u001b[0m\n",
      "\u001b[32m2024-06-16 08:12:26.535\u001b[0m | \u001b[1mINFO    \u001b[0m | \u001b[36m__main__\u001b[0m:\u001b[36mlog_chunk_data\u001b[0m:\u001b[36m4\u001b[0m - \u001b[1m - Point cloud:    <PointCloud '50593200 points'>\u001b[0m\n",
      "\u001b[32m2024-06-16 08:12:26.536\u001b[0m | \u001b[1mINFO    \u001b[0m | \u001b[36m__main__\u001b[0m:\u001b[36mlog_chunk_data\u001b[0m:\u001b[36m3\u001b[0m - \u001b[1m - Chunk:          qd61g27j_20120422_043114\u001b[0m\n",
      "\u001b[32m2024-06-16 08:12:26.536\u001b[0m | \u001b[1mINFO    \u001b[0m | \u001b[36m__main__\u001b[0m:\u001b[36mlog_chunk_data\u001b[0m:\u001b[36m4\u001b[0m - \u001b[1m - Point cloud:    <PointCloud '52581426 points'>\u001b[0m\n",
      "\u001b[32m2024-06-16 08:12:26.537\u001b[0m | \u001b[1mINFO    \u001b[0m | \u001b[36m__main__\u001b[0m:\u001b[36mlog_chunk_data\u001b[0m:\u001b[36m3\u001b[0m - \u001b[1m - Chunk:          qd61g27j_20130414_013620\u001b[0m\n",
      "\u001b[32m2024-06-16 08:12:26.537\u001b[0m | \u001b[1mINFO    \u001b[0m | \u001b[36m__main__\u001b[0m:\u001b[36mlog_chunk_data\u001b[0m:\u001b[36m4\u001b[0m - \u001b[1m - Point cloud:    <PointCloud '35386975 points'>\u001b[0m\n",
      "\u001b[32m2024-06-16 08:12:26.537\u001b[0m | \u001b[1mINFO    \u001b[0m | \u001b[36m__main__\u001b[0m:\u001b[36mlog_chunk_data\u001b[0m:\u001b[36m3\u001b[0m - \u001b[1m - Chunk:          qd61g27j_20170523_040815\u001b[0m\n",
      "\u001b[32m2024-06-16 08:12:26.538\u001b[0m | \u001b[1mINFO    \u001b[0m | \u001b[36m__main__\u001b[0m:\u001b[36mlog_chunk_data\u001b[0m:\u001b[36m4\u001b[0m - \u001b[1m - Point cloud:    <PointCloud '52829807 points'>\u001b[0m\n"
     ]
    }
   ],
   "source": [
    "def log_chunk_data(chunk: Metashape.Chunk) -> None:\n",
    "    \"\"\"TODO\"\"\"\n",
    "    logger.info(f\" - Chunk:          {chunk.label}\")\n",
    "    logger.info(f\" - Point cloud:    {chunk.point_cloud}\")\n",
    "\n",
    "logger.info(\"---------- Document ------------\")\n",
    "logger.info(Path(document.path).name)\n",
    "for chunk in document.chunks:\n",
    "    log_chunk_data(chunk)"
   ]
  },
  {
   "cell_type": "markdown",
   "id": "83147480-5659-4bba-aea0-8e722cb128ce",
   "metadata": {},
   "source": [
    "### Process point cloud"
   ]
  },
  {
   "cell_type": "code",
   "execution_count": 28,
   "id": "88566ce5-e32a-403b-b725-cb98eb7db300",
   "metadata": {},
   "outputs": [
    {
     "name": "stdout",
     "output_type": "stream",
     "text": [
      "DuplicateAsset: asset_type = Point cloud, asset_key = 12\n"
     ]
    },
    {
     "name": "stderr",
     "output_type": "stream",
     "text": [
      "\u001b[32m2024-06-16 15:51:09.225\u001b[0m | \u001b[1mINFO    \u001b[0m | \u001b[36m__main__\u001b[0m:\u001b[36mprocess_point_cloud\u001b[0m:\u001b[36m3\u001b[0m - \u001b[1m13\u001b[0m\n",
      "\u001b[32m2024-06-16 15:51:09.226\u001b[0m | \u001b[1mINFO    \u001b[0m | \u001b[36m__main__\u001b[0m:\u001b[36mprocess_point_cloud\u001b[0m:\u001b[36m4\u001b[0m - \u001b[1m25317691\u001b[0m\n",
      "\u001b[32m2024-06-16 15:51:09.228\u001b[0m | \u001b[1mINFO    \u001b[0m | \u001b[36m__main__\u001b[0m:\u001b[36mprocess_point_cloud\u001b[0m:\u001b[36m5\u001b[0m - \u001b[1mNone\u001b[0m\n",
      "\u001b[32m2024-06-16 15:51:09.229\u001b[0m | \u001b[1mINFO    \u001b[0m | \u001b[36m__main__\u001b[0m:\u001b[36mprocess_point_cloud\u001b[0m:\u001b[36m6\u001b[0m - \u001b[1mNone\u001b[0m\n"
     ]
    },
    {
     "ename": "AttributeError",
     "evalue": "'Metashape.Metashape.PointCloud' object has no attribute 'points'",
     "output_type": "error",
     "traceback": [
      "\u001b[0;31m---------------------------------------------------------------------------\u001b[0m",
      "\u001b[0;31mAttributeError\u001b[0m                            Traceback (most recent call last)",
      "Cell \u001b[0;32mIn[28], line 9\u001b[0m\n\u001b[1;32m      6\u001b[0m     logger\u001b[38;5;241m.\u001b[39minfo(\u001b[38;5;124mf\u001b[39m\u001b[38;5;124m\"\u001b[39m\u001b[38;5;132;01m{\u001b[39;00mcloud\u001b[38;5;241m.\u001b[39mcomponent\u001b[38;5;132;01m}\u001b[39;00m\u001b[38;5;124m\"\u001b[39m)\n\u001b[1;32m      7\u001b[0m     logger\u001b[38;5;241m.\u001b[39minfo(\u001b[38;5;124mf\u001b[39m\u001b[38;5;124m\"\u001b[39m\u001b[38;5;132;01m{\u001b[39;00mcloud\u001b[38;5;241m.\u001b[39mpoints\u001b[38;5;132;01m}\u001b[39;00m\u001b[38;5;124m\"\u001b[39m)\n\u001b[0;32m----> 9\u001b[0m \u001b[43mprocess_point_cloud\u001b[49m\u001b[43m(\u001b[49m\u001b[43mdocument\u001b[49m\u001b[38;5;241;43m.\u001b[39;49m\u001b[43mchunks\u001b[49m\u001b[43m[\u001b[49m\u001b[38;5;241;43m0\u001b[39;49m\u001b[43m]\u001b[49m\u001b[38;5;241;43m.\u001b[39;49m\u001b[43mpoint_cloud\u001b[49m\u001b[38;5;241;43m.\u001b[39;49m\u001b[43mcopy\u001b[49m\u001b[43m(\u001b[49m\u001b[43m)\u001b[49m\u001b[43m)\u001b[49m\n\u001b[1;32m     11\u001b[0m tmp1 \u001b[38;5;241m=\u001b[39m tempfile\u001b[38;5;241m.\u001b[39mNamedTemporaryFile(delete\u001b[38;5;241m=\u001b[39m\u001b[38;5;28;01mFalse\u001b[39;00m)\n",
      "Cell \u001b[0;32mIn[28], line 7\u001b[0m, in \u001b[0;36mprocess_point_cloud\u001b[0;34m(cloud)\u001b[0m\n\u001b[1;32m      5\u001b[0m logger\u001b[38;5;241m.\u001b[39minfo(\u001b[38;5;124mf\u001b[39m\u001b[38;5;124m\"\u001b[39m\u001b[38;5;132;01m{\u001b[39;00mcloud\u001b[38;5;241m.\u001b[39mcrs\u001b[38;5;132;01m}\u001b[39;00m\u001b[38;5;124m\"\u001b[39m)\n\u001b[1;32m      6\u001b[0m logger\u001b[38;5;241m.\u001b[39minfo(\u001b[38;5;124mf\u001b[39m\u001b[38;5;124m\"\u001b[39m\u001b[38;5;132;01m{\u001b[39;00mcloud\u001b[38;5;241m.\u001b[39mcomponent\u001b[38;5;132;01m}\u001b[39;00m\u001b[38;5;124m\"\u001b[39m)\n\u001b[0;32m----> 7\u001b[0m logger\u001b[38;5;241m.\u001b[39minfo(\u001b[38;5;124mf\u001b[39m\u001b[38;5;124m\"\u001b[39m\u001b[38;5;132;01m{\u001b[39;00m\u001b[43mcloud\u001b[49m\u001b[38;5;241;43m.\u001b[39;49m\u001b[43mpoints\u001b[49m\u001b[38;5;132;01m}\u001b[39;00m\u001b[38;5;124m\"\u001b[39m)\n",
      "\u001b[0;31mAttributeError\u001b[0m: 'Metashape.Metashape.PointCloud' object has no attribute 'points'"
     ]
    }
   ],
   "source": [
    "def get_temp_cloud(chunk: Metashape.Chunk, path: Path) -> None:\n",
    "    chunk.exportPointCloud(\n",
    "        path=str(path), \n",
    "        source_data=PointCloudData, \n",
    "        binary=True,\n",
    "        save_point_color=True, \n",
    "        save_point_normal=True, \n",
    "        save_point_intensity=True,\n",
    "        save_point_classification=True, \n",
    "        save_point_confidence=True,\n",
    "        save_point_return_number=True, \n",
    "        save_point_scan_angle=True,\n",
    "        save_point_source_id=True, \n",
    "        save_point_timestamp=True, \n",
    "        save_point_index=True,\n",
    "        raster_transform=RasterTransformNone, \n",
    "        colors_rgb_8bit=True, \n",
    "        comment='',\n",
    "        save_comment=True, \n",
    "        format=PointCloudFormatNone,\n",
    "        image_format=ImageFormatJPEG, \n",
    "        clip_to_boundary=True,\n",
    "        block_width=1000, \n",
    "        block_height=1000, \n",
    "        split_in_blocks=False,\n",
    "        save_images=False, \n",
    "        compression=True, \n",
    "        tileset_version='1.0', \n",
    "        screen_space_error=16,\n",
    "        folder_depth=5,\n",
    "        subdivide_task=True,\n",
    "        progress\n",
    "    )\n",
    "\n",
    "• path (str) – Path to output file.\n",
    "• source_data (Metashape.DataSource) – Selects between point cloud and tie points. If\n",
    "not specified, uses point cloud if available.\n",
    "• point_cloud (int) – Point cloud key to export.\n",
    "• binary (bool) – Enables/disables binary encoding for selected format (if applicable).\n",
    "• save_point_color (bool) – Enables/disables export of point color.\n",
    "43\n",
    "Metashape Python Reference, Release 2.1.0\n",
    "• save_point_normal (bool) – Enables/disables export of point normal.\n",
    "• save_point_intensity (bool) – Enables/disables export of point intensity.\n",
    "• save_point_classification (bool) – Enables/disables export of point classification.\n",
    "• save_point_confidence (bool) – Enables/disables export of point confidence.\n",
    "• save_point_return_number (bool) – Enables/disables export of point return number.\n",
    "• save_point_scan_angle (bool) – Enables/disables export of point scan angle.\n",
    "• save_point_source_id (bool) – Enables/disables export of point source ID.\n",
    "• save_point_timestamp (bool) – Enables/disables export of point timestamp.\n",
    "• save_point_index (bool) – Enables/disables export of point row and column indices.\n",
    "• raster_transform (Metashape.RasterTransformType) – Raster band transforma-\n",
    "tion.\n",
    "• colors_rgb_8bit (bool) – Convert colors to 8 bit RGB.\n",
    "• comment (str) – Optional comment (if supported by selected format).\n",
    "• save_comment (bool) – Enable comment export.\n",
    "• format (Metashape.PointCloudFormat) – Export format.\n",
    "• image_format (Metashape.ImageFormat) – Image data format.\n",
    "• crs (Metashape.CoordinateSystem) – Output coordinate system.\n",
    "• shift (Metashape.Vector) – Optional shift to be applied to point coordinates.\n",
    "• region (Metashape.BBox) – Region to be exported.\n",
    "• clip_to_boundary (bool) – Clip point cloud to boundary shapes.\n",
    "• block_width (float) – Block width in meters.\n",
    "• block_height (float) – Block height in meters.\n",
    "• split_in_blocks (bool) – Enable tiled export.\n",
    "• classes (list[int]) – List of point classes to be exported.\n",
    "• save_images (bool) – Enable image export.\n",
    "• compression (bool) – Enable compression (Cesium format only).\n",
    "• tileset_version (str) – Cesium 3D Tiles format version to export (1.0 or 1.1).\n",
    "• screen_space_error (float) – Target screen space error (Cesium format only).\n",
    "• folder_depth (int) – Tileset subdivision depth (Cesium format only).\n",
    "• viewpoint (Metashape.Viewpoint) – Default view.\n",
    "• subdivide_task:  (bool) – Enable fine-level task subdivision,\n",
    "    progress (Callable[[float], None]) – Progress callback\n",
    ")\n",
    "\n",
    "def process_point_cloud(cloud: Metashape.PointCloud) -> None:\n",
    "    \"\"\"TODO\"\"\"\n",
    "    logger.info(f\"{cloud.key}\")\n",
    "    logger.info(f\"{cloud.point_count}\")\n",
    "    logger.info(f\"{cloud.crs}\")\n",
    "    logger.info(f\"{cloud.component}\")\n",
    "    logger.info(f\"{cloud.points}\")\n",
    "\n",
    "process_point_cloud(document.chunks[0].point_cloud.copy())\n",
    "\n",
    "tmp1 = tempfile.NamedTemporaryFile(delete=False)"
   ]
  }
 ],
 "metadata": {
  "kernelspec": {
   "display_name": "Python 3 (ipykernel)",
   "language": "python",
   "name": "python3"
  },
  "language_info": {
   "codemirror_mode": {
    "name": "ipython",
    "version": 3
   },
   "file_extension": ".py",
   "mimetype": "text/x-python",
   "name": "python",
   "nbconvert_exporter": "python",
   "pygments_lexer": "ipython3",
   "version": "3.11.9"
  }
 },
 "nbformat": 4,
 "nbformat_minor": 5
}
