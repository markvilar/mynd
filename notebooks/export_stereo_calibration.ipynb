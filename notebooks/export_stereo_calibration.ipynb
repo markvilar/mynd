{
 "cells": [
  {
   "cell_type": "code",
   "execution_count": null,
   "id": "3413621b-2dfc-4485-9d30-20f34fbcb460",
   "metadata": {
    "scrolled": true
   },
   "outputs": [],
   "source": [
    "from pathlib import Path\n",
    "\n",
    "import Metashape\n",
    "\n",
    "from mynd.backends import metashape as backend\n",
    "from mynd.utils.log import logger\n",
    "from mynd.utils.result import Ok, Err, Result"
   ]
  },
  {
   "cell_type": "markdown",
   "id": "21926ea5-69bc-4370-93f9-b8c5daefc61a",
   "metadata": {},
   "source": [
    "### Load document into backend"
   ]
  },
  {
   "cell_type": "code",
   "execution_count": null,
   "id": "6754d033-a29b-4908-93b1-5f13333433c8",
   "metadata": {},
   "outputs": [],
   "source": [
    "DOCUMENT_PATH: Path = Path(\n",
    "    \"/data/kingston_snv_01/acfr_revisits_metashape_projects/r23685bc_working_version.psz\"\n",
    ")\n",
    "\n",
    "result: Result[str, str] = backend.load_project(DOCUMENT_PATH)\n",
    "match result:\n",
    "    case Ok(message):\n",
    "        logger.info(message)\n",
    "    case Err(message):\n",
    "        logger.error(message)"
   ]
  },
  {
   "cell_type": "markdown",
   "id": "f6dc0610-10e1-40a4-8982-0a645d3b383b",
   "metadata": {},
   "source": [
    "### Backend playground"
   ]
  },
  {
   "cell_type": "code",
   "execution_count": null,
   "id": "0cf46c5d-d6c6-426c-a028-b5d2d7e560a3",
   "metadata": {},
   "outputs": [],
   "source": [
    "from mynd.api.camera import StereoCollection\n",
    "from mynd.api.identifier import Identifier\n",
    "\n",
    "from mynd.camera import CameraCalibration\n",
    "from mynd.io.file_database import H5Database, create_file_database, load_file_database\n",
    "\n",
    "from mynd.geometry import (\n",
    "    PixelMap,\n",
    "    RectificationResult,\n",
    "    compute_stereo_rectification,\n",
    "    rectify_image_pair,\n",
    ")\n",
    "\n",
    "# NOTE: Integrate camera readers and writers into IO library eventually\n",
    "from mynd.io.camera_io import write_rectification_results_to_file_database\n",
    "\n",
    "\n",
    "def process_stereo_collection(\n",
    "    identifier: Identifier, collection: StereoCollection\n",
    ") -> None:\n",
    "    \"\"\"Process a collection of stereo data.\"\"\"\n",
    "\n",
    "    rectification: RectificationResult = compute_stereo_rectification(\n",
    "        collection.calibrations\n",
    "    )\n",
    "\n",
    "    logger.info(f\"Key:                 {identifier}\")\n",
    "    logger.info(f\"Calibrations:        {len(collection.calibrations)}\")\n",
    "    logger.info(f\"Image loaders:       {len(collection.image_loaders)}\")\n",
    "\n",
    "    DATABASE_PATH: Path = Path(\n",
    "        f\"/data/kingston_snv_01/test/{identifier.label}_calibration.h5\"\n",
    "    )\n",
    "\n",
    "    if DATABASE_PATH.exists():\n",
    "        result: Result[H5Database, str] = load_file_database(DATABASE_PATH)\n",
    "    else:\n",
    "        result: Result[H5Database, str] = create_file_database(DATABASE_PATH)\n",
    "\n",
    "    if result.is_err():\n",
    "        logger.error(f\"Database error: {result}\")\n",
    "\n",
    "    database: H5Database = result.ok()\n",
    "\n",
    "    result: Result[None, str] = write_rectification_results_to_file_database(\n",
    "        database,\n",
    "        group_name=\"stereo\",\n",
    "        rectification=rectification,\n",
    "    )\n",
    "\n",
    "    if result.is_err():\n",
    "        logger.error(result.err())\n",
    "\n",
    "    database.get(\"stereo\").visit(lambda item: logger.info(item))\n",
    "\n",
    "\n",
    "def main():\n",
    "    \"\"\"TODO\"\"\"\n",
    "    result: Result = backend.camera_services.request_stereo_data()\n",
    "\n",
    "    data: dict[Identifier, list[StereoCollection]] = result.unwrap()\n",
    "\n",
    "    for identifier, collections in data.items():\n",
    "\n",
    "        for collection in collections:\n",
    "            process_stereo_collection(identifier, collection)\n",
    "\n",
    "\n",
    "# ---------- Invoke main function ----------\n",
    "main()"
   ]
  }
 ],
 "metadata": {
  "kernelspec": {
   "display_name": "Python 3 (ipykernel)",
   "language": "python",
   "name": "python3"
  },
  "language_info": {
   "codemirror_mode": {
    "name": "ipython",
    "version": 3
   },
   "file_extension": ".py",
   "mimetype": "text/x-python",
   "name": "python",
   "nbconvert_exporter": "python",
   "pygments_lexer": "ipython3",
   "version": "3.11.9"
  }
 },
 "nbformat": 4,
 "nbformat_minor": 5
}
