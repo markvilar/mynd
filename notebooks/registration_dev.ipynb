{
 "cells": [
  {
   "cell_type": "markdown",
   "id": "e9846aa9-966a-4e11-9d10-fa3ffb1e0968",
   "metadata": {},
   "source": [
    "### Include registration modules"
   ]
  },
  {
   "cell_type": "code",
   "execution_count": 1,
   "id": "7b371dd6-fbf6-4edc-97e7-14179ad28726",
   "metadata": {},
   "outputs": [
    {
     "name": "stdout",
     "output_type": "stream",
     "text": [
      "Jupyter environment detected. Enabling Open3D WebVisualizer.\n",
      "[Open3D INFO] WebRTC GUI backend enabled.\n",
      "[Open3D INFO] WebRTCWindowSystem: HTTP handshake server disabled.\n"
     ]
    },
    {
     "name": "stderr",
     "output_type": "stream",
     "text": [
      "Can't use license /var/tmp/agisoft/licensing/licenses/metashape-pro.lic: License expired\n",
      "No license server found\n"
     ]
    }
   ],
   "source": [
    "import copy\n",
    "\n",
    "from functools import partial\n",
    "from pathlib import Path\n",
    "from time import time\n",
    "\n",
    "from collections.abc import Callable\n",
    "\n",
    "import numpy as np\n",
    "\n",
    "import open3d\n",
    "import open3d.geometry as geom\n",
    "import open3d.pipelines.registration as reg\n",
    "import open3d.visualization as vis\n",
    "import open3d.utility as util\n",
    "\n",
    "from result import Ok, Err, Result\n",
    "\n",
    "from benthoscan.io import read_toml\n",
    "from benthoscan.runtime import Environment, load_environment\n",
    "\n",
    "from benthoscan.registration import PointCloud, RegistrationResult\n",
    "from benthoscan.registration import PointCloudLoader, read_point_cloud\n",
    "from benthoscan.registration import MultiTargetIndex, generate_cascade_indices\n",
    "\n",
    "from benthoscan.registration import (\n",
    "    downsample_point_cloud,\n",
    "    estimate_point_cloud_normals,\n",
    ")\n",
    "\n",
    "from benthoscan.registration import (\n",
    "    PointCloudProcessor,\n",
    "    GlobalRegistrator,\n",
    "    IncrementalRegistrator,\n",
    ")\n",
    "from benthoscan.registration import (\n",
    "    build_point_cloud_processor,\n",
    "    build_feature_registrator,\n",
    "    build_icp_registrator,\n",
    ")\n",
    "\n",
    "from benthoscan.registration import (\n",
    "    register_icp,\n",
    "    register_colored_icp,\n",
    "    build_pose_graph,\n",
    "    optimize_pose_graph,\n",
    ")\n",
    "\n",
    "from benthoscan.spatial import decompose_transformation\n",
    "\n",
    "from benthoscan.visualization import (\n",
    "    visualize_registration,\n",
    "    create_subplots,\n",
    "    trace_registration_result,\n",
    ")\n",
    "\n",
    "from benthoscan.utils.log import logger"
   ]
  },
  {
   "cell_type": "markdown",
   "id": "1cf9c7ff-d813-4e92-91c6-21a7567d18e2",
   "metadata": {},
   "source": [
    "### Load environment and configure data loaders"
   ]
  },
  {
   "cell_type": "code",
   "execution_count": 2,
   "id": "d9e03428-3e96-4f3c-8a58-5e7df86e3aaa",
   "metadata": {},
   "outputs": [],
   "source": [
    "environment: Environment = load_environment()\n",
    "\n",
    "DATA_DIR: Path = Path(\"/home/martin/dev/benthoscan/.cache\")\n",
    "\n",
    "point_cloud_files: dict = {\n",
    "    0: DATA_DIR / Path(\"qdc5ghs3_20100430_024508.ply\"),\n",
    "    1: DATA_DIR / Path(\"qdc5ghs3_20120501_033336.ply\"),\n",
    "    2: DATA_DIR / Path(\"qdc5ghs3_20130405_103429.ply\"),\n",
    "    3: DATA_DIR / Path(\"qdc5ghs3_20210315_230947.ply\"),\n",
    "}\n",
    "\n",
    "loaders: dict = {\n",
    "    key: partial(read_point_cloud, path=path) for key, path in point_cloud_files.items()\n",
    "}\n",
    "\n",
    "count = len(loaders)\n",
    "if count < 2:\n",
    "    logger.error(f\"invalid number of point clouds for registration: {count}\")"
   ]
  },
  {
   "cell_type": "markdown",
   "id": "4b16a71b-5995-4478-baed-558ca7607207",
   "metadata": {},
   "source": [
    "### Configure preprocessor and registrator"
   ]
  },
  {
   "cell_type": "code",
   "execution_count": 3,
   "id": "002faf54-75d6-4450-bd99-450ebe5f4497",
   "metadata": {},
   "outputs": [],
   "source": [
    "def registration_worker(\n",
    "    source_loader: PointCloudLoader,\n",
    "    target_loader: PointCloudLoader,\n",
    "    preprocessor: Callable,\n",
    "    registrator: Callable,\n",
    ") -> RegistrationResult:\n",
    "    \"\"\"Worker function that performs the point cloud registration.\"\"\"\n",
    "\n",
    "    source: PointCloud = source_loader().unwrap()\n",
    "    target: PointCloud = target_loader().unwrap()\n",
    "\n",
    "    preprocessed_source: PointCloud = source\n",
    "    preprocessed_target: PointCloud = target\n",
    "\n",
    "    for preprocessor in preprocessors:\n",
    "        preprocessed_source: PointCloud = preprocessor(preprocessed_source)\n",
    "\n",
    "    for preprocessor in preprocessors:\n",
    "        preprocessed_target: PointCloud = preprocessor(preprocessed_target)\n",
    "\n",
    "    result: RegistratorResult = registrator(\n",
    "        source=preprocessed_source,\n",
    "        target=preprocessed_target,\n",
    "    )\n",
    "\n",
    "    return result"
   ]
  },
  {
   "cell_type": "markdown",
   "id": "16ab0cfe-8d07-4b73-ac3a-b3f48e7b5910",
   "metadata": {},
   "source": [
    "### Transformation Helpers"
   ]
  },
  {
   "cell_type": "code",
   "execution_count": 4,
   "id": "ee3dbb0e-36e2-4f59-8591-dfb566e7ab44",
   "metadata": {},
   "outputs": [],
   "source": [
    "def log_registration(source: int, target: int, result: RegistrationResult) -> None:\n",
    "    \"\"\"TODO\"\"\"\n",
    "\n",
    "    scale, rotation, translation = decompose_transformation(result.transformation)\n",
    "\n",
    "    logger.info(\"\")\n",
    "    logger.info(f\"Source:       {source}\")\n",
    "    logger.info(f\"Target:       {target}\")\n",
    "    logger.info(f\"Corresp.:     {len(result.correspondence_set)}\")\n",
    "    logger.info(f\"Fitness:      {result.fitness}\")\n",
    "    logger.info(f\"Inlier RMSE:  {result.inlier_rmse}\")\n",
    "    logger.info(f\"Trans. scale:    {scale}\")\n",
    "    logger.info(f\"Trans. trans.:   {translation}\")\n",
    "    logger.info(f\"Trans. rot.:     {rotation}\")\n",
    "    logger.info(\"\")"
   ]
  },
  {
   "cell_type": "code",
   "execution_count": 5,
   "id": "59fa67a2-b3d6-4e51-9967-7df97d9fa2d1",
   "metadata": {},
   "outputs": [
    {
     "name": "stderr",
     "output_type": "stream",
     "text": [
      "\u001b[32m2024-07-29 18:33:53.426\u001b[0m | \u001b[1mINFO    \u001b[0m | \u001b[36m__main__\u001b[0m:\u001b[36m<module>\u001b[0m:\u001b[36m33\u001b[0m - \u001b[1mRegistrator: global\u001b[0m\n",
      "\u001b[32m2024-07-29 18:33:53.427\u001b[0m | \u001b[1mINFO    \u001b[0m | \u001b[36m__main__\u001b[0m:\u001b[36m<module>\u001b[0m:\u001b[36m33\u001b[0m - \u001b[1mRegistrator: refinement\u001b[0m\n"
     ]
    },
    {
     "data": {
      "text/plain": [
       "'\\npreprocessors: list[PointCloudProcessor] = [\\n    build_point_cloud_processor(item).unwrap()\\n    for item in module_config[\"preprocessors\"]\\n]\\n'"
      ]
     },
     "execution_count": 5,
     "metadata": {},
     "output_type": "execute_result"
    }
   ],
   "source": [
    "CONFIG_FILE: Path = Path(\"/home/martin/dev/benthoscan/config/registration.toml\")\n",
    "\n",
    "config: dict = read_toml(CONFIG_FILE).unwrap()\n",
    "\n",
    "\n",
    "registrators: dict[str, list] = {\n",
    "    \"global\": list(),\n",
    "    \"refinement\": list(),\n",
    "}\n",
    "\n",
    "for module_config in config[\"modules\"]:\n",
    "\n",
    "    module_name: str = module_config[\"name\"]\n",
    "    module_type: str = module_config[\"type\"]\n",
    "\n",
    "    match module_type:\n",
    "        case \"feature\":\n",
    "            registrator: GlobalRegistrator = build_feature_registrator(\n",
    "                module_config[\"registrator\"],\n",
    "            ).unwrap()\n",
    "            registrators[\"global\"].append(registrator)\n",
    "\n",
    "        case \"icp\":\n",
    "            registrator: IncrementalRegistrator = build_icp_registrator(\n",
    "                module_config[\"registrator\"],\n",
    "            ).unwrap()\n",
    "            registrators[\"refinement\"].append(registrator)\n",
    "        case other:\n",
    "            logger.error(f\"unknown module type: {module_type}\")\n",
    "\n",
    "\n",
    "for registrator in registrators:\n",
    "    logger.info(f\"Registrator: {registrator}\")\n",
    "\n",
    "# TODO: Create preprocessors\n",
    "\"\"\"\n",
    "preprocessors: list[PointCloudProcessor] = [\n",
    "    build_point_cloud_processor(item).unwrap()\n",
    "    for item in module_config[\"preprocessors\"]\n",
    "]\n",
    "\"\"\"\n",
    "\n",
    "# TODO: Create registration pipeline"
   ]
  },
  {
   "cell_type": "markdown",
   "id": "8adf86fc-7bd9-4670-bcb3-fb04f9b28b76",
   "metadata": {},
   "source": [
    "### Debug builder functionality"
   ]
  },
  {
   "cell_type": "code",
   "execution_count": 6,
   "id": "ed211514-f2a6-4254-adf6-b8b1f4d8ed3d",
   "metadata": {},
   "outputs": [
    {
     "name": "stderr",
     "output_type": "stream",
     "text": [
      "\u001b[32m2024-07-29 16:49:09.180\u001b[0m | \u001b[1mINFO    \u001b[0m | \u001b[36m__main__\u001b[0m:\u001b[36mlog_registration\u001b[0m:\u001b[36m6\u001b[0m - \u001b[1m\u001b[0m\n",
      "\u001b[32m2024-07-29 16:49:09.181\u001b[0m | \u001b[1mINFO    \u001b[0m | \u001b[36m__main__\u001b[0m:\u001b[36mlog_registration\u001b[0m:\u001b[36m7\u001b[0m - \u001b[1mSource:       0\u001b[0m\n",
      "\u001b[32m2024-07-29 16:49:09.182\u001b[0m | \u001b[1mINFO    \u001b[0m | \u001b[36m__main__\u001b[0m:\u001b[36mlog_registration\u001b[0m:\u001b[36m8\u001b[0m - \u001b[1mTarget:       3\u001b[0m\n",
      "\u001b[32m2024-07-29 16:49:09.183\u001b[0m | \u001b[1mINFO    \u001b[0m | \u001b[36m__main__\u001b[0m:\u001b[36mlog_registration\u001b[0m:\u001b[36m9\u001b[0m - \u001b[1mCorresp.:     12476\u001b[0m\n",
      "\u001b[32m2024-07-29 16:49:09.185\u001b[0m | \u001b[1mINFO    \u001b[0m | \u001b[36m__main__\u001b[0m:\u001b[36mlog_registration\u001b[0m:\u001b[36m10\u001b[0m - \u001b[1mFitness:      0.42510562900368\u001b[0m\n",
      "\u001b[32m2024-07-29 16:49:09.186\u001b[0m | \u001b[1mINFO    \u001b[0m | \u001b[36m__main__\u001b[0m:\u001b[36mlog_registration\u001b[0m:\u001b[36m11\u001b[0m - \u001b[1mInlier RMSE:  0.09300614680802845\u001b[0m\n",
      "\u001b[32m2024-07-29 16:49:09.187\u001b[0m | \u001b[1mINFO    \u001b[0m | \u001b[36m__main__\u001b[0m:\u001b[36mlog_registration\u001b[0m:\u001b[36m12\u001b[0m - \u001b[1mTrans. scale:    0.9948146923102374\u001b[0m\n",
      "\u001b[32m2024-07-29 16:49:09.189\u001b[0m | \u001b[1mINFO    \u001b[0m | \u001b[36m__main__\u001b[0m:\u001b[36mlog_registration\u001b[0m:\u001b[36m13\u001b[0m - \u001b[1mTrans. trans.:   [ 6.87220817 11.74153752 -0.21495641]\u001b[0m\n",
      "\u001b[32m2024-07-29 16:49:09.190\u001b[0m | \u001b[1mINFO    \u001b[0m | \u001b[36m__main__\u001b[0m:\u001b[36mlog_registration\u001b[0m:\u001b[36m14\u001b[0m - \u001b[1mTrans. rot.:     [[ 0.99867315 -0.05126712 -0.0048595 ]\n",
      " [ 0.05127641  0.99868287  0.00180654]\n",
      " [ 0.00476048 -0.00205332  0.99998656]]\u001b[0m\n",
      "\u001b[32m2024-07-29 16:49:09.191\u001b[0m | \u001b[1mINFO    \u001b[0m | \u001b[36m__main__\u001b[0m:\u001b[36mlog_registration\u001b[0m:\u001b[36m15\u001b[0m - \u001b[1m\u001b[0m\n",
      "\u001b[32m2024-07-29 16:49:10.001\u001b[0m | \u001b[1mINFO    \u001b[0m | \u001b[36m__main__\u001b[0m:\u001b[36mlog_registration\u001b[0m:\u001b[36m6\u001b[0m - \u001b[1m\u001b[0m\n",
      "\u001b[32m2024-07-29 16:49:10.004\u001b[0m | \u001b[1mINFO    \u001b[0m | \u001b[36m__main__\u001b[0m:\u001b[36mlog_registration\u001b[0m:\u001b[36m7\u001b[0m - \u001b[1mSource:       0\u001b[0m\n",
      "\u001b[32m2024-07-29 16:49:10.007\u001b[0m | \u001b[1mINFO    \u001b[0m | \u001b[36m__main__\u001b[0m:\u001b[36mlog_registration\u001b[0m:\u001b[36m8\u001b[0m - \u001b[1mTarget:       3\u001b[0m\n",
      "\u001b[32m2024-07-29 16:49:10.009\u001b[0m | \u001b[1mINFO    \u001b[0m | \u001b[36m__main__\u001b[0m:\u001b[36mlog_registration\u001b[0m:\u001b[36m9\u001b[0m - \u001b[1mCorresp.:     14663\u001b[0m\n",
      "\u001b[32m2024-07-29 16:49:10.011\u001b[0m | \u001b[1mINFO    \u001b[0m | \u001b[36m__main__\u001b[0m:\u001b[36mlog_registration\u001b[0m:\u001b[36m10\u001b[0m - \u001b[1mFitness:      0.49962518740629686\u001b[0m\n",
      "\u001b[32m2024-07-29 16:49:10.013\u001b[0m | \u001b[1mINFO    \u001b[0m | \u001b[36m__main__\u001b[0m:\u001b[36mlog_registration\u001b[0m:\u001b[36m11\u001b[0m - \u001b[1mInlier RMSE:  0.13944238345533272\u001b[0m\n",
      "\u001b[32m2024-07-29 16:49:10.015\u001b[0m | \u001b[1mINFO    \u001b[0m | \u001b[36m__main__\u001b[0m:\u001b[36mlog_registration\u001b[0m:\u001b[36m12\u001b[0m - \u001b[1mTrans. scale:    0.9948146923102376\u001b[0m\n",
      "\u001b[32m2024-07-29 16:49:10.017\u001b[0m | \u001b[1mINFO    \u001b[0m | \u001b[36m__main__\u001b[0m:\u001b[36mlog_registration\u001b[0m:\u001b[36m13\u001b[0m - \u001b[1mTrans. trans.:   [ 6.6718127  11.3494237  -0.21625952]\u001b[0m\n",
      "\u001b[32m2024-07-29 16:49:10.019\u001b[0m | \u001b[1mINFO    \u001b[0m | \u001b[36m__main__\u001b[0m:\u001b[36mlog_registration\u001b[0m:\u001b[36m14\u001b[0m - \u001b[1mTrans. rot.:     [[ 0.99830182 -0.05819045 -0.00271152]\n",
      " [ 0.05817916  0.99829785 -0.00407258]\n",
      " [ 0.00294389  0.00390791  0.99998803]]\u001b[0m\n",
      "\u001b[32m2024-07-29 16:49:10.021\u001b[0m | \u001b[1mINFO    \u001b[0m | \u001b[36m__main__\u001b[0m:\u001b[36mlog_registration\u001b[0m:\u001b[36m15\u001b[0m - \u001b[1m\u001b[0m\n"
     ]
    }
   ],
   "source": [
    "preprocessors: list[Callable] = [\n",
    "    partial(downsample_point_cloud, spacing=0.20),\n",
    "    partial(estimate_point_cloud_normals, radius=0.40),\n",
    "]\n",
    "\n",
    "source_cloud: PointCloud = loaders[0]().unwrap()\n",
    "target_cloud: PointCloud = loaders[3]().unwrap()\n",
    "\n",
    "for preprocessor in preprocessors:\n",
    "    source_cloud: PointCloud = preprocessor(cloud=source_cloud)\n",
    "    target_cloud: PointCloud = preprocessor(cloud=target_cloud)\n",
    "\n",
    "\n",
    "result: RegistrationResult = registrators[\"global\"][0](\n",
    "    source=source_cloud,\n",
    "    target=target_cloud,\n",
    ")\n",
    "\n",
    "log_registration(source=0, target=3, result=result)\n",
    "\n",
    "\n",
    "result: RegistrationResult = registrators[\"refinement\"][0](\n",
    "    source=source_cloud,\n",
    "    target=target_cloud,\n",
    "    transformation=result.transformation,\n",
    ")\n",
    "\n",
    "log_registration(source=0, target=3, result=result)"
   ]
  },
  {
   "cell_type": "markdown",
   "id": "af6af3fd-8028-4dcf-a60c-a0e8de778b3a",
   "metadata": {},
   "source": [
    "### Execute several registration runs for a single case"
   ]
  },
  {
   "cell_type": "code",
   "execution_count": null,
   "id": "37d45a62-912a-4d0e-897d-f9fab2837bcf",
   "metadata": {},
   "outputs": [],
   "source": [
    "# Select some point clouds to tune the registration - 0-3 is the really hard case, but 1-3 and 2-3 are also challenging\n",
    "test_source: int = 0\n",
    "test_target: int = 3\n",
    "test_runs: int = 10\n",
    "\n",
    "test_results: list[RegistrationResult] = list()\n",
    "\n",
    "source_loader: PointCloudLoader = loaders[test_source]\n",
    "target_loader: PointCloudLoader = loaders[test_target]\n",
    "\n",
    "logger.info(result)\n",
    "\n",
    "for i in range(test_runs):\n",
    "\n",
    "    start: float = time()\n",
    "\n",
    "    result: RegistrationResult = registration_worker(\n",
    "        source_loader=source_loader,\n",
    "        target_loader=target_loader,\n",
    "        module=module,\n",
    "    )\n",
    "\n",
    "    end: float = time()\n",
    "\n",
    "    logger.info(\n",
    "        f\"RANSAC run {i+1}/{test_runs} - Elapsed time {end - start:.3f} seconds\"\n",
    "    )\n",
    "\n",
    "    log_registration(0, 3, result)\n",
    "\n",
    "    test_results.append(result)"
   ]
  },
  {
   "cell_type": "markdown",
   "id": "3de5f9fa-13dd-4526-b565-ca80a5df4370",
   "metadata": {},
   "source": [
    "### Define registration plotting functions"
   ]
  },
  {
   "cell_type": "code",
   "execution_count": null,
   "id": "b731a071-c8ec-49f8-b953-03ff3b4b24cc",
   "metadata": {},
   "outputs": [],
   "source": [
    "import plotly.express as px\n",
    "import plotly.graph_objects as go\n",
    "\n",
    "\n",
    "figure: go.Figure = create_subplots(rows=2, cols=3)\n",
    "\n",
    "\n",
    "# NOTE: Alternative color sequences\n",
    "colors: list[str] = px.colors.sequential.Plasma_r * 2\n",
    "# colors: list[str] = px.colors.qualitative.G10\n",
    "\n",
    "for index, (result, color) in enumerate(zip(test_results, colors)):\n",
    "\n",
    "    traces: dict[str, go.Trace] = trace_registration_result(\n",
    "        result,\n",
    "        name=f\"Regi. {index}\",\n",
    "        legendgroup=index,\n",
    "        color=color,\n",
    "    )\n",
    "\n",
    "    figure.add_trace(traces[\"fitness\"], row=1, col=1)\n",
    "    figure.add_trace(traces[\"rmse\"], row=1, col=2)\n",
    "    figure.add_trace(traces[\"correspondences\"], row=1, col=3)\n",
    "\n",
    "    figure.add_trace(traces[\"scale\"], row=2, col=1)\n",
    "    figure.add_trace(traces[\"rotation\"], row=2, col=2)\n",
    "    figure.add_trace(traces[\"translation\"], row=2, col=3)\n",
    "\n",
    "\n",
    "figure.update_layout(height=800, width=1000, title_text=\"Registration Results\")\n",
    "figure.show()\n",
    "\n",
    "\n",
    "visualize_test: bool = False\n",
    "\n",
    "if visualize_test:\n",
    "\n",
    "    source_cloud: PointCloud = loaders[test_source]().unwrap()\n",
    "    target_cloud: PointCloud = loaders[test_target]().unwrap()\n",
    "\n",
    "    for index, result in enumerate(test_results):\n",
    "        visualize_registration(\n",
    "            source=source_cloud,\n",
    "            target=target_cloud,\n",
    "            transformation=result.transformation,\n",
    "            title=f\"Test case: {test_source}, {test_target}, {index}\",\n",
    "        )"
   ]
  },
  {
   "cell_type": "markdown",
   "id": "ea183317-dde9-425a-8914-2ad2d8136d16",
   "metadata": {},
   "source": [
    "### Generate indices and perform registration"
   ]
  },
  {
   "cell_type": "code",
   "execution_count": null,
   "id": "0ee2b88b-5419-4d8b-8e25-7d22e840c14d",
   "metadata": {},
   "outputs": [],
   "source": [
    "indices: list[MultiTargetIndex] = generate_cascade_indices(len(loaders))\n",
    "\n",
    "result_storage = {\n",
    "    \"feature_matching\": dict(),\n",
    "    \"incremental_coarse\": dict(),\n",
    "}"
   ]
  },
  {
   "cell_type": "code",
   "execution_count": null,
   "id": "6802694c-5f11-4b64-a185-1022145ac821",
   "metadata": {},
   "outputs": [],
   "source": [
    "for index in indices:\n",
    "    source = index.source\n",
    "\n",
    "    results: dict[int, RegistrationResult] = dict()\n",
    "\n",
    "    for target in index.targets:\n",
    "\n",
    "        result: RegistrationResult = registration_worker(\n",
    "            source_loader=loaders[source],\n",
    "            target_loader=loaders[target],\n",
    "            preprocessor=preprocessor,\n",
    "            registrator=registrator,\n",
    "        )\n",
    "\n",
    "        log_registration(source, target, result)\n",
    "\n",
    "        results[target] = result\n",
    "\n",
    "    result_storage[\"feature_matching\"][source] = results"
   ]
  },
  {
   "cell_type": "markdown",
   "id": "1d7b74d2-0bf4-43af-8ad5-2b5421d0e234",
   "metadata": {},
   "source": [
    "### Draw registration and plot results\n",
    "- TODO: Draw registered point clouds\n",
    "- TODO: Plot point clouds, correspondences, and error distribution"
   ]
  },
  {
   "cell_type": "code",
   "execution_count": null,
   "id": "44c995ba-d81c-4825-b415-414fee12c101",
   "metadata": {},
   "outputs": [],
   "source": [
    "visualize_global_results: bool = False\n",
    "\n",
    "if visualize_global_results:\n",
    "\n",
    "    for source, registrations in result_storage[\"feature_matching\"].items():\n",
    "\n",
    "        source_cloud: PointCloud = loaders[source]().unwrap()\n",
    "\n",
    "        for target, result in registrations.items():\n",
    "\n",
    "            target_cloud: PointCloud = loaders[target]().unwrap()\n",
    "\n",
    "            visualize_registration(\n",
    "                source=source_cloud,\n",
    "                target=target_cloud,\n",
    "                transformation=result.transformation,\n",
    "                title=f\"Registration - source: {source}, target: {target}\",\n",
    "            )"
   ]
  },
  {
   "cell_type": "markdown",
   "id": "70a015b7-fd6d-4270-8c9c-e6b75664601c",
   "metadata": {},
   "source": [
    "### Perform coarse incremental registration"
   ]
  },
  {
   "cell_type": "code",
   "execution_count": null,
   "id": "74d5cfa7-c6be-434b-8e1b-b3756e484cf4",
   "metadata": {},
   "outputs": [],
   "source": [
    "icp_coarse_parameters = dict()\n",
    "icp_coarse_parameters[\"voxel\"] = 0.08\n",
    "icp_coarse_parameters[\"distance\"] = 0.04\n",
    "\n",
    "loss = reg.TukeyLoss(k=1.00)\n",
    "icp_coarse_parameters[\"estimator\"] = reg.TransformationEstimationPointToPlane(loss)\n",
    "\n",
    "icp_preprocessor: Callable[[PointCloud], PointCloud] = partial(\n",
    "    downsample_point_cloud,\n",
    "    spacing=icp_coarse_parameters[\"voxel\"],\n",
    ")\n",
    "\n",
    "icp_registrator = partial(\n",
    "    register_point_cloud_icp,\n",
    "    distance_threshold=icp_coarse_parameters[\"distance\"],\n",
    "    distance_measure=icp_coarse_parameters[\"estimator\"],\n",
    ")"
   ]
  },
  {
   "cell_type": "code",
   "execution_count": null,
   "id": "39e78af0-9d78-4f9b-9a0b-a91a19a840ab",
   "metadata": {},
   "outputs": [],
   "source": [
    "result_storage[\"incremental_coarse\"] = dict()\n",
    "\n",
    "for index in indices:\n",
    "    source = index.source\n",
    "\n",
    "    results: dict[int, RegistrationResult] = dict()\n",
    "\n",
    "    for target in index.targets:\n",
    "\n",
    "        preliminary_result = result_storage[\"feature_matching\"][source][target]\n",
    "\n",
    "        source_cloud: PointCloud = loaders[source]().unwrap()\n",
    "        target_cloud: PointCloud = loaders[target]().unwrap()\n",
    "\n",
    "        source_prepped: PointCloud = icp_preprocessor(source_cloud)\n",
    "        target_prepped: PointCloud = icp_preprocessor(target_cloud)\n",
    "\n",
    "        refined_result: RegistrationResult = icp_registrator(\n",
    "            source=source_prepped,\n",
    "            target=target_prepped,\n",
    "            transformation=preliminary_result.transformation,\n",
    "        )\n",
    "\n",
    "        logger.info(f\"ICP - source {source}, target {target}\")\n",
    "\n",
    "        scale, rotation, translation = decompose_transformation(\n",
    "            preliminary_result.transformation\n",
    "        )\n",
    "        logger.info(f\" - Initial: {translation}\")\n",
    "\n",
    "        scale, rotation, translation = decompose_transformation(\n",
    "            refined_result.transformation\n",
    "        )\n",
    "        logger.info(f\" - Refined: {translation}\")\n",
    "\n",
    "        results[target] = refined_result\n",
    "\n",
    "    result_storage[\"incremental_coarse\"][source] = results"
   ]
  },
  {
   "cell_type": "code",
   "execution_count": null,
   "id": "0b2c5dab-8cb8-49a0-8996-390d777cfa88",
   "metadata": {},
   "outputs": [],
   "source": [
    "visualize_incremental_results: bool = False\n",
    "\n",
    "if visualize_incremental_results:\n",
    "\n",
    "    for source, registrations in result_storage[\"incremental_coarse\"].items():\n",
    "\n",
    "        source_cloud: PointCloud = loaders[source]().unwrap()\n",
    "\n",
    "        for target, result in registrations.items():\n",
    "\n",
    "            target_cloud: PointCloud = loaders[target]().unwrap()\n",
    "\n",
    "            visualize_registration(\n",
    "                source=source_cloud,\n",
    "                target=target_cloud,\n",
    "                transformation=result.transformation,\n",
    "                title=f\"Registration - source: {source}, target: {target}\",\n",
    "            )"
   ]
  },
  {
   "cell_type": "markdown",
   "id": "289a4963-ac0d-4de0-a726-4835c2683937",
   "metadata": {},
   "source": [
    "### TODO: Perform fine / colored registration"
   ]
  },
  {
   "cell_type": "code",
   "execution_count": null,
   "id": "82a637ae-6825-40bd-90d3-2c1cebf6ac06",
   "metadata": {},
   "outputs": [],
   "source": [
    "# TODO: Add colored ICP"
   ]
  },
  {
   "cell_type": "markdown",
   "id": "4752fa78-862a-4688-ad62-8d4ae5d9d1bc",
   "metadata": {},
   "source": [
    "### TODO: Perform multiway registration"
   ]
  },
  {
   "cell_type": "code",
   "execution_count": null,
   "id": "2f0ab252-0311-4ec1-bede-50870d25ec1c",
   "metadata": {},
   "outputs": [],
   "source": [
    "initial_graph: reg.PoseGraph = build_pose_graph(result_storage[\"incremental_coarse\"])\n",
    "\n",
    "with util.VerbosityContextManager(util.VerbosityLevel.Debug) as cm:\n",
    "    optimized_graph: reg.PoseGraph = optimize_pose_graph(\n",
    "        initial_graph,\n",
    "        correspondence_distance=0.075,\n",
    "        prune_threshold=0.25,\n",
    "        preference_loop_closure=1.0,\n",
    "        reference_node=0,\n",
    "    )"
   ]
  },
  {
   "cell_type": "markdown",
   "id": "c7880422-12bd-4eb1-9c84-9059ab4af7da",
   "metadata": {},
   "source": [
    "### Draw final registration results"
   ]
  },
  {
   "cell_type": "code",
   "execution_count": null,
   "id": "91b4d179-e20c-4153-ac41-05789e3e89aa",
   "metadata": {},
   "outputs": [],
   "source": [
    "transformed_clouds: list[PointCloud] = list()\n",
    "\n",
    "for identifier in result_storage[\"incremental_coarse\"]:\n",
    "\n",
    "    cloud: PointCloud = loaders[identifier]().unwrap()\n",
    "    cloud.transform(optimized_graph.nodes[identifier].pose)\n",
    "    transformed_clouds.append(cloud)\n",
    "\n",
    "vis.draw_geometries(transformed_clouds)"
   ]
  }
 ],
 "metadata": {
  "kernelspec": {
   "display_name": "Python 3 (ipykernel)",
   "language": "python",
   "name": "python3"
  },
  "language_info": {
   "codemirror_mode": {
    "name": "ipython",
    "version": 3
   },
   "file_extension": ".py",
   "mimetype": "text/x-python",
   "name": "python",
   "nbconvert_exporter": "python",
   "pygments_lexer": "ipython3",
   "version": "3.11.9"
  }
 },
 "nbformat": 4,
 "nbformat_minor": 5
}
