{
 "cells": [
  {
   "cell_type": "markdown",
   "id": "e9846aa9-966a-4e11-9d10-fa3ffb1e0968",
   "metadata": {},
   "source": [
    "### Include registration modules"
   ]
  },
  {
   "cell_type": "code",
   "execution_count": 1,
   "id": "7b371dd6-fbf6-4edc-97e7-14179ad28726",
   "metadata": {},
   "outputs": [
    {
     "name": "stdout",
     "output_type": "stream",
     "text": [
      "Jupyter environment detected. Enabling Open3D WebVisualizer.\n",
      "[Open3D INFO] WebRTC GUI backend enabled.\n",
      "[Open3D INFO] WebRTCWindowSystem: HTTP handshake server disabled.\n"
     ]
    }
   ],
   "source": [
    "import copy\n",
    "\n",
    "from functools import partial\n",
    "from pathlib import Path\n",
    "from time import time\n",
    "from typing import Callable\n",
    "\n",
    "import numpy as np\n",
    "import open3d.geometry as geom\n",
    "import open3d.pipelines.registration as reg\n",
    "import open3d.visualization as vis\n",
    "import open3d.utility as util\n",
    "\n",
    "from result import Ok\n",
    "\n",
    "from benthoscan.runtime import Environment, load_environment\n",
    "\n",
    "from benthoscan.registration import PointCloud, PointCloudLoader, read_point_cloud\n",
    "from benthoscan.registration import MultiTargetIndex, generate_cascade_indices\n",
    "from benthoscan.registration import downsample_point_cloud, estimate_point_cloud_normals\n",
    "\n",
    "from benthoscan.registration import (\n",
    "    ExtendedRegistrationResult,\n",
    "    register_point_cloud_fphp_ransac,\n",
    "    register_point_cloud_icp,\n",
    "    build_pose_graph,\n",
    "    optimize_pose_graph,\n",
    ")\n",
    "\n",
    "from benthoscan.visualization import (\n",
    "    visualize_registration,\n",
    "    visualize_registration_batch,\n",
    ")\n",
    "\n",
    "# from benthoscan.tasks.registration import RegistrationTaskConfig\n",
    "\n",
    "from benthoscan.utils.log import logger"
   ]
  },
  {
   "cell_type": "markdown",
   "id": "1cf9c7ff-d813-4e92-91c6-21a7567d18e2",
   "metadata": {},
   "source": [
    "### Load environment and configure data loaders"
   ]
  },
  {
   "cell_type": "code",
   "execution_count": 2,
   "id": "d9e03428-3e96-4f3c-8a58-5e7df86e3aaa",
   "metadata": {},
   "outputs": [],
   "source": [
    "environment: Environment = load_environment()\n",
    "\n",
    "DATA_DIR: Path = Path(\"/home/martin/dev/benthoscan/.cache\")\n",
    "\n",
    "point_cloud_files: dict = {\n",
    "    0: DATA_DIR / Path(\"qdc5ghs3_20100430_024508.ply\"),\n",
    "    1: DATA_DIR / Path(\"qdc5ghs3_20120501_033336.ply\"),\n",
    "    2: DATA_DIR / Path(\"qdc5ghs3_20130405_103429.ply\"),\n",
    "    3: DATA_DIR / Path(\"qdc5ghs3_20210315_230947.ply\"),\n",
    "}\n",
    "\n",
    "loaders: dict = {\n",
    "    key: partial(read_point_cloud, path=path) for key, path in point_cloud_files.items()\n",
    "}\n",
    "\n",
    "count = len(loaders)\n",
    "if count < 2:\n",
    "    logger.error(f\"invalid number of point clouds for registration: {count}\")"
   ]
  },
  {
   "cell_type": "markdown",
   "id": "4b16a71b-5995-4478-baed-558ca7607207",
   "metadata": {},
   "source": [
    "### Configure preprocessor and registrator"
   ]
  },
  {
   "cell_type": "code",
   "execution_count": 3,
   "id": "002faf54-75d6-4450-bd99-450ebe5f4497",
   "metadata": {},
   "outputs": [],
   "source": [
    "def downsample_and_estimate_normals(cloud: PointCloud, voxel_size: float) -> PointCloud:\n",
    "    \"\"\"Preprocesses a point cloud by downsampling and estimating the normals.\"\"\"\n",
    "    downsampled: PointCloud = downsample_point_cloud(cloud, spacing=voxel_size)\n",
    "    preprocessed: PointCloud = estimate_point_cloud_normals(downsampled)\n",
    "    return preprocessed\n",
    "\n",
    "\n",
    "def registration_worker(\n",
    "    source_loader: PointCloudLoader,\n",
    "    target_loader: PointCloudLoader,\n",
    "    preprocessor: Callable[[PointCloud], PointCloud],\n",
    "    registrator: Callable[[PointCloud, PointCloud], ExtendedRegistrationResult],\n",
    ") -> ExtendedRegistrationResult:\n",
    "    \"\"\"Worker function that performs the point cloud registration.\"\"\"\n",
    "\n",
    "    source_cloud: PointCloud = source_loader().unwrap()\n",
    "    target_cloud: PointCloud = target_loader().unwrap()\n",
    "\n",
    "    preprocessed_source: PointCloud = preprocessor(source_cloud)\n",
    "    preprocessed_target: PointCloud = preprocessor(target_cloud)\n",
    "\n",
    "    result: ExtendedRegistratorResult = registrator(\n",
    "        source=preprocessed_source, target=preprocessed_target\n",
    "    )\n",
    "\n",
    "    return result"
   ]
  },
  {
   "cell_type": "markdown",
   "id": "16ab0cfe-8d07-4b73-ac3a-b3f48e7b5910",
   "metadata": {},
   "source": [
    "### Transformation Helpers"
   ]
  },
  {
   "cell_type": "code",
   "execution_count": 48,
   "id": "ee3dbb0e-36e2-4f59-8591-dfb566e7ab44",
   "metadata": {},
   "outputs": [],
   "source": [
    "from scipy.spatial.transform import Rotation\n",
    "\n",
    "\n",
    "def decompose_transformation(transformation: np.ndarray) -> tuple:\n",
    "    \"\"\"Decomposes a 3D rigid body transformation into scale, rotation, and translation.\"\"\"\n",
    "\n",
    "    assert transformation.shape == (\n",
    "        4,\n",
    "        4,\n",
    "    ), \"transformation is not a 3D rigid-body transformation\"\n",
    "\n",
    "    scaled_rotation: np.ndarray = transformation[:3, :3]\n",
    "    translation: np.ndarray = transformation[:3, 3]\n",
    "\n",
    "    scale: float = np.linalg.norm(scaled_rotation, axis=1)[0]\n",
    "    rotation: np.ndarray = scaled_rotation / scale\n",
    "\n",
    "    return scale, rotation, translation\n",
    "\n",
    "\n",
    "def decompose_rotation(rotation: np.ndarray) -> tuple:\n",
    "    \"\"\"Decomposes a 3D rotation matrix into yaw, roll, and pitch angles.\"\"\"\n",
    "\n",
    "    assert rotation.shape == (\n",
    "        3,\n",
    "        3,\n",
    "    ), \"rotation is not a 3D rotation matrix\"\n",
    "\n",
    "    rotation: Rotation = Rotation.from_matrix(rotation)\n",
    "\n",
    "    yaw, roll, pitch = rotation.as_euler(\"ZYX\", degrees=True)\n",
    "\n",
    "    return yaw, roll, pitch\n",
    "\n",
    "\n",
    "def log_registration(\n",
    "    source: int, target: int, result: ExtendedRegistrationResult\n",
    ") -> None:\n",
    "    \"\"\"TODO\"\"\"\n",
    "\n",
    "    scale, rotation, translation = decompose_transformation(result.transformation)\n",
    "\n",
    "    logger.info(\"\")\n",
    "    logger.info(f\"Source:       {source}\")\n",
    "    logger.info(f\"Target:       {target}\")\n",
    "    logger.info(f\"Corresp.:     {len(result.correspondence_set)}\")\n",
    "    logger.info(f\"Fitness:      {result.fitness}\")\n",
    "    logger.info(f\"Inlier RMSE:  {result.inlier_rmse}\")\n",
    "    logger.info(f\"Trans. scale:    {scale}\")\n",
    "    logger.info(f\"Trans. trans.:   {translation}\")\n",
    "    logger.info(f\"Trans. rot.:     {rotation}\")\n",
    "    logger.info(\"\")"
   ]
  },
  {
   "cell_type": "code",
   "execution_count": 7,
   "id": "59fa67a2-b3d6-4e51-9967-7df97d9fa2d1",
   "metadata": {},
   "outputs": [],
   "source": [
    "# NOTE: Parameters - move to config\n",
    "VOXEL_SIZE: float = 0.20\n",
    "\n",
    "# FPFH feature parameters\n",
    "FEATURE_RADIUS: float = 2.00  # NOTE: 2.00\n",
    "FEATURE_NEIGHBOURS: int = 500\n",
    "\n",
    "# Validation and estimation\n",
    "CORRESPONDENCE_DISTANCE: float = 0.20\n",
    "EDGE_LENGTH: float = 0.95  # NOTE: 0.95\n",
    "NORMAL_ANGLE: float = 5.0\n",
    "\n",
    "MUTUAL_FILTER: bool = True\n",
    "ESTIMATE_SCALE: bool = True\n",
    "\n",
    "# RANSAC parameters\n",
    "SAMPLE_COUNT: int = 3\n",
    "MAX_ITERATIONS: int = 1000000\n",
    "CONFIDENCE: float = 1.0  # NOTE: 0.999\n",
    "\n",
    "\n",
    "preprocessor: Callable[[PointCloud], PointCloud] = partial(\n",
    "    downsample_and_estimate_normals, voxel_size=VOXEL_SIZE\n",
    ")\n",
    "\n",
    "registrator = partial(\n",
    "    register_point_cloud_fphp_ransac,\n",
    "    distance_threshold=CORRESPONDENCE_DISTANCE,\n",
    "    feature_radius=FEATURE_RADIUS,\n",
    "    feature_neighbours=FEATURE_NEIGHBOURS,\n",
    "    max_iterations=MAX_ITERATIONS,\n",
    "    mutual_filter=MUTUAL_FILTER,\n",
    "    confidence=CONFIDENCE,\n",
    "    sample_count=SAMPLE_COUNT,\n",
    "    edge_check=EDGE_LENGTH,\n",
    "    normal_check=NORMAL_ANGLE,\n",
    "    scaling=ESTIMATE_SCALE,\n",
    ")"
   ]
  },
  {
   "cell_type": "markdown",
   "id": "af6af3fd-8028-4dcf-a60c-a0e8de778b3a",
   "metadata": {},
   "source": [
    "### Test registrator parameters on a single case"
   ]
  },
  {
   "cell_type": "code",
   "execution_count": 8,
   "id": "37d45a62-912a-4d0e-897d-f9fab2837bcf",
   "metadata": {},
   "outputs": [
    {
     "name": "stdout",
     "output_type": "stream",
     "text": [
      "[Open3D DEBUG] Format auto File /home/martin/dev/benthoscan/.cache/qdc5ghs3_20100430_024508.ply\n",
      "[Open3D DEBUG] Read geometry::PointCloud: 10457378 vertices.\n",
      "[Open3D DEBUG] Format auto File /home/martin/dev/benthoscan/.cache/qdc5ghs3_20210315_230947.ply\n",
      "[Open3D DEBUG] Read geometry::PointCloud: 15048357 vertices.\n",
      "[Open3D DEBUG] Pointcloud down sampled from 10457378 points to 29348 points.\n",
      "[Open3D DEBUG] Pointcloud down sampled from 15048357 points to 37926 points.\n",
      "[Open3D DEBUG] 5288 correspondences remain after mutual filter\n",
      "[Open3D DEBUG] Thread 880154: registration fitness=0.449, corres inlier ratio=0.005, Est. max k = inf\n",
      "[Open3D DEBUG] Thread 634485: registration fitness=0.102, corres inlier ratio=0.000, Est. max k = inf\n",
      "[Open3D DEBUG] Thread 393383: registration fitness=0.356, corres inlier ratio=0.008, Est. max k = inf\n",
      "[Open3D DEBUG] Thread 520682: registration fitness=0.328, corres inlier ratio=0.001, Est. max k = inf\n",
      "[Open3D DEBUG] Thread 267717: registration fitness=0.078, corres inlier ratio=0.001, Est. max k = inf\n",
      "[Open3D DEBUG] Thread 643131: registration fitness=0.132, corres inlier ratio=0.001, Est. max k = inf\n",
      "[Open3D DEBUG] Thread 646590: registration fitness=0.138, corres inlier ratio=0.001, Est. max k = inf\n",
      "[Open3D DEBUG] Thread 043847: registration fitness=0.149, corres inlier ratio=0.006, Est. max k = inf\n",
      "[Open3D DEBUG] Thread 169007: registration fitness=0.076, corres inlier ratio=0.001, Est. max k = inf\n",
      "[Open3D DEBUG] Thread 807311: registration fitness=0.245, corres inlier ratio=0.001, Est. max k = inf\n",
      "[Open3D DEBUG] Thread 053964: registration fitness=0.285, corres inlier ratio=0.002, Est. max k = inf\n",
      "[Open3D DEBUG] Thread 308129: registration fitness=0.230, corres inlier ratio=0.001, Est. max k = inf\n",
      "[Open3D DEBUG] Thread 823913: registration fitness=0.249, corres inlier ratio=0.002, Est. max k = inf\n",
      "[Open3D DEBUG] Thread 223742: registration fitness=0.405, corres inlier ratio=0.007, Est. max k = inf\n",
      "[Open3D DEBUG] Thread 332780: registration fitness=0.231, corres inlier ratio=0.001, Est. max k = inf\n",
      "[Open3D DEBUG] Thread 838768: registration fitness=0.374, corres inlier ratio=0.002, Est. max k = inf\n",
      "[Open3D DEBUG] Thread 605803: registration fitness=0.409, corres inlier ratio=0.007, Est. max k = inf\n",
      "[Open3D DEBUG] Thread 693337: registration fitness=0.158, corres inlier ratio=0.001, Est. max k = inf\n",
      "[Open3D DEBUG] Thread 117784: registration fitness=0.295, corres inlier ratio=0.001, Est. max k = inf\n",
      "[Open3D DEBUG] Thread 118504: registration fitness=0.344, corres inlier ratio=0.001, Est. max k = inf\n"
     ]
    },
    {
     "name": "stderr",
     "output_type": "stream",
     "text": [
      "\u001b[32m2024-07-07 09:34:10.591\u001b[0m | \u001b[1mINFO    \u001b[0m | \u001b[36m__main__\u001b[0m:\u001b[36m<module>\u001b[0m:\u001b[36m25\u001b[0m - \u001b[1mRansac time: 9.008347988128662\u001b[0m\n",
      "\u001b[32m2024-07-07 09:34:10.593\u001b[0m | \u001b[1mINFO    \u001b[0m | \u001b[36m__main__\u001b[0m:\u001b[36mlog_registration\u001b[0m:\u001b[36m25\u001b[0m - \u001b[1m\u001b[0m\n",
      "\u001b[32m2024-07-07 09:34:10.595\u001b[0m | \u001b[1mINFO    \u001b[0m | \u001b[36m__main__\u001b[0m:\u001b[36mlog_registration\u001b[0m:\u001b[36m26\u001b[0m - \u001b[1mSource:       0\u001b[0m\n",
      "\u001b[32m2024-07-07 09:34:10.597\u001b[0m | \u001b[1mINFO    \u001b[0m | \u001b[36m__main__\u001b[0m:\u001b[36mlog_registration\u001b[0m:\u001b[36m27\u001b[0m - \u001b[1mTarget:       3\u001b[0m\n",
      "\u001b[32m2024-07-07 09:34:10.598\u001b[0m | \u001b[1mINFO    \u001b[0m | \u001b[36m__main__\u001b[0m:\u001b[36mlog_registration\u001b[0m:\u001b[36m28\u001b[0m - \u001b[1mCorresp.:     13191\u001b[0m\n",
      "\u001b[32m2024-07-07 09:34:10.598\u001b[0m | \u001b[1mINFO    \u001b[0m | \u001b[36m__main__\u001b[0m:\u001b[36mlog_registration\u001b[0m:\u001b[36m29\u001b[0m - \u001b[1mFitness:      0.44946844759438465\u001b[0m\n",
      "\u001b[32m2024-07-07 09:34:10.599\u001b[0m | \u001b[1mINFO    \u001b[0m | \u001b[36m__main__\u001b[0m:\u001b[36mlog_registration\u001b[0m:\u001b[36m30\u001b[0m - \u001b[1mInlier RMSE:  0.10900223583854193\u001b[0m\n",
      "\u001b[32m2024-07-07 09:34:10.601\u001b[0m | \u001b[1mINFO    \u001b[0m | \u001b[36m__main__\u001b[0m:\u001b[36mlog_registration\u001b[0m:\u001b[36m31\u001b[0m - \u001b[1mTrans. scale:    0.9662130097286925\u001b[0m\n",
      "\u001b[32m2024-07-07 09:34:10.603\u001b[0m | \u001b[1mINFO    \u001b[0m | \u001b[36m__main__\u001b[0m:\u001b[36mlog_registration\u001b[0m:\u001b[36m32\u001b[0m - \u001b[1mTrans. trans.:   [ 7.39281453 12.00388305 -1.5436856 ]\u001b[0m\n",
      "\u001b[32m2024-07-07 09:34:10.603\u001b[0m | \u001b[1mINFO    \u001b[0m | \u001b[36m__main__\u001b[0m:\u001b[36mlog_registration\u001b[0m:\u001b[36m33\u001b[0m - \u001b[1mTrans. rot.:     [[ 0.9991119  -0.04171887  0.00591174]\n",
      " [ 0.04168451  0.99911387  0.00582026]\n",
      " [-0.00614932 -0.00556867  0.99996559]]\u001b[0m\n",
      "\u001b[32m2024-07-07 09:34:10.604\u001b[0m | \u001b[1mINFO    \u001b[0m | \u001b[36m__main__\u001b[0m:\u001b[36mlog_registration\u001b[0m:\u001b[36m34\u001b[0m - \u001b[1m\u001b[0m\n"
     ]
    },
    {
     "name": "stdout",
     "output_type": "stream",
     "text": [
      "[Open3D DEBUG] Thread 730087: registration fitness=0.340, corres inlier ratio=0.001, Est. max k = inf\n",
      "[Open3D DEBUG] RANSAC exits after 63 validations. Best inlier ratio 4.494684e-01, RMSE 1.090022e-01\n",
      "[Open3D DEBUG] Pointcloud down sampled from 10457378 points to 29348 points.\n",
      "[Open3D DEBUG] Pointcloud down sampled from 15048357 points to 37926 points.\n",
      "[Open3D DEBUG] 5288 correspondences remain after mutual filter\n",
      "[Open3D DEBUG] Thread 502698: registration fitness=0.088, corres inlier ratio=0.001, Est. max k = inf\n",
      "[Open3D DEBUG] Thread 385954: registration fitness=0.282, corres inlier ratio=0.007, Est. max k = inf\n",
      "[Open3D DEBUG] Thread 254936: registration fitness=0.076, corres inlier ratio=0.001, Est. max k = inf\n",
      "[Open3D DEBUG] Thread 886495: registration fitness=0.291, corres inlier ratio=0.001, Est. max k = inf\n",
      "[Open3D DEBUG] Thread 020782: registration fitness=0.073, corres inlier ratio=0.000, Est. max k = inf\n",
      "[Open3D DEBUG] Thread 522987: registration fitness=0.221, corres inlier ratio=0.001, Est. max k = inf\n",
      "[Open3D DEBUG] Thread 785131: registration fitness=0.193, corres inlier ratio=0.001, Est. max k = inf\n",
      "[Open3D DEBUG] Thread 270714: registration fitness=0.105, corres inlier ratio=0.001, Est. max k = inf\n",
      "[Open3D DEBUG] Thread 529733: registration fitness=0.394, corres inlier ratio=0.001, Est. max k = inf\n",
      "[Open3D DEBUG] Thread 154481: registration fitness=0.016, corres inlier ratio=0.001, Est. max k = inf\n",
      "[Open3D DEBUG] Thread 786389: registration fitness=0.290, corres inlier ratio=0.001, Est. max k = inf\n",
      "[Open3D DEBUG] Thread 920185: registration fitness=0.339, corres inlier ratio=0.001, Est. max k = inf\n",
      "[Open3D DEBUG] Thread 420803: registration fitness=0.287, corres inlier ratio=0.002, Est. max k = inf\n",
      "[Open3D DEBUG] Thread 164387: registration fitness=0.121, corres inlier ratio=0.001, Est. max k = inf\n",
      "[Open3D DEBUG] Thread 703146: registration fitness=0.283, corres inlier ratio=0.001, Est. max k = inf\n",
      "[Open3D DEBUG] Thread 057844: registration fitness=0.216, corres inlier ratio=0.002, Est. max k = inf\n",
      "[Open3D DEBUG] Thread 070210: registration fitness=0.363, corres inlier ratio=0.001, Est. max k = inf\n",
      "[Open3D DEBUG] Thread 455912: registration fitness=0.443, corres inlier ratio=0.003, Est. max k = inf\n",
      "[Open3D DEBUG] Thread 318774: registration fitness=0.157, corres inlier ratio=0.000, Est. max k = inf\n",
      "[Open3D DEBUG] Thread 591542: registration fitness=0.436, corres inlier ratio=0.004, Est. max k = inf\n"
     ]
    },
    {
     "name": "stderr",
     "output_type": "stream",
     "text": [
      "\u001b[32m2024-07-07 09:34:26.388\u001b[0m | \u001b[1mINFO    \u001b[0m | \u001b[36m__main__\u001b[0m:\u001b[36m<module>\u001b[0m:\u001b[36m25\u001b[0m - \u001b[1mRansac time: 15.782273054122925\u001b[0m\n",
      "\u001b[32m2024-07-07 09:34:26.389\u001b[0m | \u001b[1mINFO    \u001b[0m | \u001b[36m__main__\u001b[0m:\u001b[36mlog_registration\u001b[0m:\u001b[36m25\u001b[0m - \u001b[1m\u001b[0m\n",
      "\u001b[32m2024-07-07 09:34:26.391\u001b[0m | \u001b[1mINFO    \u001b[0m | \u001b[36m__main__\u001b[0m:\u001b[36mlog_registration\u001b[0m:\u001b[36m26\u001b[0m - \u001b[1mSource:       0\u001b[0m\n",
      "\u001b[32m2024-07-07 09:34:26.391\u001b[0m | \u001b[1mINFO    \u001b[0m | \u001b[36m__main__\u001b[0m:\u001b[36mlog_registration\u001b[0m:\u001b[36m27\u001b[0m - \u001b[1mTarget:       3\u001b[0m\n",
      "\u001b[32m2024-07-07 09:34:26.393\u001b[0m | \u001b[1mINFO    \u001b[0m | \u001b[36m__main__\u001b[0m:\u001b[36mlog_registration\u001b[0m:\u001b[36m28\u001b[0m - \u001b[1mCorresp.:     12991\u001b[0m\n",
      "\u001b[32m2024-07-07 09:34:26.395\u001b[0m | \u001b[1mINFO    \u001b[0m | \u001b[36m__main__\u001b[0m:\u001b[36mlog_registration\u001b[0m:\u001b[36m29\u001b[0m - \u001b[1mFitness:      0.4426536731634183\u001b[0m\n",
      "\u001b[32m2024-07-07 09:34:26.396\u001b[0m | \u001b[1mINFO    \u001b[0m | \u001b[36m__main__\u001b[0m:\u001b[36mlog_registration\u001b[0m:\u001b[36m30\u001b[0m - \u001b[1mInlier RMSE:  0.10978516636098082\u001b[0m\n",
      "\u001b[32m2024-07-07 09:34:26.397\u001b[0m | \u001b[1mINFO    \u001b[0m | \u001b[36m__main__\u001b[0m:\u001b[36mlog_registration\u001b[0m:\u001b[36m31\u001b[0m - \u001b[1mTrans. scale:    0.9716023723904313\u001b[0m\n",
      "\u001b[32m2024-07-07 09:34:26.398\u001b[0m | \u001b[1mINFO    \u001b[0m | \u001b[36m__main__\u001b[0m:\u001b[36mlog_registration\u001b[0m:\u001b[36m32\u001b[0m - \u001b[1mTrans. trans.:   [ 7.26597472 11.72096777 -1.35439407]\u001b[0m\n",
      "\u001b[32m2024-07-07 09:34:26.400\u001b[0m | \u001b[1mINFO    \u001b[0m | \u001b[36m__main__\u001b[0m:\u001b[36mlog_registration\u001b[0m:\u001b[36m33\u001b[0m - \u001b[1mTrans. rot.:     [[ 0.99838536 -0.05659721  0.00484126]\n",
      " [ 0.05660698  0.99839472 -0.00190514]\n",
      " [-0.00472567  0.00217611  0.99998647]]\u001b[0m\n",
      "\u001b[32m2024-07-07 09:34:26.402\u001b[0m | \u001b[1mINFO    \u001b[0m | \u001b[36m__main__\u001b[0m:\u001b[36mlog_registration\u001b[0m:\u001b[36m34\u001b[0m - \u001b[1m\u001b[0m\n"
     ]
    },
    {
     "name": "stdout",
     "output_type": "stream",
     "text": [
      "[Open3D DEBUG] Thread 366463: registration fitness=0.210, corres inlier ratio=0.001, Est. max k = inf\n",
      "[Open3D DEBUG] Thread 248574: registration fitness=0.122, corres inlier ratio=0.001, Est. max k = inf\n",
      "[Open3D DEBUG] RANSAC exits after 50 validations. Best inlier ratio 4.426537e-01, RMSE 1.097852e-01\n",
      "[Open3D DEBUG] Pointcloud down sampled from 10457378 points to 29348 points.\n",
      "[Open3D DEBUG] Pointcloud down sampled from 15048357 points to 37926 points.\n",
      "[Open3D DEBUG] 5288 correspondences remain after mutual filter\n",
      "[Open3D DEBUG] Thread 628713: registration fitness=0.195, corres inlier ratio=0.000, Est. max k = inf\n",
      "[Open3D DEBUG] Thread 630353: registration fitness=0.271, corres inlier ratio=0.001, Est. max k = inf\n",
      "[Open3D DEBUG] Thread 258871: registration fitness=0.256, corres inlier ratio=0.002, Est. max k = inf\n",
      "[Open3D DEBUG] Thread 129390: registration fitness=0.098, corres inlier ratio=0.001, Est. max k = inf\n",
      "[Open3D DEBUG] Thread 759247: registration fitness=0.108, corres inlier ratio=0.001, Est. max k = inf\n",
      "[Open3D DEBUG] Thread 394063: registration fitness=0.128, corres inlier ratio=0.000, Est. max k = inf\n",
      "[Open3D DEBUG] Thread 526601: registration fitness=0.439, corres inlier ratio=0.004, Est. max k = inf\n",
      "[Open3D DEBUG] Thread 904143: registration fitness=0.187, corres inlier ratio=0.005, Est. max k = inf\n",
      "[Open3D DEBUG] Thread 268928: registration fitness=0.348, corres inlier ratio=0.002, Est. max k = inf\n",
      "[Open3D DEBUG] Thread 766594: registration fitness=0.123, corres inlier ratio=0.005, Est. max k = inf\n",
      "[Open3D DEBUG] Thread 028524: registration fitness=0.210, corres inlier ratio=0.001, Est. max k = inf\n",
      "[Open3D DEBUG] Thread 408208: registration fitness=0.365, corres inlier ratio=0.001, Est. max k = inf\n",
      "[Open3D DEBUG] Thread 173457: registration fitness=0.143, corres inlier ratio=0.002, Est. max k = inf\n",
      "[Open3D DEBUG] Thread 677825: registration fitness=0.452, corres inlier ratio=0.005, Est. max k = inf\n",
      "[Open3D DEBUG] Thread 821385: registration fitness=0.207, corres inlier ratio=0.001, Est. max k = inf\n"
     ]
    },
    {
     "name": "stderr",
     "output_type": "stream",
     "text": [
      "\u001b[32m2024-07-07 09:34:41.739\u001b[0m | \u001b[1mINFO    \u001b[0m | \u001b[36m__main__\u001b[0m:\u001b[36m<module>\u001b[0m:\u001b[36m25\u001b[0m - \u001b[1mRansac time: 15.337153673171997\u001b[0m\n",
      "\u001b[32m2024-07-07 09:34:41.740\u001b[0m | \u001b[1mINFO    \u001b[0m | \u001b[36m__main__\u001b[0m:\u001b[36mlog_registration\u001b[0m:\u001b[36m25\u001b[0m - \u001b[1m\u001b[0m\n",
      "\u001b[32m2024-07-07 09:34:41.741\u001b[0m | \u001b[1mINFO    \u001b[0m | \u001b[36m__main__\u001b[0m:\u001b[36mlog_registration\u001b[0m:\u001b[36m26\u001b[0m - \u001b[1mSource:       0\u001b[0m\n",
      "\u001b[32m2024-07-07 09:34:41.742\u001b[0m | \u001b[1mINFO    \u001b[0m | \u001b[36m__main__\u001b[0m:\u001b[36mlog_registration\u001b[0m:\u001b[36m27\u001b[0m - \u001b[1mTarget:       3\u001b[0m\n",
      "\u001b[32m2024-07-07 09:34:41.742\u001b[0m | \u001b[1mINFO    \u001b[0m | \u001b[36m__main__\u001b[0m:\u001b[36mlog_registration\u001b[0m:\u001b[36m28\u001b[0m - \u001b[1mCorresp.:     13252\u001b[0m\n",
      "\u001b[32m2024-07-07 09:34:41.743\u001b[0m | \u001b[1mINFO    \u001b[0m | \u001b[36m__main__\u001b[0m:\u001b[36mlog_registration\u001b[0m:\u001b[36m29\u001b[0m - \u001b[1mFitness:      0.4515469537958294\u001b[0m\n",
      "\u001b[32m2024-07-07 09:34:41.743\u001b[0m | \u001b[1mINFO    \u001b[0m | \u001b[36m__main__\u001b[0m:\u001b[36mlog_registration\u001b[0m:\u001b[36m30\u001b[0m - \u001b[1mInlier RMSE:  0.10165770634202528\u001b[0m\n",
      "\u001b[32m2024-07-07 09:34:41.744\u001b[0m | \u001b[1mINFO    \u001b[0m | \u001b[36m__main__\u001b[0m:\u001b[36mlog_registration\u001b[0m:\u001b[36m31\u001b[0m - \u001b[1mTrans. scale:    0.9648816789358121\u001b[0m\n",
      "\u001b[32m2024-07-07 09:34:41.745\u001b[0m | \u001b[1mINFO    \u001b[0m | \u001b[36m__main__\u001b[0m:\u001b[36mlog_registration\u001b[0m:\u001b[36m32\u001b[0m - \u001b[1mTrans. trans.:   [ 6.88139216 11.93976592 -1.61025148]\u001b[0m\n",
      "\u001b[32m2024-07-07 09:34:41.746\u001b[0m | \u001b[1mINFO    \u001b[0m | \u001b[36m__main__\u001b[0m:\u001b[36mlog_registration\u001b[0m:\u001b[36m33\u001b[0m - \u001b[1mTrans. rot.:     [[ 9.99070759e-01 -4.28684497e-02 -4.46250662e-03]\n",
      " [ 4.28665731e-02  9.99080673e-01 -5.15365303e-04]\n",
      " [ 4.48049703e-03  3.23594039e-04  9.99989910e-01]]\u001b[0m\n",
      "\u001b[32m2024-07-07 09:34:41.746\u001b[0m | \u001b[1mINFO    \u001b[0m | \u001b[36m__main__\u001b[0m:\u001b[36mlog_registration\u001b[0m:\u001b[36m34\u001b[0m - \u001b[1m\u001b[0m\n"
     ]
    },
    {
     "name": "stdout",
     "output_type": "stream",
     "text": [
      "[Open3D DEBUG] RANSAC exits after 59 validations. Best inlier ratio 4.515470e-01, RMSE 1.016577e-01\n",
      "[Open3D DEBUG] Pointcloud down sampled from 10457378 points to 29348 points.\n",
      "[Open3D DEBUG] Pointcloud down sampled from 15048357 points to 37926 points.\n",
      "[Open3D DEBUG] 5288 correspondences remain after mutual filter\n",
      "[Open3D DEBUG] Thread 008637: registration fitness=0.330, corres inlier ratio=0.000, Est. max k = inf\n",
      "[Open3D DEBUG] Thread 512154: registration fitness=0.149, corres inlier ratio=0.001, Est. max k = inf\n",
      "[Open3D DEBUG] Thread 136352: registration fitness=0.382, corres inlier ratio=0.001, Est. max k = inf\n",
      "[Open3D DEBUG] Thread 776636: registration fitness=0.276, corres inlier ratio=0.004, Est. max k = inf\n",
      "[Open3D DEBUG] Thread 650793: registration fitness=0.317, corres inlier ratio=0.002, Est. max k = inf\n",
      "[Open3D DEBUG] Thread 897205: registration fitness=0.047, corres inlier ratio=0.001, Est. max k = inf\n",
      "[Open3D DEBUG] Thread 533616: registration fitness=0.354, corres inlier ratio=0.007, Est. max k = inf\n",
      "[Open3D DEBUG] Thread 929060: registration fitness=0.182, corres inlier ratio=0.001, Est. max k = inf\n",
      "[Open3D DEBUG] Thread 294600: registration fitness=0.030, corres inlier ratio=0.001, Est. max k = inf\n",
      "[Open3D DEBUG] Thread 045851: registration fitness=0.336, corres inlier ratio=0.001, Est. max k = inf\n",
      "[Open3D DEBUG] Thread 198087: registration fitness=0.426, corres inlier ratio=0.001, Est. max k = inf\n",
      "[Open3D DEBUG] Thread 302885: registration fitness=0.058, corres inlier ratio=0.001, Est. max k = inf\n",
      "[Open3D DEBUG] Thread 362400: registration fitness=0.170, corres inlier ratio=0.000, Est. max k = inf\n",
      "[Open3D DEBUG] Thread 975151: registration fitness=0.337, corres inlier ratio=0.002, Est. max k = inf\n"
     ]
    },
    {
     "name": "stderr",
     "output_type": "stream",
     "text": [
      "\u001b[32m2024-07-07 09:34:53.702\u001b[0m | \u001b[1mINFO    \u001b[0m | \u001b[36m__main__\u001b[0m:\u001b[36m<module>\u001b[0m:\u001b[36m25\u001b[0m - \u001b[1mRansac time: 11.955401420593262\u001b[0m\n",
      "\u001b[32m2024-07-07 09:34:53.704\u001b[0m | \u001b[1mINFO    \u001b[0m | \u001b[36m__main__\u001b[0m:\u001b[36mlog_registration\u001b[0m:\u001b[36m25\u001b[0m - \u001b[1m\u001b[0m\n",
      "\u001b[32m2024-07-07 09:34:53.707\u001b[0m | \u001b[1mINFO    \u001b[0m | \u001b[36m__main__\u001b[0m:\u001b[36mlog_registration\u001b[0m:\u001b[36m26\u001b[0m - \u001b[1mSource:       0\u001b[0m\n",
      "\u001b[32m2024-07-07 09:34:53.708\u001b[0m | \u001b[1mINFO    \u001b[0m | \u001b[36m__main__\u001b[0m:\u001b[36mlog_registration\u001b[0m:\u001b[36m27\u001b[0m - \u001b[1mTarget:       3\u001b[0m\n",
      "\u001b[32m2024-07-07 09:34:53.709\u001b[0m | \u001b[1mINFO    \u001b[0m | \u001b[36m__main__\u001b[0m:\u001b[36mlog_registration\u001b[0m:\u001b[36m28\u001b[0m - \u001b[1mCorresp.:     12503\u001b[0m\n",
      "\u001b[32m2024-07-07 09:34:53.710\u001b[0m | \u001b[1mINFO    \u001b[0m | \u001b[36m__main__\u001b[0m:\u001b[36mlog_registration\u001b[0m:\u001b[36m29\u001b[0m - \u001b[1mFitness:      0.4260256235518604\u001b[0m\n",
      "\u001b[32m2024-07-07 09:34:53.711\u001b[0m | \u001b[1mINFO    \u001b[0m | \u001b[36m__main__\u001b[0m:\u001b[36mlog_registration\u001b[0m:\u001b[36m30\u001b[0m - \u001b[1mInlier RMSE:  0.11247633973034224\u001b[0m\n",
      "\u001b[32m2024-07-07 09:34:53.712\u001b[0m | \u001b[1mINFO    \u001b[0m | \u001b[36m__main__\u001b[0m:\u001b[36mlog_registration\u001b[0m:\u001b[36m31\u001b[0m - \u001b[1mTrans. scale:    0.9959052046300727\u001b[0m\n",
      "\u001b[32m2024-07-07 09:34:53.714\u001b[0m | \u001b[1mINFO    \u001b[0m | \u001b[36m__main__\u001b[0m:\u001b[36mlog_registration\u001b[0m:\u001b[36m32\u001b[0m - \u001b[1mTrans. trans.:   [ 1.1932704  -0.68629977  0.2313325 ]\u001b[0m\n",
      "\u001b[32m2024-07-07 09:34:53.715\u001b[0m | \u001b[1mINFO    \u001b[0m | \u001b[36m__main__\u001b[0m:\u001b[36mlog_registration\u001b[0m:\u001b[36m33\u001b[0m - \u001b[1mTrans. rot.:     [[ 0.97055623 -0.23945309 -0.02613073]\n",
      " [ 0.23947356  0.97089995 -0.00238923]\n",
      " [ 0.02594244 -0.00393874  0.99965568]]\u001b[0m\n",
      "\u001b[32m2024-07-07 09:34:53.716\u001b[0m | \u001b[1mINFO    \u001b[0m | \u001b[36m__main__\u001b[0m:\u001b[36mlog_registration\u001b[0m:\u001b[36m34\u001b[0m - \u001b[1m\u001b[0m\n"
     ]
    },
    {
     "name": "stdout",
     "output_type": "stream",
     "text": [
      "[Open3D DEBUG] RANSAC exits after 50 validations. Best inlier ratio 4.260256e-01, RMSE 1.124763e-01\n",
      "[Open3D DEBUG] Pointcloud down sampled from 10457378 points to 29348 points.\n",
      "[Open3D DEBUG] Pointcloud down sampled from 15048357 points to 37926 points.\n",
      "[Open3D DEBUG] 5288 correspondences remain after mutual filter\n",
      "[Open3D DEBUG] Thread 251186: registration fitness=0.359, corres inlier ratio=0.001, Est. max k = inf\n",
      "[Open3D DEBUG] Thread 131054: registration fitness=0.398, corres inlier ratio=0.001, Est. max k = inf\n",
      "[Open3D DEBUG] Thread 754443: registration fitness=0.339, corres inlier ratio=0.001, Est. max k = inf\n",
      "[Open3D DEBUG] Thread 388333: registration fitness=0.150, corres inlier ratio=0.001, Est. max k = inf\n",
      "[Open3D DEBUG] Thread 634876: registration fitness=0.065, corres inlier ratio=0.001, Est. max k = inf\n",
      "[Open3D DEBUG] Thread 880771: registration fitness=0.225, corres inlier ratio=0.001, Est. max k = inf\n",
      "[Open3D DEBUG] Thread 520163: registration fitness=0.104, corres inlier ratio=0.001, Est. max k = inf\n",
      "[Open3D DEBUG] Thread 267609: registration fitness=0.383, corres inlier ratio=0.004, Est. max k = inf\n",
      "[Open3D DEBUG] Thread 013184: registration fitness=0.053, corres inlier ratio=0.001, Est. max k = inf\n",
      "[Open3D DEBUG] Thread 023592: registration fitness=0.405, corres inlier ratio=0.005, Est. max k = inf\n",
      "[Open3D DEBUG] Thread 545810: registration fitness=0.137, corres inlier ratio=0.001, Est. max k = inf\n",
      "[Open3D DEBUG] Thread 800703: registration fitness=0.380, corres inlier ratio=0.001, Est. max k = inf\n",
      "[Open3D DEBUG] Thread 690031: registration fitness=0.306, corres inlier ratio=0.001, Est. max k = inf\n",
      "[Open3D DEBUG] Thread 434922: registration fitness=0.283, corres inlier ratio=0.001, Est. max k = inf\n",
      "[Open3D DEBUG] Thread 444742: registration fitness=0.425, corres inlier ratio=0.001, Est. max k = inf\n",
      "[Open3D DEBUG] Thread 712098: registration fitness=0.341, corres inlier ratio=0.001, Est. max k = inf\n",
      "[Open3D DEBUG] Thread 730499: registration fitness=0.433, corres inlier ratio=0.006, Est. max k = inf\n",
      "[Open3D DEBUG] Thread 614963: registration fitness=0.232, corres inlier ratio=0.005, Est. max k = inf\n",
      "[Open3D DEBUG] Thread 616923: registration fitness=0.311, corres inlier ratio=0.001, Est. max k = inf\n",
      "[Open3D DEBUG] Thread 971977: registration fitness=0.273, corres inlier ratio=0.005, Est. max k = inf\n"
     ]
    },
    {
     "name": "stderr",
     "output_type": "stream",
     "text": [
      "\u001b[32m2024-07-07 09:35:09.695\u001b[0m | \u001b[1mINFO    \u001b[0m | \u001b[36m__main__\u001b[0m:\u001b[36m<module>\u001b[0m:\u001b[36m25\u001b[0m - \u001b[1mRansac time: 15.9770987033844\u001b[0m\n",
      "\u001b[32m2024-07-07 09:35:09.696\u001b[0m | \u001b[1mINFO    \u001b[0m | \u001b[36m__main__\u001b[0m:\u001b[36mlog_registration\u001b[0m:\u001b[36m25\u001b[0m - \u001b[1m\u001b[0m\n",
      "\u001b[32m2024-07-07 09:35:09.696\u001b[0m | \u001b[1mINFO    \u001b[0m | \u001b[36m__main__\u001b[0m:\u001b[36mlog_registration\u001b[0m:\u001b[36m26\u001b[0m - \u001b[1mSource:       0\u001b[0m\n",
      "\u001b[32m2024-07-07 09:35:09.697\u001b[0m | \u001b[1mINFO    \u001b[0m | \u001b[36m__main__\u001b[0m:\u001b[36mlog_registration\u001b[0m:\u001b[36m27\u001b[0m - \u001b[1mTarget:       3\u001b[0m\n",
      "\u001b[32m2024-07-07 09:35:09.697\u001b[0m | \u001b[1mINFO    \u001b[0m | \u001b[36m__main__\u001b[0m:\u001b[36mlog_registration\u001b[0m:\u001b[36m28\u001b[0m - \u001b[1mCorresp.:     12704\u001b[0m\n",
      "\u001b[32m2024-07-07 09:35:09.698\u001b[0m | \u001b[1mINFO    \u001b[0m | \u001b[36m__main__\u001b[0m:\u001b[36mlog_registration\u001b[0m:\u001b[36m29\u001b[0m - \u001b[1mFitness:      0.4328744718549816\u001b[0m\n",
      "\u001b[32m2024-07-07 09:35:09.698\u001b[0m | \u001b[1mINFO    \u001b[0m | \u001b[36m__main__\u001b[0m:\u001b[36mlog_registration\u001b[0m:\u001b[36m30\u001b[0m - \u001b[1mInlier RMSE:  0.11417457126149487\u001b[0m\n",
      "\u001b[32m2024-07-07 09:35:09.699\u001b[0m | \u001b[1mINFO    \u001b[0m | \u001b[36m__main__\u001b[0m:\u001b[36mlog_registration\u001b[0m:\u001b[36m31\u001b[0m - \u001b[1mTrans. scale:    1.0179594333935251\u001b[0m\n",
      "\u001b[32m2024-07-07 09:35:09.700\u001b[0m | \u001b[1mINFO    \u001b[0m | \u001b[36m__main__\u001b[0m:\u001b[36mlog_registration\u001b[0m:\u001b[36m32\u001b[0m - \u001b[1mTrans. trans.:   [ 7.25595585 11.34245539  0.79999549]\u001b[0m\n",
      "\u001b[32m2024-07-07 09:35:09.701\u001b[0m | \u001b[1mINFO    \u001b[0m | \u001b[36m__main__\u001b[0m:\u001b[36mlog_registration\u001b[0m:\u001b[36m33\u001b[0m - \u001b[1mTrans. rot.:     [[ 9.99425733e-01 -3.38690755e-02  1.04397723e-03]\n",
      " [ 3.38777365e-02  9.99377329e-01 -9.86174879e-03]\n",
      " [-7.09318864e-04  9.89145310e-03  9.99950827e-01]]\u001b[0m\n",
      "\u001b[32m2024-07-07 09:35:09.702\u001b[0m | \u001b[1mINFO    \u001b[0m | \u001b[36m__main__\u001b[0m:\u001b[36mlog_registration\u001b[0m:\u001b[36m34\u001b[0m - \u001b[1m\u001b[0m\n"
     ]
    },
    {
     "name": "stdout",
     "output_type": "stream",
     "text": [
      "[Open3D DEBUG] RANSAC exits after 57 validations. Best inlier ratio 4.328745e-01, RMSE 1.141746e-01\n",
      "[Open3D DEBUG] Pointcloud down sampled from 10457378 points to 29348 points.\n",
      "[Open3D DEBUG] Pointcloud down sampled from 15048357 points to 37926 points.\n",
      "[Open3D DEBUG] 5288 correspondences remain after mutual filter\n",
      "[Open3D DEBUG] Thread 254586: registration fitness=0.244, corres inlier ratio=0.001, Est. max k = inf\n",
      "[Open3D DEBUG] Thread 129442: registration fitness=0.168, corres inlier ratio=0.000, Est. max k = inf\n",
      "[Open3D DEBUG] Thread 880881: registration fitness=0.039, corres inlier ratio=0.001, Est. max k = inf\n",
      "[Open3D DEBUG] Thread 507483: registration fitness=0.096, corres inlier ratio=0.000, Est. max k = inf\n",
      "[Open3D DEBUG] Thread 507557: registration fitness=0.205, corres inlier ratio=0.001, Est. max k = inf\n",
      "[Open3D DEBUG] Thread 006046: registration fitness=0.091, corres inlier ratio=0.001, Est. max k = inf\n",
      "[Open3D DEBUG] Thread 659145: registration fitness=0.388, corres inlier ratio=0.001, Est. max k = inf\n",
      "[Open3D DEBUG] Thread 402173: registration fitness=0.135, corres inlier ratio=0.001, Est. max k = inf\n",
      "[Open3D DEBUG] Thread 263773: registration fitness=0.431, corres inlier ratio=0.001, Est. max k = inf\n",
      "[Open3D DEBUG] Thread 905153: registration fitness=0.160, corres inlier ratio=0.003, Est. max k = inf\n",
      "[Open3D DEBUG] Thread 524902: registration fitness=0.254, corres inlier ratio=0.001, Est. max k = inf\n",
      "[Open3D DEBUG] Thread 905723: registration fitness=0.296, corres inlier ratio=0.000, Est. max k = inf\n",
      "[Open3D DEBUG] Thread 668317: registration fitness=0.447, corres inlier ratio=0.009, Est. max k = inf\n",
      "[Open3D DEBUG] Thread 768340: registration fitness=0.020, corres inlier ratio=0.001, Est. max k = inf\n",
      "[Open3D DEBUG] Thread 031179: registration fitness=0.170, corres inlier ratio=0.000, Est. max k = inf\n",
      "[Open3D DEBUG] Thread 773223: registration fitness=0.175, corres inlier ratio=0.000, Est. max k = inf\n",
      "[Open3D DEBUG] Thread 165005: registration fitness=0.284, corres inlier ratio=0.001, Est. max k = inf\n",
      "[Open3D DEBUG] Thread 936293: registration fitness=0.332, corres inlier ratio=0.007, Est. max k = inf\n",
      "[Open3D DEBUG] Thread 786847: registration fitness=0.308, corres inlier ratio=0.001, Est. max k = inf\n",
      "[Open3D DEBUG] Thread 550684: registration fitness=0.353, corres inlier ratio=0.001, Est. max k = inf\n",
      "[Open3D DEBUG] Thread 794710: registration fitness=0.316, corres inlier ratio=0.002, Est. max k = inf\n",
      "[Open3D DEBUG] Thread 206221: registration fitness=0.392, corres inlier ratio=0.004, Est. max k = inf\n",
      "[Open3D DEBUG] Thread 482582: registration fitness=0.427, corres inlier ratio=0.001, Est. max k = inf\n",
      "[Open3D DEBUG] Thread 077889: registration fitness=0.337, corres inlier ratio=0.001, Est. max k = inf\n"
     ]
    },
    {
     "name": "stderr",
     "output_type": "stream",
     "text": [
      "\u001b[32m2024-07-07 09:35:25.032\u001b[0m | \u001b[1mINFO    \u001b[0m | \u001b[36m__main__\u001b[0m:\u001b[36m<module>\u001b[0m:\u001b[36m25\u001b[0m - \u001b[1mRansac time: 15.329293251037598\u001b[0m\n",
      "\u001b[32m2024-07-07 09:35:25.033\u001b[0m | \u001b[1mINFO    \u001b[0m | \u001b[36m__main__\u001b[0m:\u001b[36mlog_registration\u001b[0m:\u001b[36m25\u001b[0m - \u001b[1m\u001b[0m\n",
      "\u001b[32m2024-07-07 09:35:25.037\u001b[0m | \u001b[1mINFO    \u001b[0m | \u001b[36m__main__\u001b[0m:\u001b[36mlog_registration\u001b[0m:\u001b[36m26\u001b[0m - \u001b[1mSource:       0\u001b[0m\n",
      "\u001b[32m2024-07-07 09:35:25.037\u001b[0m | \u001b[1mINFO    \u001b[0m | \u001b[36m__main__\u001b[0m:\u001b[36mlog_registration\u001b[0m:\u001b[36m27\u001b[0m - \u001b[1mTarget:       3\u001b[0m\n",
      "\u001b[32m2024-07-07 09:35:25.041\u001b[0m | \u001b[1mINFO    \u001b[0m | \u001b[36m__main__\u001b[0m:\u001b[36mlog_registration\u001b[0m:\u001b[36m28\u001b[0m - \u001b[1mCorresp.:     13126\u001b[0m\n",
      "\u001b[32m2024-07-07 09:35:25.042\u001b[0m | \u001b[1mINFO    \u001b[0m | \u001b[36m__main__\u001b[0m:\u001b[36mlog_registration\u001b[0m:\u001b[36m29\u001b[0m - \u001b[1mFitness:      0.44725364590432054\u001b[0m\n",
      "\u001b[32m2024-07-07 09:35:25.044\u001b[0m | \u001b[1mINFO    \u001b[0m | \u001b[36m__main__\u001b[0m:\u001b[36mlog_registration\u001b[0m:\u001b[36m30\u001b[0m - \u001b[1mInlier RMSE:  0.09880716968346334\u001b[0m\n",
      "\u001b[32m2024-07-07 09:35:25.046\u001b[0m | \u001b[1mINFO    \u001b[0m | \u001b[36m__main__\u001b[0m:\u001b[36mlog_registration\u001b[0m:\u001b[36m31\u001b[0m - \u001b[1mTrans. scale:    1.008682565019682\u001b[0m\n",
      "\u001b[32m2024-07-07 09:35:25.049\u001b[0m | \u001b[1mINFO    \u001b[0m | \u001b[36m__main__\u001b[0m:\u001b[36mlog_registration\u001b[0m:\u001b[36m32\u001b[0m - \u001b[1mTrans. trans.:   [ 7.0083251  11.72336023  0.41235003]\u001b[0m\n",
      "\u001b[32m2024-07-07 09:35:25.050\u001b[0m | \u001b[1mINFO    \u001b[0m | \u001b[36m__main__\u001b[0m:\u001b[36mlog_registration\u001b[0m:\u001b[36m33\u001b[0m - \u001b[1mTrans. rot.:     [[ 0.9995358  -0.03028414 -0.00332609]\n",
      " [ 0.03027639  0.99953879 -0.0023553 ]\n",
      " [ 0.00339588  0.00225351  0.99999169]]\u001b[0m\n",
      "\u001b[32m2024-07-07 09:35:25.052\u001b[0m | \u001b[1mINFO    \u001b[0m | \u001b[36m__main__\u001b[0m:\u001b[36mlog_registration\u001b[0m:\u001b[36m34\u001b[0m - \u001b[1m\u001b[0m\n"
     ]
    },
    {
     "name": "stdout",
     "output_type": "stream",
     "text": [
      "[Open3D DEBUG] RANSAC exits after 56 validations. Best inlier ratio 4.472536e-01, RMSE 9.880717e-02\n",
      "[Open3D DEBUG] Pointcloud down sampled from 10457378 points to 29348 points.\n",
      "[Open3D DEBUG] Pointcloud down sampled from 15048357 points to 37926 points.\n",
      "[Open3D DEBUG] 5288 correspondences remain after mutual filter\n",
      "[Open3D DEBUG] Thread 255742: registration fitness=0.175, corres inlier ratio=0.001, Est. max k = inf\n",
      "[Open3D DEBUG] Thread 752276: registration fitness=0.044, corres inlier ratio=0.001, Est. max k = inf\n",
      "[Open3D DEBUG] Thread 637692: registration fitness=0.383, corres inlier ratio=0.001, Est. max k = inf\n",
      "[Open3D DEBUG] Thread 383442: registration fitness=0.162, corres inlier ratio=0.001, Est. max k = inf\n",
      "[Open3D DEBUG] Thread 015714: registration fitness=0.167, corres inlier ratio=0.001, Est. max k = inf\n",
      "[Open3D DEBUG] Thread 893325: registration fitness=0.131, corres inlier ratio=0.001, Est. max k = inf\n",
      "[Open3D DEBUG] Thread 515796: registration fitness=0.061, corres inlier ratio=0.001, Est. max k = inf\n",
      "[Open3D DEBUG] Thread 756279: registration fitness=0.391, corres inlier ratio=0.000, Est. max k = inf\n",
      "[Open3D DEBUG] Thread 277215: registration fitness=0.280, corres inlier ratio=0.001, Est. max k = inf\n",
      "[Open3D DEBUG] Thread 757358: registration fitness=0.409, corres inlier ratio=0.001, Est. max k = inf\n",
      "[Open3D DEBUG] Thread 136589: registration fitness=0.036, corres inlier ratio=0.000, Est. max k = inf\n",
      "[Open3D DEBUG] Thread 403465: registration fitness=0.329, corres inlier ratio=0.002, Est. max k = inf\n",
      "[Open3D DEBUG] Thread 139603: registration fitness=0.082, corres inlier ratio=0.001, Est. max k = inf\n",
      "[Open3D DEBUG] Thread 905659: registration fitness=0.345, corres inlier ratio=0.001, Est. max k = inf\n",
      "[Open3D DEBUG] Thread 150640: registration fitness=0.219, corres inlier ratio=0.001, Est. max k = inf\n",
      "[Open3D DEBUG] Thread 575902: registration fitness=0.296, corres inlier ratio=0.001, Est. max k = inf\n",
      "[Open3D DEBUG] Thread 163598: registration fitness=0.423, corres inlier ratio=0.003, Est. max k = inf\n",
      "[Open3D DEBUG] Thread 344122: registration fitness=0.340, corres inlier ratio=0.001, Est. max k = inf\n",
      "[Open3D DEBUG] Thread 091401: registration fitness=0.318, corres inlier ratio=0.001, Est. max k = inf\n",
      "[Open3D DEBUG] Thread 105081: registration fitness=0.399, corres inlier ratio=0.001, Est. max k = inf\n",
      "[Open3D DEBUG] Thread 107538: registration fitness=0.400, corres inlier ratio=0.001, Est. max k = inf\n",
      "[Open3D DEBUG] Thread 372993: registration fitness=0.347, corres inlier ratio=0.001, Est. max k = inf\n"
     ]
    },
    {
     "name": "stderr",
     "output_type": "stream",
     "text": [
      "\u001b[32m2024-07-07 09:35:38.510\u001b[0m | \u001b[1mINFO    \u001b[0m | \u001b[36m__main__\u001b[0m:\u001b[36m<module>\u001b[0m:\u001b[36m25\u001b[0m - \u001b[1mRansac time: 13.45688796043396\u001b[0m\n",
      "\u001b[32m2024-07-07 09:35:38.511\u001b[0m | \u001b[1mINFO    \u001b[0m | \u001b[36m__main__\u001b[0m:\u001b[36mlog_registration\u001b[0m:\u001b[36m25\u001b[0m - \u001b[1m\u001b[0m\n",
      "\u001b[32m2024-07-07 09:35:38.512\u001b[0m | \u001b[1mINFO    \u001b[0m | \u001b[36m__main__\u001b[0m:\u001b[36mlog_registration\u001b[0m:\u001b[36m26\u001b[0m - \u001b[1mSource:       0\u001b[0m\n",
      "\u001b[32m2024-07-07 09:35:38.512\u001b[0m | \u001b[1mINFO    \u001b[0m | \u001b[36m__main__\u001b[0m:\u001b[36mlog_registration\u001b[0m:\u001b[36m27\u001b[0m - \u001b[1mTarget:       3\u001b[0m\n",
      "\u001b[32m2024-07-07 09:35:38.513\u001b[0m | \u001b[1mINFO    \u001b[0m | \u001b[36m__main__\u001b[0m:\u001b[36mlog_registration\u001b[0m:\u001b[36m28\u001b[0m - \u001b[1mCorresp.:     12409\u001b[0m\n",
      "\u001b[32m2024-07-07 09:35:38.513\u001b[0m | \u001b[1mINFO    \u001b[0m | \u001b[36m__main__\u001b[0m:\u001b[36mlog_registration\u001b[0m:\u001b[36m29\u001b[0m - \u001b[1mFitness:      0.42282267956930625\u001b[0m\n",
      "\u001b[32m2024-07-07 09:35:38.514\u001b[0m | \u001b[1mINFO    \u001b[0m | \u001b[36m__main__\u001b[0m:\u001b[36mlog_registration\u001b[0m:\u001b[36m30\u001b[0m - \u001b[1mInlier RMSE:  0.11210157893520868\u001b[0m\n",
      "\u001b[32m2024-07-07 09:35:38.515\u001b[0m | \u001b[1mINFO    \u001b[0m | \u001b[36m__main__\u001b[0m:\u001b[36mlog_registration\u001b[0m:\u001b[36m31\u001b[0m - \u001b[1mTrans. scale:    1.0407933003882737\u001b[0m\n",
      "\u001b[32m2024-07-07 09:35:38.515\u001b[0m | \u001b[1mINFO    \u001b[0m | \u001b[36m__main__\u001b[0m:\u001b[36mlog_registration\u001b[0m:\u001b[36m32\u001b[0m - \u001b[1mTrans. trans.:   [ 7.07672396 11.46205192  1.87567275]\u001b[0m\n",
      "\u001b[32m2024-07-07 09:35:38.516\u001b[0m | \u001b[1mINFO    \u001b[0m | \u001b[36m__main__\u001b[0m:\u001b[36mlog_registration\u001b[0m:\u001b[36m33\u001b[0m - \u001b[1mTrans. rot.:     [[ 9.99966280e-01 -8.18352797e-03 -6.85028371e-04]\n",
      " [ 8.17944126e-03  9.99949901e-01 -5.76988633e-03]\n",
      " [ 7.32212078e-04  5.76408862e-03  9.99983119e-01]]\u001b[0m\n",
      "\u001b[32m2024-07-07 09:35:38.517\u001b[0m | \u001b[1mINFO    \u001b[0m | \u001b[36m__main__\u001b[0m:\u001b[36mlog_registration\u001b[0m:\u001b[36m34\u001b[0m - \u001b[1m\u001b[0m\n"
     ]
    },
    {
     "name": "stdout",
     "output_type": "stream",
     "text": [
      "[Open3D DEBUG] RANSAC exits after 56 validations. Best inlier ratio 4.228227e-01, RMSE 1.121016e-01\n",
      "[Open3D DEBUG] Pointcloud down sampled from 10457378 points to 29348 points.\n",
      "[Open3D DEBUG] Pointcloud down sampled from 15048357 points to 37926 points.\n",
      "[Open3D DEBUG] 5288 correspondences remain after mutual filter\n",
      "[Open3D DEBUG] Thread 877680: registration fitness=0.344, corres inlier ratio=0.002, Est. max k = inf\n",
      "[Open3D DEBUG] Thread 501320: registration fitness=0.034, corres inlier ratio=0.001, Est. max k = inf\n",
      "[Open3D DEBUG] Thread 252596: registration fitness=0.056, corres inlier ratio=0.001, Est. max k = inf\n",
      "[Open3D DEBUG] Thread 506969: registration fitness=0.042, corres inlier ratio=0.000, Est. max k = inf\n",
      "[Open3D DEBUG] Thread 020752: registration fitness=0.190, corres inlier ratio=0.001, Est. max k = inf\n",
      "[Open3D DEBUG] Thread 153108: registration fitness=0.328, corres inlier ratio=0.001, Est. max k = inf\n",
      "[Open3D DEBUG] Thread 406704: registration fitness=0.134, corres inlier ratio=0.001, Est. max k = inf\n",
      "[Open3D DEBUG] Thread 278824: registration fitness=0.114, corres inlier ratio=0.001, Est. max k = inf\n",
      "[Open3D DEBUG] Thread 673460: registration fitness=0.160, corres inlier ratio=0.000, Est. max k = inf\n",
      "[Open3D DEBUG] Thread 423498: registration fitness=0.191, corres inlier ratio=0.001, Est. max k = inf\n",
      "[Open3D DEBUG] Thread 539581: registration fitness=0.138, corres inlier ratio=0.001, Est. max k = inf\n",
      "[Open3D DEBUG] Thread 807311: registration fitness=0.254, corres inlier ratio=0.001, Est. max k = inf\n",
      "[Open3D DEBUG] Thread 307041: registration fitness=0.211, corres inlier ratio=0.004, Est. max k = inf\n",
      "[Open3D DEBUG] Thread 314037: registration fitness=0.437, corres inlier ratio=0.005, Est. max k = inf\n",
      "[Open3D DEBUG] Thread 551144: registration fitness=0.144, corres inlier ratio=0.001, Est. max k = inf\n",
      "[Open3D DEBUG] Thread 707489: registration fitness=0.239, corres inlier ratio=0.001, Est. max k = inf\n",
      "[Open3D DEBUG] Thread 853738: registration fitness=0.449, corres inlier ratio=0.005, Est. max k = inf\n",
      "[Open3D DEBUG] Thread 219977: registration fitness=0.335, corres inlier ratio=0.001, Est. max k = inf\n"
     ]
    },
    {
     "name": "stderr",
     "output_type": "stream",
     "text": [
      "\u001b[32m2024-07-07 09:35:52.758\u001b[0m | \u001b[1mINFO    \u001b[0m | \u001b[36m__main__\u001b[0m:\u001b[36m<module>\u001b[0m:\u001b[36m25\u001b[0m - \u001b[1mRansac time: 14.240346670150757\u001b[0m\n",
      "\u001b[32m2024-07-07 09:35:52.772\u001b[0m | \u001b[1mINFO    \u001b[0m | \u001b[36m__main__\u001b[0m:\u001b[36mlog_registration\u001b[0m:\u001b[36m25\u001b[0m - \u001b[1m\u001b[0m\n",
      "\u001b[32m2024-07-07 09:35:52.778\u001b[0m | \u001b[1mINFO    \u001b[0m | \u001b[36m__main__\u001b[0m:\u001b[36mlog_registration\u001b[0m:\u001b[36m26\u001b[0m - \u001b[1mSource:       0\u001b[0m\n",
      "\u001b[32m2024-07-07 09:35:52.779\u001b[0m | \u001b[1mINFO    \u001b[0m | \u001b[36m__main__\u001b[0m:\u001b[36mlog_registration\u001b[0m:\u001b[36m27\u001b[0m - \u001b[1mTarget:       3\u001b[0m\n",
      "\u001b[32m2024-07-07 09:35:52.781\u001b[0m | \u001b[1mINFO    \u001b[0m | \u001b[36m__main__\u001b[0m:\u001b[36mlog_registration\u001b[0m:\u001b[36m28\u001b[0m - \u001b[1mCorresp.:     13179\u001b[0m\n",
      "\u001b[32m2024-07-07 09:35:52.782\u001b[0m | \u001b[1mINFO    \u001b[0m | \u001b[36m__main__\u001b[0m:\u001b[36mlog_registration\u001b[0m:\u001b[36m29\u001b[0m - \u001b[1mFitness:      0.44905956112852663\u001b[0m\n",
      "\u001b[32m2024-07-07 09:35:52.783\u001b[0m | \u001b[1mINFO    \u001b[0m | \u001b[36m__main__\u001b[0m:\u001b[36mlog_registration\u001b[0m:\u001b[36m30\u001b[0m - \u001b[1mInlier RMSE:  0.1071897293802055\u001b[0m\n",
      "\u001b[32m2024-07-07 09:35:52.783\u001b[0m | \u001b[1mINFO    \u001b[0m | \u001b[36m__main__\u001b[0m:\u001b[36mlog_registration\u001b[0m:\u001b[36m31\u001b[0m - \u001b[1mTrans. scale:    0.9900603312358718\u001b[0m\n",
      "\u001b[32m2024-07-07 09:35:52.784\u001b[0m | \u001b[1mINFO    \u001b[0m | \u001b[36m__main__\u001b[0m:\u001b[36mlog_registration\u001b[0m:\u001b[36m32\u001b[0m - \u001b[1mTrans. trans.:   [ 7.35497566 11.95898797 -0.43082158]\u001b[0m\n",
      "\u001b[32m2024-07-07 09:35:52.785\u001b[0m | \u001b[1mINFO    \u001b[0m | \u001b[36m__main__\u001b[0m:\u001b[36mlog_registration\u001b[0m:\u001b[36m33\u001b[0m - \u001b[1mTrans. rot.:     [[ 0.99907909 -0.04265684  0.0046227 ]\n",
      " [ 0.04262778  0.99907171  0.00621245]\n",
      " [-0.00488341 -0.00600967  0.99997002]]\u001b[0m\n",
      "\u001b[32m2024-07-07 09:35:52.786\u001b[0m | \u001b[1mINFO    \u001b[0m | \u001b[36m__main__\u001b[0m:\u001b[36mlog_registration\u001b[0m:\u001b[36m34\u001b[0m - \u001b[1m\u001b[0m\n"
     ]
    },
    {
     "name": "stdout",
     "output_type": "stream",
     "text": [
      "[Open3D DEBUG] Thread 620837: registration fitness=0.227, corres inlier ratio=0.001, Est. max k = inf\n",
      "[Open3D DEBUG] RANSAC exits after 59 validations. Best inlier ratio 4.490596e-01, RMSE 1.071897e-01\n",
      "[Open3D DEBUG] Pointcloud down sampled from 10457378 points to 29348 points.\n",
      "[Open3D DEBUG] Pointcloud down sampled from 15048357 points to 37926 points.\n",
      "[Open3D DEBUG] 5288 correspondences remain after mutual filter\n",
      "[Open3D DEBUG] Thread 500131: registration fitness=0.416, corres inlier ratio=0.004, Est. max k = inf\n",
      "[Open3D DEBUG] Thread 877875: registration fitness=0.145, corres inlier ratio=0.001, Est. max k = inf\n",
      "[Open3D DEBUG] Thread 751079: registration fitness=0.310, corres inlier ratio=0.001, Est. max k = inf\n",
      "[Open3D DEBUG] Thread 006856: registration fitness=0.171, corres inlier ratio=0.001, Est. max k = inf\n",
      "[Open3D DEBUG] Thread 381962: registration fitness=0.087, corres inlier ratio=0.001, Est. max k = inf\n",
      "[Open3D DEBUG] Thread 634016: registration fitness=0.212, corres inlier ratio=0.002, Est. max k = inf\n",
      "[Open3D DEBUG] Thread 383354: registration fitness=0.104, corres inlier ratio=0.001, Est. max k = inf\n",
      "[Open3D DEBUG] Thread 015148: registration fitness=0.425, corres inlier ratio=0.004, Est. max k = inf\n",
      "[Open3D DEBUG] Thread 148068: registration fitness=0.152, corres inlier ratio=0.000, Est. max k = inf\n",
      "[Open3D DEBUG] Thread 393346: registration fitness=0.426, corres inlier ratio=0.004, Est. max k = inf\n",
      "[Open3D DEBUG] Thread 909981: registration fitness=0.287, corres inlier ratio=0.006, Est. max k = inf\n",
      "[Open3D DEBUG] Thread 153373: registration fitness=0.173, corres inlier ratio=0.001, Est. max k = inf\n",
      "[Open3D DEBUG] Thread 313816: registration fitness=0.020, corres inlier ratio=0.001, Est. max k = inf\n",
      "[Open3D DEBUG] Thread 188900: registration fitness=0.370, corres inlier ratio=0.002, Est. max k = inf\n",
      "[Open3D DEBUG] Thread 346187: registration fitness=0.212, corres inlier ratio=0.000, Est. max k = inf\n",
      "[Open3D DEBUG] Thread 835893: registration fitness=0.316, corres inlier ratio=0.002, Est. max k = inf\n",
      "[Open3D DEBUG] Thread 356187: registration fitness=0.215, corres inlier ratio=0.001, Est. max k = inf\n",
      "[Open3D DEBUG] Thread 364648: registration fitness=0.354, corres inlier ratio=0.005, Est. max k = inf\n",
      "[Open3D DEBUG] Thread 615716: registration fitness=0.450, corres inlier ratio=0.001, Est. max k = inf\n"
     ]
    },
    {
     "name": "stderr",
     "output_type": "stream",
     "text": [
      "\u001b[32m2024-07-07 09:36:09.225\u001b[0m | \u001b[1mINFO    \u001b[0m | \u001b[36m__main__\u001b[0m:\u001b[36m<module>\u001b[0m:\u001b[36m25\u001b[0m - \u001b[1mRansac time: 16.43881058692932\u001b[0m\n",
      "\u001b[32m2024-07-07 09:36:09.227\u001b[0m | \u001b[1mINFO    \u001b[0m | \u001b[36m__main__\u001b[0m:\u001b[36mlog_registration\u001b[0m:\u001b[36m25\u001b[0m - \u001b[1m\u001b[0m\n",
      "\u001b[32m2024-07-07 09:36:09.230\u001b[0m | \u001b[1mINFO    \u001b[0m | \u001b[36m__main__\u001b[0m:\u001b[36mlog_registration\u001b[0m:\u001b[36m26\u001b[0m - \u001b[1mSource:       0\u001b[0m\n",
      "\u001b[32m2024-07-07 09:36:09.231\u001b[0m | \u001b[1mINFO    \u001b[0m | \u001b[36m__main__\u001b[0m:\u001b[36mlog_registration\u001b[0m:\u001b[36m27\u001b[0m - \u001b[1mTarget:       3\u001b[0m\n",
      "\u001b[32m2024-07-07 09:36:09.232\u001b[0m | \u001b[1mINFO    \u001b[0m | \u001b[36m__main__\u001b[0m:\u001b[36mlog_registration\u001b[0m:\u001b[36m28\u001b[0m - \u001b[1mCorresp.:     13215\u001b[0m\n",
      "\u001b[32m2024-07-07 09:36:09.233\u001b[0m | \u001b[1mINFO    \u001b[0m | \u001b[36m__main__\u001b[0m:\u001b[36mlog_registration\u001b[0m:\u001b[36m29\u001b[0m - \u001b[1mFitness:      0.45028622052610057\u001b[0m\n",
      "\u001b[32m2024-07-07 09:36:09.234\u001b[0m | \u001b[1mINFO    \u001b[0m | \u001b[36m__main__\u001b[0m:\u001b[36mlog_registration\u001b[0m:\u001b[36m30\u001b[0m - \u001b[1mInlier RMSE:  0.107702666523245\u001b[0m\n",
      "\u001b[32m2024-07-07 09:36:09.234\u001b[0m | \u001b[1mINFO    \u001b[0m | \u001b[36m__main__\u001b[0m:\u001b[36mlog_registration\u001b[0m:\u001b[36m31\u001b[0m - \u001b[1mTrans. scale:    0.9678649229159291\u001b[0m\n",
      "\u001b[32m2024-07-07 09:36:09.236\u001b[0m | \u001b[1mINFO    \u001b[0m | \u001b[36m__main__\u001b[0m:\u001b[36mlog_registration\u001b[0m:\u001b[36m32\u001b[0m - \u001b[1mTrans. trans.:   [ 5.32067238 -1.10442976 -0.91399827]\u001b[0m\n",
      "\u001b[32m2024-07-07 09:36:09.238\u001b[0m | \u001b[1mINFO    \u001b[0m | \u001b[36m__main__\u001b[0m:\u001b[36mlog_registration\u001b[0m:\u001b[36m33\u001b[0m - \u001b[1mTrans. rot.:     [[ 0.24125605 -0.97044992 -0.00473954]\n",
      " [ 0.97042185  0.24119918  0.01021687]\n",
      " [-0.00877179 -0.00706423  0.99993657]]\u001b[0m\n",
      "\u001b[32m2024-07-07 09:36:09.238\u001b[0m | \u001b[1mINFO    \u001b[0m | \u001b[36m__main__\u001b[0m:\u001b[36mlog_registration\u001b[0m:\u001b[36m34\u001b[0m - \u001b[1m\u001b[0m\n"
     ]
    },
    {
     "name": "stdout",
     "output_type": "stream",
     "text": [
      "[Open3D DEBUG] RANSAC exits after 61 validations. Best inlier ratio 4.502862e-01, RMSE 1.077027e-01\n",
      "[Open3D DEBUG] Pointcloud down sampled from 10457378 points to 29348 points.\n",
      "[Open3D DEBUG] Pointcloud down sampled from 15048357 points to 37926 points.\n",
      "[Open3D DEBUG] 5288 correspondences remain after mutual filter\n",
      "[Open3D DEBUG] Thread 130062: registration fitness=0.340, corres inlier ratio=0.001, Est. max k = inf\n",
      "[Open3D DEBUG] Thread 878023: registration fitness=0.033, corres inlier ratio=0.000, Est. max k = inf\n",
      "[Open3D DEBUG] Thread 255553: registration fitness=0.106, corres inlier ratio=0.001, Est. max k = inf\n",
      "[Open3D DEBUG] Thread 637990: registration fitness=0.206, corres inlier ratio=0.001, Est. max k = inf\n",
      "[Open3D DEBUG] Thread 389161: registration fitness=0.316, corres inlier ratio=0.002, Est. max k = inf\n",
      "[Open3D DEBUG] Thread 878367: registration fitness=0.198, corres inlier ratio=0.000, Est. max k = inf\n",
      "[Open3D DEBUG] Thread 520185: registration fitness=0.107, corres inlier ratio=0.000, Est. max k = inf\n",
      "[Open3D DEBUG] Thread 767305: registration fitness=0.214, corres inlier ratio=0.001, Est. max k = inf\n",
      "[Open3D DEBUG] Thread 017756: registration fitness=0.021, corres inlier ratio=0.001, Est. max k = inf\n",
      "[Open3D DEBUG] Thread 529026: registration fitness=0.158, corres inlier ratio=0.000, Est. max k = inf\n",
      "[Open3D DEBUG] Thread 894331: registration fitness=0.211, corres inlier ratio=0.001, Est. max k = inf\n",
      "[Open3D DEBUG] Thread 028557: registration fitness=0.296, corres inlier ratio=0.001, Est. max k = inf\n",
      "[Open3D DEBUG] Thread 029932: registration fitness=0.360, corres inlier ratio=0.001, Est. max k = inf\n",
      "[Open3D DEBUG] Thread 427564: registration fitness=0.428, corres inlier ratio=0.001, Est. max k = inf\n",
      "[Open3D DEBUG] Thread 662415: registration fitness=0.228, corres inlier ratio=0.001, Est. max k = inf\n",
      "[Open3D DEBUG] Thread 268801: registration fitness=0.312, corres inlier ratio=0.001, Est. max k = inf\n",
      "[Open3D DEBUG] Thread 553097: registration fitness=0.294, corres inlier ratio=0.001, Est. max k = inf\n",
      "[Open3D DEBUG] Thread 282399: registration fitness=0.445, corres inlier ratio=0.006, Est. max k = inf\n",
      "[Open3D DEBUG] Thread 807286: registration fitness=0.330, corres inlier ratio=0.001, Est. max k = inf\n"
     ]
    },
    {
     "name": "stderr",
     "output_type": "stream",
     "text": [
      "\u001b[32m2024-07-07 09:36:24.014\u001b[0m | \u001b[1mINFO    \u001b[0m | \u001b[36m__main__\u001b[0m:\u001b[36m<module>\u001b[0m:\u001b[36m25\u001b[0m - \u001b[1mRansac time: 14.774672508239746\u001b[0m\n",
      "\u001b[32m2024-07-07 09:36:24.016\u001b[0m | \u001b[1mINFO    \u001b[0m | \u001b[36m__main__\u001b[0m:\u001b[36mlog_registration\u001b[0m:\u001b[36m25\u001b[0m - \u001b[1m\u001b[0m\n",
      "\u001b[32m2024-07-07 09:36:24.019\u001b[0m | \u001b[1mINFO    \u001b[0m | \u001b[36m__main__\u001b[0m:\u001b[36mlog_registration\u001b[0m:\u001b[36m26\u001b[0m - \u001b[1mSource:       0\u001b[0m\n",
      "\u001b[32m2024-07-07 09:36:24.020\u001b[0m | \u001b[1mINFO    \u001b[0m | \u001b[36m__main__\u001b[0m:\u001b[36mlog_registration\u001b[0m:\u001b[36m27\u001b[0m - \u001b[1mTarget:       3\u001b[0m\n",
      "\u001b[32m2024-07-07 09:36:24.022\u001b[0m | \u001b[1mINFO    \u001b[0m | \u001b[36m__main__\u001b[0m:\u001b[36mlog_registration\u001b[0m:\u001b[36m28\u001b[0m - \u001b[1mCorresp.:     13064\u001b[0m\n",
      "\u001b[32m2024-07-07 09:36:24.024\u001b[0m | \u001b[1mINFO    \u001b[0m | \u001b[36m__main__\u001b[0m:\u001b[36mlog_registration\u001b[0m:\u001b[36m29\u001b[0m - \u001b[1mFitness:      0.445141065830721\u001b[0m\n",
      "\u001b[32m2024-07-07 09:36:24.037\u001b[0m | \u001b[1mINFO    \u001b[0m | \u001b[36m__main__\u001b[0m:\u001b[36mlog_registration\u001b[0m:\u001b[36m30\u001b[0m - \u001b[1mInlier RMSE:  0.10856145995363148\u001b[0m\n",
      "\u001b[32m2024-07-07 09:36:24.038\u001b[0m | \u001b[1mINFO    \u001b[0m | \u001b[36m__main__\u001b[0m:\u001b[36mlog_registration\u001b[0m:\u001b[36m31\u001b[0m - \u001b[1mTrans. scale:    0.9852721385619367\u001b[0m\n",
      "\u001b[32m2024-07-07 09:36:24.040\u001b[0m | \u001b[1mINFO    \u001b[0m | \u001b[36m__main__\u001b[0m:\u001b[36mlog_registration\u001b[0m:\u001b[36m32\u001b[0m - \u001b[1mTrans. trans.:   [ 7.14261493 11.42255907 -0.67093758]\u001b[0m\n",
      "\u001b[32m2024-07-07 09:36:24.041\u001b[0m | \u001b[1mINFO    \u001b[0m | \u001b[36m__main__\u001b[0m:\u001b[36mlog_registration\u001b[0m:\u001b[36m33\u001b[0m - \u001b[1mTrans. rot.:     [[ 0.99968535 -0.02494768 -0.00260927]\n",
      " [ 0.02493806  0.99968232 -0.00365431]\n",
      " [ 0.00269961  0.00358809  0.99998992]]\u001b[0m\n",
      "\u001b[32m2024-07-07 09:36:24.042\u001b[0m | \u001b[1mINFO    \u001b[0m | \u001b[36m__main__\u001b[0m:\u001b[36mlog_registration\u001b[0m:\u001b[36m34\u001b[0m - \u001b[1m\u001b[0m\n"
     ]
    },
    {
     "name": "stdout",
     "output_type": "stream",
     "text": [
      "[Open3D DEBUG] RANSAC exits after 48 validations. Best inlier ratio 4.451411e-01, RMSE 1.085615e-01\n"
     ]
    }
   ],
   "source": [
    "# Select some point clouds to tune the registration - 0-3 is the really hard case, but 1-3 and 2-3 are also challenging\n",
    "test_source: int = 0\n",
    "test_target: int = 3\n",
    "\n",
    "test_results: list[ExtendedRegistrationResult] = list()\n",
    "\n",
    "with util.VerbosityContextManager(util.VerbosityLevel.Debug) as cm:\n",
    "\n",
    "    source_cloud: PointCloud = loaders[test_source]().unwrap()\n",
    "    target_cloud: PointCloud = loaders[test_target]().unwrap()\n",
    "\n",
    "    for i in range(10):\n",
    "\n",
    "        start: float = time()\n",
    "\n",
    "        result: ExtendedRegistrationResult = registration_worker(\n",
    "            source_loader=lambda: Ok(source_cloud),\n",
    "            target_loader=lambda: Ok(target_cloud),\n",
    "            preprocessor=preprocessor,\n",
    "            registrator=registrator,\n",
    "        )\n",
    "\n",
    "        end: float = time()\n",
    "\n",
    "        logger.info(f\"Ransac time: {end - start}\")\n",
    "\n",
    "        log_registration(0, 3, result)\n",
    "\n",
    "        test_results.append(result)"
   ]
  },
  {
   "cell_type": "markdown",
   "id": "3de5f9fa-13dd-4526-b565-ca80a5df4370",
   "metadata": {},
   "source": [
    "### Define registration plotting functions"
   ]
  },
  {
   "cell_type": "code",
   "execution_count": 147,
   "id": "d6e1420c-be33-49e6-9abc-6d835a94a469",
   "metadata": {},
   "outputs": [],
   "source": [
    "import plotly.express as px\n",
    "import plotly.graph_objects as go\n",
    "\n",
    "from plotly.tools import make_subplots\n",
    "\n",
    "# TODO: Implement plotting of registration results\n",
    "\n",
    "\n",
    "def create_registration_figure() -> go.Figure:\n",
    "    \"\"\"TODO\"\"\"\n",
    "\n",
    "    figure: go.Figure = make_subplots(\n",
    "        rows=2,\n",
    "        cols=3,\n",
    "        column_widths=[1, 1, 1],\n",
    "        row_heights=[1, 1],\n",
    "        subplot_titles=(\"Plot 1\", \"Plot 2\", \"Plot 3\", \"Plot 4\", \"Plot 5\", \"Plot 6\"),\n",
    "    )\n",
    "\n",
    "    return figure\n",
    "\n",
    "\n",
    "def create_registration_traces(\n",
    "    result: ExtendedRegistrationResult,\n",
    "    name: str,\n",
    "    legendgroup: int,\n",
    "    color: str = \"blue\",\n",
    ") -> dict:\n",
    "    \"\"\"Creates graph objects for a registration result. The fitness, error, and correspondence count\n",
    "    is plotted in addition to the transformation components\"\"\"\n",
    "\n",
    "    scale, rotation, translation = decompose_transformation(result.transformation)\n",
    "    yaw, roll, pitch = decompose_rotation(rotation)\n",
    "\n",
    "    traces: dict = dict()\n",
    "\n",
    "    traces[\"fitness\"] = go.Bar(\n",
    "        name=name,\n",
    "        x=[\"Fitness\"],\n",
    "        y=[result.fitness],\n",
    "        marker_color=color,\n",
    "        hoverinfo=\"x+y\",\n",
    "        legendgroup=legendgroup,\n",
    "        showlegend=True,\n",
    "    )\n",
    "\n",
    "    traces[\"rmse\"] = go.Bar(\n",
    "        name=name,\n",
    "        x=[\"RMSE\"],\n",
    "        y=[result.inlier_rmse],\n",
    "        marker_color=color,\n",
    "        hoverinfo=\"x+y\",\n",
    "        legendgroup=legendgroup,\n",
    "        showlegend=False,\n",
    "    )\n",
    "\n",
    "    traces[\"correspondences\"] = go.Bar(\n",
    "        name=name,\n",
    "        x=[\"Correspondences\"],\n",
    "        y=[len(result.correspondence_set)],\n",
    "        marker_color=color,\n",
    "        hoverinfo=\"x+y\",\n",
    "        legendgroup=legendgroup,\n",
    "        showlegend=False,\n",
    "    )\n",
    "\n",
    "    traces[\"scale\"] = go.Bar(\n",
    "        name=name,\n",
    "        x=[\"Scale\"],\n",
    "        y=[scale],\n",
    "        marker_color=color,\n",
    "        hoverinfo=\"x+y\",\n",
    "        legendgroup=legendgroup,\n",
    "        showlegend=False,\n",
    "    )\n",
    "\n",
    "    traces[\"rotation\"] = go.Bar(\n",
    "        name=name,\n",
    "        x=[\"Rotz\", \"Roty\", \"Rotx\"],\n",
    "        y=[yaw, pitch, roll],\n",
    "        marker_color=color,\n",
    "        hoverinfo=\"x+y\",\n",
    "        legendgroup=legendgroup,\n",
    "        showlegend=False,\n",
    "    )\n",
    "\n",
    "    traces[\"translation\"] = go.Bar(\n",
    "        name=name,\n",
    "        x=[\"Trans-x\", \"Trans-y\", \"Trans-z\"],\n",
    "        y=[translation[0], translation[1], translation[2]],\n",
    "        marker_color=color,\n",
    "        hoverinfo=\"x+y\",\n",
    "        legendgroup=legendgroup,\n",
    "        showlegend=False,\n",
    "    )\n",
    "\n",
    "    return traces"
   ]
  },
  {
   "cell_type": "code",
   "execution_count": 149,
   "id": "b731a071-c8ec-49f8-b953-03ff3b4b24cc",
   "metadata": {},
   "outputs": [
    {
     "data": {
      "application/vnd.plotly.v1+json": {
       "config": {
        "plotlyServerURL": "https://plot.ly"
       },
       "data": [
        {
         "hoverinfo": "x+y",
         "legendgroup": "0",
         "marker": {
          "color": "#3366CC"
         },
         "name": "Regi. 0",
         "showlegend": true,
         "type": "bar",
         "x": [
          "Fitness"
         ],
         "xaxis": "x",
         "y": [
          0.44946844759438465
         ],
         "yaxis": "y"
        },
        {
         "hoverinfo": "x+y",
         "legendgroup": "0",
         "marker": {
          "color": "#3366CC"
         },
         "name": "Regi. 0",
         "showlegend": false,
         "type": "bar",
         "x": [
          "RMSE"
         ],
         "xaxis": "x2",
         "y": [
          0.10900223583854193
         ],
         "yaxis": "y2"
        },
        {
         "hoverinfo": "x+y",
         "legendgroup": "0",
         "marker": {
          "color": "#3366CC"
         },
         "name": "Regi. 0",
         "showlegend": false,
         "type": "bar",
         "x": [
          "Correspondences"
         ],
         "xaxis": "x3",
         "y": [
          13191
         ],
         "yaxis": "y3"
        },
        {
         "hoverinfo": "x+y",
         "legendgroup": "0",
         "marker": {
          "color": "#3366CC"
         },
         "name": "Regi. 0",
         "showlegend": false,
         "type": "bar",
         "x": [
          "Scale"
         ],
         "xaxis": "x4",
         "y": [
          0.9662130097286925
         ],
         "yaxis": "y4"
        },
        {
         "hoverinfo": "x+y",
         "legendgroup": "0",
         "marker": {
          "color": "#3366CC"
         },
         "name": "Regi. 0",
         "showlegend": false,
         "type": "bar",
         "x": [
          "Rotz",
          "Roty",
          "Rotx"
         ],
         "xaxis": "x5",
         "y": [
          2.3890838712973186,
          -0.31906883668370983,
          0.35233221856723507
         ],
         "yaxis": "y5"
        },
        {
         "hoverinfo": "x+y",
         "legendgroup": "0",
         "marker": {
          "color": "#3366CC"
         },
         "name": "Regi. 0",
         "showlegend": false,
         "type": "bar",
         "x": [
          "Trans-x",
          "Trans-y",
          "Trans-z"
         ],
         "xaxis": "x6",
         "y": [
          7.392814527542093,
          12.003883045929113,
          -1.543685602520057
         ],
         "yaxis": "y6"
        },
        {
         "hoverinfo": "x+y",
         "legendgroup": "1",
         "marker": {
          "color": "#DC3912"
         },
         "name": "Regi. 1",
         "showlegend": true,
         "type": "bar",
         "x": [
          "Fitness"
         ],
         "xaxis": "x",
         "y": [
          0.4426536731634183
         ],
         "yaxis": "y"
        },
        {
         "hoverinfo": "x+y",
         "legendgroup": "1",
         "marker": {
          "color": "#DC3912"
         },
         "name": "Regi. 1",
         "showlegend": false,
         "type": "bar",
         "x": [
          "RMSE"
         ],
         "xaxis": "x2",
         "y": [
          0.10978516636098082
         ],
         "yaxis": "y2"
        },
        {
         "hoverinfo": "x+y",
         "legendgroup": "1",
         "marker": {
          "color": "#DC3912"
         },
         "name": "Regi. 1",
         "showlegend": false,
         "type": "bar",
         "x": [
          "Correspondences"
         ],
         "xaxis": "x3",
         "y": [
          12991
         ],
         "yaxis": "y3"
        },
        {
         "hoverinfo": "x+y",
         "legendgroup": "1",
         "marker": {
          "color": "#DC3912"
         },
         "name": "Regi. 1",
         "showlegend": false,
         "type": "bar",
         "x": [
          "Scale"
         ],
         "xaxis": "x4",
         "y": [
          0.9716023723904313
         ],
         "yaxis": "y4"
        },
        {
         "hoverinfo": "x+y",
         "legendgroup": "1",
         "marker": {
          "color": "#DC3912"
         },
         "name": "Regi. 1",
         "showlegend": false,
         "type": "bar",
         "x": [
          "Rotz",
          "Roty",
          "Rotx"
         ],
         "xaxis": "x5",
         "y": [
          3.2451121113831722,
          0.12468364262418122,
          0.2707617514702423
         ],
         "yaxis": "y5"
        },
        {
         "hoverinfo": "x+y",
         "legendgroup": "1",
         "marker": {
          "color": "#DC3912"
         },
         "name": "Regi. 1",
         "showlegend": false,
         "type": "bar",
         "x": [
          "Trans-x",
          "Trans-y",
          "Trans-z"
         ],
         "xaxis": "x6",
         "y": [
          7.265974719634011,
          11.72096776883942,
          -1.3543940694396426
         ],
         "yaxis": "y6"
        },
        {
         "hoverinfo": "x+y",
         "legendgroup": "2",
         "marker": {
          "color": "#FF9900"
         },
         "name": "Regi. 2",
         "showlegend": true,
         "type": "bar",
         "x": [
          "Fitness"
         ],
         "xaxis": "x",
         "y": [
          0.4515469537958294
         ],
         "yaxis": "y"
        },
        {
         "hoverinfo": "x+y",
         "legendgroup": "2",
         "marker": {
          "color": "#FF9900"
         },
         "name": "Regi. 2",
         "showlegend": false,
         "type": "bar",
         "x": [
          "RMSE"
         ],
         "xaxis": "x2",
         "y": [
          0.10165770634202528
         ],
         "yaxis": "y2"
        },
        {
         "hoverinfo": "x+y",
         "legendgroup": "2",
         "marker": {
          "color": "#FF9900"
         },
         "name": "Regi. 2",
         "showlegend": false,
         "type": "bar",
         "x": [
          "Correspondences"
         ],
         "xaxis": "x3",
         "y": [
          13252
         ],
         "yaxis": "y3"
        },
        {
         "hoverinfo": "x+y",
         "legendgroup": "2",
         "marker": {
          "color": "#FF9900"
         },
         "name": "Regi. 2",
         "showlegend": false,
         "type": "bar",
         "x": [
          "Scale"
         ],
         "xaxis": "x4",
         "y": [
          0.9648816789358121
         ],
         "yaxis": "y4"
        },
        {
         "hoverinfo": "x+y",
         "legendgroup": "2",
         "marker": {
          "color": "#FF9900"
         },
         "name": "Regi. 2",
         "showlegend": false,
         "type": "bar",
         "x": [
          "Rotz",
          "Roty",
          "Rotx"
         ],
         "xaxis": "x5",
         "y": [
          2.456851208324573,
          0.018540759137203634,
          -0.25671442864366556
         ],
         "yaxis": "y5"
        },
        {
         "hoverinfo": "x+y",
         "legendgroup": "2",
         "marker": {
          "color": "#FF9900"
         },
         "name": "Regi. 2",
         "showlegend": false,
         "type": "bar",
         "x": [
          "Trans-x",
          "Trans-y",
          "Trans-z"
         ],
         "xaxis": "x6",
         "y": [
          6.8813921588292715,
          11.939765916504543,
          -1.6102514814752666
         ],
         "yaxis": "y6"
        },
        {
         "hoverinfo": "x+y",
         "legendgroup": "3",
         "marker": {
          "color": "#109618"
         },
         "name": "Regi. 3",
         "showlegend": true,
         "type": "bar",
         "x": [
          "Fitness"
         ],
         "xaxis": "x",
         "y": [
          0.4260256235518604
         ],
         "yaxis": "y"
        },
        {
         "hoverinfo": "x+y",
         "legendgroup": "3",
         "marker": {
          "color": "#109618"
         },
         "name": "Regi. 3",
         "showlegend": false,
         "type": "bar",
         "x": [
          "RMSE"
         ],
         "xaxis": "x2",
         "y": [
          0.11247633973034224
         ],
         "yaxis": "y2"
        },
        {
         "hoverinfo": "x+y",
         "legendgroup": "3",
         "marker": {
          "color": "#109618"
         },
         "name": "Regi. 3",
         "showlegend": false,
         "type": "bar",
         "x": [
          "Correspondences"
         ],
         "xaxis": "x3",
         "y": [
          12503
         ],
         "yaxis": "y3"
        },
        {
         "hoverinfo": "x+y",
         "legendgroup": "3",
         "marker": {
          "color": "#109618"
         },
         "name": "Regi. 3",
         "showlegend": false,
         "type": "bar",
         "x": [
          "Scale"
         ],
         "xaxis": "x4",
         "y": [
          0.9959052046300727
         ],
         "yaxis": "y4"
        },
        {
         "hoverinfo": "x+y",
         "legendgroup": "3",
         "marker": {
          "color": "#109618"
         },
         "name": "Regi. 3",
         "showlegend": false,
         "type": "bar",
         "x": [
          "Rotz",
          "Roty",
          "Rotx"
         ],
         "xaxis": "x5",
         "y": [
          13.860229637627057,
          -0.22574946098860635,
          -1.4865588376011993
         ],
         "yaxis": "y5"
        },
        {
         "hoverinfo": "x+y",
         "legendgroup": "3",
         "marker": {
          "color": "#109618"
         },
         "name": "Regi. 3",
         "showlegend": false,
         "type": "bar",
         "x": [
          "Trans-x",
          "Trans-y",
          "Trans-z"
         ],
         "xaxis": "x6",
         "y": [
          1.1932703951532266,
          -0.6862997683900809,
          0.2313325021894812
         ],
         "yaxis": "y6"
        },
        {
         "hoverinfo": "x+y",
         "legendgroup": "4",
         "marker": {
          "color": "#990099"
         },
         "name": "Regi. 4",
         "showlegend": true,
         "type": "bar",
         "x": [
          "Fitness"
         ],
         "xaxis": "x",
         "y": [
          0.4328744718549816
         ],
         "yaxis": "y"
        },
        {
         "hoverinfo": "x+y",
         "legendgroup": "4",
         "marker": {
          "color": "#990099"
         },
         "name": "Regi. 4",
         "showlegend": false,
         "type": "bar",
         "x": [
          "RMSE"
         ],
         "xaxis": "x2",
         "y": [
          0.11417457126149487
         ],
         "yaxis": "y2"
        },
        {
         "hoverinfo": "x+y",
         "legendgroup": "4",
         "marker": {
          "color": "#990099"
         },
         "name": "Regi. 4",
         "showlegend": false,
         "type": "bar",
         "x": [
          "Correspondences"
         ],
         "xaxis": "x3",
         "y": [
          12704
         ],
         "yaxis": "y3"
        },
        {
         "hoverinfo": "x+y",
         "legendgroup": "4",
         "marker": {
          "color": "#990099"
         },
         "name": "Regi. 4",
         "showlegend": false,
         "type": "bar",
         "x": [
          "Scale"
         ],
         "xaxis": "x4",
         "y": [
          1.0179594333935251
         ],
         "yaxis": "y4"
        },
        {
         "hoverinfo": "x+y",
         "legendgroup": "4",
         "marker": {
          "color": "#990099"
         },
         "name": "Regi. 4",
         "showlegend": false,
         "type": "bar",
         "x": [
          "Rotz",
          "Roty",
          "Rotx"
         ],
         "xaxis": "x5",
         "y": [
          1.9414232921876466,
          0.5667479005160513,
          0.04064098062948085
         ],
         "yaxis": "y5"
        },
        {
         "hoverinfo": "x+y",
         "legendgroup": "4",
         "marker": {
          "color": "#990099"
         },
         "name": "Regi. 4",
         "showlegend": false,
         "type": "bar",
         "x": [
          "Trans-x",
          "Trans-y",
          "Trans-z"
         ],
         "xaxis": "x6",
         "y": [
          7.255955854462603,
          11.342455390077808,
          0.7999954865538896
         ],
         "yaxis": "y6"
        },
        {
         "hoverinfo": "x+y",
         "legendgroup": "5",
         "marker": {
          "color": "#0099C6"
         },
         "name": "Regi. 5",
         "showlegend": true,
         "type": "bar",
         "x": [
          "Fitness"
         ],
         "xaxis": "x",
         "y": [
          0.44725364590432054
         ],
         "yaxis": "y"
        },
        {
         "hoverinfo": "x+y",
         "legendgroup": "5",
         "marker": {
          "color": "#0099C6"
         },
         "name": "Regi. 5",
         "showlegend": false,
         "type": "bar",
         "x": [
          "RMSE"
         ],
         "xaxis": "x2",
         "y": [
          0.09880716968346334
         ],
         "yaxis": "y2"
        },
        {
         "hoverinfo": "x+y",
         "legendgroup": "5",
         "marker": {
          "color": "#0099C6"
         },
         "name": "Regi. 5",
         "showlegend": false,
         "type": "bar",
         "x": [
          "Correspondences"
         ],
         "xaxis": "x3",
         "y": [
          13126
         ],
         "yaxis": "y3"
        },
        {
         "hoverinfo": "x+y",
         "legendgroup": "5",
         "marker": {
          "color": "#0099C6"
         },
         "name": "Regi. 5",
         "showlegend": false,
         "type": "bar",
         "x": [
          "Scale"
         ],
         "xaxis": "x4",
         "y": [
          1.008682565019682
         ],
         "yaxis": "y4"
        },
        {
         "hoverinfo": "x+y",
         "legendgroup": "5",
         "marker": {
          "color": "#0099C6"
         },
         "name": "Regi. 5",
         "showlegend": false,
         "type": "bar",
         "x": [
          "Rotz",
          "Roty",
          "Rotx"
         ],
         "xaxis": "x5",
         "y": [
          1.7349847841970893,
          0.12911741029616963,
          -0.19457002325086492
         ],
         "yaxis": "y5"
        },
        {
         "hoverinfo": "x+y",
         "legendgroup": "5",
         "marker": {
          "color": "#0099C6"
         },
         "name": "Regi. 5",
         "showlegend": false,
         "type": "bar",
         "x": [
          "Trans-x",
          "Trans-y",
          "Trans-z"
         ],
         "xaxis": "x6",
         "y": [
          7.008325102533402,
          11.72336023061991,
          0.4123500294520994
         ],
         "yaxis": "y6"
        },
        {
         "hoverinfo": "x+y",
         "legendgroup": "6",
         "marker": {
          "color": "#DD4477"
         },
         "name": "Regi. 6",
         "showlegend": true,
         "type": "bar",
         "x": [
          "Fitness"
         ],
         "xaxis": "x",
         "y": [
          0.42282267956930625
         ],
         "yaxis": "y"
        },
        {
         "hoverinfo": "x+y",
         "legendgroup": "6",
         "marker": {
          "color": "#DD4477"
         },
         "name": "Regi. 6",
         "showlegend": false,
         "type": "bar",
         "x": [
          "RMSE"
         ],
         "xaxis": "x2",
         "y": [
          0.11210157893520868
         ],
         "yaxis": "y2"
        },
        {
         "hoverinfo": "x+y",
         "legendgroup": "6",
         "marker": {
          "color": "#DD4477"
         },
         "name": "Regi. 6",
         "showlegend": false,
         "type": "bar",
         "x": [
          "Correspondences"
         ],
         "xaxis": "x3",
         "y": [
          12409
         ],
         "yaxis": "y3"
        },
        {
         "hoverinfo": "x+y",
         "legendgroup": "6",
         "marker": {
          "color": "#DD4477"
         },
         "name": "Regi. 6",
         "showlegend": false,
         "type": "bar",
         "x": [
          "Scale"
         ],
         "xaxis": "x4",
         "y": [
          1.0407933003882737
         ],
         "yaxis": "y4"
        },
        {
         "hoverinfo": "x+y",
         "legendgroup": "6",
         "marker": {
          "color": "#DD4477"
         },
         "name": "Regi. 6",
         "showlegend": false,
         "type": "bar",
         "x": [
          "Rotz",
          "Roty",
          "Rotx"
         ],
         "xaxis": "x5",
         "y": [
          0.4686528145041538,
          0.3302598681294329,
          -0.041952665552904486
         ],
         "yaxis": "y5"
        },
        {
         "hoverinfo": "x+y",
         "legendgroup": "6",
         "marker": {
          "color": "#DD4477"
         },
         "name": "Regi. 6",
         "showlegend": false,
         "type": "bar",
         "x": [
          "Trans-x",
          "Trans-y",
          "Trans-z"
         ],
         "xaxis": "x6",
         "y": [
          7.076723962869613,
          11.46205191732465,
          1.8756727521332337
         ],
         "yaxis": "y6"
        },
        {
         "hoverinfo": "x+y",
         "legendgroup": "7",
         "marker": {
          "color": "#66AA00"
         },
         "name": "Regi. 7",
         "showlegend": true,
         "type": "bar",
         "x": [
          "Fitness"
         ],
         "xaxis": "x",
         "y": [
          0.44905956112852663
         ],
         "yaxis": "y"
        },
        {
         "hoverinfo": "x+y",
         "legendgroup": "7",
         "marker": {
          "color": "#66AA00"
         },
         "name": "Regi. 7",
         "showlegend": false,
         "type": "bar",
         "x": [
          "RMSE"
         ],
         "xaxis": "x2",
         "y": [
          0.1071897293802055
         ],
         "yaxis": "y2"
        },
        {
         "hoverinfo": "x+y",
         "legendgroup": "7",
         "marker": {
          "color": "#66AA00"
         },
         "name": "Regi. 7",
         "showlegend": false,
         "type": "bar",
         "x": [
          "Correspondences"
         ],
         "xaxis": "x3",
         "y": [
          13179
         ],
         "yaxis": "y3"
        },
        {
         "hoverinfo": "x+y",
         "legendgroup": "7",
         "marker": {
          "color": "#66AA00"
         },
         "name": "Regi. 7",
         "showlegend": false,
         "type": "bar",
         "x": [
          "Scale"
         ],
         "xaxis": "x4",
         "y": [
          0.9900603312358718
         ],
         "yaxis": "y4"
        },
        {
         "hoverinfo": "x+y",
         "legendgroup": "7",
         "marker": {
          "color": "#66AA00"
         },
         "name": "Regi. 7",
         "showlegend": false,
         "type": "bar",
         "x": [
          "Rotz",
          "Roty",
          "Rotx"
         ],
         "xaxis": "x5",
         "y": [
          2.4431613280114495,
          -0.3443351905555222,
          0.2798000903185735
         ],
         "yaxis": "y5"
        },
        {
         "hoverinfo": "x+y",
         "legendgroup": "7",
         "marker": {
          "color": "#66AA00"
         },
         "name": "Regi. 7",
         "showlegend": false,
         "type": "bar",
         "x": [
          "Trans-x",
          "Trans-y",
          "Trans-z"
         ],
         "xaxis": "x6",
         "y": [
          7.354975664330169,
          11.958987969162248,
          -0.43082157734301063
         ],
         "yaxis": "y6"
        },
        {
         "hoverinfo": "x+y",
         "legendgroup": "8",
         "marker": {
          "color": "#B82E2E"
         },
         "name": "Regi. 8",
         "showlegend": true,
         "type": "bar",
         "x": [
          "Fitness"
         ],
         "xaxis": "x",
         "y": [
          0.45028622052610057
         ],
         "yaxis": "y"
        },
        {
         "hoverinfo": "x+y",
         "legendgroup": "8",
         "marker": {
          "color": "#B82E2E"
         },
         "name": "Regi. 8",
         "showlegend": false,
         "type": "bar",
         "x": [
          "RMSE"
         ],
         "xaxis": "x2",
         "y": [
          0.107702666523245
         ],
         "yaxis": "y2"
        },
        {
         "hoverinfo": "x+y",
         "legendgroup": "8",
         "marker": {
          "color": "#B82E2E"
         },
         "name": "Regi. 8",
         "showlegend": false,
         "type": "bar",
         "x": [
          "Correspondences"
         ],
         "xaxis": "x3",
         "y": [
          13215
         ],
         "yaxis": "y3"
        },
        {
         "hoverinfo": "x+y",
         "legendgroup": "8",
         "marker": {
          "color": "#B82E2E"
         },
         "name": "Regi. 8",
         "showlegend": false,
         "type": "bar",
         "x": [
          "Scale"
         ],
         "xaxis": "x4",
         "y": [
          0.9678649229159291
         ],
         "yaxis": "y4"
        },
        {
         "hoverinfo": "x+y",
         "legendgroup": "8",
         "marker": {
          "color": "#B82E2E"
         },
         "name": "Regi. 8",
         "showlegend": false,
         "type": "bar",
         "x": [
          "Rotz",
          "Roty",
          "Rotx"
         ],
         "xaxis": "x5",
         "y": [
          76.03876651471718,
          -0.40476958449369815,
          0.5025927384219778
         ],
         "yaxis": "y5"
        },
        {
         "hoverinfo": "x+y",
         "legendgroup": "8",
         "marker": {
          "color": "#B82E2E"
         },
         "name": "Regi. 8",
         "showlegend": false,
         "type": "bar",
         "x": [
          "Trans-x",
          "Trans-y",
          "Trans-z"
         ],
         "xaxis": "x6",
         "y": [
          5.320672378144401,
          -1.104429758354943,
          -0.9139982687822723
         ],
         "yaxis": "y6"
        },
        {
         "hoverinfo": "x+y",
         "legendgroup": "9",
         "marker": {
          "color": "#316395"
         },
         "name": "Regi. 9",
         "showlegend": true,
         "type": "bar",
         "x": [
          "Fitness"
         ],
         "xaxis": "x",
         "y": [
          0.445141065830721
         ],
         "yaxis": "y"
        },
        {
         "hoverinfo": "x+y",
         "legendgroup": "9",
         "marker": {
          "color": "#316395"
         },
         "name": "Regi. 9",
         "showlegend": false,
         "type": "bar",
         "x": [
          "RMSE"
         ],
         "xaxis": "x2",
         "y": [
          0.10856145995363148
         ],
         "yaxis": "y2"
        },
        {
         "hoverinfo": "x+y",
         "legendgroup": "9",
         "marker": {
          "color": "#316395"
         },
         "name": "Regi. 9",
         "showlegend": false,
         "type": "bar",
         "x": [
          "Correspondences"
         ],
         "xaxis": "x3",
         "y": [
          13064
         ],
         "yaxis": "y3"
        },
        {
         "hoverinfo": "x+y",
         "legendgroup": "9",
         "marker": {
          "color": "#316395"
         },
         "name": "Regi. 9",
         "showlegend": false,
         "type": "bar",
         "x": [
          "Scale"
         ],
         "xaxis": "x4",
         "y": [
          0.9852721385619367
         ],
         "yaxis": "y4"
        },
        {
         "hoverinfo": "x+y",
         "legendgroup": "9",
         "marker": {
          "color": "#316395"
         },
         "name": "Regi. 9",
         "showlegend": false,
         "type": "bar",
         "x": [
          "Rotz",
          "Roty",
          "Rotx"
         ],
         "xaxis": "x5",
         "y": [
          1.4289990727444786,
          0.2055838168948297,
          -0.15467620441359475
         ],
         "yaxis": "y5"
        },
        {
         "hoverinfo": "x+y",
         "legendgroup": "9",
         "marker": {
          "color": "#316395"
         },
         "name": "Regi. 9",
         "showlegend": false,
         "type": "bar",
         "x": [
          "Trans-x",
          "Trans-y",
          "Trans-z"
         ],
         "xaxis": "x6",
         "y": [
          7.142614929852236,
          11.422559068428418,
          -0.6709375814630647
         ],
         "yaxis": "y6"
        }
       ],
       "layout": {
        "annotations": [
         {
          "font": {
           "size": 16
          },
          "showarrow": false,
          "text": "Plot 1",
          "x": 0.14444444444444443,
          "xanchor": "center",
          "xref": "paper",
          "y": 1,
          "yanchor": "bottom",
          "yref": "paper"
         },
         {
          "font": {
           "size": 16
          },
          "showarrow": false,
          "text": "Plot 2",
          "x": 0.49999999999999994,
          "xanchor": "center",
          "xref": "paper",
          "y": 1,
          "yanchor": "bottom",
          "yref": "paper"
         },
         {
          "font": {
           "size": 16
          },
          "showarrow": false,
          "text": "Plot 3",
          "x": 0.8555555555555554,
          "xanchor": "center",
          "xref": "paper",
          "y": 1,
          "yanchor": "bottom",
          "yref": "paper"
         },
         {
          "font": {
           "size": 16
          },
          "showarrow": false,
          "text": "Plot 4",
          "x": 0.14444444444444443,
          "xanchor": "center",
          "xref": "paper",
          "y": 0.375,
          "yanchor": "bottom",
          "yref": "paper"
         },
         {
          "font": {
           "size": 16
          },
          "showarrow": false,
          "text": "Plot 5",
          "x": 0.49999999999999994,
          "xanchor": "center",
          "xref": "paper",
          "y": 0.375,
          "yanchor": "bottom",
          "yref": "paper"
         },
         {
          "font": {
           "size": 16
          },
          "showarrow": false,
          "text": "Plot 6",
          "x": 0.8555555555555554,
          "xanchor": "center",
          "xref": "paper",
          "y": 0.375,
          "yanchor": "bottom",
          "yref": "paper"
         }
        ],
        "height": 800,
        "template": {
         "data": {
          "bar": [
           {
            "error_x": {
             "color": "#2a3f5f"
            },
            "error_y": {
             "color": "#2a3f5f"
            },
            "marker": {
             "line": {
              "color": "#E5ECF6",
              "width": 0.5
             },
             "pattern": {
              "fillmode": "overlay",
              "size": 10,
              "solidity": 0.2
             }
            },
            "type": "bar"
           }
          ],
          "barpolar": [
           {
            "marker": {
             "line": {
              "color": "#E5ECF6",
              "width": 0.5
             },
             "pattern": {
              "fillmode": "overlay",
              "size": 10,
              "solidity": 0.2
             }
            },
            "type": "barpolar"
           }
          ],
          "carpet": [
           {
            "aaxis": {
             "endlinecolor": "#2a3f5f",
             "gridcolor": "white",
             "linecolor": "white",
             "minorgridcolor": "white",
             "startlinecolor": "#2a3f5f"
            },
            "baxis": {
             "endlinecolor": "#2a3f5f",
             "gridcolor": "white",
             "linecolor": "white",
             "minorgridcolor": "white",
             "startlinecolor": "#2a3f5f"
            },
            "type": "carpet"
           }
          ],
          "choropleth": [
           {
            "colorbar": {
             "outlinewidth": 0,
             "ticks": ""
            },
            "type": "choropleth"
           }
          ],
          "contour": [
           {
            "colorbar": {
             "outlinewidth": 0,
             "ticks": ""
            },
            "colorscale": [
             [
              0,
              "#0d0887"
             ],
             [
              0.1111111111111111,
              "#46039f"
             ],
             [
              0.2222222222222222,
              "#7201a8"
             ],
             [
              0.3333333333333333,
              "#9c179e"
             ],
             [
              0.4444444444444444,
              "#bd3786"
             ],
             [
              0.5555555555555556,
              "#d8576b"
             ],
             [
              0.6666666666666666,
              "#ed7953"
             ],
             [
              0.7777777777777778,
              "#fb9f3a"
             ],
             [
              0.8888888888888888,
              "#fdca26"
             ],
             [
              1,
              "#f0f921"
             ]
            ],
            "type": "contour"
           }
          ],
          "contourcarpet": [
           {
            "colorbar": {
             "outlinewidth": 0,
             "ticks": ""
            },
            "type": "contourcarpet"
           }
          ],
          "heatmap": [
           {
            "colorbar": {
             "outlinewidth": 0,
             "ticks": ""
            },
            "colorscale": [
             [
              0,
              "#0d0887"
             ],
             [
              0.1111111111111111,
              "#46039f"
             ],
             [
              0.2222222222222222,
              "#7201a8"
             ],
             [
              0.3333333333333333,
              "#9c179e"
             ],
             [
              0.4444444444444444,
              "#bd3786"
             ],
             [
              0.5555555555555556,
              "#d8576b"
             ],
             [
              0.6666666666666666,
              "#ed7953"
             ],
             [
              0.7777777777777778,
              "#fb9f3a"
             ],
             [
              0.8888888888888888,
              "#fdca26"
             ],
             [
              1,
              "#f0f921"
             ]
            ],
            "type": "heatmap"
           }
          ],
          "heatmapgl": [
           {
            "colorbar": {
             "outlinewidth": 0,
             "ticks": ""
            },
            "colorscale": [
             [
              0,
              "#0d0887"
             ],
             [
              0.1111111111111111,
              "#46039f"
             ],
             [
              0.2222222222222222,
              "#7201a8"
             ],
             [
              0.3333333333333333,
              "#9c179e"
             ],
             [
              0.4444444444444444,
              "#bd3786"
             ],
             [
              0.5555555555555556,
              "#d8576b"
             ],
             [
              0.6666666666666666,
              "#ed7953"
             ],
             [
              0.7777777777777778,
              "#fb9f3a"
             ],
             [
              0.8888888888888888,
              "#fdca26"
             ],
             [
              1,
              "#f0f921"
             ]
            ],
            "type": "heatmapgl"
           }
          ],
          "histogram": [
           {
            "marker": {
             "pattern": {
              "fillmode": "overlay",
              "size": 10,
              "solidity": 0.2
             }
            },
            "type": "histogram"
           }
          ],
          "histogram2d": [
           {
            "colorbar": {
             "outlinewidth": 0,
             "ticks": ""
            },
            "colorscale": [
             [
              0,
              "#0d0887"
             ],
             [
              0.1111111111111111,
              "#46039f"
             ],
             [
              0.2222222222222222,
              "#7201a8"
             ],
             [
              0.3333333333333333,
              "#9c179e"
             ],
             [
              0.4444444444444444,
              "#bd3786"
             ],
             [
              0.5555555555555556,
              "#d8576b"
             ],
             [
              0.6666666666666666,
              "#ed7953"
             ],
             [
              0.7777777777777778,
              "#fb9f3a"
             ],
             [
              0.8888888888888888,
              "#fdca26"
             ],
             [
              1,
              "#f0f921"
             ]
            ],
            "type": "histogram2d"
           }
          ],
          "histogram2dcontour": [
           {
            "colorbar": {
             "outlinewidth": 0,
             "ticks": ""
            },
            "colorscale": [
             [
              0,
              "#0d0887"
             ],
             [
              0.1111111111111111,
              "#46039f"
             ],
             [
              0.2222222222222222,
              "#7201a8"
             ],
             [
              0.3333333333333333,
              "#9c179e"
             ],
             [
              0.4444444444444444,
              "#bd3786"
             ],
             [
              0.5555555555555556,
              "#d8576b"
             ],
             [
              0.6666666666666666,
              "#ed7953"
             ],
             [
              0.7777777777777778,
              "#fb9f3a"
             ],
             [
              0.8888888888888888,
              "#fdca26"
             ],
             [
              1,
              "#f0f921"
             ]
            ],
            "type": "histogram2dcontour"
           }
          ],
          "mesh3d": [
           {
            "colorbar": {
             "outlinewidth": 0,
             "ticks": ""
            },
            "type": "mesh3d"
           }
          ],
          "parcoords": [
           {
            "line": {
             "colorbar": {
              "outlinewidth": 0,
              "ticks": ""
             }
            },
            "type": "parcoords"
           }
          ],
          "pie": [
           {
            "automargin": true,
            "type": "pie"
           }
          ],
          "scatter": [
           {
            "fillpattern": {
             "fillmode": "overlay",
             "size": 10,
             "solidity": 0.2
            },
            "type": "scatter"
           }
          ],
          "scatter3d": [
           {
            "line": {
             "colorbar": {
              "outlinewidth": 0,
              "ticks": ""
             }
            },
            "marker": {
             "colorbar": {
              "outlinewidth": 0,
              "ticks": ""
             }
            },
            "type": "scatter3d"
           }
          ],
          "scattercarpet": [
           {
            "marker": {
             "colorbar": {
              "outlinewidth": 0,
              "ticks": ""
             }
            },
            "type": "scattercarpet"
           }
          ],
          "scattergeo": [
           {
            "marker": {
             "colorbar": {
              "outlinewidth": 0,
              "ticks": ""
             }
            },
            "type": "scattergeo"
           }
          ],
          "scattergl": [
           {
            "marker": {
             "colorbar": {
              "outlinewidth": 0,
              "ticks": ""
             }
            },
            "type": "scattergl"
           }
          ],
          "scattermapbox": [
           {
            "marker": {
             "colorbar": {
              "outlinewidth": 0,
              "ticks": ""
             }
            },
            "type": "scattermapbox"
           }
          ],
          "scatterpolar": [
           {
            "marker": {
             "colorbar": {
              "outlinewidth": 0,
              "ticks": ""
             }
            },
            "type": "scatterpolar"
           }
          ],
          "scatterpolargl": [
           {
            "marker": {
             "colorbar": {
              "outlinewidth": 0,
              "ticks": ""
             }
            },
            "type": "scatterpolargl"
           }
          ],
          "scatterternary": [
           {
            "marker": {
             "colorbar": {
              "outlinewidth": 0,
              "ticks": ""
             }
            },
            "type": "scatterternary"
           }
          ],
          "surface": [
           {
            "colorbar": {
             "outlinewidth": 0,
             "ticks": ""
            },
            "colorscale": [
             [
              0,
              "#0d0887"
             ],
             [
              0.1111111111111111,
              "#46039f"
             ],
             [
              0.2222222222222222,
              "#7201a8"
             ],
             [
              0.3333333333333333,
              "#9c179e"
             ],
             [
              0.4444444444444444,
              "#bd3786"
             ],
             [
              0.5555555555555556,
              "#d8576b"
             ],
             [
              0.6666666666666666,
              "#ed7953"
             ],
             [
              0.7777777777777778,
              "#fb9f3a"
             ],
             [
              0.8888888888888888,
              "#fdca26"
             ],
             [
              1,
              "#f0f921"
             ]
            ],
            "type": "surface"
           }
          ],
          "table": [
           {
            "cells": {
             "fill": {
              "color": "#EBF0F8"
             },
             "line": {
              "color": "white"
             }
            },
            "header": {
             "fill": {
              "color": "#C8D4E3"
             },
             "line": {
              "color": "white"
             }
            },
            "type": "table"
           }
          ]
         },
         "layout": {
          "annotationdefaults": {
           "arrowcolor": "#2a3f5f",
           "arrowhead": 0,
           "arrowwidth": 1
          },
          "autotypenumbers": "strict",
          "coloraxis": {
           "colorbar": {
            "outlinewidth": 0,
            "ticks": ""
           }
          },
          "colorscale": {
           "diverging": [
            [
             0,
             "#8e0152"
            ],
            [
             0.1,
             "#c51b7d"
            ],
            [
             0.2,
             "#de77ae"
            ],
            [
             0.3,
             "#f1b6da"
            ],
            [
             0.4,
             "#fde0ef"
            ],
            [
             0.5,
             "#f7f7f7"
            ],
            [
             0.6,
             "#e6f5d0"
            ],
            [
             0.7,
             "#b8e186"
            ],
            [
             0.8,
             "#7fbc41"
            ],
            [
             0.9,
             "#4d9221"
            ],
            [
             1,
             "#276419"
            ]
           ],
           "sequential": [
            [
             0,
             "#0d0887"
            ],
            [
             0.1111111111111111,
             "#46039f"
            ],
            [
             0.2222222222222222,
             "#7201a8"
            ],
            [
             0.3333333333333333,
             "#9c179e"
            ],
            [
             0.4444444444444444,
             "#bd3786"
            ],
            [
             0.5555555555555556,
             "#d8576b"
            ],
            [
             0.6666666666666666,
             "#ed7953"
            ],
            [
             0.7777777777777778,
             "#fb9f3a"
            ],
            [
             0.8888888888888888,
             "#fdca26"
            ],
            [
             1,
             "#f0f921"
            ]
           ],
           "sequentialminus": [
            [
             0,
             "#0d0887"
            ],
            [
             0.1111111111111111,
             "#46039f"
            ],
            [
             0.2222222222222222,
             "#7201a8"
            ],
            [
             0.3333333333333333,
             "#9c179e"
            ],
            [
             0.4444444444444444,
             "#bd3786"
            ],
            [
             0.5555555555555556,
             "#d8576b"
            ],
            [
             0.6666666666666666,
             "#ed7953"
            ],
            [
             0.7777777777777778,
             "#fb9f3a"
            ],
            [
             0.8888888888888888,
             "#fdca26"
            ],
            [
             1,
             "#f0f921"
            ]
           ]
          },
          "colorway": [
           "#636efa",
           "#EF553B",
           "#00cc96",
           "#ab63fa",
           "#FFA15A",
           "#19d3f3",
           "#FF6692",
           "#B6E880",
           "#FF97FF",
           "#FECB52"
          ],
          "font": {
           "color": "#2a3f5f"
          },
          "geo": {
           "bgcolor": "white",
           "lakecolor": "white",
           "landcolor": "#E5ECF6",
           "showlakes": true,
           "showland": true,
           "subunitcolor": "white"
          },
          "hoverlabel": {
           "align": "left"
          },
          "hovermode": "closest",
          "mapbox": {
           "style": "light"
          },
          "paper_bgcolor": "white",
          "plot_bgcolor": "#E5ECF6",
          "polar": {
           "angularaxis": {
            "gridcolor": "white",
            "linecolor": "white",
            "ticks": ""
           },
           "bgcolor": "#E5ECF6",
           "radialaxis": {
            "gridcolor": "white",
            "linecolor": "white",
            "ticks": ""
           }
          },
          "scene": {
           "xaxis": {
            "backgroundcolor": "#E5ECF6",
            "gridcolor": "white",
            "gridwidth": 2,
            "linecolor": "white",
            "showbackground": true,
            "ticks": "",
            "zerolinecolor": "white"
           },
           "yaxis": {
            "backgroundcolor": "#E5ECF6",
            "gridcolor": "white",
            "gridwidth": 2,
            "linecolor": "white",
            "showbackground": true,
            "ticks": "",
            "zerolinecolor": "white"
           },
           "zaxis": {
            "backgroundcolor": "#E5ECF6",
            "gridcolor": "white",
            "gridwidth": 2,
            "linecolor": "white",
            "showbackground": true,
            "ticks": "",
            "zerolinecolor": "white"
           }
          },
          "shapedefaults": {
           "line": {
            "color": "#2a3f5f"
           }
          },
          "ternary": {
           "aaxis": {
            "gridcolor": "white",
            "linecolor": "white",
            "ticks": ""
           },
           "baxis": {
            "gridcolor": "white",
            "linecolor": "white",
            "ticks": ""
           },
           "bgcolor": "#E5ECF6",
           "caxis": {
            "gridcolor": "white",
            "linecolor": "white",
            "ticks": ""
           }
          },
          "title": {
           "x": 0.05
          },
          "xaxis": {
           "automargin": true,
           "gridcolor": "white",
           "linecolor": "white",
           "ticks": "",
           "title": {
            "standoff": 15
           },
           "zerolinecolor": "white",
           "zerolinewidth": 2
          },
          "yaxis": {
           "automargin": true,
           "gridcolor": "white",
           "linecolor": "white",
           "ticks": "",
           "title": {
            "standoff": 15
           },
           "zerolinecolor": "white",
           "zerolinewidth": 2
          }
         }
        },
        "title": {
         "text": "Registration Results"
        },
        "width": 1000,
        "xaxis": {
         "anchor": "y",
         "autorange": true,
         "domain": [
          0,
          0.28888888888888886
         ],
         "range": [
          -0.5,
          0.5
         ],
         "type": "category"
        },
        "xaxis2": {
         "anchor": "y2",
         "autorange": true,
         "domain": [
          0.3555555555555555,
          0.6444444444444444
         ],
         "range": [
          -0.5,
          0.5
         ],
         "type": "category"
        },
        "xaxis3": {
         "anchor": "y3",
         "autorange": true,
         "domain": [
          0.711111111111111,
          0.9999999999999999
         ],
         "range": [
          -0.5,
          0.5
         ],
         "type": "category"
        },
        "xaxis4": {
         "anchor": "y4",
         "autorange": true,
         "domain": [
          0,
          0.28888888888888886
         ],
         "range": [
          -0.5,
          0.5
         ],
         "type": "category"
        },
        "xaxis5": {
         "anchor": "y5",
         "autorange": true,
         "domain": [
          0.3555555555555555,
          0.6444444444444444
         ],
         "range": [
          -0.5,
          2.5
         ],
         "type": "category"
        },
        "xaxis6": {
         "anchor": "y6",
         "autorange": true,
         "domain": [
          0.711111111111111,
          0.9999999999999999
         ],
         "range": [
          -0.5,
          2.5
         ],
         "type": "category"
        },
        "yaxis": {
         "anchor": "x",
         "autorange": true,
         "domain": [
          0.625,
          1
         ],
         "range": [
          0,
          0.4753125829429783
         ],
         "type": "linear"
        },
        "yaxis2": {
         "anchor": "x2",
         "autorange": true,
         "domain": [
          0.625,
          1
         ],
         "range": [
          0,
          0.12018375922262618
         ],
         "type": "linear"
        },
        "yaxis3": {
         "anchor": "x3",
         "autorange": true,
         "domain": [
          0.625,
          1
         ],
         "range": [
          0,
          13949.473684210527
         ],
         "type": "linear"
        },
        "yaxis4": {
         "anchor": "x4",
         "autorange": true,
         "domain": [
          0,
          0.375
         ],
         "range": [
          0,
          1.0955718951455513
         ],
         "type": "linear"
        },
        "yaxis5": {
         "anchor": "x5",
         "autorange": true,
         "domain": [
          0,
          0.375
         ],
         "range": [
          -5.793521357174443,
          80.34572903429043
         ],
         "type": "linear"
        },
        "yaxis6": {
         "anchor": "x6",
         "autorange": true,
         "domain": [
          0,
          0.375
         ],
         "range": [
          -2.3665922885532877,
          12.760223853007133
         ],
         "type": "linear"
        }
       }
      },
      "image/png": "[encoded data removed]",
      "text/html": [
       "<div>                            <div id=\"d7d579b1-f6be-460f-8ddd-19ca730c9593\" class=\"plotly-graph-div\" style=\"height:800px; width:1000px;\"></div>            <script type=\"text/javascript\">                require([\"plotly\"], function(Plotly) {                    window.PLOTLYENV=window.PLOTLYENV || {};                                    if (document.getElementById(\"d7d579b1-f6be-460f-8ddd-19ca730c9593\")) {                    Plotly.newPlot(                        \"d7d579b1-f6be-460f-8ddd-19ca730c9593\",                        [{\"hoverinfo\":\"x+y\",\"legendgroup\":\"0\",\"marker\":{\"color\":\"#3366CC\"},\"name\":\"Regi. 0\",\"showlegend\":true,\"x\":[\"Fitness\"],\"y\":[0.44946844759438465],\"type\":\"bar\",\"xaxis\":\"x\",\"yaxis\":\"y\"},{\"hoverinfo\":\"x+y\",\"legendgroup\":\"0\",\"marker\":{\"color\":\"#3366CC\"},\"name\":\"Regi. 0\",\"showlegend\":false,\"x\":[\"RMSE\"],\"y\":[0.10900223583854193],\"type\":\"bar\",\"xaxis\":\"x2\",\"yaxis\":\"y2\"},{\"hoverinfo\":\"x+y\",\"legendgroup\":\"0\",\"marker\":{\"color\":\"#3366CC\"},\"name\":\"Regi. 0\",\"showlegend\":false,\"x\":[\"Correspondences\"],\"y\":[13191],\"type\":\"bar\",\"xaxis\":\"x3\",\"yaxis\":\"y3\"},{\"hoverinfo\":\"x+y\",\"legendgroup\":\"0\",\"marker\":{\"color\":\"#3366CC\"},\"name\":\"Regi. 0\",\"showlegend\":false,\"x\":[\"Scale\"],\"y\":[0.9662130097286925],\"type\":\"bar\",\"xaxis\":\"x4\",\"yaxis\":\"y4\"},{\"hoverinfo\":\"x+y\",\"legendgroup\":\"0\",\"marker\":{\"color\":\"#3366CC\"},\"name\":\"Regi. 0\",\"showlegend\":false,\"x\":[\"Rotz\",\"Roty\",\"Rotx\"],\"y\":[2.3890838712973186,-0.31906883668370983,0.35233221856723507],\"type\":\"bar\",\"xaxis\":\"x5\",\"yaxis\":\"y5\"},{\"hoverinfo\":\"x+y\",\"legendgroup\":\"0\",\"marker\":{\"color\":\"#3366CC\"},\"name\":\"Regi. 0\",\"showlegend\":false,\"x\":[\"Trans-x\",\"Trans-y\",\"Trans-z\"],\"y\":[7.392814527542093,12.003883045929113,-1.543685602520057],\"type\":\"bar\",\"xaxis\":\"x6\",\"yaxis\":\"y6\"},{\"hoverinfo\":\"x+y\",\"legendgroup\":\"1\",\"marker\":{\"color\":\"#DC3912\"},\"name\":\"Regi. 1\",\"showlegend\":true,\"x\":[\"Fitness\"],\"y\":[0.4426536731634183],\"type\":\"bar\",\"xaxis\":\"x\",\"yaxis\":\"y\"},{\"hoverinfo\":\"x+y\",\"legendgroup\":\"1\",\"marker\":{\"color\":\"#DC3912\"},\"name\":\"Regi. 1\",\"showlegend\":false,\"x\":[\"RMSE\"],\"y\":[0.10978516636098082],\"type\":\"bar\",\"xaxis\":\"x2\",\"yaxis\":\"y2\"},{\"hoverinfo\":\"x+y\",\"legendgroup\":\"1\",\"marker\":{\"color\":\"#DC3912\"},\"name\":\"Regi. 1\",\"showlegend\":false,\"x\":[\"Correspondences\"],\"y\":[12991],\"type\":\"bar\",\"xaxis\":\"x3\",\"yaxis\":\"y3\"},{\"hoverinfo\":\"x+y\",\"legendgroup\":\"1\",\"marker\":{\"color\":\"#DC3912\"},\"name\":\"Regi. 1\",\"showlegend\":false,\"x\":[\"Scale\"],\"y\":[0.9716023723904313],\"type\":\"bar\",\"xaxis\":\"x4\",\"yaxis\":\"y4\"},{\"hoverinfo\":\"x+y\",\"legendgroup\":\"1\",\"marker\":{\"color\":\"#DC3912\"},\"name\":\"Regi. 1\",\"showlegend\":false,\"x\":[\"Rotz\",\"Roty\",\"Rotx\"],\"y\":[3.2451121113831722,0.12468364262418122,0.2707617514702423],\"type\":\"bar\",\"xaxis\":\"x5\",\"yaxis\":\"y5\"},{\"hoverinfo\":\"x+y\",\"legendgroup\":\"1\",\"marker\":{\"color\":\"#DC3912\"},\"name\":\"Regi. 1\",\"showlegend\":false,\"x\":[\"Trans-x\",\"Trans-y\",\"Trans-z\"],\"y\":[7.265974719634011,11.72096776883942,-1.3543940694396426],\"type\":\"bar\",\"xaxis\":\"x6\",\"yaxis\":\"y6\"},{\"hoverinfo\":\"x+y\",\"legendgroup\":\"2\",\"marker\":{\"color\":\"#FF9900\"},\"name\":\"Regi. 2\",\"showlegend\":true,\"x\":[\"Fitness\"],\"y\":[0.4515469537958294],\"type\":\"bar\",\"xaxis\":\"x\",\"yaxis\":\"y\"},{\"hoverinfo\":\"x+y\",\"legendgroup\":\"2\",\"marker\":{\"color\":\"#FF9900\"},\"name\":\"Regi. 2\",\"showlegend\":false,\"x\":[\"RMSE\"],\"y\":[0.10165770634202528],\"type\":\"bar\",\"xaxis\":\"x2\",\"yaxis\":\"y2\"},{\"hoverinfo\":\"x+y\",\"legendgroup\":\"2\",\"marker\":{\"color\":\"#FF9900\"},\"name\":\"Regi. 2\",\"showlegend\":false,\"x\":[\"Correspondences\"],\"y\":[13252],\"type\":\"bar\",\"xaxis\":\"x3\",\"yaxis\":\"y3\"},{\"hoverinfo\":\"x+y\",\"legendgroup\":\"2\",\"marker\":{\"color\":\"#FF9900\"},\"name\":\"Regi. 2\",\"showlegend\":false,\"x\":[\"Scale\"],\"y\":[0.9648816789358121],\"type\":\"bar\",\"xaxis\":\"x4\",\"yaxis\":\"y4\"},{\"hoverinfo\":\"x+y\",\"legendgroup\":\"2\",\"marker\":{\"color\":\"#FF9900\"},\"name\":\"Regi. 2\",\"showlegend\":false,\"x\":[\"Rotz\",\"Roty\",\"Rotx\"],\"y\":[2.456851208324573,0.018540759137203634,-0.25671442864366556],\"type\":\"bar\",\"xaxis\":\"x5\",\"yaxis\":\"y5\"},{\"hoverinfo\":\"x+y\",\"legendgroup\":\"2\",\"marker\":{\"color\":\"#FF9900\"},\"name\":\"Regi. 2\",\"showlegend\":false,\"x\":[\"Trans-x\",\"Trans-y\",\"Trans-z\"],\"y\":[6.8813921588292715,11.939765916504543,-1.6102514814752666],\"type\":\"bar\",\"xaxis\":\"x6\",\"yaxis\":\"y6\"},{\"hoverinfo\":\"x+y\",\"legendgroup\":\"3\",\"marker\":{\"color\":\"#109618\"},\"name\":\"Regi. 3\",\"showlegend\":true,\"x\":[\"Fitness\"],\"y\":[0.4260256235518604],\"type\":\"bar\",\"xaxis\":\"x\",\"yaxis\":\"y\"},{\"hoverinfo\":\"x+y\",\"legendgroup\":\"3\",\"marker\":{\"color\":\"#109618\"},\"name\":\"Regi. 3\",\"showlegend\":false,\"x\":[\"RMSE\"],\"y\":[0.11247633973034224],\"type\":\"bar\",\"xaxis\":\"x2\",\"yaxis\":\"y2\"},{\"hoverinfo\":\"x+y\",\"legendgroup\":\"3\",\"marker\":{\"color\":\"#109618\"},\"name\":\"Regi. 3\",\"showlegend\":false,\"x\":[\"Correspondences\"],\"y\":[12503],\"type\":\"bar\",\"xaxis\":\"x3\",\"yaxis\":\"y3\"},{\"hoverinfo\":\"x+y\",\"legendgroup\":\"3\",\"marker\":{\"color\":\"#109618\"},\"name\":\"Regi. 3\",\"showlegend\":false,\"x\":[\"Scale\"],\"y\":[0.9959052046300727],\"type\":\"bar\",\"xaxis\":\"x4\",\"yaxis\":\"y4\"},{\"hoverinfo\":\"x+y\",\"legendgroup\":\"3\",\"marker\":{\"color\":\"#109618\"},\"name\":\"Regi. 3\",\"showlegend\":false,\"x\":[\"Rotz\",\"Roty\",\"Rotx\"],\"y\":[13.860229637627057,-0.22574946098860635,-1.4865588376011993],\"type\":\"bar\",\"xaxis\":\"x5\",\"yaxis\":\"y5\"},{\"hoverinfo\":\"x+y\",\"legendgroup\":\"3\",\"marker\":{\"color\":\"#109618\"},\"name\":\"Regi. 3\",\"showlegend\":false,\"x\":[\"Trans-x\",\"Trans-y\",\"Trans-z\"],\"y\":[1.1932703951532266,-0.6862997683900809,0.2313325021894812],\"type\":\"bar\",\"xaxis\":\"x6\",\"yaxis\":\"y6\"},{\"hoverinfo\":\"x+y\",\"legendgroup\":\"4\",\"marker\":{\"color\":\"#990099\"},\"name\":\"Regi. 4\",\"showlegend\":true,\"x\":[\"Fitness\"],\"y\":[0.4328744718549816],\"type\":\"bar\",\"xaxis\":\"x\",\"yaxis\":\"y\"},{\"hoverinfo\":\"x+y\",\"legendgroup\":\"4\",\"marker\":{\"color\":\"#990099\"},\"name\":\"Regi. 4\",\"showlegend\":false,\"x\":[\"RMSE\"],\"y\":[0.11417457126149487],\"type\":\"bar\",\"xaxis\":\"x2\",\"yaxis\":\"y2\"},{\"hoverinfo\":\"x+y\",\"legendgroup\":\"4\",\"marker\":{\"color\":\"#990099\"},\"name\":\"Regi. 4\",\"showlegend\":false,\"x\":[\"Correspondences\"],\"y\":[12704],\"type\":\"bar\",\"xaxis\":\"x3\",\"yaxis\":\"y3\"},{\"hoverinfo\":\"x+y\",\"legendgroup\":\"4\",\"marker\":{\"color\":\"#990099\"},\"name\":\"Regi. 4\",\"showlegend\":false,\"x\":[\"Scale\"],\"y\":[1.0179594333935251],\"type\":\"bar\",\"xaxis\":\"x4\",\"yaxis\":\"y4\"},{\"hoverinfo\":\"x+y\",\"legendgroup\":\"4\",\"marker\":{\"color\":\"#990099\"},\"name\":\"Regi. 4\",\"showlegend\":false,\"x\":[\"Rotz\",\"Roty\",\"Rotx\"],\"y\":[1.9414232921876466,0.5667479005160513,0.04064098062948085],\"type\":\"bar\",\"xaxis\":\"x5\",\"yaxis\":\"y5\"},{\"hoverinfo\":\"x+y\",\"legendgroup\":\"4\",\"marker\":{\"color\":\"#990099\"},\"name\":\"Regi. 4\",\"showlegend\":false,\"x\":[\"Trans-x\",\"Trans-y\",\"Trans-z\"],\"y\":[7.255955854462603,11.342455390077808,0.7999954865538896],\"type\":\"bar\",\"xaxis\":\"x6\",\"yaxis\":\"y6\"},{\"hoverinfo\":\"x+y\",\"legendgroup\":\"5\",\"marker\":{\"color\":\"#0099C6\"},\"name\":\"Regi. 5\",\"showlegend\":true,\"x\":[\"Fitness\"],\"y\":[0.44725364590432054],\"type\":\"bar\",\"xaxis\":\"x\",\"yaxis\":\"y\"},{\"hoverinfo\":\"x+y\",\"legendgroup\":\"5\",\"marker\":{\"color\":\"#0099C6\"},\"name\":\"Regi. 5\",\"showlegend\":false,\"x\":[\"RMSE\"],\"y\":[0.09880716968346334],\"type\":\"bar\",\"xaxis\":\"x2\",\"yaxis\":\"y2\"},{\"hoverinfo\":\"x+y\",\"legendgroup\":\"5\",\"marker\":{\"color\":\"#0099C6\"},\"name\":\"Regi. 5\",\"showlegend\":false,\"x\":[\"Correspondences\"],\"y\":[13126],\"type\":\"bar\",\"xaxis\":\"x3\",\"yaxis\":\"y3\"},{\"hoverinfo\":\"x+y\",\"legendgroup\":\"5\",\"marker\":{\"color\":\"#0099C6\"},\"name\":\"Regi. 5\",\"showlegend\":false,\"x\":[\"Scale\"],\"y\":[1.008682565019682],\"type\":\"bar\",\"xaxis\":\"x4\",\"yaxis\":\"y4\"},{\"hoverinfo\":\"x+y\",\"legendgroup\":\"5\",\"marker\":{\"color\":\"#0099C6\"},\"name\":\"Regi. 5\",\"showlegend\":false,\"x\":[\"Rotz\",\"Roty\",\"Rotx\"],\"y\":[1.7349847841970893,0.12911741029616963,-0.19457002325086492],\"type\":\"bar\",\"xaxis\":\"x5\",\"yaxis\":\"y5\"},{\"hoverinfo\":\"x+y\",\"legendgroup\":\"5\",\"marker\":{\"color\":\"#0099C6\"},\"name\":\"Regi. 5\",\"showlegend\":false,\"x\":[\"Trans-x\",\"Trans-y\",\"Trans-z\"],\"y\":[7.008325102533402,11.72336023061991,0.4123500294520994],\"type\":\"bar\",\"xaxis\":\"x6\",\"yaxis\":\"y6\"},{\"hoverinfo\":\"x+y\",\"legendgroup\":\"6\",\"marker\":{\"color\":\"#DD4477\"},\"name\":\"Regi. 6\",\"showlegend\":true,\"x\":[\"Fitness\"],\"y\":[0.42282267956930625],\"type\":\"bar\",\"xaxis\":\"x\",\"yaxis\":\"y\"},{\"hoverinfo\":\"x+y\",\"legendgroup\":\"6\",\"marker\":{\"color\":\"#DD4477\"},\"name\":\"Regi. 6\",\"showlegend\":false,\"x\":[\"RMSE\"],\"y\":[0.11210157893520868],\"type\":\"bar\",\"xaxis\":\"x2\",\"yaxis\":\"y2\"},{\"hoverinfo\":\"x+y\",\"legendgroup\":\"6\",\"marker\":{\"color\":\"#DD4477\"},\"name\":\"Regi. 6\",\"showlegend\":false,\"x\":[\"Correspondences\"],\"y\":[12409],\"type\":\"bar\",\"xaxis\":\"x3\",\"yaxis\":\"y3\"},{\"hoverinfo\":\"x+y\",\"legendgroup\":\"6\",\"marker\":{\"color\":\"#DD4477\"},\"name\":\"Regi. 6\",\"showlegend\":false,\"x\":[\"Scale\"],\"y\":[1.0407933003882737],\"type\":\"bar\",\"xaxis\":\"x4\",\"yaxis\":\"y4\"},{\"hoverinfo\":\"x+y\",\"legendgroup\":\"6\",\"marker\":{\"color\":\"#DD4477\"},\"name\":\"Regi. 6\",\"showlegend\":false,\"x\":[\"Rotz\",\"Roty\",\"Rotx\"],\"y\":[0.4686528145041538,0.3302598681294329,-0.041952665552904486],\"type\":\"bar\",\"xaxis\":\"x5\",\"yaxis\":\"y5\"},{\"hoverinfo\":\"x+y\",\"legendgroup\":\"6\",\"marker\":{\"color\":\"#DD4477\"},\"name\":\"Regi. 6\",\"showlegend\":false,\"x\":[\"Trans-x\",\"Trans-y\",\"Trans-z\"],\"y\":[7.076723962869613,11.46205191732465,1.8756727521332337],\"type\":\"bar\",\"xaxis\":\"x6\",\"yaxis\":\"y6\"},{\"hoverinfo\":\"x+y\",\"legendgroup\":\"7\",\"marker\":{\"color\":\"#66AA00\"},\"name\":\"Regi. 7\",\"showlegend\":true,\"x\":[\"Fitness\"],\"y\":[0.44905956112852663],\"type\":\"bar\",\"xaxis\":\"x\",\"yaxis\":\"y\"},{\"hoverinfo\":\"x+y\",\"legendgroup\":\"7\",\"marker\":{\"color\":\"#66AA00\"},\"name\":\"Regi. 7\",\"showlegend\":false,\"x\":[\"RMSE\"],\"y\":[0.1071897293802055],\"type\":\"bar\",\"xaxis\":\"x2\",\"yaxis\":\"y2\"},{\"hoverinfo\":\"x+y\",\"legendgroup\":\"7\",\"marker\":{\"color\":\"#66AA00\"},\"name\":\"Regi. 7\",\"showlegend\":false,\"x\":[\"Correspondences\"],\"y\":[13179],\"type\":\"bar\",\"xaxis\":\"x3\",\"yaxis\":\"y3\"},{\"hoverinfo\":\"x+y\",\"legendgroup\":\"7\",\"marker\":{\"color\":\"#66AA00\"},\"name\":\"Regi. 7\",\"showlegend\":false,\"x\":[\"Scale\"],\"y\":[0.9900603312358718],\"type\":\"bar\",\"xaxis\":\"x4\",\"yaxis\":\"y4\"},{\"hoverinfo\":\"x+y\",\"legendgroup\":\"7\",\"marker\":{\"color\":\"#66AA00\"},\"name\":\"Regi. 7\",\"showlegend\":false,\"x\":[\"Rotz\",\"Roty\",\"Rotx\"],\"y\":[2.4431613280114495,-0.3443351905555222,0.2798000903185735],\"type\":\"bar\",\"xaxis\":\"x5\",\"yaxis\":\"y5\"},{\"hoverinfo\":\"x+y\",\"legendgroup\":\"7\",\"marker\":{\"color\":\"#66AA00\"},\"name\":\"Regi. 7\",\"showlegend\":false,\"x\":[\"Trans-x\",\"Trans-y\",\"Trans-z\"],\"y\":[7.354975664330169,11.958987969162248,-0.43082157734301063],\"type\":\"bar\",\"xaxis\":\"x6\",\"yaxis\":\"y6\"},{\"hoverinfo\":\"x+y\",\"legendgroup\":\"8\",\"marker\":{\"color\":\"#B82E2E\"},\"name\":\"Regi. 8\",\"showlegend\":true,\"x\":[\"Fitness\"],\"y\":[0.45028622052610057],\"type\":\"bar\",\"xaxis\":\"x\",\"yaxis\":\"y\"},{\"hoverinfo\":\"x+y\",\"legendgroup\":\"8\",\"marker\":{\"color\":\"#B82E2E\"},\"name\":\"Regi. 8\",\"showlegend\":false,\"x\":[\"RMSE\"],\"y\":[0.107702666523245],\"type\":\"bar\",\"xaxis\":\"x2\",\"yaxis\":\"y2\"},{\"hoverinfo\":\"x+y\",\"legendgroup\":\"8\",\"marker\":{\"color\":\"#B82E2E\"},\"name\":\"Regi. 8\",\"showlegend\":false,\"x\":[\"Correspondences\"],\"y\":[13215],\"type\":\"bar\",\"xaxis\":\"x3\",\"yaxis\":\"y3\"},{\"hoverinfo\":\"x+y\",\"legendgroup\":\"8\",\"marker\":{\"color\":\"#B82E2E\"},\"name\":\"Regi. 8\",\"showlegend\":false,\"x\":[\"Scale\"],\"y\":[0.9678649229159291],\"type\":\"bar\",\"xaxis\":\"x4\",\"yaxis\":\"y4\"},{\"hoverinfo\":\"x+y\",\"legendgroup\":\"8\",\"marker\":{\"color\":\"#B82E2E\"},\"name\":\"Regi. 8\",\"showlegend\":false,\"x\":[\"Rotz\",\"Roty\",\"Rotx\"],\"y\":[76.03876651471718,-0.40476958449369815,0.5025927384219778],\"type\":\"bar\",\"xaxis\":\"x5\",\"yaxis\":\"y5\"},{\"hoverinfo\":\"x+y\",\"legendgroup\":\"8\",\"marker\":{\"color\":\"#B82E2E\"},\"name\":\"Regi. 8\",\"showlegend\":false,\"x\":[\"Trans-x\",\"Trans-y\",\"Trans-z\"],\"y\":[5.320672378144401,-1.104429758354943,-0.9139982687822723],\"type\":\"bar\",\"xaxis\":\"x6\",\"yaxis\":\"y6\"},{\"hoverinfo\":\"x+y\",\"legendgroup\":\"9\",\"marker\":{\"color\":\"#316395\"},\"name\":\"Regi. 9\",\"showlegend\":true,\"x\":[\"Fitness\"],\"y\":[0.445141065830721],\"type\":\"bar\",\"xaxis\":\"x\",\"yaxis\":\"y\"},{\"hoverinfo\":\"x+y\",\"legendgroup\":\"9\",\"marker\":{\"color\":\"#316395\"},\"name\":\"Regi. 9\",\"showlegend\":false,\"x\":[\"RMSE\"],\"y\":[0.10856145995363148],\"type\":\"bar\",\"xaxis\":\"x2\",\"yaxis\":\"y2\"},{\"hoverinfo\":\"x+y\",\"legendgroup\":\"9\",\"marker\":{\"color\":\"#316395\"},\"name\":\"Regi. 9\",\"showlegend\":false,\"x\":[\"Correspondences\"],\"y\":[13064],\"type\":\"bar\",\"xaxis\":\"x3\",\"yaxis\":\"y3\"},{\"hoverinfo\":\"x+y\",\"legendgroup\":\"9\",\"marker\":{\"color\":\"#316395\"},\"name\":\"Regi. 9\",\"showlegend\":false,\"x\":[\"Scale\"],\"y\":[0.9852721385619367],\"type\":\"bar\",\"xaxis\":\"x4\",\"yaxis\":\"y4\"},{\"hoverinfo\":\"x+y\",\"legendgroup\":\"9\",\"marker\":{\"color\":\"#316395\"},\"name\":\"Regi. 9\",\"showlegend\":false,\"x\":[\"Rotz\",\"Roty\",\"Rotx\"],\"y\":[1.4289990727444786,0.2055838168948297,-0.15467620441359475],\"type\":\"bar\",\"xaxis\":\"x5\",\"yaxis\":\"y5\"},{\"hoverinfo\":\"x+y\",\"legendgroup\":\"9\",\"marker\":{\"color\":\"#316395\"},\"name\":\"Regi. 9\",\"showlegend\":false,\"x\":[\"Trans-x\",\"Trans-y\",\"Trans-z\"],\"y\":[7.142614929852236,11.422559068428418,-0.6709375814630647],\"type\":\"bar\",\"xaxis\":\"x6\",\"yaxis\":\"y6\"}],                        {\"template\":{\"data\":{\"histogram2dcontour\":[{\"type\":\"histogram2dcontour\",\"colorbar\":{\"outlinewidth\":0,\"ticks\":\"\"},\"colorscale\":[[0.0,\"#0d0887\"],[0.1111111111111111,\"#46039f\"],[0.2222222222222222,\"#7201a8\"],[0.3333333333333333,\"#9c179e\"],[0.4444444444444444,\"#bd3786\"],[0.5555555555555556,\"#d8576b\"],[0.6666666666666666,\"#ed7953\"],[0.7777777777777778,\"#fb9f3a\"],[0.8888888888888888,\"#fdca26\"],[1.0,\"#f0f921\"]]}],\"choropleth\":[{\"type\":\"choropleth\",\"colorbar\":{\"outlinewidth\":0,\"ticks\":\"\"}}],\"histogram2d\":[{\"type\":\"histogram2d\",\"colorbar\":{\"outlinewidth\":0,\"ticks\":\"\"},\"colorscale\":[[0.0,\"#0d0887\"],[0.1111111111111111,\"#46039f\"],[0.2222222222222222,\"#7201a8\"],[0.3333333333333333,\"#9c179e\"],[0.4444444444444444,\"#bd3786\"],[0.5555555555555556,\"#d8576b\"],[0.6666666666666666,\"#ed7953\"],[0.7777777777777778,\"#fb9f3a\"],[0.8888888888888888,\"#fdca26\"],[1.0,\"#f0f921\"]]}],\"heatmap\":[{\"type\":\"heatmap\",\"colorbar\":{\"outlinewidth\":0,\"ticks\":\"\"},\"colorscale\":[[0.0,\"#0d0887\"],[0.1111111111111111,\"#46039f\"],[0.2222222222222222,\"#7201a8\"],[0.3333333333333333,\"#9c179e\"],[0.4444444444444444,\"#bd3786\"],[0.5555555555555556,\"#d8576b\"],[0.6666666666666666,\"#ed7953\"],[0.7777777777777778,\"#fb9f3a\"],[0.8888888888888888,\"#fdca26\"],[1.0,\"#f0f921\"]]}],\"heatmapgl\":[{\"type\":\"heatmapgl\",\"colorbar\":{\"outlinewidth\":0,\"ticks\":\"\"},\"colorscale\":[[0.0,\"#0d0887\"],[0.1111111111111111,\"#46039f\"],[0.2222222222222222,\"#7201a8\"],[0.3333333333333333,\"#9c179e\"],[0.4444444444444444,\"#bd3786\"],[0.5555555555555556,\"#d8576b\"],[0.6666666666666666,\"#ed7953\"],[0.7777777777777778,\"#fb9f3a\"],[0.8888888888888888,\"#fdca26\"],[1.0,\"#f0f921\"]]}],\"contourcarpet\":[{\"type\":\"contourcarpet\",\"colorbar\":{\"outlinewidth\":0,\"ticks\":\"\"}}],\"contour\":[{\"type\":\"contour\",\"colorbar\":{\"outlinewidth\":0,\"ticks\":\"\"},\"colorscale\":[[0.0,\"#0d0887\"],[0.1111111111111111,\"#46039f\"],[0.2222222222222222,\"#7201a8\"],[0.3333333333333333,\"#9c179e\"],[0.4444444444444444,\"#bd3786\"],[0.5555555555555556,\"#d8576b\"],[0.6666666666666666,\"#ed7953\"],[0.7777777777777778,\"#fb9f3a\"],[0.8888888888888888,\"#fdca26\"],[1.0,\"#f0f921\"]]}],\"surface\":[{\"type\":\"surface\",\"colorbar\":{\"outlinewidth\":0,\"ticks\":\"\"},\"colorscale\":[[0.0,\"#0d0887\"],[0.1111111111111111,\"#46039f\"],[0.2222222222222222,\"#7201a8\"],[0.3333333333333333,\"#9c179e\"],[0.4444444444444444,\"#bd3786\"],[0.5555555555555556,\"#d8576b\"],[0.6666666666666666,\"#ed7953\"],[0.7777777777777778,\"#fb9f3a\"],[0.8888888888888888,\"#fdca26\"],[1.0,\"#f0f921\"]]}],\"mesh3d\":[{\"type\":\"mesh3d\",\"colorbar\":{\"outlinewidth\":0,\"ticks\":\"\"}}],\"scatter\":[{\"fillpattern\":{\"fillmode\":\"overlay\",\"size\":10,\"solidity\":0.2},\"type\":\"scatter\"}],\"parcoords\":[{\"type\":\"parcoords\",\"line\":{\"colorbar\":{\"outlinewidth\":0,\"ticks\":\"\"}}}],\"scatterpolargl\":[{\"type\":\"scatterpolargl\",\"marker\":{\"colorbar\":{\"outlinewidth\":0,\"ticks\":\"\"}}}],\"bar\":[{\"error_x\":{\"color\":\"#2a3f5f\"},\"error_y\":{\"color\":\"#2a3f5f\"},\"marker\":{\"line\":{\"color\":\"#E5ECF6\",\"width\":0.5},\"pattern\":{\"fillmode\":\"overlay\",\"size\":10,\"solidity\":0.2}},\"type\":\"bar\"}],\"scattergeo\":[{\"type\":\"scattergeo\",\"marker\":{\"colorbar\":{\"outlinewidth\":0,\"ticks\":\"\"}}}],\"scatterpolar\":[{\"type\":\"scatterpolar\",\"marker\":{\"colorbar\":{\"outlinewidth\":0,\"ticks\":\"\"}}}],\"histogram\":[{\"marker\":{\"pattern\":{\"fillmode\":\"overlay\",\"size\":10,\"solidity\":0.2}},\"type\":\"histogram\"}],\"scattergl\":[{\"type\":\"scattergl\",\"marker\":{\"colorbar\":{\"outlinewidth\":0,\"ticks\":\"\"}}}],\"scatter3d\":[{\"type\":\"scatter3d\",\"line\":{\"colorbar\":{\"outlinewidth\":0,\"ticks\":\"\"}},\"marker\":{\"colorbar\":{\"outlinewidth\":0,\"ticks\":\"\"}}}],\"scattermapbox\":[{\"type\":\"scattermapbox\",\"marker\":{\"colorbar\":{\"outlinewidth\":0,\"ticks\":\"\"}}}],\"scatterternary\":[{\"type\":\"scatterternary\",\"marker\":{\"colorbar\":{\"outlinewidth\":0,\"ticks\":\"\"}}}],\"scattercarpet\":[{\"type\":\"scattercarpet\",\"marker\":{\"colorbar\":{\"outlinewidth\":0,\"ticks\":\"\"}}}],\"carpet\":[{\"aaxis\":{\"endlinecolor\":\"#2a3f5f\",\"gridcolor\":\"white\",\"linecolor\":\"white\",\"minorgridcolor\":\"white\",\"startlinecolor\":\"#2a3f5f\"},\"baxis\":{\"endlinecolor\":\"#2a3f5f\",\"gridcolor\":\"white\",\"linecolor\":\"white\",\"minorgridcolor\":\"white\",\"startlinecolor\":\"#2a3f5f\"},\"type\":\"carpet\"}],\"table\":[{\"cells\":{\"fill\":{\"color\":\"#EBF0F8\"},\"line\":{\"color\":\"white\"}},\"header\":{\"fill\":{\"color\":\"#C8D4E3\"},\"line\":{\"color\":\"white\"}},\"type\":\"table\"}],\"barpolar\":[{\"marker\":{\"line\":{\"color\":\"#E5ECF6\",\"width\":0.5},\"pattern\":{\"fillmode\":\"overlay\",\"size\":10,\"solidity\":0.2}},\"type\":\"barpolar\"}],\"pie\":[{\"automargin\":true,\"type\":\"pie\"}]},\"layout\":{\"autotypenumbers\":\"strict\",\"colorway\":[\"#636efa\",\"#EF553B\",\"#00cc96\",\"#ab63fa\",\"#FFA15A\",\"#19d3f3\",\"#FF6692\",\"#B6E880\",\"#FF97FF\",\"#FECB52\"],\"font\":{\"color\":\"#2a3f5f\"},\"hovermode\":\"closest\",\"hoverlabel\":{\"align\":\"left\"},\"paper_bgcolor\":\"white\",\"plot_bgcolor\":\"#E5ECF6\",\"polar\":{\"bgcolor\":\"#E5ECF6\",\"angularaxis\":{\"gridcolor\":\"white\",\"linecolor\":\"white\",\"ticks\":\"\"},\"radialaxis\":{\"gridcolor\":\"white\",\"linecolor\":\"white\",\"ticks\":\"\"}},\"ternary\":{\"bgcolor\":\"#E5ECF6\",\"aaxis\":{\"gridcolor\":\"white\",\"linecolor\":\"white\",\"ticks\":\"\"},\"baxis\":{\"gridcolor\":\"white\",\"linecolor\":\"white\",\"ticks\":\"\"},\"caxis\":{\"gridcolor\":\"white\",\"linecolor\":\"white\",\"ticks\":\"\"}},\"coloraxis\":{\"colorbar\":{\"outlinewidth\":0,\"ticks\":\"\"}},\"colorscale\":{\"sequential\":[[0.0,\"#0d0887\"],[0.1111111111111111,\"#46039f\"],[0.2222222222222222,\"#7201a8\"],[0.3333333333333333,\"#9c179e\"],[0.4444444444444444,\"#bd3786\"],[0.5555555555555556,\"#d8576b\"],[0.6666666666666666,\"#ed7953\"],[0.7777777777777778,\"#fb9f3a\"],[0.8888888888888888,\"#fdca26\"],[1.0,\"#f0f921\"]],\"sequentialminus\":[[0.0,\"#0d0887\"],[0.1111111111111111,\"#46039f\"],[0.2222222222222222,\"#7201a8\"],[0.3333333333333333,\"#9c179e\"],[0.4444444444444444,\"#bd3786\"],[0.5555555555555556,\"#d8576b\"],[0.6666666666666666,\"#ed7953\"],[0.7777777777777778,\"#fb9f3a\"],[0.8888888888888888,\"#fdca26\"],[1.0,\"#f0f921\"]],\"diverging\":[[0,\"#8e0152\"],[0.1,\"#c51b7d\"],[0.2,\"#de77ae\"],[0.3,\"#f1b6da\"],[0.4,\"#fde0ef\"],[0.5,\"#f7f7f7\"],[0.6,\"#e6f5d0\"],[0.7,\"#b8e186\"],[0.8,\"#7fbc41\"],[0.9,\"#4d9221\"],[1,\"#276419\"]]},\"xaxis\":{\"gridcolor\":\"white\",\"linecolor\":\"white\",\"ticks\":\"\",\"title\":{\"standoff\":15},\"zerolinecolor\":\"white\",\"automargin\":true,\"zerolinewidth\":2},\"yaxis\":{\"gridcolor\":\"white\",\"linecolor\":\"white\",\"ticks\":\"\",\"title\":{\"standoff\":15},\"zerolinecolor\":\"white\",\"automargin\":true,\"zerolinewidth\":2},\"scene\":{\"xaxis\":{\"backgroundcolor\":\"#E5ECF6\",\"gridcolor\":\"white\",\"linecolor\":\"white\",\"showbackground\":true,\"ticks\":\"\",\"zerolinecolor\":\"white\",\"gridwidth\":2},\"yaxis\":{\"backgroundcolor\":\"#E5ECF6\",\"gridcolor\":\"white\",\"linecolor\":\"white\",\"showbackground\":true,\"ticks\":\"\",\"zerolinecolor\":\"white\",\"gridwidth\":2},\"zaxis\":{\"backgroundcolor\":\"#E5ECF6\",\"gridcolor\":\"white\",\"linecolor\":\"white\",\"showbackground\":true,\"ticks\":\"\",\"zerolinecolor\":\"white\",\"gridwidth\":2}},\"shapedefaults\":{\"line\":{\"color\":\"#2a3f5f\"}},\"annotationdefaults\":{\"arrowcolor\":\"#2a3f5f\",\"arrowhead\":0,\"arrowwidth\":1},\"geo\":{\"bgcolor\":\"white\",\"landcolor\":\"#E5ECF6\",\"subunitcolor\":\"white\",\"showland\":true,\"showlakes\":true,\"lakecolor\":\"white\"},\"title\":{\"x\":0.05},\"mapbox\":{\"style\":\"light\"}}},\"xaxis\":{\"anchor\":\"y\",\"domain\":[0.0,0.28888888888888886]},\"yaxis\":{\"anchor\":\"x\",\"domain\":[0.625,1.0]},\"xaxis2\":{\"anchor\":\"y2\",\"domain\":[0.3555555555555555,0.6444444444444444]},\"yaxis2\":{\"anchor\":\"x2\",\"domain\":[0.625,1.0]},\"xaxis3\":{\"anchor\":\"y3\",\"domain\":[0.711111111111111,0.9999999999999999]},\"yaxis3\":{\"anchor\":\"x3\",\"domain\":[0.625,1.0]},\"xaxis4\":{\"anchor\":\"y4\",\"domain\":[0.0,0.28888888888888886]},\"yaxis4\":{\"anchor\":\"x4\",\"domain\":[0.0,0.375]},\"xaxis5\":{\"anchor\":\"y5\",\"domain\":[0.3555555555555555,0.6444444444444444]},\"yaxis5\":{\"anchor\":\"x5\",\"domain\":[0.0,0.375]},\"xaxis6\":{\"anchor\":\"y6\",\"domain\":[0.711111111111111,0.9999999999999999]},\"yaxis6\":{\"anchor\":\"x6\",\"domain\":[0.0,0.375]},\"annotations\":[{\"font\":{\"size\":16},\"showarrow\":false,\"text\":\"Plot 1\",\"x\":0.14444444444444443,\"xanchor\":\"center\",\"xref\":\"paper\",\"y\":1.0,\"yanchor\":\"bottom\",\"yref\":\"paper\"},{\"font\":{\"size\":16},\"showarrow\":false,\"text\":\"Plot 2\",\"x\":0.49999999999999994,\"xanchor\":\"center\",\"xref\":\"paper\",\"y\":1.0,\"yanchor\":\"bottom\",\"yref\":\"paper\"},{\"font\":{\"size\":16},\"showarrow\":false,\"text\":\"Plot 3\",\"x\":0.8555555555555554,\"xanchor\":\"center\",\"xref\":\"paper\",\"y\":1.0,\"yanchor\":\"bottom\",\"yref\":\"paper\"},{\"font\":{\"size\":16},\"showarrow\":false,\"text\":\"Plot 4\",\"x\":0.14444444444444443,\"xanchor\":\"center\",\"xref\":\"paper\",\"y\":0.375,\"yanchor\":\"bottom\",\"yref\":\"paper\"},{\"font\":{\"size\":16},\"showarrow\":false,\"text\":\"Plot 5\",\"x\":0.49999999999999994,\"xanchor\":\"center\",\"xref\":\"paper\",\"y\":0.375,\"yanchor\":\"bottom\",\"yref\":\"paper\"},{\"font\":{\"size\":16},\"showarrow\":false,\"text\":\"Plot 6\",\"x\":0.8555555555555554,\"xanchor\":\"center\",\"xref\":\"paper\",\"y\":0.375,\"yanchor\":\"bottom\",\"yref\":\"paper\"}],\"title\":{\"text\":\"Registration Results\"},\"height\":800,\"width\":1000},                        {\"responsive\": true}                    ).then(function(){\n",
       "                            \n",
       "var gd = document.getElementById('d7d579b1-f6be-460f-8ddd-19ca730c9593');\n",
       "var x = new MutationObserver(function (mutations, observer) {{\n",
       "        var display = window.getComputedStyle(gd).display;\n",
       "        if (!display || display === 'none') {{\n",
       "            console.log([gd, 'removed!']);\n",
       "            Plotly.purge(gd);\n",
       "            observer.disconnect();\n",
       "        }}\n",
       "}});\n",
       "\n",
       "// Listen for the removal of the full notebook cells\n",
       "var notebookContainer = gd.closest('#notebook-container');\n",
       "if (notebookContainer) {{\n",
       "    x.observe(notebookContainer, {childList: true});\n",
       "}}\n",
       "\n",
       "// Listen for the clearing of the current output cell\n",
       "var outputEl = gd.closest('.output');\n",
       "if (outputEl) {{\n",
       "    x.observe(outputEl, {childList: true});\n",
       "}}\n",
       "\n",
       "                        })                };                });            </script>        </div>"
      ]
     },
     "metadata": {},
     "output_type": "display_data"
    }
   ],
   "source": [
    "figure: go.Figure = create_registration_figure()\n",
    "\n",
    "# colors: list[str] = px.colors.sequential.Plasma_r\n",
    "colors: list[str] = px.colors.qualitative.G10\n",
    "\n",
    "\n",
    "for index, (result, color) in enumerate(zip(test_results, colors)):\n",
    "\n",
    "    traces: dict = create_registration_traces(\n",
    "        result,\n",
    "        name=f\"Regi. {index}\",\n",
    "        legendgroup=index,\n",
    "        color=color,\n",
    "    )\n",
    "\n",
    "    figure.add_trace(traces[\"fitness\"], row=1, col=1)\n",
    "    figure.add_trace(traces[\"rmse\"], row=1, col=2)\n",
    "    figure.add_trace(traces[\"correspondences\"], row=1, col=3)\n",
    "\n",
    "    figure.add_trace(traces[\"scale\"], row=2, col=1)\n",
    "    figure.add_trace(traces[\"rotation\"], row=2, col=2)\n",
    "    figure.add_trace(traces[\"translation\"], row=2, col=3)\n",
    "\n",
    "\n",
    "figure.update_layout(height=800, width=1000, title_text=\"Registration Results\")\n",
    "figure.show()\n",
    "\n",
    "visualize_test: bool = False\n",
    "\n",
    "if visualize_test:\n",
    "    for index, result in enumerate(test_results):\n",
    "        visualize_registration(\n",
    "            source=source_cloud,\n",
    "            target=target_cloud,\n",
    "            transformation=result.transformation,\n",
    "            title=f\"Test case: {test_source}, {test_target}, {index}\",\n",
    "        )"
   ]
  },
  {
   "cell_type": "markdown",
   "id": "ea183317-dde9-425a-8914-2ad2d8136d16",
   "metadata": {},
   "source": [
    "### Generate indices and perform registration"
   ]
  },
  {
   "cell_type": "code",
   "execution_count": null,
   "id": "0ee2b88b-5419-4d8b-8e25-7d22e840c14d",
   "metadata": {},
   "outputs": [],
   "source": [
    "indices: list[MultiTargetIndex] = generate_cascade_indices(len(loaders))\n",
    "\n",
    "result_storage = {\n",
    "    \"feature_matching\": dict(),\n",
    "    \"incremental_coarse\": dict(),\n",
    "}"
   ]
  },
  {
   "cell_type": "code",
   "execution_count": null,
   "id": "6802694c-5f11-4b64-a185-1022145ac821",
   "metadata": {},
   "outputs": [],
   "source": [
    "for index in indices:\n",
    "    source = index.source\n",
    "\n",
    "    results: dict[int, ExtendedRegistrationResult] = dict()\n",
    "\n",
    "    for target in index.targets:\n",
    "\n",
    "        result: ExtendedRegistrationResult = registration_worker(\n",
    "            source_loader=loaders[source],\n",
    "            target_loader=loaders[target],\n",
    "            preprocessor=preprocessor,\n",
    "            registrator=registrator,\n",
    "        )\n",
    "\n",
    "        log_registration(source, target, result)\n",
    "\n",
    "        results[target] = result\n",
    "\n",
    "    result_storage[\"feature_matching\"][source] = results"
   ]
  },
  {
   "cell_type": "markdown",
   "id": "1d7b74d2-0bf4-43af-8ad5-2b5421d0e234",
   "metadata": {},
   "source": [
    "### Draw registration and plot results\n",
    "- TODO: Draw registered point clouds\n",
    "- TODO: Plot point clouds, correspondences, and error distribution"
   ]
  },
  {
   "cell_type": "code",
   "execution_count": null,
   "id": "44c995ba-d81c-4825-b415-414fee12c101",
   "metadata": {},
   "outputs": [],
   "source": [
    "visualize_registration_batch(\n",
    "    storage=result_storage[\"feature_matching\"],\n",
    "    loaders=loaders,\n",
    ")"
   ]
  },
  {
   "cell_type": "markdown",
   "id": "70a015b7-fd6d-4270-8c9c-e6b75664601c",
   "metadata": {},
   "source": [
    "### Perform coarse incremental registration"
   ]
  },
  {
   "cell_type": "code",
   "execution_count": null,
   "id": "74d5cfa7-c6be-434b-8e1b-b3756e484cf4",
   "metadata": {},
   "outputs": [],
   "source": [
    "icp_coarse_parameters = dict()\n",
    "icp_coarse_parameters[\"voxel\"] = 0.05\n",
    "icp_coarse_parameters[\"distance\"] = 0.075\n",
    "\n",
    "loss = reg.TukeyLoss(k=0.20)\n",
    "icp_coarse_parameters[\"estimator\"] = reg.TransformationEstimationPointToPlane(loss)\n",
    "\n",
    "icp_preprocessor: Callable[[PointCloud], PointCloud] = partial(\n",
    "    downsample_point_cloud,\n",
    "    spacing=icp_coarse_parameters[\"voxel\"],\n",
    ")\n",
    "\n",
    "icp_registrator = partial(\n",
    "    register_point_cloud_icp,\n",
    "    distance_threshold=icp_coarse_parameters[\"distance\"],\n",
    "    distance_measure=icp_coarse_parameters[\"estimator\"],\n",
    ")"
   ]
  },
  {
   "cell_type": "code",
   "execution_count": null,
   "id": "39e78af0-9d78-4f9b-9a0b-a91a19a840ab",
   "metadata": {},
   "outputs": [],
   "source": [
    "result_storage[\"incremental_coarse\"] = dict()\n",
    "\n",
    "\n",
    "for index in indices:\n",
    "    source = index.source\n",
    "\n",
    "    results: dict[int, ExtendedRegistrationResult] = dict()\n",
    "\n",
    "    for target in index.targets:\n",
    "\n",
    "        transformation: np.ndarray = result_storage[\"feature_matching\"][source][\n",
    "            target\n",
    "        ].transformation\n",
    "\n",
    "        source_cloud: PointCloud = loaders[source]().unwrap()\n",
    "        target_cloud: PointCloud = loaders[target]().unwrap()\n",
    "\n",
    "        source_prepped: PointCloud = icp_preprocessor(source_cloud)\n",
    "        target_prepped: PointCloud = icp_preprocessor(target_cloud)\n",
    "\n",
    "        result: ExtendedRegistrationResult = icp_registrator(\n",
    "            source=source_prepped, target=target_prepped, transformation=transformation\n",
    "        )\n",
    "\n",
    "        logger.info(\"\")\n",
    "        logger.info(f\"Source {source}, target {target}\")\n",
    "        logger.info(f\"Initial transformation: {transformation}\")\n",
    "        logger.info(f\"Refined transformation: {result.transformation}\")\n",
    "        logger.info(\"\")\n",
    "\n",
    "        results[target] = result\n",
    "\n",
    "    result_storage[\"incremental_coarse\"][source] = results"
   ]
  },
  {
   "cell_type": "code",
   "execution_count": null,
   "id": "0b2c5dab-8cb8-49a0-8996-390d777cfa88",
   "metadata": {},
   "outputs": [],
   "source": [
    "visualize_registration_batch(\n",
    "    storage=result_storage[\"incremental_coarse\"],\n",
    "    loaders=loaders,\n",
    "    source_color=[0.60, 0.20, 0.20],\n",
    "    target_color=[0.20, 0.20, 0.60],\n",
    ")"
   ]
  },
  {
   "cell_type": "markdown",
   "id": "289a4963-ac0d-4de0-a726-4835c2683937",
   "metadata": {},
   "source": [
    "### TODO: Perform fine / colored registration"
   ]
  },
  {
   "cell_type": "code",
   "execution_count": null,
   "id": "82a637ae-6825-40bd-90d3-2c1cebf6ac06",
   "metadata": {},
   "outputs": [],
   "source": [
    "# TODO: Add colored ICP"
   ]
  },
  {
   "cell_type": "markdown",
   "id": "4752fa78-862a-4688-ad62-8d4ae5d9d1bc",
   "metadata": {},
   "source": [
    "### TODO: Perform multiway registration"
   ]
  },
  {
   "cell_type": "code",
   "execution_count": null,
   "id": "2f0ab252-0311-4ec1-bede-50870d25ec1c",
   "metadata": {},
   "outputs": [],
   "source": [
    "initial_graph: reg.PoseGraph = build_pose_graph(result_storage[\"incremental_coarse\"])\n",
    "\n",
    "with util.VerbosityContextManager(util.VerbosityLevel.Debug) as cm:\n",
    "    optimized_graph: reg.PoseGraph = optimize_pose_graph(\n",
    "        initial_graph,\n",
    "        correspondence_distance=0.075,\n",
    "        prune_threshold=0.25,\n",
    "        preference_loop_closure=100.0,\n",
    "        reference_node=0,\n",
    "    )\n",
    "\n",
    "for identifier in result_storage[\"incremental_coarse\"]:\n",
    "    logger.info(optimized_graph.nodes[identifier].pose)"
   ]
  },
  {
   "cell_type": "markdown",
   "id": "c7880422-12bd-4eb1-9c84-9059ab4af7da",
   "metadata": {},
   "source": [
    "### Draw final registration results"
   ]
  },
  {
   "cell_type": "code",
   "execution_count": null,
   "id": "91b4d179-e20c-4153-ac41-05789e3e89aa",
   "metadata": {},
   "outputs": [],
   "source": [
    "transformed_clouds: list[PointCloud] = list()\n",
    "\n",
    "for identifier in result_storage[\"incremental_coarse\"]:\n",
    "\n",
    "    cloud: PointCloud = loaders[identifier]().unwrap()\n",
    "    cloud.transform(optimized_graph.nodes[identifier].pose)\n",
    "    transformed_clouds.append(cloud)\n",
    "\n",
    "vis.draw_geometries(transformed_clouds)"
   ]
  }
 ],
 "metadata": {
  "kernelspec": {
   "display_name": "Python 3 (ipykernel)",
   "language": "python",
   "name": "python3"
  },
  "language_info": {
   "codemirror_mode": {
    "name": "ipython",
    "version": 3
   },
   "file_extension": ".py",
   "mimetype": "text/x-python",
   "name": "python",
   "nbconvert_exporter": "python",
   "pygments_lexer": "ipython3",
   "version": "3.11.9"
  }
 },
 "nbformat": 4,
 "nbformat_minor": 5
}
