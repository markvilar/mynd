{
 "cells": [
  {
   "cell_type": "markdown",
   "id": "e9846aa9-966a-4e11-9d10-fa3ffb1e0968",
   "metadata": {},
   "source": [
    "### Include registration modules"
   ]
  },
  {
   "cell_type": "code",
   "execution_count": 1,
   "id": "7b371dd6-fbf6-4edc-97e7-14179ad28726",
   "metadata": {},
   "outputs": [
    {
     "name": "stdout",
     "output_type": "stream",
     "text": [
      "Jupyter environment detected. Enabling Open3D WebVisualizer.\n",
      "[Open3D INFO] WebRTC GUI backend enabled.\n",
      "[Open3D INFO] WebRTCWindowSystem: HTTP handshake server disabled.\n"
     ]
    },
    {
     "name": "stderr",
     "output_type": "stream",
     "text": [
      "Can't use license /var/tmp/agisoft/licensing/licenses/metashape-pro.lic: License expired\n",
      "No license server found\n"
     ]
    }
   ],
   "source": [
    "import copy\n",
    "\n",
    "from functools import partial\n",
    "from pathlib import Path\n",
    "from time import time\n",
    "\n",
    "from collections.abc import Callable\n",
    "\n",
    "import numpy as np\n",
    "\n",
    "import open3d\n",
    "import open3d.geometry as geom\n",
    "import open3d.pipelines.registration as reg\n",
    "import open3d.visualization as vis\n",
    "import open3d.utility as util\n",
    "\n",
    "from result import Ok, Err, Result\n",
    "\n",
    "from benthoscan.io import read_toml\n",
    "from benthoscan.runtime import Environment, load_environment\n",
    "\n",
    "from benthoscan.registration import PointCloud, RegistrationResult\n",
    "from benthoscan.registration import PointCloudLoader, read_point_cloud\n",
    "from benthoscan.registration import MultiTargetIndex, generate_cascade_indices\n",
    "\n",
    "from benthoscan.registration import (\n",
    "    downsample_point_cloud,\n",
    "    estimate_point_cloud_normals,\n",
    ")\n",
    "\n",
    "from benthoscan.registration import (\n",
    "    PointCloudProcessor,\n",
    "    GlobalRegistrator,\n",
    "    IncrementalRegistrator,\n",
    ")\n",
    "from benthoscan.registration import (\n",
    "    build_point_cloud_processor,\n",
    "    build_feature_registrator,\n",
    "    build_icp_registrator,\n",
    ")\n",
    "\n",
    "from benthoscan.registration import (\n",
    "    register_icp,\n",
    "    register_colored_icp,\n",
    "    build_pose_graph,\n",
    "    optimize_pose_graph,\n",
    ")\n",
    "\n",
    "from benthoscan.spatial import decompose_transformation\n",
    "\n",
    "from benthoscan.visualization import (\n",
    "    visualize_registration,\n",
    "    create_subplots,\n",
    "    trace_registration_result,\n",
    ")\n",
    "\n",
    "from benthoscan.utils.log import logger"
   ]
  },
  {
   "cell_type": "markdown",
   "id": "1cf9c7ff-d813-4e92-91c6-21a7567d18e2",
   "metadata": {},
   "source": [
    "### Load environment and configure data loaders"
   ]
  },
  {
   "cell_type": "code",
   "execution_count": 2,
   "id": "d9e03428-3e96-4f3c-8a58-5e7df86e3aaa",
   "metadata": {},
   "outputs": [],
   "source": [
    "environment: Environment = load_environment()\n",
    "\n",
    "DATA_DIR: Path = Path(\"/home/martin/dev/benthoscan/.cache\")\n",
    "\n",
    "point_cloud_files: dict = {\n",
    "    0: DATA_DIR / Path(\"qdc5ghs3_20100430_024508.ply\"),\n",
    "    1: DATA_DIR / Path(\"qdc5ghs3_20120501_033336.ply\"),\n",
    "    2: DATA_DIR / Path(\"qdc5ghs3_20130405_103429.ply\"),\n",
    "    3: DATA_DIR / Path(\"qdc5ghs3_20210315_230947.ply\"),\n",
    "}\n",
    "\n",
    "loaders: dict = {\n",
    "    key: partial(read_point_cloud, path=path) for key, path in point_cloud_files.items()\n",
    "}\n",
    "\n",
    "count = len(loaders)\n",
    "if count < 2:\n",
    "    logger.error(f\"invalid number of point clouds for registration: {count}\")"
   ]
  },
  {
   "cell_type": "markdown",
   "id": "16ab0cfe-8d07-4b73-ac3a-b3f48e7b5910",
   "metadata": {},
   "source": [
    "### Logging Helpers"
   ]
  },
  {
   "cell_type": "code",
   "execution_count": 4,
   "id": "ee3dbb0e-36e2-4f59-8591-dfb566e7ab44",
   "metadata": {},
   "outputs": [],
   "source": [
    "def log_registration(source: int, target: int, result: RegistrationResult) -> None:\n",
    "    \"\"\"TODO\"\"\"\n",
    "\n",
    "    scale, rotation, translation = decompose_transformation(result.transformation)\n",
    "\n",
    "    logger.info(\"\")\n",
    "    logger.info(f\"Source:       {source}\")\n",
    "    logger.info(f\"Target:       {target}\")\n",
    "    logger.info(f\"Corresp.:     {len(result.correspondence_set)}\")\n",
    "    logger.info(f\"Fitness:      {result.fitness}\")\n",
    "    logger.info(f\"Inlier RMSE:  {result.inlier_rmse}\")\n",
    "    logger.info(f\"Trans. scale:    {scale}\")\n",
    "    logger.info(f\"Trans. trans.:   {translation}\")\n",
    "    logger.info(f\"Trans. rot.:     {rotation}\")\n",
    "    logger.info(\"\")"
   ]
  },
  {
   "cell_type": "code",
   "execution_count": 15,
   "id": "59fa67a2-b3d6-4e51-9967-7df97d9fa2d1",
   "metadata": {},
   "outputs": [],
   "source": [
    "from benthoscan.registration.pipeline import Module, ModuleList, get_required_parameters\n",
    "\n",
    "CONFIG_FILE: Path = Path(\n",
    "    \"/home/martin/dev/benthoscan/config/advanced_registration.toml\"\n",
    ")\n",
    "\n",
    "config: dict = read_toml(CONFIG_FILE).unwrap()\n",
    "\n",
    "modules: list[Module] = list()\n",
    "\n",
    "for module_config in config[\"modules\"]:\n",
    "\n",
    "    module_name: str = module_config[\"name\"]\n",
    "    module_type: str = module_config[\"type\"]\n",
    "\n",
    "    preprocessors = [\n",
    "        build_point_cloud_processor(model[\"method\"], model[\"parameters\"]).unwrap()\n",
    "        for model in module_config[\"preprocessors\"]\n",
    "    ]\n",
    "\n",
    "    match module_type:\n",
    "        case \"feature\":\n",
    "            registrator: GlobalRegistrator = build_feature_registrator(\n",
    "                module_config[\"registrator\"],\n",
    "            ).unwrap()\n",
    "        case \"icp\":\n",
    "            registrator: IncrementalRegistrator = build_icp_registrator(\n",
    "                module_config[\"registrator\"],\n",
    "            ).unwrap()\n",
    "        case other:\n",
    "            logger.error(f\"unknown module type: {module_type}\")\n",
    "            registrator = None\n",
    "\n",
    "    modules.append(Module(preprocessors=preprocessors, registrator=registrator))\n",
    "\n",
    "# TODO: Verify inference of global/incremental module\n",
    "module_list: ModuleList = ModuleList(modules)"
   ]
  },
  {
   "cell_type": "markdown",
   "id": "8adf86fc-7bd9-4670-bcb3-fb04f9b28b76",
   "metadata": {},
   "source": [
    "### Build registration modules from config"
   ]
  },
  {
   "cell_type": "code",
   "execution_count": null,
   "id": "ed211514-f2a6-4254-adf6-b8b1f4d8ed3d",
   "metadata": {},
   "outputs": [],
   "source": [
    "from typing import Optional\n",
    "\n",
    "source: int = 0\n",
    "target: int = 3\n",
    "\n",
    "source_cloud: PointCloud = loaders[source]().unwrap()\n",
    "target_cloud: PointCloud = loaders[target]().unwrap()\n",
    "\n",
    "module_results: list[RegistrationResult] = list()\n",
    "current_result: Optional[RegistrationResult] = None\n",
    "\n",
    "for flag, module in module_list.modules:\n",
    "\n",
    "    match flag:\n",
    "        case \"global\":\n",
    "            current_result: RegistrationResult = module.forward(\n",
    "                source_cloud, target_cloud\n",
    "            )\n",
    "            log_registration(source=0, target=3, result=current_result)\n",
    "            module_results.append(current_result)\n",
    "        case \"incremental\":\n",
    "            if not current_result:\n",
    "                transformation: np.ndarray = np.identity(4)\n",
    "            else:\n",
    "                transformation: np.ndarray = current_result.transformation\n",
    "\n",
    "            current_result: RegistrationResult = module.forward(\n",
    "                source_cloud, target_cloud, transformation\n",
    "            )\n",
    "            log_registration(source=0, target=3, result=current_result)\n",
    "            module_results.append(current_result)"
   ]
  },
  {
   "cell_type": "code",
   "execution_count": 14,
   "id": "13ea98e0-fd42-44d7-8302-8b586ad6dce1",
   "metadata": {},
   "outputs": [],
   "source": [
    "visualize: bool = True\n",
    "\n",
    "if visualize:\n",
    "    for index, result in enumerate(module_results):\n",
    "        visualize_registration(\n",
    "            source=source_cloud,\n",
    "            target=target_cloud,\n",
    "            transformation=result.transformation,\n",
    "            title=f\"Module {index} - source: {source}, target: {target}\",\n",
    "        )"
   ]
  },
  {
   "cell_type": "markdown",
   "id": "3de5f9fa-13dd-4526-b565-ca80a5df4370",
   "metadata": {},
   "source": [
    "### Plot registration results"
   ]
  },
  {
   "cell_type": "code",
   "execution_count": null,
   "id": "b731a071-c8ec-49f8-b953-03ff3b4b24cc",
   "metadata": {},
   "outputs": [],
   "source": [
    "import plotly.express as px\n",
    "import plotly.graph_objects as go\n",
    "\n",
    "\n",
    "figure: go.Figure = create_subplots(rows=2, cols=3)\n",
    "\n",
    "\n",
    "# NOTE: Alternative color sequences\n",
    "colors: list[str] = px.colors.sequential.Plasma_r * 2\n",
    "# colors: list[str] = px.colors.qualitative.G10\n",
    "\n",
    "for index, (result, color) in enumerate(zip(test_results, colors)):\n",
    "\n",
    "    traces: dict[str, go.Trace] = trace_registration_result(\n",
    "        result,\n",
    "        name=f\"Regi. {index}\",\n",
    "        legendgroup=index,\n",
    "        color=color,\n",
    "    )\n",
    "\n",
    "    figure.add_trace(traces[\"fitness\"], row=1, col=1)\n",
    "    figure.add_trace(traces[\"rmse\"], row=1, col=2)\n",
    "    figure.add_trace(traces[\"correspondences\"], row=1, col=3)\n",
    "\n",
    "    figure.add_trace(traces[\"scale\"], row=2, col=1)\n",
    "    figure.add_trace(traces[\"rotation\"], row=2, col=2)\n",
    "    figure.add_trace(traces[\"translation\"], row=2, col=3)\n",
    "\n",
    "\n",
    "figure.update_layout(height=800, width=1000, title_text=\"Registration Results\")\n",
    "figure.show()\n",
    "\n",
    "\n",
    "visualize_test: bool = False\n",
    "\n",
    "if visualize_test:\n",
    "\n",
    "    source_cloud: PointCloud = loaders[test_source]().unwrap()\n",
    "    target_cloud: PointCloud = loaders[test_target]().unwrap()\n",
    "\n",
    "    for index, result in enumerate(test_results):\n",
    "        visualize_registration(\n",
    "            source=source_cloud,\n",
    "            target=target_cloud,\n",
    "            transformation=result.transformation,\n",
    "            title=f\"Test case: {test_source}, {test_target}, {index}\",\n",
    "        )"
   ]
  },
  {
   "cell_type": "markdown",
   "id": "ea183317-dde9-425a-8914-2ad2d8136d16",
   "metadata": {},
   "source": [
    "### Generate indices and perform registration"
   ]
  },
  {
   "cell_type": "code",
   "execution_count": null,
   "id": "0ee2b88b-5419-4d8b-8e25-7d22e840c14d",
   "metadata": {},
   "outputs": [],
   "source": [
    "indices: list[MultiTargetIndex] = generate_cascade_indices(len(loaders))\n",
    "\n",
    "result_storage = {\n",
    "    \"feature_matching\": dict(),\n",
    "    \"incremental_coarse\": dict(),\n",
    "}"
   ]
  },
  {
   "cell_type": "code",
   "execution_count": null,
   "id": "6802694c-5f11-4b64-a185-1022145ac821",
   "metadata": {},
   "outputs": [],
   "source": [
    "for index in indices:\n",
    "    source = index.source\n",
    "\n",
    "    results: dict[int, RegistrationResult] = dict()\n",
    "\n",
    "    for target in index.targets:\n",
    "\n",
    "        result: RegistrationResult = registration_worker(\n",
    "            source_loader=loaders[source],\n",
    "            target_loader=loaders[target],\n",
    "            preprocessor=preprocessor,\n",
    "            registrator=registrator,\n",
    "        )\n",
    "\n",
    "        log_registration(source, target, result)\n",
    "\n",
    "        results[target] = result\n",
    "\n",
    "    result_storage[\"feature_matching\"][source] = results"
   ]
  },
  {
   "cell_type": "markdown",
   "id": "1d7b74d2-0bf4-43af-8ad5-2b5421d0e234",
   "metadata": {},
   "source": [
    "### Draw registration and plot results\n",
    "- TODO: Draw registered point clouds\n",
    "- TODO: Plot point clouds, correspondences, and error distribution"
   ]
  },
  {
   "cell_type": "code",
   "execution_count": null,
   "id": "44c995ba-d81c-4825-b415-414fee12c101",
   "metadata": {},
   "outputs": [],
   "source": [
    "visualize_global_results: bool = False\n",
    "\n",
    "if visualize_global_results:\n",
    "\n",
    "    for source, registrations in result_storage[\"feature_matching\"].items():\n",
    "\n",
    "        source_cloud: PointCloud = loaders[source]().unwrap()\n",
    "\n",
    "        for target, result in registrations.items():\n",
    "\n",
    "            target_cloud: PointCloud = loaders[target]().unwrap()\n",
    "\n",
    "            visualize_registration(\n",
    "                source=source_cloud,\n",
    "                target=target_cloud,\n",
    "                transformation=result.transformation,\n",
    "                title=f\"Registration - source: {source}, target: {target}\",\n",
    "            )"
   ]
  },
  {
   "cell_type": "markdown",
   "id": "4752fa78-862a-4688-ad62-8d4ae5d9d1bc",
   "metadata": {},
   "source": [
    "### Perform multiway registration"
   ]
  },
  {
   "cell_type": "code",
   "execution_count": null,
   "id": "2f0ab252-0311-4ec1-bede-50870d25ec1c",
   "metadata": {},
   "outputs": [],
   "source": [
    "initial_graph: reg.PoseGraph = build_pose_graph(result_storage[\"incremental_coarse\"])\n",
    "\n",
    "with util.VerbosityContextManager(util.VerbosityLevel.Debug) as cm:\n",
    "    optimized_graph: reg.PoseGraph = optimize_pose_graph(\n",
    "        initial_graph,\n",
    "        correspondence_distance=0.075,\n",
    "        prune_threshold=0.25,\n",
    "        preference_loop_closure=1.0,\n",
    "        reference_node=0,\n",
    "    )"
   ]
  },
  {
   "cell_type": "markdown",
   "id": "c7880422-12bd-4eb1-9c84-9059ab4af7da",
   "metadata": {},
   "source": [
    "### Draw final registration results"
   ]
  },
  {
   "cell_type": "code",
   "execution_count": null,
   "id": "91b4d179-e20c-4153-ac41-05789e3e89aa",
   "metadata": {},
   "outputs": [],
   "source": [
    "transformed_clouds: list[PointCloud] = list()\n",
    "\n",
    "for identifier in result_storage[\"incremental_coarse\"]:\n",
    "\n",
    "    cloud: PointCloud = loaders[identifier]().unwrap()\n",
    "    cloud.transform(optimized_graph.nodes[identifier].pose)\n",
    "    transformed_clouds.append(cloud)\n",
    "\n",
    "vis.draw_geometries(transformed_clouds)"
   ]
  }
 ],
 "metadata": {
  "kernelspec": {
   "display_name": "Python 3 (ipykernel)",
   "language": "python",
   "name": "python3"
  },
  "language_info": {
   "codemirror_mode": {
    "name": "ipython",
    "version": 3
   },
   "file_extension": ".py",
   "mimetype": "text/x-python",
   "name": "python",
   "nbconvert_exporter": "python",
   "pygments_lexer": "ipython3",
   "version": "3.11.9"
  }
 },
 "nbformat": 4,
 "nbformat_minor": 5
}
