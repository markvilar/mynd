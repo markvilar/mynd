{
 "cells": [
  {
   "cell_type": "markdown",
   "id": "e9846aa9-966a-4e11-9d10-fa3ffb1e0968",
   "metadata": {},
   "source": [
    "### Include registration modules"
   ]
  },
  {
   "cell_type": "code",
   "execution_count": 1,
   "id": "7b371dd6-fbf6-4edc-97e7-14179ad28726",
   "metadata": {},
   "outputs": [
    {
     "name": "stdout",
     "output_type": "stream",
     "text": [
      "Jupyter environment detected. Enabling Open3D WebVisualizer.\n",
      "[Open3D INFO] WebRTC GUI backend enabled.\n",
      "[Open3D INFO] WebRTCWindowSystem: HTTP handshake server disabled.\n"
     ]
    }
   ],
   "source": [
    "import copy\n",
    "\n",
    "from functools import partial\n",
    "from pathlib import Path\n",
    "from time import time\n",
    "from typing import Callable\n",
    "\n",
    "import numpy as np\n",
    "import open3d.geometry as geom\n",
    "import open3d.pipelines.registration as regi\n",
    "import open3d.visualization as vis\n",
    "\n",
    "from benthoscan.runtime import Environment, load_environment\n",
    "\n",
    "from benthoscan.spatial import (\n",
    "    MultiTargetIndex,\n",
    "    PointCloud,\n",
    "    PointCloudLoader,\n",
    "    read_point_cloud,\n",
    "    downsample_point_cloud,\n",
    "    estimate_point_cloud_normals,\n",
    "    generate_cascade_indices,\n",
    ")\n",
    "\n",
    "from benthoscan.spatial import (\n",
    "    ExtendedRegistrationResult,\n",
    "    register_point_cloud_fphp_fast,\n",
    "    register_point_cloud_fphp_ransac,\n",
    "    register_point_cloud_icp,\n",
    "    register_point_cloud_graph,\n",
    ")\n",
    "\n",
    "# from benthoscan.tasks.registration import RegistrationTaskConfig\n",
    "\n",
    "from benthoscan.utils.log import logger"
   ]
  },
  {
   "cell_type": "markdown",
   "id": "1cf9c7ff-d813-4e92-91c6-21a7567d18e2",
   "metadata": {},
   "source": [
    "### Load environment and configure data loaders"
   ]
  },
  {
   "cell_type": "code",
   "execution_count": 2,
   "id": "d9e03428-3e96-4f3c-8a58-5e7df86e3aaa",
   "metadata": {},
   "outputs": [],
   "source": [
    "environment: Environment = load_environment()\n",
    "\n",
    "DATA_DIR: Path = Path(\"/home/martin/dev/benthoscan/.cache\")\n",
    "\n",
    "point_cloud_files: dict = {\n",
    "    0: DATA_DIR / Path(\"qdc5ghs3_20100430_024508.ply\"),\n",
    "    1: DATA_DIR / Path(\"qdc5ghs3_20120501_033336.ply\"),\n",
    "    2: DATA_DIR / Path(\"qdc5ghs3_20130405_103429.ply\"),\n",
    "    3: DATA_DIR / Path(\"qdc5ghs3_20210315_230947.ply\"),\n",
    "}\n",
    "\n",
    "loaders: dict = {\n",
    "    key: partial(read_point_cloud, path=path) for key, path in point_cloud_files.items()\n",
    "}\n",
    "\n",
    "count = len(loaders)\n",
    "if count < 2:\n",
    "    logger.error(f\"invalid number of point clouds for registration: {count}\")"
   ]
  },
  {
   "cell_type": "markdown",
   "id": "4b16a71b-5995-4478-baed-558ca7607207",
   "metadata": {},
   "source": [
    "### Configure preprocessor and registrator"
   ]
  },
  {
   "cell_type": "code",
   "execution_count": 33,
   "id": "002faf54-75d6-4450-bd99-450ebe5f4497",
   "metadata": {},
   "outputs": [],
   "source": [
    "# NOTE: Parameters - move to config\n",
    "VOXEL_SIZE: float = 0.20\n",
    "\n",
    "# FPFH feature parameters\n",
    "FEATURE_RADIUS: float = 2.00 # NOTE: 2.00\n",
    "FEATURE_NEIGHBOURS: int = 500\n",
    "\n",
    "# Validation and estimation\n",
    "CORRESPONDENCE_DISTANCE: float = 0.30\n",
    "EDGE_LENGTH: float = 0.90\n",
    "NORMAL_ANGLE: float = 5.0\n",
    "ESTIMATE_SCALE: bool = True\n",
    "\n",
    "# RANSAC parameters\n",
    "SAMPLE_COUNT: int = 3\n",
    "MAX_ITERATIONS: int = 200000\n",
    "CONFIDENCE: float = 0.999\n",
    "\n",
    "\n",
    "def downsample_and_estimate_normals(cloud: PointCloud, voxel_size: float) -> PointCloud:\n",
    "    \"\"\"Preprocesses a point cloud by downsampling and estimating the normals.\"\"\"\n",
    "    downsampled: PointCloud = downsample_point_cloud(cloud, spacing=voxel_size)\n",
    "    preprocessed: PointCloud = estimate_point_cloud_normals(downsampled)\n",
    "    return preprocessed\n",
    "    \n",
    "\n",
    "def registration_worker(\n",
    "    source_loader: PointCloudLoader, \n",
    "    target_loader: PointCloudLoader,\n",
    "    preprocessor: Callable[[PointCloud], PointCloud],\n",
    "    registrator: Callable[[PointCloud, PointCloud], ExtendedRegistrationResult],\n",
    ") -> ExtendedRegistrationResult:\n",
    "    \"\"\"Worker function that performs the point cloud registration.\"\"\"\n",
    "    \n",
    "    source_cloud: PointCloud = source_loader().unwrap()\n",
    "    target_cloud: PointCloud = target_loader().unwrap()\n",
    "    \n",
    "    preprocessed_source: PointCloud = preprocessor(source_cloud)\n",
    "    preprocessed_target: PointCloud = preprocessor(target_cloud)\n",
    "\n",
    "    result: ExtendedRegistratorResult = registrator(\n",
    "        source=preprocessed_source, \n",
    "        target=preprocessed_target\n",
    "    )\n",
    "\n",
    "    return result\n",
    "\n",
    "\n",
    "preprocessor: Callable[[PointCloud], PointCloud] = partial(\n",
    "    downsample_and_estimate_normals, \n",
    "    voxel_size=VOXEL_SIZE\n",
    ")\n",
    "\n",
    "registrator = partial(\n",
    "    register_point_cloud_fphp_ransac,\n",
    "    distance_threshold=CORRESPONDENCE_DISTANCE,\n",
    "    feature_radius=FEATURE_RADIUS,\n",
    "    feature_neighbours=FEATURE_NEIGHBOURS,\n",
    "    max_iterations=MAX_ITERATIONS,\n",
    "    confidence=CONFIDENCE,\n",
    "    sample_count=SAMPLE_COUNT,\n",
    "    edge_check=EDGE_LENGTH,\n",
    "    normal_check=NORMAL_ANGLE,\n",
    "    scaling = ESTIMATE_SCALE,\n",
    ")"
   ]
  },
  {
   "cell_type": "markdown",
   "id": "8d7a56c5-5cca-4e42-83a7-096aa94549ab",
   "metadata": {},
   "source": [
    "### Define visualization helpers"
   ]
  },
  {
   "cell_type": "code",
   "execution_count": 22,
   "id": "62d9e74a-bc96-4238-a41a-c802cb13d321",
   "metadata": {},
   "outputs": [],
   "source": [
    "def visualize_registration(source: PointCloud, target: PointCloud, transformation: np.ndarray, title: str=\"\") -> None:\n",
    "    \"\"\"TODO\"\"\"\n",
    "    source_temp = copy.deepcopy(source)\n",
    "    target_temp = copy.deepcopy(target)\n",
    "    \n",
    "    source_temp.paint_uniform_color([0.60, 0.20, 0.20])\n",
    "    target_temp.paint_uniform_color([0.20, 0.20, 0.60])\n",
    "    \n",
    "    source_temp.transform(transformation)\n",
    "    \n",
    "    vis.draw_geometries(\n",
    "        geometry_list=[source_temp, target_temp], \n",
    "        window_name=title, \n",
    "        width=1024, \n",
    "        height=768\n",
    "    )"
   ]
  },
  {
   "cell_type": "markdown",
   "id": "af6af3fd-8028-4dcf-a60c-a0e8de778b3a",
   "metadata": {},
   "source": [
    "### Test registrator parameters on a single case"
   ]
  },
  {
   "cell_type": "code",
   "execution_count": 29,
   "id": "37d45a62-912a-4d0e-897d-f9fab2837bcf",
   "metadata": {},
   "outputs": [
    {
     "name": "stderr",
     "output_type": "stream",
     "text": [
      "\u001b[32m2024-07-01 21:49:38.360\u001b[0m | \u001b[1mINFO    \u001b[0m | \u001b[36m__main__\u001b[0m:\u001b[36m<module>\u001b[0m:\u001b[36m12\u001b[0m - \u001b[1mExtendedRegistrationResult(fitness=0.39904583404327826, inlier_rmse=0.13566774874877197, correspondence_set=std::vector<Eigen::Vector2i> with 11710 elements.\n",
      "Use numpy.asarray() to access data., transformation=array([[ 9.92644762e-01,  1.21034223e-01, -2.66331413e-03,\n",
      "         8.40572161e+00],\n",
      "       [-1.21054184e-01,  9.92601214e-01, -9.41879369e-03,\n",
      "         1.26083306e+01],\n",
      "       [ 1.50361247e-03,  9.67192154e-03,  9.99952095e-01,\n",
      "        -1.58223355e-03],\n",
      "       [ 0.00000000e+00,  0.00000000e+00,  0.00000000e+00,\n",
      "         1.00000000e+00]]), information=array([[ 2.61508524e+07, -1.20186100e+06,  4.95314185e+06,\n",
      "         0.00000000e+00,  5.35719405e+05,  1.25158923e+05],\n",
      "       [-1.20186100e+06,  2.60577623e+07,  5.79393799e+06,\n",
      "        -5.35719405e+05,  0.00000000e+00, -1.08777432e+05],\n",
      "       [ 4.95314185e+06,  5.79393799e+06,  3.13759162e+06,\n",
      "        -1.25158923e+05,  1.08777432e+05,  0.00000000e+00],\n",
      "       [ 0.00000000e+00, -5.35719405e+05, -1.25158923e+05,\n",
      "         1.17100000e+04,  0.00000000e+00,  0.00000000e+00],\n",
      "       [ 5.35719405e+05,  0.00000000e+00,  1.08777432e+05,\n",
      "         0.00000000e+00,  1.17100000e+04,  0.00000000e+00],\n",
      "       [ 1.25158923e+05, -1.08777432e+05,  0.00000000e+00,\n",
      "         0.00000000e+00,  0.00000000e+00,  1.17100000e+04]]))\u001b[0m\n"
     ]
    }
   ],
   "source": [
    "# Select some point clouds to tune the registration - 0-3 is the really hard case, but 1-3 and 2-3 are also challenging\n",
    "test_source: int = 0\n",
    "test_target: int = 3\n",
    "\n",
    "test_result: ExtendedRegistrationResult = registration_worker(\n",
    "    source_loader = loaders[test_source],\n",
    "    target_loader = loaders[test_target],\n",
    "    preprocessor = preprocessor,\n",
    "    registrator = registrator,\n",
    ")\n",
    "\n",
    "logger.info(test_result)\n"
   ]
  },
  {
   "cell_type": "code",
   "execution_count": 30,
   "id": "d6e1420c-be33-49e6-9abc-6d835a94a469",
   "metadata": {},
   "outputs": [],
   "source": [
    "visualize_test: bool = True\n",
    "\n",
    "if visualize_test:\n",
    "    visualize_registration(\n",
    "        source = loaders[test_source]().unwrap(), \n",
    "        target = loaders[test_target]().unwrap(), \n",
    "        transformation = test_result.transformation,\n",
    "        title = f\"Test case: {test_source}, {test_target}\",\n",
    "    )"
   ]
  },
  {
   "cell_type": "markdown",
   "id": "ea183317-dde9-425a-8914-2ad2d8136d16",
   "metadata": {},
   "source": [
    "### Generate indices and perform registration"
   ]
  },
  {
   "cell_type": "code",
   "execution_count": null,
   "id": "6802694c-5f11-4b64-a185-1022145ac821",
   "metadata": {},
   "outputs": [
    {
     "name": "stderr",
     "output_type": "stream",
     "text": [
      "\u001b[32m2024-07-01 22:19:34.304\u001b[0m | \u001b[1mINFO    \u001b[0m | \u001b[36m__main__\u001b[0m:\u001b[36m<module>\u001b[0m:\u001b[36m24\u001b[0m - \u001b[1m\u001b[0m\n",
      "\u001b[32m2024-07-01 22:19:34.305\u001b[0m | \u001b[1mINFO    \u001b[0m | \u001b[36m__main__\u001b[0m:\u001b[36m<module>\u001b[0m:\u001b[36m25\u001b[0m - \u001b[1m--------------------- FPFH registration --------------------\u001b[0m\n",
      "\u001b[32m2024-07-01 22:19:34.306\u001b[0m | \u001b[1mINFO    \u001b[0m | \u001b[36m__main__\u001b[0m:\u001b[36m<module>\u001b[0m:\u001b[36m26\u001b[0m - \u001b[1m - Source, target:        0, 1\u001b[0m\n",
      "\u001b[32m2024-07-01 22:19:34.307\u001b[0m | \u001b[1mINFO    \u001b[0m | \u001b[36m__main__\u001b[0m:\u001b[36m<module>\u001b[0m:\u001b[36m27\u001b[0m - \u001b[1m - Elapsed time:          30.079916954040527\u001b[0m\n",
      "\u001b[32m2024-07-01 22:19:34.308\u001b[0m | \u001b[1mINFO    \u001b[0m | \u001b[36m__main__\u001b[0m:\u001b[36m<module>\u001b[0m:\u001b[36m28\u001b[0m - \u001b[1m - RMSE:                  0.11663528456029898\u001b[0m\n",
      "\u001b[32m2024-07-01 22:19:34.308\u001b[0m | \u001b[1mINFO    \u001b[0m | \u001b[36m__main__\u001b[0m:\u001b[36m<module>\u001b[0m:\u001b[36m29\u001b[0m - \u001b[1m - Fitness:               0.8561935593797921\u001b[0m\n",
      "\u001b[32m2024-07-01 22:19:34.309\u001b[0m | \u001b[1mINFO    \u001b[0m | \u001b[36m__main__\u001b[0m:\u001b[36m<module>\u001b[0m:\u001b[36m30\u001b[0m - \u001b[1m - Correspondences:       25125\u001b[0m\n",
      "\u001b[32m2024-07-01 22:19:34.310\u001b[0m | \u001b[1mINFO    \u001b[0m | \u001b[36m__main__\u001b[0m:\u001b[36m<module>\u001b[0m:\u001b[36m31\u001b[0m - \u001b[1m - Transformation:        [[ 1.00670367e+00 -1.94452785e-02  4.54432014e-03 -1.21151226e+01]\n",
      " [ 1.94661800e-02  1.00670286e+00 -4.63377464e-03 -8.61506846e+00]\n",
      " [-4.45393528e-03  4.72071748e-03  1.00688079e+00  3.83349133e-01]\n",
      " [ 0.00000000e+00  0.00000000e+00  0.00000000e+00  1.00000000e+00]]\u001b[0m\n",
      "\u001b[32m2024-07-01 22:19:34.311\u001b[0m | \u001b[1mINFO    \u001b[0m | \u001b[36m__main__\u001b[0m:\u001b[36m<module>\u001b[0m:\u001b[36m32\u001b[0m - \u001b[1m - Information:           [[ 5.60964674e+07 -1.31239447e+06 -1.08969199e+07  0.00000000e+00\n",
      "   1.16468143e+06 -1.35233105e+05]\n",
      " [-1.31239447e+06  5.77018322e+07 -6.08667127e+06 -1.16468143e+06\n",
      "   0.00000000e+00  2.34968123e+05]\n",
      " [-1.08969199e+07 -6.08667127e+06  5.72861075e+06  1.35233105e+05\n",
      "  -2.34968123e+05  0.00000000e+00]\n",
      " [ 0.00000000e+00 -1.16468143e+06  1.35233105e+05  2.51250000e+04\n",
      "   0.00000000e+00  0.00000000e+00]\n",
      " [ 1.16468143e+06  0.00000000e+00 -2.34968123e+05  0.00000000e+00\n",
      "   2.51250000e+04  0.00000000e+00]\n",
      " [-1.35233105e+05  2.34968123e+05  0.00000000e+00  0.00000000e+00\n",
      "   0.00000000e+00  2.51250000e+04]]\u001b[0m\n",
      "\u001b[32m2024-07-01 22:19:34.312\u001b[0m | \u001b[1mINFO    \u001b[0m | \u001b[36m__main__\u001b[0m:\u001b[36m<module>\u001b[0m:\u001b[36m33\u001b[0m - \u001b[1m------------------------------------------------------------\u001b[0m\n",
      "\u001b[32m2024-07-01 22:19:34.313\u001b[0m | \u001b[1mINFO    \u001b[0m | \u001b[36m__main__\u001b[0m:\u001b[36m<module>\u001b[0m:\u001b[36m34\u001b[0m - \u001b[1m\u001b[0m\n",
      "\u001b[32m2024-07-01 22:20:23.217\u001b[0m | \u001b[1mINFO    \u001b[0m | \u001b[36m__main__\u001b[0m:\u001b[36m<module>\u001b[0m:\u001b[36m24\u001b[0m - \u001b[1m\u001b[0m\n",
      "\u001b[32m2024-07-01 22:20:23.219\u001b[0m | \u001b[1mINFO    \u001b[0m | \u001b[36m__main__\u001b[0m:\u001b[36m<module>\u001b[0m:\u001b[36m25\u001b[0m - \u001b[1m--------------------- FPFH registration --------------------\u001b[0m\n",
      "\u001b[32m2024-07-01 22:20:23.219\u001b[0m | \u001b[1mINFO    \u001b[0m | \u001b[36m__main__\u001b[0m:\u001b[36m<module>\u001b[0m:\u001b[36m26\u001b[0m - \u001b[1m - Source, target:        0, 2\u001b[0m\n",
      "\u001b[32m2024-07-01 22:20:23.220\u001b[0m | \u001b[1mINFO    \u001b[0m | \u001b[36m__main__\u001b[0m:\u001b[36m<module>\u001b[0m:\u001b[36m27\u001b[0m - \u001b[1m - Elapsed time:          48.903746604919434\u001b[0m\n",
      "\u001b[32m2024-07-01 22:20:23.221\u001b[0m | \u001b[1mINFO    \u001b[0m | \u001b[36m__main__\u001b[0m:\u001b[36m<module>\u001b[0m:\u001b[36m28\u001b[0m - \u001b[1m - RMSE:                  0.1334220899106457\u001b[0m\n",
      "\u001b[32m2024-07-01 22:20:23.221\u001b[0m | \u001b[1mINFO    \u001b[0m | \u001b[36m__main__\u001b[0m:\u001b[36m<module>\u001b[0m:\u001b[36m29\u001b[0m - \u001b[1m - Fitness:               0.897767933208383\u001b[0m\n",
      "\u001b[32m2024-07-01 22:20:23.222\u001b[0m | \u001b[1mINFO    \u001b[0m | \u001b[36m__main__\u001b[0m:\u001b[36m<module>\u001b[0m:\u001b[36m30\u001b[0m - \u001b[1m - Correspondences:       26345\u001b[0m\n",
      "\u001b[32m2024-07-01 22:20:23.223\u001b[0m | \u001b[1mINFO    \u001b[0m | \u001b[36m__main__\u001b[0m:\u001b[36m<module>\u001b[0m:\u001b[36m31\u001b[0m - \u001b[1m - Transformation:        [[ 1.00012553e+00 -2.38191957e-02 -1.04119201e-02 -1.83051674e+01]\n",
      " [ 2.38308904e-02  1.00017895e+00  1.00114067e-03 -4.21628766e+00]\n",
      " [ 1.03851253e-02 -1.24881307e-03  1.00040863e+00  1.24190132e-02]\n",
      " [ 0.00000000e+00  0.00000000e+00  0.00000000e+00  1.00000000e+00]]\u001b[0m\n",
      "\u001b[32m2024-07-01 22:20:23.224\u001b[0m | \u001b[1mINFO    \u001b[0m | \u001b[36m__main__\u001b[0m:\u001b[36m<module>\u001b[0m:\u001b[36m32\u001b[0m - \u001b[1m - Information:           [[ 5.81779005e+07 -5.41951675e+05 -1.93784771e+07  0.00000000e+00\n",
      "   1.22184847e+06 -3.15610357e+04]\n",
      " [-5.41951675e+05  6.49511099e+07 -1.27610075e+06 -1.22184847e+06\n",
      "   0.00000000e+00  4.17277308e+05]\n",
      " [-1.93784771e+07 -1.27610075e+06  9.70077508e+06  3.15610357e+04\n",
      "  -4.17277308e+05  0.00000000e+00]\n",
      " [ 0.00000000e+00 -1.22184847e+06  3.15610357e+04  2.63450000e+04\n",
      "   0.00000000e+00  0.00000000e+00]\n",
      " [ 1.22184847e+06  0.00000000e+00 -4.17277308e+05  0.00000000e+00\n",
      "   2.63450000e+04  0.00000000e+00]\n",
      " [-3.15610357e+04  4.17277308e+05  0.00000000e+00  0.00000000e+00\n",
      "   0.00000000e+00  2.63450000e+04]]\u001b[0m\n",
      "\u001b[32m2024-07-01 22:20:23.225\u001b[0m | \u001b[1mINFO    \u001b[0m | \u001b[36m__main__\u001b[0m:\u001b[36m<module>\u001b[0m:\u001b[36m33\u001b[0m - \u001b[1m------------------------------------------------------------\u001b[0m\n",
      "\u001b[32m2024-07-01 22:20:23.226\u001b[0m | \u001b[1mINFO    \u001b[0m | \u001b[36m__main__\u001b[0m:\u001b[36m<module>\u001b[0m:\u001b[36m34\u001b[0m - \u001b[1m\u001b[0m\n"
     ]
    }
   ],
   "source": [
    "indices: list[MultiTargetIndex] = generate_cascade_indices(len(loaders))\n",
    "\n",
    "result_storage: dict[int, dict] = dict()\n",
    "\n",
    "for index in indices:\n",
    "    source = index.source\n",
    "\n",
    "    results: dict[int, ExtendedRegistrationResult] = dict()\n",
    "\n",
    "    for target in index.targets:\n",
    "        start: float = time()\n",
    "        \n",
    "        result: ExtendedRegistrationResult = registration_worker(\n",
    "            source_loader = loaders[source],\n",
    "            target_loader = loaders[target],\n",
    "            preprocessor = preprocessor,\n",
    "            registrator = registrator,\n",
    "        )\n",
    "\n",
    "        end: float = time()\n",
    "\n",
    "        elapsed: float = end - start\n",
    "\n",
    "        logger.info(\"\")\n",
    "        logger.info(f\"--------------------- FPFH registration --------------------\")\n",
    "        logger.info(f\" - Source, target:        {source}, {target}\")\n",
    "        logger.info(f\" - Elapsed time:          {elapsed}\")\n",
    "        logger.info(f\" - RMSE:                  {result.inlier_rmse}\")\n",
    "        logger.info(f\" - Fitness:               {result.fitness}\")\n",
    "        logger.info(f\" - Correspondences:       {len(result.correspondence_set)}\")\n",
    "        logger.info(f\" - Transformation:        {result.transformation}\")\n",
    "        logger.info(f\" - Information:           {result.information}\")\n",
    "        logger.info(f\"------------------------------------------------------------\")\n",
    "        logger.info(\"\")\n",
    "\n",
    "\n",
    "        results[target] = result\n",
    "\n",
    "    result_storage[source] = results"
   ]
  },
  {
   "cell_type": "markdown",
   "id": "1d7b74d2-0bf4-43af-8ad5-2b5421d0e234",
   "metadata": {},
   "source": [
    "### Draw registration and plot results\n",
    "- TODO: Draw registered point clouds\n",
    "- TODO: Plot point clouds, correspondences, and error distribution"
   ]
  },
  {
   "cell_type": "code",
   "execution_count": 32,
   "id": "44c995ba-d81c-4825-b415-414fee12c101",
   "metadata": {},
   "outputs": [],
   "source": [
    "def batch_visualize_registration(storage: dict[int, dict]) -> None:\n",
    "    \"\"\"TODO\"\"\"\n",
    "    for source, registrations in storage.items():\n",
    "        \n",
    "        source_cloud: PointCloud = loaders[source]().unwrap()\n",
    "        \n",
    "        for target, result in registrations.items():\n",
    "                \n",
    "            target_cloud: PointCloud = loaders[target]().unwrap()\n",
    "            \n",
    "            visualize_registration(\n",
    "                source = source_cloud,\n",
    "                target = target_cloud,\n",
    "                transformation = result.transformation,\n",
    "                title = f\"Source: {source}, target: {target}\"\n",
    "            )\n",
    "\n",
    "\n",
    "batch_visualize_registration(storage = result_storage)\n",
    "\n",
    "# TODO: Implement draw functions"
   ]
  },
  {
   "cell_type": "markdown",
   "id": "70a015b7-fd6d-4270-8c9c-e6b75664601c",
   "metadata": {},
   "source": [
    "### TODO: Perform incremental registration"
   ]
  },
  {
   "cell_type": "markdown",
   "id": "4752fa78-862a-4688-ad62-8d4ae5d9d1bc",
   "metadata": {},
   "source": [
    "### TODO: Perform full graph-based registration"
   ]
  },
  {
   "cell_type": "markdown",
   "id": "c7880422-12bd-4eb1-9c84-9059ab4af7da",
   "metadata": {},
   "source": [
    "### TODO: Draw final registration results"
   ]
  }
 ],
 "metadata": {
  "kernelspec": {
   "display_name": "Python 3 (ipykernel)",
   "language": "python",
   "name": "python3"
  },
  "language_info": {
   "codemirror_mode": {
    "name": "ipython",
    "version": 3
   },
   "file_extension": ".py",
   "mimetype": "text/x-python",
   "name": "python",
   "nbconvert_exporter": "python",
   "pygments_lexer": "ipython3",
   "version": "3.11.9"
  }
 },
 "nbformat": 4,
 "nbformat_minor": 5
}
