{
 "cells": [
  {
   "cell_type": "code",
   "execution_count": 1,
   "id": "3413621b-2dfc-4485-9d30-20f34fbcb460",
   "metadata": {},
   "outputs": [
    {
     "name": "stdout",
     "output_type": "stream",
     "text": [
      "Jupyter environment detected. Enabling Open3D WebVisualizer.\n",
      "[Open3D INFO] WebRTC GUI backend enabled.\n",
      "[Open3D INFO] WebRTCWindowSystem: HTTP handshake server disabled.\n"
     ]
    }
   ],
   "source": [
    "from pathlib import Path\n",
    "\n",
    "import Metashape\n",
    "\n",
    "from result import Ok, Err, Result\n",
    "\n",
    "from benthoscan.registration import PointCloud, PointCloudLoader\n",
    "from benthoscan.backends import metashape as backend\n",
    "from benthoscan.utils.log import logger"
   ]
  },
  {
   "cell_type": "code",
   "execution_count": 2,
   "id": "6754d033-a29b-4908-93b1-5f13333433c8",
   "metadata": {},
   "outputs": [
    {
     "name": "stderr",
     "output_type": "stream",
     "text": [
      "\u001b[32m2024-08-05 15:30:00.590\u001b[0m | \u001b[1mINFO    \u001b[0m | \u001b[36mbenthoscan.backends.metashape.context\u001b[0m:\u001b[36mlog_internal_data\u001b[0m:\u001b[36m34\u001b[0m - \u001b[1m{'document': None}\u001b[0m\n"
     ]
    },
    {
     "name": "stdout",
     "output_type": "stream",
     "text": [
      "LoadProject: path = /media/martin/pcie_01/acfr_revisits_metashape_projects/qd61g27j_working_version.psz\n"
     ]
    },
    {
     "name": "stderr",
     "output_type": "stream",
     "text": [
      "\u001b[32m2024-08-05 15:32:53.976\u001b[0m | \u001b[1mINFO    \u001b[0m | \u001b[36m__main__\u001b[0m:\u001b[36m<module>\u001b[0m:\u001b[36m16\u001b[0m - \u001b[1mloaded document /media/martin/pcie_01/acfr_revisits_metashape_projects/qd61g27j_working_version.psz successfully\u001b[0m\n",
      "\u001b[32m2024-08-05 15:32:53.978\u001b[0m | \u001b[1mINFO    \u001b[0m | \u001b[36mbenthoscan.backends.metashape.context\u001b[0m:\u001b[36mlog_internal_data\u001b[0m:\u001b[36m34\u001b[0m - \u001b[1m{'document': <Document '/media/martin/pcie_01/acfr_revisits_metashape_projects/qd61g27j_working_version.psz'>}\u001b[0m\n"
     ]
    },
    {
     "name": "stdout",
     "output_type": "stream",
     "text": [
      "loaded project in 173.291 sec\n"
     ]
    }
   ],
   "source": [
    "PATHS: dict[str, Path] = {\n",
    "    \"DOCUMENT_IN\": Path(\n",
    "        \"/media/martin/pcie_01/acfr_revisits_metashape_projects/qd61g27j_working_version.psz\"\n",
    "    ),\n",
    "    \"DOCUMENT_OUT\": Path(\n",
    "        \"/media/martin/pcie_01/acfr_revisits_metashape_projects_test/qd61g27j_project_saved.psz\"\n",
    "    ),\n",
    "    \"CACHE\": Path(\"/home/martin/dev/benthoscan/.cache/\"),\n",
    "}\n",
    "\n",
    "backend.log_internal_data()\n",
    "\n",
    "result: Result[str, str] = backend.load_project(PATHS.get(\"DOCUMENT_IN\"))\n",
    "match result:\n",
    "    case Ok(message):\n",
    "        logger.info(message)\n",
    "    case Err(message):\n",
    "        logger.error(message)\n",
    "\n",
    "backend.log_internal_data()"
   ]
  },
  {
   "cell_type": "markdown",
   "id": "edf5b22f-436f-48ad-92ea-0cd7761d0da7",
   "metadata": {},
   "source": [
    "### Export dense models from the backend"
   ]
  },
  {
   "cell_type": "code",
   "execution_count": null,
   "id": "c4d49f1f-4a5f-4ce0-bc6c-f137d0f71ee3",
   "metadata": {},
   "outputs": [],
   "source": [
    "test = Metashape.app.document\n",
    "\n",
    "logger.info(test)\n",
    "logger.info(backend.context._backend_data)\n",
    "\n",
    "PointCloudLoaders = dict[int, PointCloudLoader]\n",
    "\n",
    "result: Result[PointCloudLoaders, str] = backend.request_dense_models(\n",
    "    PATHS[\"CACHE\"], overwrite=True\n",
    ")"
   ]
  },
  {
   "cell_type": "code",
   "execution_count": null,
   "id": "a202e6d2-72ec-40ff-8335-9116aacc31f1",
   "metadata": {},
   "outputs": [],
   "source": [
    "match result:\n",
    "    case Ok(loaders):\n",
    "        for key, loader in loaders.items():\n",
    "            logger.info(f\"{key}: {loader}\")\n",
    "    case Err(message):\n",
    "        logger.error(message)\n",
    "\n",
    "for key, loader in loaders.items():\n",
    "    pc: PointCloud = loader()\n",
    "    logger.info(pc)"
   ]
  }
 ],
 "metadata": {
  "kernelspec": {
   "display_name": "Python 3 (ipykernel)",
   "language": "python",
   "name": "python3"
  },
  "language_info": {
   "codemirror_mode": {
    "name": "ipython",
    "version": 3
   },
   "file_extension": ".py",
   "mimetype": "text/x-python",
   "name": "python",
   "nbconvert_exporter": "python",
   "pygments_lexer": "ipython3",
   "version": "3.11.9"
  }
 },
 "nbformat": 4,
 "nbformat_minor": 5
}
