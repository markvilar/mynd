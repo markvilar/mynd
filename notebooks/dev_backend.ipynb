{
 "cells": [
  {
   "cell_type": "code",
   "execution_count": 1,
   "id": "3413621b-2dfc-4485-9d30-20f34fbcb460",
   "metadata": {
    "scrolled": true
   },
   "outputs": [
    {
     "name": "stdout",
     "output_type": "stream",
     "text": [
      "Jupyter environment detected. Enabling Open3D WebVisualizer.\n",
      "[Open3D INFO] WebRTC GUI backend enabled.\n",
      "[Open3D INFO] WebRTCWindowSystem: HTTP handshake server disabled.\n"
     ]
    }
   ],
   "source": [
    "from pathlib import Path\n",
    "\n",
    "import Metashape\n",
    "\n",
    "from result import Ok, Err, Result\n",
    "\n",
    "from benthoscan.registration import PointCloud, PointCloudLoader\n",
    "from benthoscan.backends import metashape as backend\n",
    "from benthoscan.utils.log import logger"
   ]
  },
  {
   "cell_type": "code",
   "execution_count": 2,
   "id": "6754d033-a29b-4908-93b1-5f13333433c8",
   "metadata": {},
   "outputs": [
    {
     "name": "stdout",
     "output_type": "stream",
     "text": [
      "LoadProject: path = /data/kingston_snv_01/acfr_revisits_metashape_projects/r23685bc_working_version.psz\n"
     ]
    },
    {
     "name": "stderr",
     "output_type": "stream",
     "text": [
      "\u001b[32m2024-08-15 13:38:27.745\u001b[0m | \u001b[1mINFO    \u001b[0m | \u001b[36m__main__\u001b[0m:\u001b[36m<module>\u001b[0m:\u001b[36m14\u001b[0m - \u001b[1mloaded document /data/kingston_snv_01/acfr_revisits_metashape_projects/r23685bc_working_version.psz successfully\u001b[0m\n"
     ]
    },
    {
     "name": "stdout",
     "output_type": "stream",
     "text": [
      "loaded project in 26.6141 sec\n"
     ]
    },
    {
     "name": "stderr",
     "output_type": "stream",
     "text": [
      "\u001b[32m2024-08-15 13:38:27.746\u001b[0m | \u001b[1mINFO    \u001b[0m | \u001b[36mbenthoscan.backends.metashape.context\u001b[0m:\u001b[36mlog_internal_data\u001b[0m:\u001b[36m34\u001b[0m - \u001b[1m{'document': <Document '/data/kingston_snv_01/acfr_revisits_metashape_projects/r23685bc_working_version.psz'>}\u001b[0m\n"
     ]
    }
   ],
   "source": [
    "PATHS: dict[str, Path] = {\n",
    "    \"DOCUMENT_IN\": Path(\n",
    "        \"/data/kingston_snv_01/acfr_revisits_metashape_projects/r23685bc_working_version.psz\"\n",
    "    ),\n",
    "    \"DOCUMENT_OUT\": Path(\n",
    "        \"/data/kingston_snv_01/acfr_revisits_metashape_projects_test/r23685bc_working_version_saved.psz\"\n",
    "    ),\n",
    "    \"CACHE\": Path(\"/home/martin/dev/benthoscan/.cache/\"),\n",
    "}\n",
    "\n",
    "result: Result[str, str] = backend.load_project(PATHS.get(\"DOCUMENT_IN\"))\n",
    "match result:\n",
    "    case Ok(message):\n",
    "        logger.info(message)\n",
    "    case Err(message):\n",
    "        logger.error(message)\n",
    "\n",
    "backend.log_internal_data()"
   ]
  },
  {
   "cell_type": "markdown",
   "id": "edf5b22f-436f-48ad-92ea-0cd7761d0da7",
   "metadata": {},
   "source": [
    "### Export dense models from the backend"
   ]
  },
  {
   "cell_type": "code",
   "execution_count": 3,
   "id": "c4d49f1f-4a5f-4ce0-bc6c-f137d0f71ee3",
   "metadata": {},
   "outputs": [],
   "source": [
    "export_point_clouds: bool = False\n",
    "\n",
    "if export_point_clouds:\n",
    "    PointCloudLoaders = dict[int, PointCloudLoader]\n",
    "    \n",
    "    result: Result[PointCloudLoaders, str] = backend.request_dense_models(\n",
    "        PATHS[\"CACHE\"], overwrite=True\n",
    "    )"
   ]
  },
  {
   "cell_type": "markdown",
   "id": "04bf9e58-3ca6-4007-86f5-521392550f0c",
   "metadata": {},
   "source": [
    "### Test stereo depth estimation on camera pairs from Metashape chunks"
   ]
  },
  {
   "cell_type": "code",
   "execution_count": 4,
   "id": "f0755b9b-6c17-4266-961c-e7745e3a536c",
   "metadata": {},
   "outputs": [],
   "source": [
    "document: Metashape.Document = backend.context._backend_data.get(\"document\")\n",
    "\n",
    "target_labels: list[str] = [ \"r23685bc_20100605_021022\" ]\n",
    "target_chunks: list[Metashape.Chunk] = [chunk for chunk in document.chunks if chunk.label in target_labels]\n",
    "\n",
    "\n",
    "output_root: Path = Path(\"/data/kingston_snv_01/rendered_range_maps\")"
   ]
  }
 ],
 "metadata": {
  "kernelspec": {
   "display_name": "Python 3 (ipykernel)",
   "language": "python",
   "name": "python3"
  },
  "language_info": {
   "codemirror_mode": {
    "name": "ipython",
    "version": 3
   },
   "file_extension": ".py",
   "mimetype": "text/x-python",
   "name": "python",
   "nbconvert_exporter": "python",
   "pygments_lexer": "ipython3",
   "version": "3.11.9"
  }
 },
 "nbformat": 4,
 "nbformat_minor": 5
}
