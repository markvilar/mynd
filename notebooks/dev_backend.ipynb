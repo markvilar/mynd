{
 "cells": [
  {
   "cell_type": "code",
   "execution_count": null,
   "id": "3413621b-2dfc-4485-9d30-20f34fbcb460",
   "metadata": {
    "scrolled": true
   },
   "outputs": [],
   "source": [
    "from pathlib import Path\n",
    "\n",
    "import Metashape\n",
    "\n",
    "from result import Ok, Err, Result\n",
    "\n",
    "from benthoscan.registration import PointCloud, PointCloudLoader\n",
    "from benthoscan.backends import metashape as backend\n",
    "from benthoscan.utils.log import logger"
   ]
  },
  {
   "cell_type": "code",
   "execution_count": null,
   "id": "6754d033-a29b-4908-93b1-5f13333433c8",
   "metadata": {},
   "outputs": [],
   "source": [
    "PATHS: dict[str, Path] = {\n",
    "    \"DOCUMENT_IN\": Path(\n",
    "        \"/data/kingston_snv_01/acfr_revisits_metashape_projects/r23685bc_working_version.psz\"\n",
    "    ),\n",
    "    \"DOCUMENT_OUT\": Path(\n",
    "        \"/data/kingston_snv_01/acfr_revisits_metashape_projects_test/r23685bc_working_version_saved.psz\"\n",
    "    ),\n",
    "    \"CACHE\": Path(\"/home/martin/dev/benthoscan/.cache/\"),\n",
    "}\n",
    "\n",
    "result: Result[str, str] = backend.load_project(PATHS.get(\"DOCUMENT_IN\"))\n",
    "match result:\n",
    "    case Ok(message):\n",
    "        logger.info(message)\n",
    "    case Err(message):\n",
    "        logger.error(message)\n",
    "\n",
    "backend.log_internal_data()"
   ]
  },
  {
   "cell_type": "markdown",
   "id": "f6dc0610-10e1-40a4-8982-0a645d3b383b",
   "metadata": {},
   "source": [
    "### Backend playground"
   ]
  },
  {
   "cell_type": "code",
   "execution_count": null,
   "id": "0cf46c5d-d6c6-426c-a028-b5d2d7e560a3",
   "metadata": {},
   "outputs": [],
   "source": [
    "document: Metashape.Document = backend.context._backend_data.get(\"document\")\n",
    "\n",
    "chunk: Metashape.Chunk = document.chunks[0]\n",
    "valid_cameras: list[Metashape.Camera] = [\n",
    "    camera for camera in chunk.cameras if camera.transform\n",
    "]\n",
    "\n",
    "camera: Metashape.Camera = valid_cameras[0]\n",
    "\n",
    "logger.info(chunk)\n",
    "logger.info(camera)\n",
    "logger.info(camera.sensor)\n",
    "logger.info(chunk.model)\n",
    "\n",
    "range_map: Metashape.Image = camera.chunk.model.renderDepth(\n",
    "    camera.transform, camera.sensor.calibration, add_alpha=False\n",
    ")\n",
    "normal_map: Metashape.Image = camera.chunk.model.renderNormalMap(\n",
    "    camera.transform, camera.sensor.calibration, add_alpha=False\n",
    ")\n",
    "\n",
    "for image in [range_map, normal_map]:\n",
    "    logger.info(f\"Channels:      {image.channels}\")\n",
    "    logger.info(f\"Channel count: {image.cn}\")\n",
    "    logger.info(f\"Data type:     {image.data_type}\")\n",
    "    logger.info(\"\")"
   ]
  },
  {
   "cell_type": "markdown",
   "id": "edf5b22f-436f-48ad-92ea-0cd7761d0da7",
   "metadata": {},
   "source": [
    "### Export dense models from the backend"
   ]
  },
  {
   "cell_type": "code",
   "execution_count": null,
   "id": "c4d49f1f-4a5f-4ce0-bc6c-f137d0f71ee3",
   "metadata": {},
   "outputs": [],
   "source": [
    "export_point_clouds: bool = False\n",
    "\n",
    "if export_point_clouds:\n",
    "    PointCloudLoaders = dict[int, PointCloudLoader]\n",
    "\n",
    "    result: Result[PointCloudLoaders, str] = backend.request_dense_models(\n",
    "        PATHS[\"CACHE\"], overwrite=True\n",
    "    )"
   ]
  },
  {
   "cell_type": "markdown",
   "id": "04bf9e58-3ca6-4007-86f5-521392550f0c",
   "metadata": {},
   "source": [
    "### Test stereo depth estimation on camera pairs from Metashape chunks"
   ]
  },
  {
   "cell_type": "code",
   "execution_count": null,
   "id": "f0755b9b-6c17-4266-961c-e7745e3a536c",
   "metadata": {},
   "outputs": [],
   "source": [
    "document: Metashape.Document = backend.context._backend_data.get(\"document\")\n",
    "\n",
    "target_labels: list[str] = [\"r23685bc_20100605_021022\"]\n",
    "target_chunks: list[Metashape.Chunk] = [\n",
    "    chunk for chunk in document.chunks if chunk.label in target_labels\n",
    "]\n",
    "\n",
    "\n",
    "output_root: Path = Path(\"/data/kingston_snv_01/rendered_range_maps\")"
   ]
  }
 ],
 "metadata": {
  "kernelspec": {
   "display_name": "Python 3 (ipykernel)",
   "language": "python",
   "name": "python3"
  },
  "language_info": {
   "codemirror_mode": {
    "name": "ipython",
    "version": 3
   },
   "file_extension": ".py",
   "mimetype": "text/x-python",
   "name": "python",
   "nbconvert_exporter": "python",
   "pygments_lexer": "ipython3",
   "version": "3.11.9"
  }
 },
 "nbformat": 4,
 "nbformat_minor": 5
}
