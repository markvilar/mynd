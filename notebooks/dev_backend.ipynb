{
 "cells": [
  {
   "cell_type": "code",
   "execution_count": 1,
   "id": "3413621b-2dfc-4485-9d30-20f34fbcb460",
   "metadata": {
    "scrolled": true
   },
   "outputs": [
    {
     "name": "stderr",
     "output_type": "stream",
     "text": [
      "/home/martin/.cache/pypoetry/virtualenvs/mynd-qzh2EXyG-py3.11/lib/python3.11/site-packages/kornia/feature/lightglue.py:44: FutureWarning: `torch.cuda.amp.custom_fwd(args...)` is deprecated. Please use `torch.amp.custom_fwd(args..., device_type='cuda')` instead.\n",
      "  @torch.cuda.amp.custom_fwd(cast_inputs=torch.float32)\n"
     ]
    },
    {
     "ename": "ModuleNotFoundError",
     "evalue": "No module named 'mynd.backends.metashape.data_types'",
     "output_type": "error",
     "traceback": [
      "\u001b[0;31m---------------------------------------------------------------------------\u001b[0m",
      "\u001b[0;31mModuleNotFoundError\u001b[0m                       Traceback (most recent call last)",
      "Cell \u001b[0;32mIn[1], line 5\u001b[0m\n\u001b[1;32m      1\u001b[0m \u001b[38;5;28;01mfrom\u001b[39;00m \u001b[38;5;21;01mpathlib\u001b[39;00m \u001b[38;5;28;01mimport\u001b[39;00m Path\n\u001b[1;32m      3\u001b[0m \u001b[38;5;28;01mimport\u001b[39;00m \u001b[38;5;21;01mMetashape\u001b[39;00m\n\u001b[0;32m----> 5\u001b[0m \u001b[38;5;28;01mfrom\u001b[39;00m \u001b[38;5;21;01mmynd\u001b[39;00m\u001b[38;5;21;01m.\u001b[39;00m\u001b[38;5;21;01mbackends\u001b[39;00m \u001b[38;5;28;01mimport\u001b[39;00m metashape \u001b[38;5;28;01mas\u001b[39;00m backend\n\u001b[1;32m      6\u001b[0m \u001b[38;5;28;01mfrom\u001b[39;00m \u001b[38;5;21;01mmynd\u001b[39;00m\u001b[38;5;21;01m.\u001b[39;00m\u001b[38;5;21;01mutils\u001b[39;00m\u001b[38;5;21;01m.\u001b[39;00m\u001b[38;5;21;01mlog\u001b[39;00m \u001b[38;5;28;01mimport\u001b[39;00m logger\n\u001b[1;32m      7\u001b[0m \u001b[38;5;28;01mfrom\u001b[39;00m \u001b[38;5;21;01mmynd\u001b[39;00m\u001b[38;5;21;01m.\u001b[39;00m\u001b[38;5;21;01mutils\u001b[39;00m\u001b[38;5;21;01m.\u001b[39;00m\u001b[38;5;21;01mresult\u001b[39;00m \u001b[38;5;28;01mimport\u001b[39;00m Ok, Err, Result\n",
      "File \u001b[0;32m~/dev/mynd/src/mynd/backends/metashape/__init__.py:3\u001b[0m\n\u001b[1;32m      1\u001b[0m \u001b[38;5;124;03m\"\"\"Package that implements the backend for Metashape.\"\"\"\u001b[39;00m\n\u001b[0;32m----> 3\u001b[0m \u001b[38;5;28;01mfrom\u001b[39;00m \u001b[38;5;21;01m.\u001b[39;00m\u001b[38;5;21;01mcamera_helpers\u001b[39;00m \u001b[38;5;28;01mimport\u001b[39;00m (\n\u001b[1;32m      4\u001b[0m     get_stereo_groups,\n\u001b[1;32m      5\u001b[0m     render_range_and_normal_maps,\n\u001b[1;32m      6\u001b[0m     compute_camera_matrix,\n\u001b[1;32m      7\u001b[0m     compute_distortion_vector,\n\u001b[1;32m      8\u001b[0m     compute_camera_calibration,\n\u001b[1;32m      9\u001b[0m     compute_stereo_extrinsics,\n\u001b[1;32m     10\u001b[0m     compute_stereo_calibration,\n\u001b[1;32m     11\u001b[0m )\n\u001b[1;32m     13\u001b[0m \u001b[38;5;28;01mfrom\u001b[39;00m \u001b[38;5;21;01m.\u001b[39;00m\u001b[38;5;21;01mdata_types\u001b[39;00m \u001b[38;5;28;01mimport\u001b[39;00m (\n\u001b[1;32m     14\u001b[0m     SensorPair,\n\u001b[1;32m     15\u001b[0m     CameraPair,\n\u001b[1;32m     16\u001b[0m     StereoGroup,\n\u001b[1;32m     17\u001b[0m )\n\u001b[1;32m     19\u001b[0m \u001b[38;5;28;01mfrom\u001b[39;00m \u001b[38;5;21;01m.\u001b[39;00m\u001b[38;5;21;01mimage_helpers\u001b[39;00m \u001b[38;5;28;01mimport\u001b[39;00m load_image_pair\n",
      "File \u001b[0;32m~/dev/mynd/src/mynd/backends/metashape/camera_helpers.py:10\u001b[0m\n\u001b[1;32m      7\u001b[0m \u001b[38;5;28;01mfrom\u001b[39;00m \u001b[38;5;21;01m.\u001b[39;00m\u001b[38;5;21;01m.\u001b[39;00m\u001b[38;5;21;01m.\u001b[39;00m\u001b[38;5;21;01mgeometry\u001b[39;00m\u001b[38;5;21;01m.\u001b[39;00m\u001b[38;5;21;01mstereo\u001b[39;00m \u001b[38;5;28;01mimport\u001b[39;00m CameraCalibration, StereoCalibration, StereoExtrinsics\n\u001b[1;32m      8\u001b[0m \u001b[38;5;28;01mfrom\u001b[39;00m \u001b[38;5;21;01m.\u001b[39;00m\u001b[38;5;21;01m.\u001b[39;00m\u001b[38;5;21;01m.\u001b[39;00m\u001b[38;5;21;01mgeometry\u001b[39;00m\u001b[38;5;21;01m.\u001b[39;00m\u001b[38;5;21;01mrange_maps\u001b[39;00m \u001b[38;5;28;01mimport\u001b[39;00m compute_normals_from_range\n\u001b[0;32m---> 10\u001b[0m \u001b[38;5;28;01mfrom\u001b[39;00m \u001b[38;5;21;01m.\u001b[39;00m\u001b[38;5;21;01mdata_types\u001b[39;00m \u001b[38;5;28;01mimport\u001b[39;00m SensorPair, CameraPair, StereoGroup\n\u001b[1;32m     11\u001b[0m \u001b[38;5;28;01mfrom\u001b[39;00m \u001b[38;5;21;01m.\u001b[39;00m\u001b[38;5;21;01mimage_helpers\u001b[39;00m \u001b[38;5;28;01mimport\u001b[39;00m convert_image\n\u001b[1;32m     14\u001b[0m \u001b[38;5;28;01mdef\u001b[39;00m \u001b[38;5;21mget_stereo_groups\u001b[39m(chunk: Metashape\u001b[38;5;241m.\u001b[39mChunk) \u001b[38;5;241m-\u001b[39m\u001b[38;5;241m>\u001b[39m \u001b[38;5;28mlist\u001b[39m[StereoGroup]:\n",
      "\u001b[0;31mModuleNotFoundError\u001b[0m: No module named 'mynd.backends.metashape.data_types'"
     ]
    }
   ],
   "source": [
    "from pathlib import Path\n",
    "\n",
    "import Metashape\n",
    "\n",
    "from mynd.backends import metashape as backend\n",
    "from mynd.utils.log import logger\n",
    "from mynd.utils.result import Ok, Err, Result"
   ]
  },
  {
   "cell_type": "markdown",
   "id": "21926ea5-69bc-4370-93f9-b8c5daefc61a",
   "metadata": {},
   "source": [
    "### Load document into backend"
   ]
  },
  {
   "cell_type": "code",
   "execution_count": null,
   "id": "6754d033-a29b-4908-93b1-5f13333433c8",
   "metadata": {},
   "outputs": [],
   "source": [
    "DOCUMENT_PATH: Path = Path(\n",
    "    \"/data/kingston_snv_01/acfr_revisits_metashape_projects/r23685bc_working_version.psz\"\n",
    ")\n",
    "\n",
    "result: Result[str, str] = backend.load_project(DOCUMENT_PATH)\n",
    "match result:\n",
    "    case Ok(message):\n",
    "        logger.info(message)\n",
    "    case Err(message):\n",
    "        logger.error(message)"
   ]
  },
  {
   "cell_type": "markdown",
   "id": "f6dc0610-10e1-40a4-8982-0a645d3b383b",
   "metadata": {},
   "source": [
    "### Backend playground"
   ]
  },
  {
   "cell_type": "code",
   "execution_count": null,
   "id": "0cf46c5d-d6c6-426c-a028-b5d2d7e560a3",
   "metadata": {},
   "outputs": [],
   "source": [
    "result: Result = backend.camera_services.request_stereo_data()\n",
    "\n",
    "data = result.unwrap()\n",
    "\n",
    "for key, stereo_groups in data.items():\n",
    "    logger.info(f\"Key: {key}, group count: {len(stereo_groups)}\")"
   ]
  }
 ],
 "metadata": {
  "kernelspec": {
   "display_name": "Python 3 (ipykernel)",
   "language": "python",
   "name": "python3"
  },
  "language_info": {
   "codemirror_mode": {
    "name": "ipython",
    "version": 3
   },
   "file_extension": ".py",
   "mimetype": "text/x-python",
   "name": "python",
   "nbconvert_exporter": "python",
   "pygments_lexer": "ipython3",
   "version": "3.11.9"
  }
 },
 "nbformat": 4,
 "nbformat_minor": 5
}
