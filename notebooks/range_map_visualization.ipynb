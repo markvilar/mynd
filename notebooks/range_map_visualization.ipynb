{
 "cells": [
  {
   "cell_type": "code",
   "execution_count": null,
   "id": "80abac3d-ff03-4e8f-bccc-9c1c54b1f885",
   "metadata": {},
   "outputs": [],
   "source": [
    "from pathlib import Path\n",
    "\n",
    "import imageio.v3 as iio\n",
    "import numpy as np\n",
    "import plotly.express as px\n",
    "\n",
    "from benthoscan.utils.log import logger"
   ]
  },
  {
   "cell_type": "markdown",
   "id": "3b719417-7875-4aeb-8cfb-d1c61b0ba362",
   "metadata": {},
   "source": [
    "### Load data"
   ]
  },
  {
   "cell_type": "code",
   "execution_count": null,
   "id": "e0658d5c-43f4-4866-ba5a-7b428ed86ef5",
   "metadata": {},
   "outputs": [],
   "source": [
    "paths = {\n",
    "    \"rendered_range\" : Path(\"/data/kingston_snv_01/rendered_range_maps/r23685bc_20100605_021022/PR_20100605_032556_727_LC16.tiff\"),\n",
    "}\n",
    "\n",
    "range_map: np.ndarray = iio.imread(paths.get(\"rendered_range\"))"
   ]
  },
  {
   "cell_type": "markdown",
   "id": "e18825b0-3aad-43bc-acc5-1e86472f0a3e",
   "metadata": {},
   "source": [
    "### Estimate normals from depth"
   ]
  },
  {
   "cell_type": "code",
   "execution_count": null,
   "id": "b7d57d71-d86c-4394-b401-73ffc717154e",
   "metadata": {},
   "outputs": [],
   "source": [
    "from benthoscan.geometry.range_maps import compute_normals_from_range\n",
    "\n",
    "# Create an approximate camera matrix (without rectification)\n",
    "camera_matrix: np.ndarray = np.array([\n",
    "    [ 1730.0,    0.0, 694.69 ],\n",
    "    [    0.0, 1730.0, 493.48 ],\n",
    "    [    0.0,    0.0,   1.00 ]\n",
    "])\n",
    "\n",
    "normal_map: np.ndarray = compute_normals_from_range(range_map, camera_matrix, flipped=True, normalize_points=False)"
   ]
  },
  {
   "cell_type": "code",
   "execution_count": null,
   "id": "3fe6c2d2-56ef-4ce2-958f-2ddb8a2b638d",
   "metadata": {},
   "outputs": [],
   "source": [
    "figures: dict = {\n",
    "    \"range\" : px.imshow(range_map),\n",
    "    \"normal\" : px.imshow(normal_map),\n",
    "    \"normal_x\" : px.imshow(normal_map[:, :, 0]),\n",
    "    \"normal_y\" : px.imshow(normal_map[:, :, 1]),\n",
    "    \"normal_z\" : px.imshow(normal_map[:, :, 2]),\n",
    "}\n",
    "\n",
    "for name, figure in figures.items():\n",
    "    figure.show()"
   ]
  }
 ],
 "metadata": {
  "kernelspec": {
   "display_name": "Python 3 (ipykernel)",
   "language": "python",
   "name": "python3"
  },
  "language_info": {
   "codemirror_mode": {
    "name": "ipython",
    "version": 3
   },
   "file_extension": ".py",
   "mimetype": "text/x-python",
   "name": "python",
   "nbconvert_exporter": "python",
   "pygments_lexer": "ipython3",
   "version": "3.11.9"
  }
 },
 "nbformat": 4,
 "nbformat_minor": 5
}
