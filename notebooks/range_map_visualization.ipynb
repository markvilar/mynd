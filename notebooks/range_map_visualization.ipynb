{
 "cells": [
  {
   "cell_type": "code",
   "execution_count": null,
   "id": "80abac3d-ff03-4e8f-bccc-9c1c54b1f885",
   "metadata": {},
   "outputs": [],
   "source": [
    "from pathlib import Path\n",
    "\n",
    "import cv2\n",
    "import numpy as np\n",
    "import plotly.express as px\n",
    "\n",
    "from benthoscan.utils.log import logger\n",
    "\n",
    "\n",
    "paths = {\n",
    "    \"rendered_range\": Path(\n",
    "        \"/data/kingston_snv_01/rendered_range_maps/r23685bc_20100605_021022/PR_20100605_032556_727_LC16.tiff\"\n",
    "    ),\n",
    "}\n",
    "\n",
    "image: np.ndarray = cv2.imread(paths.get(\"rendered_range\"), cv2.IMREAD_UNCHANGED)\n",
    "\n",
    "logger.info(image)\n",
    "\n",
    "fig = px.imshow(image)\n",
    "fig.show()"
   ]
  }
 ],
 "metadata": {
  "kernelspec": {
   "display_name": "Python 3 (ipykernel)",
   "language": "python",
   "name": "python3"
  },
  "language_info": {
   "codemirror_mode": {
    "name": "ipython",
    "version": 3
   },
   "file_extension": ".py",
   "mimetype": "text/x-python",
   "name": "python",
   "nbconvert_exporter": "python",
   "pygments_lexer": "ipython3",
   "version": "3.11.9"
  }
 },
 "nbformat": 4,
 "nbformat_minor": 5
}
